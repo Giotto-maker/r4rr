{
 "cells": [
  {
   "cell_type": "markdown",
   "id": "db624e1e",
   "metadata": {},
   "source": [
    "# IMPORTS"
   ]
  },
  {
   "cell_type": "code",
   "execution_count": 1,
   "id": "3ee0a495",
   "metadata": {},
   "outputs": [
    {
     "name": "stdout",
     "output_type": "stream",
     "text": [
      "['/users-1/eleonora/reasoning-shortcuts/IXShort/shortcut_mitigation/bddoia/notebooks', '/users-1/eleonora/anaconda3/envs/r4rr/lib/python38.zip', '/users-1/eleonora/anaconda3/envs/r4rr/lib/python3.8', '/users-1/eleonora/anaconda3/envs/r4rr/lib/python3.8/lib-dynload', '', '/users-1/eleonora/.local/lib/python3.8/site-packages', '/users-1/eleonora/anaconda3/envs/r4rr/lib/python3.8/site-packages', '/users-1/eleonora/reasoning-shortcuts/IXShort/shortcut_mitigation/bddoia', '/users-1/eleonora/reasoning-shortcuts/IXShort/shortcut_mitigation', '/users-1/eleonora/reasoning-shortcuts/IXShort']\n"
     ]
    }
   ],
   "source": [
    "import sys\n",
    "import os\n",
    "\n",
    "os.environ['CUDA_VISIBLE_DEVICES'] = '2'\n",
    "sys.path.append(os.path.abspath(\"..\"))       # for 'protonet_STOP_bddoia_modules' folder\n",
    "sys.path.append(os.path.abspath(\"../..\"))    # for 'data' folder\n",
    "sys.path.append(os.path.abspath(\"../../..\")) # for 'models' and 'datasets' folders\n",
    "\n",
    "print(sys.path)"
   ]
  },
  {
   "cell_type": "code",
   "execution_count": 2,
   "id": "5a97cb22",
   "metadata": {},
   "outputs": [],
   "source": [
    "import csv\n",
    "import torch\n",
    "import random\n",
    "import torch.nn.functional as F\n",
    "import matplotlib.pyplot as plt\n",
    "import matplotlib.patches as patches\n",
    "\n",
    "import datetime\n",
    "import numpy as np\n",
    "import setproctitle, socket, uuid\n",
    "\n",
    "from models import get_model\n",
    "from models.mnistdpl import MnistDPL\n",
    "from datasets import get_dataset\n",
    "\n",
    "from argparse import Namespace\n",
    "from tqdm import tqdm\n",
    "from torch.utils.data import DataLoader\n",
    "from collections import Counter\n",
    "from sklearn.metrics import multilabel_confusion_matrix, confusion_matrix\n",
    "\n",
    "from utils import fprint\n",
    "from utils.status import progress_bar\n",
    "from utils.metrics import evaluate_metrics\n",
    "from utils.dpl_loss import ADDMNIST_DPL\n",
    "from utils.checkpoint import save_model\n",
    "from torch.utils.data import Dataset, DataLoader\n",
    "\n",
    "from warmup_scheduler import GradualWarmupScheduler\n",
    "from baseline_modules.arguments import args_dpl \n",
    "from backbones.bddoia_protonet import ProtoNetConv1D, PrototypicalLoss\n",
    "from protonet_STOP_bddoia_modules.proto_modules.proto_helpers import assert_inputs"
   ]
  },
  {
   "cell_type": "markdown",
   "id": "7a63b846",
   "metadata": {},
   "source": [
    "# SETUP"
   ]
  },
  {
   "cell_type": "code",
   "execution_count": 3,
   "id": "ce461ecf",
   "metadata": {},
   "outputs": [],
   "source": [
    "SEED = 0\n",
    "UNS_PERCENTAGE = 1.0"
   ]
  },
  {
   "cell_type": "code",
   "execution_count": 4,
   "id": "e0680d0a",
   "metadata": {},
   "outputs": [
    {
     "name": "stdout",
     "output_type": "stream",
     "text": [
      "Seed: 0\n",
      "Save paths: ['../NEW-outputs/bddoia/baseline/dpl/baseline-disj-APRE']\n"
     ]
    }
   ],
   "source": [
    "args = args_dpl\n",
    "args.seed = SEED\n",
    "\n",
    "# logging\n",
    "args.conf_jobnum = str(uuid.uuid4())\n",
    "args.conf_timestamp = str(datetime.datetime.now())\n",
    "args.conf_host = socket.gethostname()\n",
    "\n",
    "# set job name\n",
    "setproctitle.setproctitle(\n",
    "    \"{}_{}_{}\".format(\n",
    "        args.model,\n",
    "        args.buffer_size if \"buffer_size\" in args else 0,\n",
    "        args.dataset,\n",
    "    )\n",
    ")\n",
    "\n",
    "# saving\n",
    "save_folder = \"bddoia\" \n",
    "save_model_name = 'dpl'\n",
    "save_paths = []\n",
    "save_path = os.path.join(\"..\",\n",
    "    \"NEW-outputs\", \n",
    "    save_folder, \n",
    "    \"baseline\", \n",
    "    save_model_name,\n",
    "    f\"baseline-disj-APRE\"\n",
    ")\n",
    "save_paths.append(save_path)\n",
    "\n",
    "print(\"Seed: \" + str(args.seed))\n",
    "print(f\"Save paths: {str(save_paths)}\")"
   ]
  },
  {
   "cell_type": "markdown",
   "id": "f1511d01",
   "metadata": {},
   "source": [
    "# UTILS"
   ]
  },
  {
   "cell_type": "markdown",
   "id": "881c1be3",
   "metadata": {},
   "source": [
    "## Test Set Evaluation (alternative to full fledged notebook eval)"
   ]
  },
  {
   "cell_type": "code",
   "execution_count": 5,
   "id": "6c24d5d5",
   "metadata": {},
   "outputs": [],
   "source": [
    "\n",
    "# * helper function for 'plot_multilabel_confusion_matrix'\n",
    "def convert_to_categories(elements):\n",
    "    # Convert vector of 0s and 1s to a single binary representation along the first dimension\n",
    "    binary_rep = np.apply_along_axis(\n",
    "        lambda x: \"\".join(map(str, x)), axis=1, arr=elements\n",
    "    )\n",
    "    return np.array([int(x, 2) for x in binary_rep])\n",
    "\n",
    "\n",
    "# * BBDOIA custom confusion matrix for concepts\n",
    "def plot_multilabel_confusion_matrix(\n",
    "    y_true, y_pred, class_names, title, save_path=None\n",
    "):\n",
    "    y_true_categories = convert_to_categories(y_true.astype(int))\n",
    "    y_pred_categories = convert_to_categories(y_pred.astype(int))\n",
    "\n",
    "    to_rtn_cm = confusion_matrix(y_true_categories, y_pred_categories)\n",
    "\n",
    "    cm = multilabel_confusion_matrix(y_true, y_pred)\n",
    "    num_classes = len(class_names)\n",
    "    num_rows = (num_classes + 4) // 5  # Calculate the number of rows needed\n",
    "\n",
    "    plt.figure(figsize=(20, 4 * num_rows))  # Adjust the figure size\n",
    "\n",
    "    for i in range(num_classes):\n",
    "        plt.subplot(num_rows, 5, i + 1)  # Set the subplot position\n",
    "        plt.imshow(cm[i], interpolation=\"nearest\", cmap=plt.cm.Blues)\n",
    "        plt.title(f\"Class: {class_names[i]}\")\n",
    "        plt.colorbar()\n",
    "        tick_marks = np.arange(2)\n",
    "        plt.xticks(tick_marks, [\"0\", \"1\"])\n",
    "        plt.yticks(tick_marks, [\"0\", \"1\"])\n",
    "\n",
    "        fmt = \".0f\"\n",
    "        thresh = cm[i].max() / 2.0\n",
    "        for j in range(cm[i].shape[0]):\n",
    "            for k in range(cm[i].shape[1]):\n",
    "                plt.text(\n",
    "                    k,\n",
    "                    j,\n",
    "                    format(cm[i][j, k], fmt),\n",
    "                    ha=\"center\",\n",
    "                    va=\"center\",\n",
    "                    color=\"white\" if cm[i][j, k] > thresh else \"black\",\n",
    "                )\n",
    "\n",
    "        plt.ylabel(\"True label\")\n",
    "        plt.xlabel(\"Predicted label\")\n",
    "\n",
    "    plt.tight_layout()  # Adjust layout to prevent overlap\n",
    "    plt.suptitle(title)\n",
    "\n",
    "    if save_path:\n",
    "        plt.savefig(f\"{save_path}_total.png\")\n",
    "    else:\n",
    "        plt.show()\n",
    "\n",
    "    plt.close()\n",
    "\n",
    "    return to_rtn_cm\n",
    "\n",
    "\n",
    "# * Concept collapse (Soft)\n",
    "def compute_coverage(confusion_matrix):\n",
    "    \"\"\"Compute the coverage of a confusion matrix.\n",
    "\n",
    "    Essentially this metric is\n",
    "    \"\"\"\n",
    "\n",
    "    max_values = np.max(confusion_matrix, axis=0)\n",
    "    clipped_values = np.clip(max_values, 0, 1)\n",
    "\n",
    "    # Redefinition of soft coverage\n",
    "    coverage = np.sum(clipped_values) / len(clipped_values)\n",
    "\n",
    "    return coverage\n",
    "\n",
    "\n",
    "# * BDDOIA custom confusion matrix for actions\n",
    "def plot_actions_confusion_matrix(c_true, c_pred, title, save_path=None):\n",
    "\n",
    "    # Define scenarios and corresponding labels\n",
    "    my_scenarios = {\n",
    "        \"forward\": [slice(0, 3), slice(0, 3)],  \n",
    "        \"stop\": [slice(3, 9), slice(3, 9)],\n",
    "        \"left\": [slice(9, 11), slice(18,20)],\n",
    "        \"right\": [slice(12, 17), slice(12,17)],\n",
    "    }\n",
    "\n",
    "    to_rtn = {}\n",
    "\n",
    "    # Plot confusion matrix for each scenario\n",
    "    for scenario, indices in my_scenarios.items():\n",
    "\n",
    "        g_true = convert_to_categories(c_true[:, indices[0]].astype(int))\n",
    "        c_pred_scenario = convert_to_categories(c_pred[:, indices[1]].astype(int))\n",
    "\n",
    "        # Compute confusion matrix\n",
    "        cm = confusion_matrix(g_true, c_pred_scenario)\n",
    "\n",
    "        # Plot confusion matrix\n",
    "        plt.figure()\n",
    "        plt.imshow(cm, interpolation=\"nearest\", cmap=plt.cm.Blues)\n",
    "        plt.title(f\"{title} - {scenario}\")\n",
    "        plt.colorbar()\n",
    "\n",
    "        n_classes = c_true[:, indices[0]].shape[1]\n",
    "\n",
    "        tick_marks = np.arange(2**n_classes)\n",
    "        plt.xticks(tick_marks, [\"\" for _ in range(len(tick_marks))])\n",
    "        plt.yticks(tick_marks, [\"\" for _ in range(len(tick_marks))])\n",
    "\n",
    "        plt.ylabel(\"True label\")\n",
    "        plt.xlabel(\"Predicted label\")\n",
    "        plt.tight_layout()\n",
    "\n",
    "        # Save or show plot\n",
    "        if save_path:\n",
    "            plt.savefig(f\"{save_path}_{scenario}.png\")\n",
    "        else:\n",
    "            plt.show()\n",
    "\n",
    "        to_rtn.update({scenario: cm})\n",
    "\n",
    "        plt.close()\n",
    "\n",
    "    return to_rtn"
   ]
  },
  {
   "cell_type": "markdown",
   "id": "f2c3245d",
   "metadata": {},
   "source": [
    "# Other Utils"
   ]
  },
  {
   "cell_type": "code",
   "execution_count": 6,
   "id": "5bce4274",
   "metadata": {},
   "outputs": [],
   "source": [
    "\n",
    "# * method used to check if all encoder parameters are registered in the model's optimizer\n",
    "def check_optimizer_params(model):\n",
    "    \"\"\"Check that all encoder parameters are registered in the optimizer.\"\"\"\n",
    "    # Get all encoder parameters\n",
    "    encoder_params = []\n",
    "    for i in range(21):\n",
    "        encoder = model.encoder[i]\n",
    "        for name, param in encoder.named_parameters():\n",
    "            if not param.requires_grad:\n",
    "                continue  # skip frozen params\n",
    "            encoder_params.append((f\"encoder_{i}.{name}\", param))\n",
    "\n",
    "    # Get all parameters in the optimizer\n",
    "    opt_param_ids = set(id(p) for group in model.opt.param_groups for p in group['params'])\n",
    "\n",
    "    # Check each encoder param is in the optimizer\n",
    "    missing = [(name, p.shape) for name, p in encoder_params if id(p) not in opt_param_ids]\n",
    "\n",
    "    if missing:\n",
    "        print(\"⚠️ The following parameters are missing from the optimizer:\")\n",
    "        for name, shape in missing:\n",
    "            print(f\"  - {name}: {shape}\")\n",
    "        raise RuntimeError(\"Some encoder parameters are not registered in the optimizer.\")\n",
    "    else:\n",
    "        print(\"✅ All encoder parameters are correctly registered in the optimizer.\")"
   ]
  },
  {
   "cell_type": "markdown",
   "id": "305e79c9",
   "metadata": {},
   "source": [
    "# DATA LOADING"
   ]
  },
  {
   "cell_type": "code",
   "execution_count": 7,
   "id": "d39a91b3",
   "metadata": {},
   "outputs": [
    {
     "name": "stdout",
     "output_type": "stream",
     "text": [
      "Available datasets: ['mnmath', 'xor', 'clipboia', 'shortmnist', 'restrictedmnist', 'minikandinsky', 'presddoia', 'prekandinsky', 'sddoia', 'clipkandinsky', 'addmnist', 'clipshortmnist', 'boia_original', 'boia_original_embedded', 'clipsddoia', 'boia', 'kandinsky', 'halfmnist']\n",
      "Available models: ['promnistltn', 'promnmathcbm', 'sddoiann', 'kandnn', 'sddoiadpl', 'sddoialtn', 'kandslsingledisj', 'presddoiadpl', 'boiann', 'mnistclip', 'prokanddpl', 'promnistdpl', 'kandltnsinglejoint', 'xornn', 'mnistnn', 'mnistslrec', 'kandpreprocess', 'kandsl', 'kandsloneembedding', 'prokandltn', 'kandcbm', 'prokandsl', 'boiacbm', 'kanddpl', 'kandltn', 'xorcbm', 'sddoiaclip', 'kanddplsinglejoint', 'xordpl', 'promnmathdpl', 'bddoiadpldisj', 'sddoiacbm', 'mnistltnrec', 'mnmathcbm', 'mnmathdpl', 'kandclip', 'minikanddpl', 'mnistdpl', 'mnistltn', 'boiadpl', 'boialtn', 'kandltnsingledisj', 'prokandsloneembedding', 'mnistpcbmdpl', 'mnistcbm', 'probddoiadpl', 'mnistpcbmsl', 'mnistpcbmltn', 'kanddplsingledisj', 'mnistsl', 'kandslsinglejoint', 'mnistdplrec', 'cvae', 'cext', 'mnmathnn', 'promnistsl']\n",
      "✅ All encoder parameters are correctly registered in the optimizer.\n",
      "<datasets.boia_original_embedded.FasterBDDOIADataset object at 0x7fc9f8496d30>\n",
      "Using Dataset:  <datasets.boia_original_embedded.FasterBDDOIADataset object at 0x7fc9f8496d30>\n",
      "Using backbone:  (BOIAConceptizer(\n",
      "  (enc1): Linear(in_features=2048, out_features=1, bias=True)\n",
      "), BOIAConceptizer(\n",
      "  (enc1): Linear(in_features=2048, out_features=1, bias=True)\n",
      "), BOIAConceptizer(\n",
      "  (enc1): Linear(in_features=2048, out_features=1, bias=True)\n",
      "), BOIAConceptizer(\n",
      "  (enc1): Linear(in_features=2048, out_features=1, bias=True)\n",
      "), BOIAConceptizer(\n",
      "  (enc1): Linear(in_features=2048, out_features=1, bias=True)\n",
      "), BOIAConceptizer(\n",
      "  (enc1): Linear(in_features=2048, out_features=1, bias=True)\n",
      "), BOIAConceptizer(\n",
      "  (enc1): Linear(in_features=2048, out_features=1, bias=True)\n",
      "), BOIAConceptizer(\n",
      "  (enc1): Linear(in_features=2048, out_features=1, bias=True)\n",
      "), BOIAConceptizer(\n",
      "  (enc1): Linear(in_features=2048, out_features=1, bias=True)\n",
      "), BOIAConceptizer(\n",
      "  (enc1): Linear(in_features=2048, out_features=1, bias=True)\n",
      "), BOIAConceptizer(\n",
      "  (enc1): Linear(in_features=2048, out_features=1, bias=True)\n",
      "), BOIAConceptizer(\n",
      "  (enc1): Linear(in_features=2048, out_features=1, bias=True)\n",
      "), BOIAConceptizer(\n",
      "  (enc1): Linear(in_features=2048, out_features=1, bias=True)\n",
      "), BOIAConceptizer(\n",
      "  (enc1): Linear(in_features=2048, out_features=1, bias=True)\n",
      "), BOIAConceptizer(\n",
      "  (enc1): Linear(in_features=2048, out_features=1, bias=True)\n",
      "), BOIAConceptizer(\n",
      "  (enc1): Linear(in_features=2048, out_features=1, bias=True)\n",
      "), BOIAConceptizer(\n",
      "  (enc1): Linear(in_features=2048, out_features=1, bias=True)\n",
      "), BOIAConceptizer(\n",
      "  (enc1): Linear(in_features=2048, out_features=1, bias=True)\n",
      "), BOIAConceptizer(\n",
      "  (enc1): Linear(in_features=2048, out_features=1, bias=True)\n",
      "), BOIAConceptizer(\n",
      "  (enc1): Linear(in_features=2048, out_features=1, bias=True)\n",
      "), BOIAConceptizer(\n",
      "  (enc1): Linear(in_features=2048, out_features=1, bias=True)\n",
      "))\n",
      "Using Model:  BddoiaDPLDisj()\n",
      "Using Loss:  SDDOIA_DPL()\n",
      "Dataset sizes - train: 16080, val: 2264, test: 4568\n",
      "Loaded datasets in 0.12s\n"
     ]
    }
   ],
   "source": [
    "dataset = get_dataset(args)\n",
    "n_images, c_split = dataset.get_split()\n",
    "\n",
    "encoder, decoder = dataset.get_backbone()\n",
    "assert isinstance(encoder, tuple) and len(encoder) == 21, \"encoder must be a tuple of 21 elements\"\n",
    "\n",
    "model = get_model(args, encoder, decoder, n_images, c_split)\n",
    "model.start_optim(args)\n",
    "check_optimizer_params(model)\n",
    "loss = model.get_loss(args)\n",
    "\n",
    "print(dataset)\n",
    "print(\"Using Dataset: \", dataset)\n",
    "print(\"Using backbone: \", encoder)\n",
    "print(\"Using Model: \", model)\n",
    "print(\"Using Loss: \", loss)\n",
    "\n",
    "unsup_train_loader, unsup_val_loader, unsup_test_loader = dataset.get_data_loaders(args=args)"
   ]
  },
  {
   "cell_type": "markdown",
   "id": "887f8268",
   "metadata": {},
   "source": [
    "# PROTOTYPES CONSTRUCTION"
   ]
  },
  {
   "cell_type": "markdown",
   "id": "88b20e70",
   "metadata": {},
   "source": [
    "## DATASET & BATCH SAMPLER"
   ]
  },
  {
   "cell_type": "code",
   "execution_count": 8,
   "id": "97fee336",
   "metadata": {},
   "outputs": [],
   "source": [
    "class ProtoDataset(Dataset):\n",
    "    def __init__(self, embeddings, labels):\n",
    "        assert embeddings.shape[0] == labels.shape[0]\n",
    "        self.embeddings = embeddings\n",
    "        self.labels = labels\n",
    "\n",
    "    def __len__(self):\n",
    "        return len(self.labels)\n",
    "\n",
    "    def __getitem__(self, idx):\n",
    "        return self.embeddings[idx], self.labels[idx]"
   ]
  },
  {
   "cell_type": "markdown",
   "id": "af01ef6c",
   "metadata": {},
   "source": [
    "## Build positive annotation set for each class"
   ]
  },
  {
   "cell_type": "code",
   "execution_count": 9,
   "id": "f2cd8a21",
   "metadata": {},
   "outputs": [
    {
     "name": "stdout",
     "output_type": "stream",
     "text": [
      "source_id: <class 'tuple'>\n",
      "images_embeddings_raw: torch.Size([2048])\n",
      "attr_labels: torch.Size([21])\n",
      "is_positive: <class 'bool'>\n"
     ]
    }
   ],
   "source": [
    "pos_examples = {cls_idx: [] for cls_idx in range(21)}\n",
    "target_per_class = 6\n",
    "debug = True\n",
    "\n",
    "# Loop over dataset until we collect target_per_class for each class\n",
    "for batch_idx, batch in enumerate(unsup_train_loader):\n",
    "    raw_embs = torch.stack(batch['embeddings_raw']).to(model.device)\n",
    "    attrs = torch.stack(batch['attr_labels']).to(model.device)  # shape [B,21]\n",
    "    batch_size = attrs.size(0)\n",
    "\n",
    "    for b in range(batch_size):\n",
    "        attr_vector = attrs[b].clone().cpu()  # clone to avoid in-place issues\n",
    "        for cls in torch.nonzero(attr_vector).flatten().tolist():\n",
    "            if len(pos_examples[cls]) >= target_per_class:\n",
    "                continue\n",
    "            example = {\n",
    "                'source_id': (batch_idx, b),\n",
    "                'images_embeddings_raw': raw_embs[b].detach().cpu().clone(),\n",
    "                'attr_labels': attr_vector,\n",
    "                'is_positive': True\n",
    "            }\n",
    "            if debug:\n",
    "                for key, value in example.items():\n",
    "                    if torch.is_tensor(value):\n",
    "                        print(f\"{key}: {value.shape}\")\n",
    "                    elif isinstance(value, list) and len(value) and torch.is_tensor(value[0]):\n",
    "                        print(f\"{key}: list of {len(value)} tensors, first shape: {value[0].shape}\")\n",
    "                    else:\n",
    "                        print(f\"{key}: {type(value)}\")\n",
    "                debug = False\n",
    "            pos_examples[cls].append(example)\n",
    "\n",
    "    # Check if all classes reached target\n",
    "    if all(len(pos_examples[c]) >= target_per_class for c in range(21)):\n",
    "        break"
   ]
  },
  {
   "cell_type": "markdown",
   "id": "dddabe2f",
   "metadata": {},
   "source": [
    "## Augment positive sets while building negative ones"
   ]
  },
  {
   "cell_type": "code",
   "execution_count": 10,
   "id": "f972a72d",
   "metadata": {},
   "outputs": [],
   "source": [
    "neg_examples = {cls_idx: [] for cls_idx in range(21)}\n",
    "\n",
    "for cls in range(21):\n",
    "    seen_ids = {ex['source_id'] for ex in pos_examples[cls]}\n",
    "    for other_cls in range(21):\n",
    "        if other_cls == cls:\n",
    "            continue\n",
    "        for ex in pos_examples[other_cls]:\n",
    "            if ex['attr_labels'][cls] == 1 and ex['source_id'] not in seen_ids:\n",
    "                new_ex = ex.copy()\n",
    "                new_ex['is_positive'] = True\n",
    "                pos_examples[cls].append(new_ex)\n",
    "                seen_ids.add(ex['source_id'])\n",
    "\n",
    "for cls in range(21):\n",
    "    seen_ids_pos = {ex['source_id'] for ex in pos_examples[cls]}\n",
    "    for other_cls in range(21):\n",
    "        if other_cls == cls:\n",
    "            continue\n",
    "        for ex in pos_examples[other_cls]:\n",
    "            if ex['attr_labels'][cls] == 0 and ex['source_id'] not in seen_ids_pos:\n",
    "                neg_ex = ex.copy()\n",
    "                neg_ex['is_positive'] = False\n",
    "                neg_examples[cls].append(neg_ex)\n",
    "\n",
    "for cls in range(21):\n",
    "    assert not set(ex['source_id'] for ex in neg_examples[cls]) & set(ex['source_id'] for ex in pos_examples[cls]), \\\n",
    "        f\"Overlap in pos/neg for class {cls}\""
   ]
  },
  {
   "cell_type": "markdown",
   "id": "4b21dcb6",
   "metadata": {},
   "source": [
    "## Construct embeddings and labels for training"
   ]
  },
  {
   "cell_type": "code",
   "execution_count": 11,
   "id": "34199a22",
   "metadata": {},
   "outputs": [
    {
     "name": "stdout",
     "output_type": "stream",
     "text": [
      "Class 0: embeddings shape = torch.Size([204, 2048]), labels shape = torch.Size([204, 21])\n",
      "Class 1: embeddings shape = torch.Size([225, 2048]), labels shape = torch.Size([225, 21])\n",
      "Class 2: embeddings shape = torch.Size([209, 2048]), labels shape = torch.Size([209, 21])\n",
      "Class 3: embeddings shape = torch.Size([207, 2048]), labels shape = torch.Size([207, 21])\n",
      "Class 4: embeddings shape = torch.Size([236, 2048]), labels shape = torch.Size([236, 21])\n",
      "Class 5: embeddings shape = torch.Size([233, 2048]), labels shape = torch.Size([233, 21])\n",
      "Class 6: embeddings shape = torch.Size([241, 2048]), labels shape = torch.Size([241, 21])\n",
      "Class 7: embeddings shape = torch.Size([216, 2048]), labels shape = torch.Size([216, 21])\n",
      "Class 8: embeddings shape = torch.Size([241, 2048]), labels shape = torch.Size([241, 21])\n",
      "Class 9: embeddings shape = torch.Size([231, 2048]), labels shape = torch.Size([231, 21])\n",
      "Class 10: embeddings shape = torch.Size([220, 2048]), labels shape = torch.Size([220, 21])\n",
      "Class 11: embeddings shape = torch.Size([236, 2048]), labels shape = torch.Size([236, 21])\n",
      "Class 12: embeddings shape = torch.Size([239, 2048]), labels shape = torch.Size([239, 21])\n",
      "Class 13: embeddings shape = torch.Size([228, 2048]), labels shape = torch.Size([228, 21])\n",
      "Class 14: embeddings shape = torch.Size([239, 2048]), labels shape = torch.Size([239, 21])\n",
      "Class 15: embeddings shape = torch.Size([203, 2048]), labels shape = torch.Size([203, 21])\n",
      "Class 16: embeddings shape = torch.Size([205, 2048]), labels shape = torch.Size([205, 21])\n",
      "Class 17: embeddings shape = torch.Size([211, 2048]), labels shape = torch.Size([211, 21])\n",
      "Class 18: embeddings shape = torch.Size([199, 2048]), labels shape = torch.Size([199, 21])\n",
      "Class 19: embeddings shape = torch.Size([204, 2048]), labels shape = torch.Size([204, 21])\n",
      "Class 20: embeddings shape = torch.Size([219, 2048]), labels shape = torch.Size([219, 21])\n"
     ]
    }
   ],
   "source": [
    "dataset_per_class = {}\n",
    "for cls in range(21):\n",
    "    examples = pos_examples[cls] + neg_examples[cls]\n",
    "    emb_list, label_list = [], []\n",
    "    for ex in examples:\n",
    "        emb_list.append(ex['images_embeddings_raw'].unsqueeze(0))\n",
    "        label_list.append(ex['attr_labels'])\n",
    "    embeddings_tensor = torch.stack(emb_list).to(model.device)  # [N,1,2048]\n",
    "    labels_tensor = torch.stack(label_list)\n",
    "    dataset_per_class[cls] = {'embeddings': embeddings_tensor.squeeze(1), 'labels': labels_tensor}\n",
    "        \n",
    "for cls in range(21):\n",
    "    print(f\"Class {cls}: embeddings shape = {dataset_per_class[cls]['embeddings'].shape}, labels shape = {dataset_per_class[cls]['labels'].shape}\")"
   ]
  },
  {
   "cell_type": "code",
   "execution_count": 12,
   "id": "97fd11b9",
   "metadata": {},
   "outputs": [],
   "source": [
    "supervised_dataloaders = {}\n",
    "for cls in range(21):\n",
    "    supervised_data = dataset_per_class[cls]['embeddings']\n",
    "    supervised_labels = dataset_per_class[cls]['labels']\n",
    "    supervised_dataset = ProtoDataset(supervised_data, supervised_labels)\n",
    "    supervised_dataloaders[cls] = DataLoader(\n",
    "        supervised_dataset, \n",
    "        batch_size=args.batch_size,\n",
    "        shuffle=True,       \n",
    "    )"
   ]
  },
  {
   "cell_type": "markdown",
   "id": "887b138d",
   "metadata": {},
   "source": [
    "# TRAINING"
   ]
  },
  {
   "cell_type": "markdown",
   "id": "7c32b4d4",
   "metadata": {},
   "source": [
    "## Main Loop"
   ]
  },
  {
   "cell_type": "code",
   "execution_count": 13,
   "id": "d9e14769",
   "metadata": {},
   "outputs": [],
   "source": [
    "def train(\n",
    "        model: MnistDPL,\n",
    "        dataloaders: dict,\n",
    "        _loss: ADDMNIST_DPL,\n",
    "        save_path: str,\n",
    "        train_loader: DataLoader,\n",
    "        val_loader: DataLoader,\n",
    "        args: Namespace,\n",
    "        eval_concepts: list = None,\n",
    "        seed: int = 0,\n",
    "    ) -> float:\n",
    "\n",
    "    # for full reproducibility\n",
    "    np.random.seed(seed)\n",
    "    torch.manual_seed(seed)\n",
    "    if torch.cuda.is_available():\n",
    "        torch.cuda.manual_seed(seed)\n",
    "    torch.backends.cudnn.enabled = False\n",
    "    \n",
    "    # early stopping\n",
    "    best_cacc = 0.0\n",
    "    epochs_no_improve = 0\n",
    "    \n",
    "    # scheduler & warmup (not used) for main model\n",
    "    scheduler = torch.optim.lr_scheduler.ExponentialLR(model.opt, args.exp_decay)\n",
    "    w_scheduler = None\n",
    "    if args.warmup_steps > 0:\n",
    "        w_scheduler = GradualWarmupScheduler(model.opt, 1.0, args.warmup_steps)\n",
    "\n",
    "    # create optimizers and schedulers for each encoder\n",
    "    enc_opts, enc_schs = {}, {}\n",
    "    for c, name in enumerate(eval_concepts):\n",
    "        opt = torch.optim.Adam(model.encoder[c].parameters())\n",
    "        sch = torch.optim.lr_scheduler.StepLR(opt, step_size=10, gamma=0.5)\n",
    "        enc_opts[c], enc_schs[c] = opt, sch\n",
    "\n",
    "    # move each encoder to device\n",
    "    for b in range(len(model.encoder)):\n",
    "        model.encoder[b].train()\n",
    "        model.encoder[b].to(model.device)\n",
    "\n",
    "    fprint(\"\\n--- Start of Training ---\\n\")\n",
    "    model.to(model.device)\n",
    "    model.opt.zero_grad()\n",
    "    model.opt.step()\n",
    "\n",
    "    # & Training start\n",
    "    for epoch in range(args.n_epochs):\n",
    "        print(f\"Epoch {epoch+1}/{args.n_epochs}\")\n",
    "\n",
    "        # * Pretraining\n",
    "        fprint(\"\\n--- Start of PreTraining ---\\n\")\n",
    "        for epoch in range(args.proto_epochs):        \n",
    "            for k, name in enumerate(eval_concepts):\n",
    "                dl = dataloaders[k]\n",
    "                opt, sch = enc_opts[k], enc_schs[k]\n",
    "                fprint(f\"\\n--- Pretraining of {name} ---\\n\")\n",
    "                for i, batch in enumerate(dl):\n",
    "                    batch_embeds, batch_labels = batch\n",
    "                    batch_embeds = batch_embeds.to(model.device)\n",
    "                    batch_labels = batch_labels.to(model.device)\n",
    "                    opt.zero_grad()\n",
    "                    preds = model.encoder[k](batch_embeds)\n",
    "                    assert preds.shape == (batch_embeds.shape[0], 1),\\\n",
    "                        f\"Expected shape ({batch_embeds.shape[0]}, 1), got {preds.shape}\"\n",
    "                    loss = F.binary_cross_entropy(\n",
    "                            preds.squeeze(1), \n",
    "                            batch_labels[:, k].float()\n",
    "                        )\n",
    "                    loss.backward()\n",
    "                    opt.step()\n",
    "                    progress_bar(i, len(dl), epoch, loss.item())\n",
    "                sch.step()\n",
    "\n",
    "        # * Unsupervised Training\n",
    "        print(\"Unsupervised training phase\")\n",
    "        model.train()\n",
    "        ys, y_true, cs, cs_true, batch = None, None, None, None, 0\n",
    "        for i, batch in enumerate(train_loader):\n",
    "            \n",
    "            # ------------------ original embneddings\n",
    "            images_embeddings = torch.stack(batch['embeddings']).to(model.device)\n",
    "            attr_labels = torch.stack(batch['attr_labels']).to(model.device)\n",
    "            class_labels = torch.stack(batch['class_labels'])[:,:-1].to(model.device)\n",
    "            # ------------------ my extracted features\n",
    "            images_embeddings_raw = torch.stack(batch['embeddings_raw']).to(model.device)\n",
    "            detected_rois = batch['rois']\n",
    "            detected_rois_feats = batch['roi_feats']\n",
    "            detection_labels = batch['detection_labels']\n",
    "            detection_scores = batch['detection_scores']\n",
    "            assert_inputs(images_embeddings, attr_labels, class_labels,\n",
    "                   detected_rois_feats, detected_rois, detection_labels,\n",
    "                   detection_scores, images_embeddings_raw)\n",
    "\n",
    "            out_dict = model(images_embeddings_raw)\n",
    "            out_dict.update({\"LABELS\": class_labels, \"CONCEPTS\": attr_labels})\n",
    "            \n",
    "            model.opt.zero_grad()\n",
    "            loss, losses = _loss(out_dict, args)\n",
    "\n",
    "            loss.backward()\n",
    "            model.opt.step()\n",
    "\n",
    "            if ys is None:\n",
    "                ys = out_dict[\"YS\"]\n",
    "                y_true = out_dict[\"LABELS\"]\n",
    "                cs = out_dict[\"pCS\"]\n",
    "                cs_true = out_dict[\"CONCEPTS\"]\n",
    "            else:\n",
    "                ys = torch.concatenate((ys, out_dict[\"YS\"]), dim=0)\n",
    "                y_true = torch.concatenate((y_true, out_dict[\"LABELS\"]), dim=0)\n",
    "                cs = torch.concatenate((cs, out_dict[\"pCS\"]), dim=0)\n",
    "                cs_true = torch.concatenate((cs_true, out_dict[\"CONCEPTS\"]), dim=0)\n",
    "\n",
    "            if i % 10 == 0:\n",
    "                progress_bar(i, len(train_loader) - 9, epoch, loss.item())\n",
    "            \n",
    "        # ^ Evaluation phase\n",
    "        y_pred = torch.argmax(ys, dim=-1)\n",
    "        #print(\"Argmax predictions have shape: \", y_pred.shape)\n",
    "\n",
    "        model.eval()\n",
    "        \n",
    "        my_metrics = evaluate_metrics(\n",
    "                model=model, \n",
    "                loader=val_loader, \n",
    "                args=args,\n",
    "                eval_concepts=eval_concepts)\n",
    "        loss = my_metrics[0]\n",
    "        cacc = my_metrics[1]\n",
    "        yacc = my_metrics[2]\n",
    "        f1_y = my_metrics[3]\n",
    "       \n",
    "        # update at end of the epoch\n",
    "        if epoch < args.warmup_steps:   w_scheduler.step()\n",
    "        else:\n",
    "            scheduler.step()\n",
    "            if hasattr(_loss, \"grade\"):\n",
    "                _loss.update_grade(epoch)\n",
    "\n",
    "        ### LOGGING ###\n",
    "        fprint(\"  ACC C\", cacc, \"  ACC Y\", yacc, \"F1 Y\", f1_y)\n",
    "        \n",
    "        if not args.tuning and cacc > best_cacc:\n",
    "            print(\"Saving...\")\n",
    "            # Update best F1 score\n",
    "            best_cacc = cacc\n",
    "            epochs_no_improve = 0\n",
    "\n",
    "            # Save the best model\n",
    "            torch.save(model.state_dict(), save_path)\n",
    "            print(f\"Saved best model with CACC score: {best_cacc}\")\n",
    "\n",
    "        elif cacc <= best_cacc:\n",
    "            epochs_no_improve += 1\n",
    "\n",
    "        if epochs_no_improve >= args.patience:\n",
    "            print(f\"Early stopping triggered after {epoch+1} epochs.\")\n",
    "            break\n",
    "\n",
    "\n",
    "    fprint(\"\\n--- End of Training ---\\n\")\n",
    "    return best_cacc"
   ]
  },
  {
   "cell_type": "markdown",
   "id": "fd0e6feb",
   "metadata": {},
   "source": [
    "## Run Training"
   ]
  },
  {
   "cell_type": "code",
   "execution_count": 14,
   "id": "df6353f6",
   "metadata": {},
   "outputs": [
    {
     "name": "stdout",
     "output_type": "stream",
     "text": [
      "*** Training model with seed 0\n",
      "Chosen device: cuda\n",
      "Saving model in folder:  ../NEW-outputs/bddoia/baseline/dpl/baseline-disj-APRE/dpl_0.pth\n",
      "\n",
      "--- Start of Training ---\n",
      "\n",
      "Epoch 1/40\n",
      "\n",
      "--- Start of PreTraining ---\n",
      "\n",
      "\n",
      "--- Pretraining of green_lights ---\n",
      "\n"
     ]
    },
    {
     "name": "stderr",
     "output_type": "stream",
     "text": [
      "[ 09-04 | 15:57 ] epoch 0: |██████████████████████████████████████████████████| loss: 0.82619345"
     ]
    },
    {
     "name": "stdout",
     "output_type": "stream",
     "text": [
      "\n",
      "--- Pretraining of follow_traffic ---\n",
      "\n"
     ]
    },
    {
     "name": "stderr",
     "output_type": "stream",
     "text": [
      "[ 09-04 | 15:57 ] epoch 0: |██████████████████████████████████████████████████| loss: 0.85774904"
     ]
    },
    {
     "name": "stdout",
     "output_type": "stream",
     "text": [
      "\n",
      "--- Pretraining of road_clear ---\n",
      "\n"
     ]
    },
    {
     "name": "stderr",
     "output_type": "stream",
     "text": [
      "[ 09-04 | 15:58 ] epoch 0: |██████████████████████████████████████████████████| loss: 4.14441013"
     ]
    },
    {
     "name": "stdout",
     "output_type": "stream",
     "text": [
      "\n",
      "--- Pretraining of traffic_lights ---\n",
      "\n"
     ]
    },
    {
     "name": "stderr",
     "output_type": "stream",
     "text": [
      "[ 09-04 | 15:58 ] epoch 0: |██████████████████████████████████████████████████| loss: 0.58820719"
     ]
    },
    {
     "name": "stdout",
     "output_type": "stream",
     "text": [
      "\n",
      "--- Pretraining of traffic_signs ---\n",
      "\n"
     ]
    },
    {
     "name": "stderr",
     "output_type": "stream",
     "text": [
      "[ 09-04 | 15:58 ] epoch 0: |██████████████████████████████████████████████████| loss: 0.22530058"
     ]
    },
    {
     "name": "stdout",
     "output_type": "stream",
     "text": [
      "\n",
      "--- Pretraining of cars ---\n",
      "\n"
     ]
    },
    {
     "name": "stderr",
     "output_type": "stream",
     "text": [
      "[ 09-04 | 15:58 ] epoch 0: |██████████████████████████████████████████████████| loss: 0.50606233"
     ]
    },
    {
     "name": "stdout",
     "output_type": "stream",
     "text": [
      "\n",
      "--- Pretraining of pedestrians ---\n",
      "\n"
     ]
    },
    {
     "name": "stderr",
     "output_type": "stream",
     "text": [
      "[ 09-04 | 15:58 ] epoch 0: |██████████████████████████████████████████████████| loss: 0.33433002"
     ]
    },
    {
     "name": "stdout",
     "output_type": "stream",
     "text": [
      "\n",
      "--- Pretraining of riders ---\n",
      "\n"
     ]
    },
    {
     "name": "stderr",
     "output_type": "stream",
     "text": [
      "[ 09-04 | 15:58 ] epoch 0: |██████████████████████████████████████████████████| loss: 0.66364306"
     ]
    },
    {
     "name": "stdout",
     "output_type": "stream",
     "text": [
      "\n",
      "--- Pretraining of others ---\n",
      "\n"
     ]
    },
    {
     "name": "stderr",
     "output_type": "stream",
     "text": [
      "[ 09-04 | 15:58 ] epoch 0: |██████████████████████████████████████████████████| loss: 0.23529141"
     ]
    },
    {
     "name": "stdout",
     "output_type": "stream",
     "text": [
      "\n",
      "--- Pretraining of no_lane_left ---\n",
      "\n"
     ]
    },
    {
     "name": "stderr",
     "output_type": "stream",
     "text": [
      "[ 09-04 | 15:58 ] epoch 0: |██████████████████████████████████████████████████| loss: 0.43566898"
     ]
    },
    {
     "name": "stdout",
     "output_type": "stream",
     "text": [
      "\n",
      "--- Pretraining of obstacle_left_lane ---\n",
      "\n"
     ]
    },
    {
     "name": "stderr",
     "output_type": "stream",
     "text": [
      "[ 09-04 | 15:58 ] epoch 0: |██████████████████████████████████████████████████| loss: 0.34179372"
     ]
    },
    {
     "name": "stdout",
     "output_type": "stream",
     "text": [
      "\n",
      "--- Pretraining of solid_left_line ---\n",
      "\n"
     ]
    },
    {
     "name": "stderr",
     "output_type": "stream",
     "text": [
      "[ 09-04 | 15:58 ] epoch 0: |██████████████████████████████████████████████████| loss: 0.07364497"
     ]
    },
    {
     "name": "stdout",
     "output_type": "stream",
     "text": [
      "\n",
      "--- Pretraining of on_right_turn_lane ---\n",
      "\n"
     ]
    },
    {
     "name": "stderr",
     "output_type": "stream",
     "text": [
      "[ 09-04 | 15:58 ] epoch 0: |██████████████████████████████████████████████████| loss: 0.21171188"
     ]
    },
    {
     "name": "stdout",
     "output_type": "stream",
     "text": [
      "\n",
      "--- Pretraining of traffic_light_right ---\n",
      "\n"
     ]
    },
    {
     "name": "stderr",
     "output_type": "stream",
     "text": [
      "[ 09-04 | 15:58 ] epoch 0: |██████████████████████████████████████████████████| loss: 0.25239554"
     ]
    },
    {
     "name": "stdout",
     "output_type": "stream",
     "text": [
      "\n",
      "--- Pretraining of front_car_right ---\n",
      "\n"
     ]
    },
    {
     "name": "stderr",
     "output_type": "stream",
     "text": [
      "[ 09-04 | 15:58 ] epoch 0: |██████████████████████████████████████████████████| loss: 0.28815883"
     ]
    },
    {
     "name": "stdout",
     "output_type": "stream",
     "text": [
      "\n",
      "--- Pretraining of no_lane_right ---\n",
      "\n"
     ]
    },
    {
     "name": "stderr",
     "output_type": "stream",
     "text": [
      "[ 09-04 | 15:58 ] epoch 0: |██████████████████████████████████████████████████| loss: 0.40088472"
     ]
    },
    {
     "name": "stdout",
     "output_type": "stream",
     "text": [
      "\n",
      "--- Pretraining of obstacle_right_lane ---\n",
      "\n"
     ]
    },
    {
     "name": "stderr",
     "output_type": "stream",
     "text": [
      "[ 09-04 | 15:58 ] epoch 0: |██████████████████████████████████████████████████| loss: 0.53036368"
     ]
    },
    {
     "name": "stdout",
     "output_type": "stream",
     "text": [
      "\n",
      "--- Pretraining of solid_right_line ---\n",
      "\n"
     ]
    },
    {
     "name": "stderr",
     "output_type": "stream",
     "text": [
      "[ 09-04 | 15:58 ] epoch 0: |██████████████████████████████████████████████████| loss: 0.36978942"
     ]
    },
    {
     "name": "stdout",
     "output_type": "stream",
     "text": [
      "\n",
      "--- Pretraining of on_left_turn_lane ---\n",
      "\n"
     ]
    },
    {
     "name": "stderr",
     "output_type": "stream",
     "text": [
      "[ 09-04 | 15:58 ] epoch 0: |██████████████████████████████████████████████████| loss: 0.36900869"
     ]
    },
    {
     "name": "stdout",
     "output_type": "stream",
     "text": [
      "\n",
      "--- Pretraining of traffic_light_left ---\n",
      "\n"
     ]
    },
    {
     "name": "stderr",
     "output_type": "stream",
     "text": [
      "[ 09-04 | 15:58 ] epoch 0: |██████████████████████████████████████████████████| loss: 0.51735646"
     ]
    },
    {
     "name": "stdout",
     "output_type": "stream",
     "text": [
      "\n",
      "--- Pretraining of front_car_left ---\n",
      "\n"
     ]
    },
    {
     "name": "stderr",
     "output_type": "stream",
     "text": [
      "[ 09-04 | 15:58 ] epoch 0: |██████████████████████████████████████████████████| loss: 0.60633993"
     ]
    },
    {
     "name": "stdout",
     "output_type": "stream",
     "text": [
      "Unsupervised training phase\n"
     ]
    },
    {
     "name": "stderr",
     "output_type": "stream",
     "text": [
      "[ 09-04 | 15:58 ] epoch 0: |██████████████████████████████████████████████████| loss: 4.71563387"
     ]
    },
    {
     "name": "stdout",
     "output_type": "stream",
     "text": [
      "  ACC C 84.80132652653589   ACC Y 66.19614109848484 F1 Y 58.884764435146394\n",
      "Saving...\n",
      "Saved best model with CACC score: 84.80132652653589\n",
      "Epoch 2/40\n",
      "\n",
      "--- Start of PreTraining ---\n",
      "\n",
      "\n",
      "--- Pretraining of green_lights ---\n",
      "\n"
     ]
    },
    {
     "name": "stderr",
     "output_type": "stream",
     "text": [
      "[ 09-04 | 15:58 ] epoch 0: |██████████████████████████████████████████████████| loss: 5.39890671"
     ]
    },
    {
     "name": "stdout",
     "output_type": "stream",
     "text": [
      "\n",
      "--- Pretraining of follow_traffic ---\n",
      "\n"
     ]
    },
    {
     "name": "stderr",
     "output_type": "stream",
     "text": [
      "[ 09-04 | 15:58 ] epoch 0: |██████████████████████████████████████████████████| loss: 1.30828881"
     ]
    },
    {
     "name": "stdout",
     "output_type": "stream",
     "text": [
      "\n",
      "--- Pretraining of road_clear ---\n",
      "\n"
     ]
    },
    {
     "name": "stderr",
     "output_type": "stream",
     "text": [
      "[ 09-04 | 15:58 ] epoch 0: |██████████████████████████████████████████████████| loss: 1.20992124"
     ]
    },
    {
     "name": "stdout",
     "output_type": "stream",
     "text": [
      "\n",
      "--- Pretraining of traffic_lights ---\n",
      "\n"
     ]
    },
    {
     "name": "stderr",
     "output_type": "stream",
     "text": [
      "[ 09-04 | 15:58 ] epoch 0: |██████████████████████████████████████████████████| loss: 0.33998072"
     ]
    },
    {
     "name": "stdout",
     "output_type": "stream",
     "text": [
      "\n",
      "--- Pretraining of traffic_signs ---\n",
      "\n"
     ]
    },
    {
     "name": "stderr",
     "output_type": "stream",
     "text": [
      "[ 09-04 | 15:58 ] epoch 0: |██████████████████████████████████████████████████| loss: 0.63583994"
     ]
    },
    {
     "name": "stdout",
     "output_type": "stream",
     "text": [
      "\n",
      "--- Pretraining of cars ---\n",
      "\n"
     ]
    },
    {
     "name": "stderr",
     "output_type": "stream",
     "text": [
      "[ 09-04 | 15:58 ] epoch 0: |██████████████████████████████████████████████████| loss: 1.62764494"
     ]
    },
    {
     "name": "stdout",
     "output_type": "stream",
     "text": [
      "\n",
      "--- Pretraining of pedestrians ---\n",
      "\n"
     ]
    },
    {
     "name": "stderr",
     "output_type": "stream",
     "text": [
      "[ 09-04 | 15:58 ] epoch 0: |██████████████████████████████████████████████████| loss: 1.24274826"
     ]
    },
    {
     "name": "stdout",
     "output_type": "stream",
     "text": [
      "\n",
      "--- Pretraining of riders ---\n",
      "\n"
     ]
    },
    {
     "name": "stderr",
     "output_type": "stream",
     "text": [
      "[ 09-04 | 15:58 ] epoch 0: |██████████████████████████████████████████████████| loss: 4.18632984"
     ]
    },
    {
     "name": "stdout",
     "output_type": "stream",
     "text": [
      "\n",
      "--- Pretraining of others ---\n",
      "\n"
     ]
    },
    {
     "name": "stderr",
     "output_type": "stream",
     "text": [
      "[ 09-04 | 15:58 ] epoch 0: |██████████████████████████████████████████████████| loss: 1.63880801"
     ]
    },
    {
     "name": "stdout",
     "output_type": "stream",
     "text": [
      "\n",
      "--- Pretraining of no_lane_left ---\n",
      "\n"
     ]
    },
    {
     "name": "stderr",
     "output_type": "stream",
     "text": [
      "[ 09-04 | 15:58 ] epoch 0: |██████████████████████████████████████████████████| loss: 0.35203886"
     ]
    },
    {
     "name": "stdout",
     "output_type": "stream",
     "text": [
      "\n",
      "--- Pretraining of obstacle_left_lane ---\n",
      "\n"
     ]
    },
    {
     "name": "stderr",
     "output_type": "stream",
     "text": [
      "[ 09-04 | 15:58 ] epoch 0: |██████████████████████████████████████████████████| loss: 1.83117676"
     ]
    },
    {
     "name": "stdout",
     "output_type": "stream",
     "text": [
      "\n",
      "--- Pretraining of solid_left_line ---\n",
      "\n"
     ]
    },
    {
     "name": "stderr",
     "output_type": "stream",
     "text": [
      "[ 09-04 | 15:58 ] epoch 0: |██████████████████████████████████████████████████| loss: 0.95833308"
     ]
    },
    {
     "name": "stdout",
     "output_type": "stream",
     "text": [
      "\n",
      "--- Pretraining of on_right_turn_lane ---\n",
      "\n"
     ]
    },
    {
     "name": "stderr",
     "output_type": "stream",
     "text": [
      "[ 09-04 | 15:58 ] epoch 0: |██████████████████████████████████████████████████| loss: 1.26931655"
     ]
    },
    {
     "name": "stdout",
     "output_type": "stream",
     "text": [
      "\n",
      "--- Pretraining of traffic_light_right ---\n",
      "\n"
     ]
    },
    {
     "name": "stderr",
     "output_type": "stream",
     "text": [
      "[ 09-04 | 15:58 ] epoch 0: |██████████████████████████████████████████████████| loss: 2.12731647"
     ]
    },
    {
     "name": "stdout",
     "output_type": "stream",
     "text": [
      "\n",
      "--- Pretraining of front_car_right ---\n",
      "\n"
     ]
    },
    {
     "name": "stderr",
     "output_type": "stream",
     "text": [
      "[ 09-04 | 15:58 ] epoch 0: |██████████████████████████████████████████████████| loss: 0.83843654"
     ]
    },
    {
     "name": "stdout",
     "output_type": "stream",
     "text": [
      "\n",
      "--- Pretraining of no_lane_right ---\n",
      "\n"
     ]
    },
    {
     "name": "stderr",
     "output_type": "stream",
     "text": [
      "[ 09-04 | 15:58 ] epoch 0: |██████████████████████████████████████████████████| loss: 4.08403921"
     ]
    },
    {
     "name": "stdout",
     "output_type": "stream",
     "text": [
      "\n",
      "--- Pretraining of obstacle_right_lane ---\n",
      "\n"
     ]
    },
    {
     "name": "stderr",
     "output_type": "stream",
     "text": [
      "[ 09-04 | 15:58 ] epoch 0: |██████████████████████████████████████████████████| loss: 2.99271035"
     ]
    },
    {
     "name": "stdout",
     "output_type": "stream",
     "text": [
      "\n",
      "--- Pretraining of solid_right_line ---\n",
      "\n"
     ]
    },
    {
     "name": "stderr",
     "output_type": "stream",
     "text": [
      "[ 09-04 | 15:58 ] epoch 0: |██████████████████████████████████████████████████| loss: 1.06863689"
     ]
    },
    {
     "name": "stdout",
     "output_type": "stream",
     "text": [
      "\n",
      "--- Pretraining of on_left_turn_lane ---\n",
      "\n"
     ]
    },
    {
     "name": "stderr",
     "output_type": "stream",
     "text": [
      "[ 09-04 | 15:58 ] epoch 0: |██████████████████████████████████████████████████| loss: 1.52821398"
     ]
    },
    {
     "name": "stdout",
     "output_type": "stream",
     "text": [
      "\n",
      "--- Pretraining of traffic_light_left ---\n",
      "\n"
     ]
    },
    {
     "name": "stderr",
     "output_type": "stream",
     "text": [
      "[ 09-04 | 15:58 ] epoch 0: |██████████████████████████████████████████████████| loss: 3.85261583"
     ]
    },
    {
     "name": "stdout",
     "output_type": "stream",
     "text": [
      "\n",
      "--- Pretraining of front_car_left ---\n",
      "\n"
     ]
    },
    {
     "name": "stderr",
     "output_type": "stream",
     "text": [
      "[ 09-04 | 15:58 ] epoch 0: |██████████████████████████████████████████████████| loss: 3.93859744"
     ]
    },
    {
     "name": "stdout",
     "output_type": "stream",
     "text": [
      "Unsupervised training phase\n"
     ]
    },
    {
     "name": "stderr",
     "output_type": "stream",
     "text": [
      "[ 09-04 | 15:59 ] epoch 0: |██████████████████████████████████████████████████| loss: 4.73604679"
     ]
    },
    {
     "name": "stdout",
     "output_type": "stream",
     "text": [
      "  ACC C 85.08504033088684   ACC Y 68.6059816919192 F1 Y 59.60099458975199\n",
      "Saving...\n",
      "Saved best model with CACC score: 85.08504033088684\n",
      "Epoch 3/40\n",
      "\n",
      "--- Start of PreTraining ---\n",
      "\n",
      "\n",
      "--- Pretraining of green_lights ---\n",
      "\n"
     ]
    },
    {
     "name": "stderr",
     "output_type": "stream",
     "text": [
      "[ 09-04 | 15:59 ] epoch 0: |██████████████████████████████████████████████████| loss: 3.53361344"
     ]
    },
    {
     "name": "stdout",
     "output_type": "stream",
     "text": [
      "\n",
      "--- Pretraining of follow_traffic ---\n",
      "\n"
     ]
    },
    {
     "name": "stderr",
     "output_type": "stream",
     "text": [
      "[ 09-04 | 15:59 ] epoch 0: |██████████████████████████████████████████████████| loss: 0.43726438"
     ]
    },
    {
     "name": "stdout",
     "output_type": "stream",
     "text": [
      "\n",
      "--- Pretraining of road_clear ---\n",
      "\n"
     ]
    },
    {
     "name": "stderr",
     "output_type": "stream",
     "text": [
      "[ 09-04 | 15:59 ] epoch 0: |██████████████████████████████████████████████████| loss: 93.8271637"
     ]
    },
    {
     "name": "stdout",
     "output_type": "stream",
     "text": [
      "\n",
      "--- Pretraining of traffic_lights ---\n",
      "\n"
     ]
    },
    {
     "name": "stderr",
     "output_type": "stream",
     "text": [
      "[ 09-04 | 15:59 ] epoch 0: |██████████████████████████████████████████████████| loss: 0.46282649"
     ]
    },
    {
     "name": "stdout",
     "output_type": "stream",
     "text": [
      "\n",
      "--- Pretraining of traffic_signs ---\n",
      "\n"
     ]
    },
    {
     "name": "stderr",
     "output_type": "stream",
     "text": [
      "[ 09-04 | 15:59 ] epoch 0: |██████████████████████████████████████████████████| loss: 0.96939647"
     ]
    },
    {
     "name": "stdout",
     "output_type": "stream",
     "text": [
      "\n",
      "--- Pretraining of cars ---\n",
      "\n"
     ]
    },
    {
     "name": "stderr",
     "output_type": "stream",
     "text": [
      "[ 09-04 | 15:59 ] epoch 0: |██████████████████████████████████████████████████| loss: 2.23638105"
     ]
    },
    {
     "name": "stdout",
     "output_type": "stream",
     "text": [
      "\n",
      "--- Pretraining of pedestrians ---\n",
      "\n"
     ]
    },
    {
     "name": "stderr",
     "output_type": "stream",
     "text": [
      "[ 09-04 | 15:59 ] epoch 0: |██████████████████████████████████████████████████| loss: 1.47958136"
     ]
    },
    {
     "name": "stdout",
     "output_type": "stream",
     "text": [
      "\n",
      "--- Pretraining of riders ---\n",
      "\n"
     ]
    },
    {
     "name": "stderr",
     "output_type": "stream",
     "text": [
      "[ 09-04 | 15:59 ] epoch 0: |██████████████████████████████████████████████████| loss: 6.63073732"
     ]
    },
    {
     "name": "stdout",
     "output_type": "stream",
     "text": [
      "\n",
      "--- Pretraining of others ---\n",
      "\n"
     ]
    },
    {
     "name": "stderr",
     "output_type": "stream",
     "text": [
      "[ 09-04 | 15:59 ] epoch 0: |██████████████████████████████████████████████████| loss: 1.55485272"
     ]
    },
    {
     "name": "stdout",
     "output_type": "stream",
     "text": [
      "\n",
      "--- Pretraining of no_lane_left ---\n",
      "\n"
     ]
    },
    {
     "name": "stderr",
     "output_type": "stream",
     "text": [
      "[ 09-04 | 15:59 ] epoch 0: |██████████████████████████████████████████████████| loss: 0.92552507"
     ]
    },
    {
     "name": "stdout",
     "output_type": "stream",
     "text": [
      "\n",
      "--- Pretraining of obstacle_left_lane ---\n",
      "\n"
     ]
    },
    {
     "name": "stderr",
     "output_type": "stream",
     "text": [
      "[ 09-04 | 15:59 ] epoch 0: |██████████████████████████████████████████████████| loss: 0.98811036"
     ]
    },
    {
     "name": "stdout",
     "output_type": "stream",
     "text": [
      "\n",
      "--- Pretraining of solid_left_line ---\n",
      "\n"
     ]
    },
    {
     "name": "stderr",
     "output_type": "stream",
     "text": [
      "[ 09-04 | 15:59 ] epoch 0: |██████████████████████████████████████████████████| loss: 0.36411455"
     ]
    },
    {
     "name": "stdout",
     "output_type": "stream",
     "text": [
      "\n",
      "--- Pretraining of on_right_turn_lane ---\n",
      "\n"
     ]
    },
    {
     "name": "stderr",
     "output_type": "stream",
     "text": [
      "[ 09-04 | 15:59 ] epoch 0: |██████████████████████████████████████████████████| loss: 1.64951622"
     ]
    },
    {
     "name": "stdout",
     "output_type": "stream",
     "text": [
      "\n",
      "--- Pretraining of traffic_light_right ---\n",
      "\n"
     ]
    },
    {
     "name": "stderr",
     "output_type": "stream",
     "text": [
      "[ 09-04 | 15:59 ] epoch 0: |██████████████████████████████████████████████████| loss: 3.07924986"
     ]
    },
    {
     "name": "stdout",
     "output_type": "stream",
     "text": [
      "\n",
      "--- Pretraining of front_car_right ---\n",
      "\n"
     ]
    },
    {
     "name": "stderr",
     "output_type": "stream",
     "text": [
      "[ 09-04 | 15:59 ] epoch 0: |██████████████████████████████████████████████████| loss: 0.67660922"
     ]
    },
    {
     "name": "stdout",
     "output_type": "stream",
     "text": [
      "\n",
      "--- Pretraining of no_lane_right ---\n",
      "\n"
     ]
    },
    {
     "name": "stderr",
     "output_type": "stream",
     "text": [
      "[ 09-04 | 15:59 ] epoch 0: |██████████████████████████████████████████████████| loss: 5.89895868"
     ]
    },
    {
     "name": "stdout",
     "output_type": "stream",
     "text": [
      "\n",
      "--- Pretraining of obstacle_right_lane ---\n",
      "\n"
     ]
    },
    {
     "name": "stderr",
     "output_type": "stream",
     "text": [
      "[ 09-04 | 15:59 ] epoch 0: |██████████████████████████████████████████████████| loss: 0.79888409"
     ]
    },
    {
     "name": "stdout",
     "output_type": "stream",
     "text": [
      "\n",
      "--- Pretraining of solid_right_line ---\n",
      "\n"
     ]
    },
    {
     "name": "stderr",
     "output_type": "stream",
     "text": [
      "[ 09-04 | 15:59 ] epoch 0: |██████████████████████████████████████████████████| loss: 1.88221619"
     ]
    },
    {
     "name": "stdout",
     "output_type": "stream",
     "text": [
      "\n",
      "--- Pretraining of on_left_turn_lane ---\n",
      "\n"
     ]
    },
    {
     "name": "stderr",
     "output_type": "stream",
     "text": [
      "[ 09-04 | 15:59 ] epoch 0: |██████████████████████████████████████████████████| loss: 2.05482054"
     ]
    },
    {
     "name": "stdout",
     "output_type": "stream",
     "text": [
      "\n",
      "--- Pretraining of traffic_light_left ---\n",
      "\n"
     ]
    },
    {
     "name": "stderr",
     "output_type": "stream",
     "text": [
      "[ 09-04 | 15:59 ] epoch 0: |██████████████████████████████████████████████████| loss: 8.66046524"
     ]
    },
    {
     "name": "stdout",
     "output_type": "stream",
     "text": [
      "\n",
      "--- Pretraining of front_car_left ---\n",
      "\n"
     ]
    },
    {
     "name": "stderr",
     "output_type": "stream",
     "text": [
      "[ 09-04 | 15:59 ] epoch 0: |██████████████████████████████████████████████████| loss: 2.54614425"
     ]
    },
    {
     "name": "stdout",
     "output_type": "stream",
     "text": [
      "Unsupervised training phase\n"
     ]
    },
    {
     "name": "stderr",
     "output_type": "stream",
     "text": [
      "[ 09-04 | 15:59 ] epoch 0: |██████████████████████████████████████████████████| loss: 4.71268415"
     ]
    },
    {
     "name": "stdout",
     "output_type": "stream",
     "text": [
      "  ACC C 84.79606476094987   ACC Y 70.43974905303031 F1 Y 47.42374929541471\n",
      "Epoch 4/40\n",
      "\n",
      "--- Start of PreTraining ---\n",
      "\n",
      "\n",
      "--- Pretraining of green_lights ---\n",
      "\n"
     ]
    },
    {
     "name": "stderr",
     "output_type": "stream",
     "text": [
      "[ 09-04 | 15:59 ] epoch 0: |██████████████████████████████████████████████████| loss: 2.61505008"
     ]
    },
    {
     "name": "stdout",
     "output_type": "stream",
     "text": [
      "\n",
      "--- Pretraining of follow_traffic ---\n",
      "\n"
     ]
    },
    {
     "name": "stderr",
     "output_type": "stream",
     "text": [
      "[ 09-04 | 15:59 ] epoch 0: |██████████████████████████████████████████████████| loss: 1.47952688"
     ]
    },
    {
     "name": "stdout",
     "output_type": "stream",
     "text": [
      "\n",
      "--- Pretraining of road_clear ---\n",
      "\n"
     ]
    },
    {
     "name": "stderr",
     "output_type": "stream",
     "text": [
      "[ 09-04 | 15:59 ] epoch 0: |██████████████████████████████████████████████████| loss: 90.68323517"
     ]
    },
    {
     "name": "stdout",
     "output_type": "stream",
     "text": [
      "\n",
      "--- Pretraining of traffic_lights ---\n",
      "\n"
     ]
    },
    {
     "name": "stderr",
     "output_type": "stream",
     "text": [
      "[ 09-04 | 15:59 ] epoch 0: |██████████████████████████████████████████████████| loss: 0.34219405"
     ]
    },
    {
     "name": "stdout",
     "output_type": "stream",
     "text": [
      "\n",
      "--- Pretraining of traffic_signs ---\n",
      "\n"
     ]
    },
    {
     "name": "stderr",
     "output_type": "stream",
     "text": [
      "[ 09-04 | 15:59 ] epoch 0: |██████████████████████████████████████████████████| loss: 0.72629803"
     ]
    },
    {
     "name": "stdout",
     "output_type": "stream",
     "text": [
      "\n",
      "--- Pretraining of cars ---\n",
      "\n"
     ]
    },
    {
     "name": "stderr",
     "output_type": "stream",
     "text": [
      "[ 09-04 | 15:59 ] epoch 0: |██████████████████████████████████████████████████| loss: 0.55514109"
     ]
    },
    {
     "name": "stdout",
     "output_type": "stream",
     "text": [
      "\n",
      "--- Pretraining of pedestrians ---\n",
      "\n"
     ]
    },
    {
     "name": "stderr",
     "output_type": "stream",
     "text": [
      "[ 09-04 | 15:59 ] epoch 0: |██████████████████████████████████████████████████| loss: 1.74781251"
     ]
    },
    {
     "name": "stdout",
     "output_type": "stream",
     "text": [
      "\n",
      "--- Pretraining of riders ---\n",
      "\n"
     ]
    },
    {
     "name": "stderr",
     "output_type": "stream",
     "text": [
      "[ 09-04 | 15:59 ] epoch 0: |██████████████████████████████████████████████████| loss: 2.06316423"
     ]
    },
    {
     "name": "stdout",
     "output_type": "stream",
     "text": [
      "\n",
      "--- Pretraining of others ---\n",
      "\n"
     ]
    },
    {
     "name": "stderr",
     "output_type": "stream",
     "text": [
      "[ 09-04 | 15:59 ] epoch 0: |██████████████████████████████████████████████████| loss: 0.84862322"
     ]
    },
    {
     "name": "stdout",
     "output_type": "stream",
     "text": [
      "\n",
      "--- Pretraining of no_lane_left ---\n",
      "\n"
     ]
    },
    {
     "name": "stderr",
     "output_type": "stream",
     "text": [
      "[ 09-04 | 15:59 ] epoch 0: |██████████████████████████████████████████████████| loss: 0.66972995"
     ]
    },
    {
     "name": "stdout",
     "output_type": "stream",
     "text": [
      "\n",
      "--- Pretraining of obstacle_left_lane ---\n",
      "\n"
     ]
    },
    {
     "name": "stderr",
     "output_type": "stream",
     "text": [
      "[ 09-04 | 15:59 ] epoch 0: |██████████████████████████████████████████████████| loss: 1.10517061"
     ]
    },
    {
     "name": "stdout",
     "output_type": "stream",
     "text": [
      "\n",
      "--- Pretraining of solid_left_line ---\n",
      "\n"
     ]
    },
    {
     "name": "stderr",
     "output_type": "stream",
     "text": [
      "[ 09-04 | 15:59 ] epoch 0: |██████████████████████████████████████████████████| loss: 0.17266198"
     ]
    },
    {
     "name": "stdout",
     "output_type": "stream",
     "text": [
      "\n",
      "--- Pretraining of on_right_turn_lane ---\n",
      "\n"
     ]
    },
    {
     "name": "stderr",
     "output_type": "stream",
     "text": [
      "[ 09-04 | 15:59 ] epoch 0: |██████████████████████████████████████████████████| loss: 0.04880738"
     ]
    },
    {
     "name": "stdout",
     "output_type": "stream",
     "text": [
      "\n",
      "--- Pretraining of traffic_light_right ---\n",
      "\n"
     ]
    },
    {
     "name": "stderr",
     "output_type": "stream",
     "text": [
      "[ 09-04 | 15:59 ] epoch 0: |██████████████████████████████████████████████████| loss: 4.51434422"
     ]
    },
    {
     "name": "stdout",
     "output_type": "stream",
     "text": [
      "\n",
      "--- Pretraining of front_car_right ---\n",
      "\n"
     ]
    },
    {
     "name": "stderr",
     "output_type": "stream",
     "text": [
      "[ 09-04 | 15:59 ] epoch 0: |██████████████████████████████████████████████████| loss: 0.42063186"
     ]
    },
    {
     "name": "stdout",
     "output_type": "stream",
     "text": [
      "\n",
      "--- Pretraining of no_lane_right ---\n",
      "\n"
     ]
    },
    {
     "name": "stderr",
     "output_type": "stream",
     "text": [
      "[ 09-04 | 15:59 ] epoch 0: |██████████████████████████████████████████████████| loss: 3.64514375"
     ]
    },
    {
     "name": "stdout",
     "output_type": "stream",
     "text": [
      "\n",
      "--- Pretraining of obstacle_right_lane ---\n",
      "\n"
     ]
    },
    {
     "name": "stderr",
     "output_type": "stream",
     "text": [
      "[ 09-04 | 15:59 ] epoch 0: |██████████████████████████████████████████████████| loss: 10.37129021"
     ]
    },
    {
     "name": "stdout",
     "output_type": "stream",
     "text": [
      "\n",
      "--- Pretraining of solid_right_line ---\n",
      "\n"
     ]
    },
    {
     "name": "stderr",
     "output_type": "stream",
     "text": [
      "[ 09-04 | 15:59 ] epoch 0: |██████████████████████████████████████████████████| loss: 3.30192971"
     ]
    },
    {
     "name": "stdout",
     "output_type": "stream",
     "text": [
      "\n",
      "--- Pretraining of on_left_turn_lane ---\n",
      "\n"
     ]
    },
    {
     "name": "stderr",
     "output_type": "stream",
     "text": [
      "[ 09-04 | 15:59 ] epoch 0: |██████████████████████████████████████████████████| loss: 0.45963642"
     ]
    },
    {
     "name": "stdout",
     "output_type": "stream",
     "text": [
      "\n",
      "--- Pretraining of traffic_light_left ---\n",
      "\n"
     ]
    },
    {
     "name": "stderr",
     "output_type": "stream",
     "text": [
      "[ 09-04 | 15:59 ] epoch 0: |██████████████████████████████████████████████████| loss: 7.36811352"
     ]
    },
    {
     "name": "stdout",
     "output_type": "stream",
     "text": [
      "\n",
      "--- Pretraining of front_car_left ---\n",
      "\n"
     ]
    },
    {
     "name": "stderr",
     "output_type": "stream",
     "text": [
      "[ 09-04 | 15:59 ] epoch 0: |██████████████████████████████████████████████████| loss: 3.11438823"
     ]
    },
    {
     "name": "stdout",
     "output_type": "stream",
     "text": [
      "Unsupervised training phase\n"
     ]
    },
    {
     "name": "stderr",
     "output_type": "stream",
     "text": [
      "[ 09-04 | 16:00 ] epoch 0: |██████████████████████████████████████████████████| loss: 4.76096535"
     ]
    },
    {
     "name": "stdout",
     "output_type": "stream",
     "text": [
      "  ACC C 84.60610674487219   ACC Y 69.81435448232324 F1 Y 47.581873670322004\n",
      "Epoch 5/40\n",
      "\n",
      "--- Start of PreTraining ---\n",
      "\n",
      "\n",
      "--- Pretraining of green_lights ---\n",
      "\n"
     ]
    },
    {
     "name": "stderr",
     "output_type": "stream",
     "text": [
      "[ 09-04 | 16:00 ] epoch 0: |██████████████████████████████████████████████████| loss: 6.38808727"
     ]
    },
    {
     "name": "stdout",
     "output_type": "stream",
     "text": [
      "\n",
      "--- Pretraining of follow_traffic ---\n",
      "\n"
     ]
    },
    {
     "name": "stderr",
     "output_type": "stream",
     "text": [
      "[ 09-04 | 16:00 ] epoch 0: |██████████████████████████████████████████████████| loss: 0.10156752"
     ]
    },
    {
     "name": "stdout",
     "output_type": "stream",
     "text": [
      "\n",
      "--- Pretraining of road_clear ---\n",
      "\n"
     ]
    },
    {
     "name": "stderr",
     "output_type": "stream",
     "text": [
      "[ 09-04 | 16:00 ] epoch 0: |██████████████████████████████████████████████████| loss: 80.34345245"
     ]
    },
    {
     "name": "stdout",
     "output_type": "stream",
     "text": [
      "\n",
      "--- Pretraining of traffic_lights ---\n",
      "\n"
     ]
    },
    {
     "name": "stderr",
     "output_type": "stream",
     "text": [
      "[ 09-04 | 16:00 ] epoch 0: |██████████████████████████████████████████████████| loss: 0.20486967"
     ]
    },
    {
     "name": "stdout",
     "output_type": "stream",
     "text": [
      "\n",
      "--- Pretraining of traffic_signs ---\n",
      "\n"
     ]
    },
    {
     "name": "stderr",
     "output_type": "stream",
     "text": [
      "[ 09-04 | 16:00 ] epoch 0: |██████████████████████████████████████████████████| loss: 0.43854716"
     ]
    },
    {
     "name": "stdout",
     "output_type": "stream",
     "text": [
      "\n",
      "--- Pretraining of cars ---\n",
      "\n"
     ]
    },
    {
     "name": "stderr",
     "output_type": "stream",
     "text": [
      "[ 09-04 | 16:00 ] epoch 0: |██████████████████████████████████████████████████| loss: 2.45212674"
     ]
    },
    {
     "name": "stdout",
     "output_type": "stream",
     "text": [
      "\n",
      "--- Pretraining of pedestrians ---\n",
      "\n"
     ]
    },
    {
     "name": "stderr",
     "output_type": "stream",
     "text": [
      "[ 09-04 | 16:00 ] epoch 0: |██████████████████████████████████████████████████| loss: 3.17437148"
     ]
    },
    {
     "name": "stdout",
     "output_type": "stream",
     "text": [
      "\n",
      "--- Pretraining of riders ---\n",
      "\n"
     ]
    },
    {
     "name": "stderr",
     "output_type": "stream",
     "text": [
      "[ 09-04 | 16:00 ] epoch 0: |██████████████████████████████████████████████████| loss: 4.38141251"
     ]
    },
    {
     "name": "stdout",
     "output_type": "stream",
     "text": [
      "\n",
      "--- Pretraining of others ---\n",
      "\n"
     ]
    },
    {
     "name": "stderr",
     "output_type": "stream",
     "text": [
      "[ 09-04 | 16:00 ] epoch 0: |██████████████████████████████████████████████████| loss: 2.61162186"
     ]
    },
    {
     "name": "stdout",
     "output_type": "stream",
     "text": [
      "\n",
      "--- Pretraining of no_lane_left ---\n",
      "\n"
     ]
    },
    {
     "name": "stderr",
     "output_type": "stream",
     "text": [
      "[ 09-04 | 16:00 ] epoch 0: |██████████████████████████████████████████████████| loss: 0.3585006"
     ]
    },
    {
     "name": "stdout",
     "output_type": "stream",
     "text": [
      "\n",
      "--- Pretraining of obstacle_left_lane ---\n",
      "\n"
     ]
    },
    {
     "name": "stderr",
     "output_type": "stream",
     "text": [
      "[ 09-04 | 16:00 ] epoch 0: |██████████████████████████████████████████████████| loss: 1.03832161"
     ]
    },
    {
     "name": "stdout",
     "output_type": "stream",
     "text": [
      "\n",
      "--- Pretraining of solid_left_line ---\n",
      "\n"
     ]
    },
    {
     "name": "stderr",
     "output_type": "stream",
     "text": [
      "[ 09-04 | 16:00 ] epoch 0: |██████████████████████████████████████████████████| loss: 0.31617644"
     ]
    },
    {
     "name": "stdout",
     "output_type": "stream",
     "text": [
      "\n",
      "--- Pretraining of on_right_turn_lane ---\n",
      "\n"
     ]
    },
    {
     "name": "stderr",
     "output_type": "stream",
     "text": [
      "[ 09-04 | 16:00 ] epoch 0: |██████████████████████████████████████████████████| loss: 1.34239388"
     ]
    },
    {
     "name": "stdout",
     "output_type": "stream",
     "text": [
      "\n",
      "--- Pretraining of traffic_light_right ---\n",
      "\n"
     ]
    },
    {
     "name": "stderr",
     "output_type": "stream",
     "text": [
      "[ 09-04 | 16:00 ] epoch 0: |██████████████████████████████████████████████████| loss: 3.25193596"
     ]
    },
    {
     "name": "stdout",
     "output_type": "stream",
     "text": [
      "\n",
      "--- Pretraining of front_car_right ---\n",
      "\n"
     ]
    },
    {
     "name": "stderr",
     "output_type": "stream",
     "text": [
      "[ 09-04 | 16:00 ] epoch 0: |██████████████████████████████████████████████████| loss: 0.31479776"
     ]
    },
    {
     "name": "stdout",
     "output_type": "stream",
     "text": [
      "\n",
      "--- Pretraining of no_lane_right ---\n",
      "\n"
     ]
    },
    {
     "name": "stderr",
     "output_type": "stream",
     "text": [
      "[ 09-04 | 16:00 ] epoch 0: |██████████████████████████████████████████████████| loss: 6.72706318"
     ]
    },
    {
     "name": "stdout",
     "output_type": "stream",
     "text": [
      "\n",
      "--- Pretraining of obstacle_right_lane ---\n",
      "\n"
     ]
    },
    {
     "name": "stderr",
     "output_type": "stream",
     "text": [
      "[ 09-04 | 16:00 ] epoch 0: |██████████████████████████████████████████████████| loss: 4.70470095"
     ]
    },
    {
     "name": "stdout",
     "output_type": "stream",
     "text": [
      "\n",
      "--- Pretraining of solid_right_line ---\n",
      "\n"
     ]
    },
    {
     "name": "stderr",
     "output_type": "stream",
     "text": [
      "[ 09-04 | 16:00 ] epoch 0: |██████████████████████████████████████████████████| loss: 6.94886971"
     ]
    },
    {
     "name": "stdout",
     "output_type": "stream",
     "text": [
      "\n",
      "--- Pretraining of on_left_turn_lane ---\n",
      "\n"
     ]
    },
    {
     "name": "stderr",
     "output_type": "stream",
     "text": [
      "[ 09-04 | 16:00 ] epoch 0: |██████████████████████████████████████████████████| loss: 1.56137249"
     ]
    },
    {
     "name": "stdout",
     "output_type": "stream",
     "text": [
      "\n",
      "--- Pretraining of traffic_light_left ---\n",
      "\n"
     ]
    },
    {
     "name": "stderr",
     "output_type": "stream",
     "text": [
      "[ 09-04 | 16:00 ] epoch 0: |██████████████████████████████████████████████████| loss: 5.87066507"
     ]
    },
    {
     "name": "stdout",
     "output_type": "stream",
     "text": [
      "\n",
      "--- Pretraining of front_car_left ---\n",
      "\n"
     ]
    },
    {
     "name": "stderr",
     "output_type": "stream",
     "text": [
      "[ 09-04 | 16:00 ] epoch 0: |██████████████████████████████████████████████████| loss: 1.55668139"
     ]
    },
    {
     "name": "stdout",
     "output_type": "stream",
     "text": [
      "Unsupervised training phase\n"
     ]
    },
    {
     "name": "stderr",
     "output_type": "stream",
     "text": [
      "[ 09-04 | 16:00 ] epoch 0: |██████████████████████████████████████████████████| loss: 4.68820818"
     ]
    },
    {
     "name": "stdout",
     "output_type": "stream",
     "text": [
      "  ACC C 84.70418651898702   ACC Y 71.04837436868688 F1 Y 47.85086538048221\n",
      "Epoch 6/40\n",
      "\n",
      "--- Start of PreTraining ---\n",
      "\n",
      "\n",
      "--- Pretraining of green_lights ---\n",
      "\n"
     ]
    },
    {
     "name": "stderr",
     "output_type": "stream",
     "text": [
      "[ 09-04 | 16:00 ] epoch 0: |██████████████████████████████████████████████████| loss: 4.39221436"
     ]
    },
    {
     "name": "stdout",
     "output_type": "stream",
     "text": [
      "\n",
      "--- Pretraining of follow_traffic ---\n",
      "\n"
     ]
    },
    {
     "name": "stderr",
     "output_type": "stream",
     "text": [
      "[ 09-04 | 16:00 ] epoch 0: |██████████████████████████████████████████████████| loss: 0.57543623"
     ]
    },
    {
     "name": "stdout",
     "output_type": "stream",
     "text": [
      "\n",
      "--- Pretraining of road_clear ---\n",
      "\n"
     ]
    },
    {
     "name": "stderr",
     "output_type": "stream",
     "text": [
      "[ 09-04 | 16:00 ] epoch 0: |██████████████████████████████████████████████████| loss: 19.78371625"
     ]
    },
    {
     "name": "stdout",
     "output_type": "stream",
     "text": [
      "\n",
      "--- Pretraining of traffic_lights ---\n",
      "\n"
     ]
    },
    {
     "name": "stderr",
     "output_type": "stream",
     "text": [
      "[ 09-04 | 16:00 ] epoch 0: |██████████████████████████████████████████████████| loss: 0.37778077"
     ]
    },
    {
     "name": "stdout",
     "output_type": "stream",
     "text": [
      "\n",
      "--- Pretraining of traffic_signs ---\n",
      "\n"
     ]
    },
    {
     "name": "stderr",
     "output_type": "stream",
     "text": [
      "[ 09-04 | 16:00 ] epoch 0: |██████████████████████████████████████████████████| loss: 0.97275269"
     ]
    },
    {
     "name": "stdout",
     "output_type": "stream",
     "text": [
      "\n",
      "--- Pretraining of cars ---\n",
      "\n"
     ]
    },
    {
     "name": "stderr",
     "output_type": "stream",
     "text": [
      "[ 09-04 | 16:00 ] epoch 0: |██████████████████████████████████████████████████| loss: 1.30668414"
     ]
    },
    {
     "name": "stdout",
     "output_type": "stream",
     "text": [
      "\n",
      "--- Pretraining of pedestrians ---\n",
      "\n"
     ]
    },
    {
     "name": "stderr",
     "output_type": "stream",
     "text": [
      "[ 09-04 | 16:00 ] epoch 0: |██████████████████████████████████████████████████| loss: 1.15177953"
     ]
    },
    {
     "name": "stdout",
     "output_type": "stream",
     "text": [
      "\n",
      "--- Pretraining of riders ---\n",
      "\n"
     ]
    },
    {
     "name": "stderr",
     "output_type": "stream",
     "text": [
      "[ 09-04 | 16:00 ] epoch 0: |██████████████████████████████████████████████████| loss: 5.39251566"
     ]
    },
    {
     "name": "stdout",
     "output_type": "stream",
     "text": [
      "\n",
      "--- Pretraining of others ---\n",
      "\n"
     ]
    },
    {
     "name": "stderr",
     "output_type": "stream",
     "text": [
      "[ 09-04 | 16:00 ] epoch 0: |██████████████████████████████████████████████████| loss: 1.62642968"
     ]
    },
    {
     "name": "stdout",
     "output_type": "stream",
     "text": [
      "\n",
      "--- Pretraining of no_lane_left ---\n",
      "\n"
     ]
    },
    {
     "name": "stderr",
     "output_type": "stream",
     "text": [
      "[ 09-04 | 16:00 ] epoch 0: |██████████████████████████████████████████████████| loss: 0.45116144"
     ]
    },
    {
     "name": "stdout",
     "output_type": "stream",
     "text": [
      "\n",
      "--- Pretraining of obstacle_left_lane ---\n",
      "\n"
     ]
    },
    {
     "name": "stderr",
     "output_type": "stream",
     "text": [
      "[ 09-04 | 16:00 ] epoch 0: |██████████████████████████████████████████████████| loss: 0.72442758"
     ]
    },
    {
     "name": "stdout",
     "output_type": "stream",
     "text": [
      "\n",
      "--- Pretraining of solid_left_line ---\n",
      "\n"
     ]
    },
    {
     "name": "stderr",
     "output_type": "stream",
     "text": [
      "[ 09-04 | 16:00 ] epoch 0: |██████████████████████████████████████████████████| loss: 0.36263937"
     ]
    },
    {
     "name": "stdout",
     "output_type": "stream",
     "text": [
      "\n",
      "--- Pretraining of on_right_turn_lane ---\n",
      "\n"
     ]
    },
    {
     "name": "stderr",
     "output_type": "stream",
     "text": [
      "[ 09-04 | 16:00 ] epoch 0: |██████████████████████████████████████████████████| loss: 2.35128766"
     ]
    },
    {
     "name": "stdout",
     "output_type": "stream",
     "text": [
      "\n",
      "--- Pretraining of traffic_light_right ---\n",
      "\n"
     ]
    },
    {
     "name": "stderr",
     "output_type": "stream",
     "text": [
      "[ 09-04 | 16:00 ] epoch 0: |██████████████████████████████████████████████████| loss: 4.47917175"
     ]
    },
    {
     "name": "stdout",
     "output_type": "stream",
     "text": [
      "\n",
      "--- Pretraining of front_car_right ---\n",
      "\n"
     ]
    },
    {
     "name": "stderr",
     "output_type": "stream",
     "text": [
      "[ 09-04 | 16:00 ] epoch 0: |██████████████████████████████████████████████████| loss: 1.0259403"
     ]
    },
    {
     "name": "stdout",
     "output_type": "stream",
     "text": [
      "\n",
      "--- Pretraining of no_lane_right ---\n",
      "\n"
     ]
    },
    {
     "name": "stderr",
     "output_type": "stream",
     "text": [
      "[ 09-04 | 16:00 ] epoch 0: |██████████████████████████████████████████████████| loss: 6.95904978"
     ]
    },
    {
     "name": "stdout",
     "output_type": "stream",
     "text": [
      "\n",
      "--- Pretraining of obstacle_right_lane ---\n",
      "\n"
     ]
    },
    {
     "name": "stderr",
     "output_type": "stream",
     "text": [
      "[ 09-04 | 16:00 ] epoch 0: |██████████████████████████████████████████████████| loss: 7.88459921"
     ]
    },
    {
     "name": "stdout",
     "output_type": "stream",
     "text": [
      "\n",
      "--- Pretraining of solid_right_line ---\n",
      "\n"
     ]
    },
    {
     "name": "stderr",
     "output_type": "stream",
     "text": [
      "[ 09-04 | 16:00 ] epoch 0: |██████████████████████████████████████████████████| loss: 4.78489208"
     ]
    },
    {
     "name": "stdout",
     "output_type": "stream",
     "text": [
      "\n",
      "--- Pretraining of on_left_turn_lane ---\n",
      "\n"
     ]
    },
    {
     "name": "stderr",
     "output_type": "stream",
     "text": [
      "[ 09-04 | 16:00 ] epoch 0: |██████████████████████████████████████████████████| loss: 0.28378877"
     ]
    },
    {
     "name": "stdout",
     "output_type": "stream",
     "text": [
      "\n",
      "--- Pretraining of traffic_light_left ---\n",
      "\n"
     ]
    },
    {
     "name": "stderr",
     "output_type": "stream",
     "text": [
      "[ 09-04 | 16:00 ] epoch 0: |██████████████████████████████████████████████████| loss: 4.22787142"
     ]
    },
    {
     "name": "stdout",
     "output_type": "stream",
     "text": [
      "\n",
      "--- Pretraining of front_car_left ---\n",
      "\n"
     ]
    },
    {
     "name": "stderr",
     "output_type": "stream",
     "text": [
      "[ 09-04 | 16:00 ] epoch 0: |██████████████████████████████████████████████████| loss: 2.66436696"
     ]
    },
    {
     "name": "stdout",
     "output_type": "stream",
     "text": [
      "Unsupervised training phase\n"
     ]
    },
    {
     "name": "stderr",
     "output_type": "stream",
     "text": [
      "[ 09-04 | 16:01 ] epoch 0: |██████████████████████████████████████████████████| loss: 4.70462179"
     ]
    },
    {
     "name": "stdout",
     "output_type": "stream",
     "text": [
      "  ACC C 81.49068885379367   ACC Y 68.35345643939394 F1 Y 48.76027811416348\n",
      "Epoch 7/40\n",
      "\n",
      "--- Start of PreTraining ---\n",
      "\n",
      "\n",
      "--- Pretraining of green_lights ---\n",
      "\n"
     ]
    },
    {
     "name": "stderr",
     "output_type": "stream",
     "text": [
      "[ 09-04 | 16:01 ] epoch 0: |██████████████████████████████████████████████████| loss: 3.94133329"
     ]
    },
    {
     "name": "stdout",
     "output_type": "stream",
     "text": [
      "\n",
      "--- Pretraining of follow_traffic ---\n",
      "\n"
     ]
    },
    {
     "name": "stderr",
     "output_type": "stream",
     "text": [
      "[ 09-04 | 16:01 ] epoch 0: |██████████████████████████████████████████████████| loss: 7.634402754"
     ]
    },
    {
     "name": "stdout",
     "output_type": "stream",
     "text": [
      "\n",
      "--- Pretraining of road_clear ---\n",
      "\n"
     ]
    },
    {
     "name": "stderr",
     "output_type": "stream",
     "text": [
      "[ 09-04 | 16:01 ] epoch 0: |██████████████████████████████████████████████████| loss: 92.59259033"
     ]
    },
    {
     "name": "stdout",
     "output_type": "stream",
     "text": [
      "\n",
      "--- Pretraining of traffic_lights ---\n",
      "\n"
     ]
    },
    {
     "name": "stderr",
     "output_type": "stream",
     "text": [
      "[ 09-04 | 16:01 ] epoch 0: |██████████████████████████████████████████████████| loss: 0.36211184"
     ]
    },
    {
     "name": "stdout",
     "output_type": "stream",
     "text": [
      "\n",
      "--- Pretraining of traffic_signs ---\n",
      "\n"
     ]
    },
    {
     "name": "stderr",
     "output_type": "stream",
     "text": [
      "[ 09-04 | 16:01 ] epoch 0: |██████████████████████████████████████████████████| loss: 1.30884337"
     ]
    },
    {
     "name": "stdout",
     "output_type": "stream",
     "text": [
      "\n",
      "--- Pretraining of cars ---\n",
      "\n"
     ]
    },
    {
     "name": "stderr",
     "output_type": "stream",
     "text": [
      "[ 09-04 | 16:01 ] epoch 0: |██████████████████████████████████████████████████| loss: 0.53444696"
     ]
    },
    {
     "name": "stdout",
     "output_type": "stream",
     "text": [
      "\n",
      "--- Pretraining of pedestrians ---\n",
      "\n"
     ]
    },
    {
     "name": "stderr",
     "output_type": "stream",
     "text": [
      "[ 09-04 | 16:01 ] epoch 0: |██████████████████████████████████████████████████| loss: 3.37804294"
     ]
    },
    {
     "name": "stdout",
     "output_type": "stream",
     "text": [
      "\n",
      "--- Pretraining of riders ---\n",
      "\n"
     ]
    },
    {
     "name": "stderr",
     "output_type": "stream",
     "text": [
      "[ 09-04 | 16:01 ] epoch 0: |██████████████████████████████████████████████████| loss: 3.44054413"
     ]
    },
    {
     "name": "stdout",
     "output_type": "stream",
     "text": [
      "\n",
      "--- Pretraining of others ---\n",
      "\n"
     ]
    },
    {
     "name": "stderr",
     "output_type": "stream",
     "text": [
      "[ 09-04 | 16:01 ] epoch 0: |██████████████████████████████████████████████████| loss: 1.62190276"
     ]
    },
    {
     "name": "stdout",
     "output_type": "stream",
     "text": [
      "\n",
      "--- Pretraining of no_lane_left ---\n",
      "\n"
     ]
    },
    {
     "name": "stderr",
     "output_type": "stream",
     "text": [
      "[ 09-04 | 16:01 ] epoch 0: |██████████████████████████████████████████████████| loss: 1.0789659"
     ]
    },
    {
     "name": "stdout",
     "output_type": "stream",
     "text": [
      "\n",
      "--- Pretraining of obstacle_left_lane ---\n",
      "\n"
     ]
    },
    {
     "name": "stderr",
     "output_type": "stream",
     "text": [
      "[ 09-04 | 16:01 ] epoch 0: |██████████████████████████████████████████████████| loss: 0.78913063"
     ]
    },
    {
     "name": "stdout",
     "output_type": "stream",
     "text": [
      "\n",
      "--- Pretraining of solid_left_line ---\n",
      "\n"
     ]
    },
    {
     "name": "stderr",
     "output_type": "stream",
     "text": [
      "[ 09-04 | 16:01 ] epoch 0: |██████████████████████████████████████████████████| loss: 1.64e-0615"
     ]
    },
    {
     "name": "stdout",
     "output_type": "stream",
     "text": [
      "\n",
      "--- Pretraining of on_right_turn_lane ---\n",
      "\n"
     ]
    },
    {
     "name": "stderr",
     "output_type": "stream",
     "text": [
      "[ 09-04 | 16:01 ] epoch 0: |██████████████████████████████████████████████████| loss: 2.15627623"
     ]
    },
    {
     "name": "stdout",
     "output_type": "stream",
     "text": [
      "\n",
      "--- Pretraining of traffic_light_right ---\n",
      "\n"
     ]
    },
    {
     "name": "stderr",
     "output_type": "stream",
     "text": [
      "[ 09-04 | 16:01 ] epoch 0: |██████████████████████████████████████████████████| loss: 3.06961703"
     ]
    },
    {
     "name": "stdout",
     "output_type": "stream",
     "text": [
      "\n",
      "--- Pretraining of front_car_right ---\n",
      "\n"
     ]
    },
    {
     "name": "stderr",
     "output_type": "stream",
     "text": [
      "[ 09-04 | 16:01 ] epoch 0: |██████████████████████████████████████████████████| loss: 1.24076915"
     ]
    },
    {
     "name": "stdout",
     "output_type": "stream",
     "text": [
      "\n",
      "--- Pretraining of no_lane_right ---\n",
      "\n"
     ]
    },
    {
     "name": "stderr",
     "output_type": "stream",
     "text": [
      "[ 09-04 | 16:01 ] epoch 0: |██████████████████████████████████████████████████| loss: 4.91820002"
     ]
    },
    {
     "name": "stdout",
     "output_type": "stream",
     "text": [
      "\n",
      "--- Pretraining of obstacle_right_lane ---\n",
      "\n"
     ]
    },
    {
     "name": "stderr",
     "output_type": "stream",
     "text": [
      "[ 09-04 | 16:01 ] epoch 0: |██████████████████████████████████████████████████| loss: 6.35682201"
     ]
    },
    {
     "name": "stdout",
     "output_type": "stream",
     "text": [
      "\n",
      "--- Pretraining of solid_right_line ---\n",
      "\n"
     ]
    },
    {
     "name": "stderr",
     "output_type": "stream",
     "text": [
      "[ 09-04 | 16:01 ] epoch 0: |██████████████████████████████████████████████████| loss: 3.80213499"
     ]
    },
    {
     "name": "stdout",
     "output_type": "stream",
     "text": [
      "\n",
      "--- Pretraining of on_left_turn_lane ---\n",
      "\n"
     ]
    },
    {
     "name": "stderr",
     "output_type": "stream",
     "text": [
      "[ 09-04 | 16:01 ] epoch 0: |██████████████████████████████████████████████████| loss: 0.69486779"
     ]
    },
    {
     "name": "stdout",
     "output_type": "stream",
     "text": [
      "\n",
      "--- Pretraining of traffic_light_left ---\n",
      "\n"
     ]
    },
    {
     "name": "stderr",
     "output_type": "stream",
     "text": [
      "[ 09-04 | 16:01 ] epoch 0: |██████████████████████████████████████████████████| loss: 4.28475809"
     ]
    },
    {
     "name": "stdout",
     "output_type": "stream",
     "text": [
      "\n",
      "--- Pretraining of front_car_left ---\n",
      "\n"
     ]
    },
    {
     "name": "stderr",
     "output_type": "stream",
     "text": [
      "[ 09-04 | 16:01 ] epoch 0: |██████████████████████████████████████████████████| loss: 2.84342313"
     ]
    },
    {
     "name": "stdout",
     "output_type": "stream",
     "text": [
      "Unsupervised training phase\n"
     ]
    },
    {
     "name": "stderr",
     "output_type": "stream",
     "text": [
      "[ 09-04 | 16:02 ] epoch 0: |██████████████████████████████████████████████████| loss: 4.71864518"
     ]
    },
    {
     "name": "stdout",
     "output_type": "stream",
     "text": [
      "  ACC C 82.62686530749004   ACC Y 70.50189393939394 F1 Y 48.33758579376221\n",
      "Epoch 8/40\n",
      "\n",
      "--- Start of PreTraining ---\n",
      "\n",
      "\n",
      "--- Pretraining of green_lights ---\n",
      "\n"
     ]
    },
    {
     "name": "stderr",
     "output_type": "stream",
     "text": [
      "[ 09-04 | 16:02 ] epoch 0: |██████████████████████████████████████████████████| loss: 3.07210661"
     ]
    },
    {
     "name": "stdout",
     "output_type": "stream",
     "text": [
      "\n",
      "--- Pretraining of follow_traffic ---\n",
      "\n"
     ]
    },
    {
     "name": "stderr",
     "output_type": "stream",
     "text": [
      "[ 09-04 | 16:02 ] epoch 0: |██████████████████████████████████████████████████| loss: 0.13569251"
     ]
    },
    {
     "name": "stdout",
     "output_type": "stream",
     "text": [
      "\n",
      "--- Pretraining of road_clear ---\n",
      "\n"
     ]
    },
    {
     "name": "stderr",
     "output_type": "stream",
     "text": [
      "[ 09-04 | 16:02 ] epoch 0: |██████████████████████████████████████████████████| loss: 95.06172943"
     ]
    },
    {
     "name": "stdout",
     "output_type": "stream",
     "text": [
      "\n",
      "--- Pretraining of traffic_lights ---\n",
      "\n"
     ]
    },
    {
     "name": "stderr",
     "output_type": "stream",
     "text": [
      "[ 09-04 | 16:02 ] epoch 0: |██████████████████████████████████████████████████| loss: 0.13383406"
     ]
    },
    {
     "name": "stdout",
     "output_type": "stream",
     "text": [
      "\n",
      "--- Pretraining of traffic_signs ---\n",
      "\n"
     ]
    },
    {
     "name": "stderr",
     "output_type": "stream",
     "text": [
      "[ 09-04 | 16:02 ] epoch 0: |██████████████████████████████████████████████████| loss: 1.48811162"
     ]
    },
    {
     "name": "stdout",
     "output_type": "stream",
     "text": [
      "\n",
      "--- Pretraining of cars ---\n",
      "\n"
     ]
    },
    {
     "name": "stderr",
     "output_type": "stream",
     "text": [
      "[ 09-04 | 16:02 ] epoch 0: |██████████████████████████████████████████████████| loss: 1.27395639"
     ]
    },
    {
     "name": "stdout",
     "output_type": "stream",
     "text": [
      "\n",
      "--- Pretraining of pedestrians ---\n",
      "\n"
     ]
    },
    {
     "name": "stderr",
     "output_type": "stream",
     "text": [
      "[ 09-04 | 16:02 ] epoch 0: |██████████████████████████████████████████████████| loss: 1.19385159"
     ]
    },
    {
     "name": "stdout",
     "output_type": "stream",
     "text": [
      "\n",
      "--- Pretraining of riders ---\n",
      "\n"
     ]
    },
    {
     "name": "stderr",
     "output_type": "stream",
     "text": [
      "[ 09-04 | 16:02 ] epoch 0: |██████████████████████████████████████████████████| loss: 3.63489914"
     ]
    },
    {
     "name": "stdout",
     "output_type": "stream",
     "text": [
      "\n",
      "--- Pretraining of others ---\n",
      "\n"
     ]
    },
    {
     "name": "stderr",
     "output_type": "stream",
     "text": [
      "[ 09-04 | 16:02 ] epoch 0: |██████████████████████████████████████████████████| loss: 1.78812325"
     ]
    },
    {
     "name": "stdout",
     "output_type": "stream",
     "text": [
      "\n",
      "--- Pretraining of no_lane_left ---\n",
      "\n"
     ]
    },
    {
     "name": "stderr",
     "output_type": "stream",
     "text": [
      "[ 09-04 | 16:02 ] epoch 0: |██████████████████████████████████████████████████| loss: 0.63825202"
     ]
    },
    {
     "name": "stdout",
     "output_type": "stream",
     "text": [
      "\n",
      "--- Pretraining of obstacle_left_lane ---\n",
      "\n"
     ]
    },
    {
     "name": "stderr",
     "output_type": "stream",
     "text": [
      "[ 09-04 | 16:02 ] epoch 0: |██████████████████████████████████████████████████| loss: 0.80197376"
     ]
    },
    {
     "name": "stdout",
     "output_type": "stream",
     "text": [
      "\n",
      "--- Pretraining of solid_left_line ---\n",
      "\n"
     ]
    },
    {
     "name": "stderr",
     "output_type": "stream",
     "text": [
      "[ 09-04 | 16:02 ] epoch 0: |██████████████████████████████████████████████████| loss: 0.54844123"
     ]
    },
    {
     "name": "stdout",
     "output_type": "stream",
     "text": [
      "\n",
      "--- Pretraining of on_right_turn_lane ---\n",
      "\n"
     ]
    },
    {
     "name": "stderr",
     "output_type": "stream",
     "text": [
      "[ 09-04 | 16:02 ] epoch 0: |██████████████████████████████████████████████████| loss: 2.16374663"
     ]
    },
    {
     "name": "stdout",
     "output_type": "stream",
     "text": [
      "\n",
      "--- Pretraining of traffic_light_right ---\n",
      "\n"
     ]
    },
    {
     "name": "stderr",
     "output_type": "stream",
     "text": [
      "[ 09-04 | 16:02 ] epoch 0: |██████████████████████████████████████████████████| loss: 4.42506218"
     ]
    },
    {
     "name": "stdout",
     "output_type": "stream",
     "text": [
      "\n",
      "--- Pretraining of front_car_right ---\n",
      "\n"
     ]
    },
    {
     "name": "stderr",
     "output_type": "stream",
     "text": [
      "[ 09-04 | 16:02 ] epoch 0: |██████████████████████████████████████████████████| loss: 1.64380407"
     ]
    },
    {
     "name": "stdout",
     "output_type": "stream",
     "text": [
      "\n",
      "--- Pretraining of no_lane_right ---\n",
      "\n"
     ]
    },
    {
     "name": "stderr",
     "output_type": "stream",
     "text": [
      "[ 09-04 | 16:02 ] epoch 0: |██████████████████████████████████████████████████| loss: 5.94527864"
     ]
    },
    {
     "name": "stdout",
     "output_type": "stream",
     "text": [
      "\n",
      "--- Pretraining of obstacle_right_lane ---\n",
      "\n"
     ]
    },
    {
     "name": "stderr",
     "output_type": "stream",
     "text": [
      "[ 09-04 | 16:02 ] epoch 0: |██████████████████████████████████████████████████| loss: 3.53780896"
     ]
    },
    {
     "name": "stdout",
     "output_type": "stream",
     "text": [
      "\n",
      "--- Pretraining of solid_right_line ---\n",
      "\n"
     ]
    },
    {
     "name": "stderr",
     "output_type": "stream",
     "text": [
      "[ 09-04 | 16:02 ] epoch 0: |██████████████████████████████████████████████████| loss: 1.91268182"
     ]
    },
    {
     "name": "stdout",
     "output_type": "stream",
     "text": [
      "\n",
      "--- Pretraining of on_left_turn_lane ---\n",
      "\n"
     ]
    },
    {
     "name": "stderr",
     "output_type": "stream",
     "text": [
      "[ 09-04 | 16:02 ] epoch 0: |██████████████████████████████████████████████████| loss: 0.48881251"
     ]
    },
    {
     "name": "stdout",
     "output_type": "stream",
     "text": [
      "\n",
      "--- Pretraining of traffic_light_left ---\n",
      "\n"
     ]
    },
    {
     "name": "stderr",
     "output_type": "stream",
     "text": [
      "[ 09-04 | 16:02 ] epoch 0: |██████████████████████████████████████████████████| loss: 6.56454468"
     ]
    },
    {
     "name": "stdout",
     "output_type": "stream",
     "text": [
      "\n",
      "--- Pretraining of front_car_left ---\n",
      "\n"
     ]
    },
    {
     "name": "stderr",
     "output_type": "stream",
     "text": [
      "[ 09-04 | 16:02 ] epoch 0: |██████████████████████████████████████████████████| loss: 3.68221283"
     ]
    },
    {
     "name": "stdout",
     "output_type": "stream",
     "text": [
      "Unsupervised training phase\n"
     ]
    },
    {
     "name": "stderr",
     "output_type": "stream",
     "text": [
      "[ 09-04 | 16:02 ] epoch 0: |██████████████████████████████████████████████████| loss: 4.66352367"
     ]
    },
    {
     "name": "stdout",
     "output_type": "stream",
     "text": [
      "  ACC C 84.43268438180287   ACC Y 69.72064393939394 F1 Y 48.20840787442537\n",
      "Epoch 9/40\n",
      "\n",
      "--- Start of PreTraining ---\n",
      "\n",
      "\n",
      "--- Pretraining of green_lights ---\n",
      "\n"
     ]
    },
    {
     "name": "stderr",
     "output_type": "stream",
     "text": [
      "[ 09-04 | 16:02 ] epoch 0: |██████████████████████████████████████████████████| loss: 2.95542455"
     ]
    },
    {
     "name": "stdout",
     "output_type": "stream",
     "text": [
      "\n",
      "--- Pretraining of follow_traffic ---\n",
      "\n"
     ]
    },
    {
     "name": "stderr",
     "output_type": "stream",
     "text": [
      "[ 09-04 | 16:02 ] epoch 0: |██████████████████████████████████████████████████| loss: 1.05842447"
     ]
    },
    {
     "name": "stdout",
     "output_type": "stream",
     "text": [
      "\n",
      "--- Pretraining of road_clear ---\n",
      "\n"
     ]
    },
    {
     "name": "stderr",
     "output_type": "stream",
     "text": [
      "[ 09-04 | 16:02 ] epoch 0: |██████████████████████████████████████████████████| loss: 95.06172943"
     ]
    },
    {
     "name": "stdout",
     "output_type": "stream",
     "text": [
      "\n",
      "--- Pretraining of traffic_lights ---\n",
      "\n"
     ]
    },
    {
     "name": "stderr",
     "output_type": "stream",
     "text": [
      "[ 09-04 | 16:02 ] epoch 0: |██████████████████████████████████████████████████| loss: 0.27708457"
     ]
    },
    {
     "name": "stdout",
     "output_type": "stream",
     "text": [
      "\n",
      "--- Pretraining of traffic_signs ---\n",
      "\n"
     ]
    },
    {
     "name": "stderr",
     "output_type": "stream",
     "text": [
      "[ 09-04 | 16:02 ] epoch 0: |██████████████████████████████████████████████████| loss: 1.59817529"
     ]
    },
    {
     "name": "stdout",
     "output_type": "stream",
     "text": [
      "\n",
      "--- Pretraining of cars ---\n",
      "\n"
     ]
    },
    {
     "name": "stderr",
     "output_type": "stream",
     "text": [
      "[ 09-04 | 16:02 ] epoch 0: |██████████████████████████████████████████████████| loss: 2.54306889"
     ]
    },
    {
     "name": "stdout",
     "output_type": "stream",
     "text": [
      "\n",
      "--- Pretraining of pedestrians ---\n",
      "\n"
     ]
    },
    {
     "name": "stderr",
     "output_type": "stream",
     "text": [
      "[ 09-04 | 16:02 ] epoch 0: |██████████████████████████████████████████████████| loss: 0.44785747"
     ]
    },
    {
     "name": "stdout",
     "output_type": "stream",
     "text": [
      "\n",
      "--- Pretraining of riders ---\n",
      "\n"
     ]
    },
    {
     "name": "stderr",
     "output_type": "stream",
     "text": [
      "[ 09-04 | 16:02 ] epoch 0: |██████████████████████████████████████████████████| loss: 3.40909116"
     ]
    },
    {
     "name": "stdout",
     "output_type": "stream",
     "text": [
      "\n",
      "--- Pretraining of others ---\n",
      "\n"
     ]
    },
    {
     "name": "stderr",
     "output_type": "stream",
     "text": [
      "[ 09-04 | 16:02 ] epoch 0: |██████████████████████████████████████████████████| loss: 0.86973965"
     ]
    },
    {
     "name": "stdout",
     "output_type": "stream",
     "text": [
      "\n",
      "--- Pretraining of no_lane_left ---\n",
      "\n"
     ]
    },
    {
     "name": "stderr",
     "output_type": "stream",
     "text": [
      "[ 09-04 | 16:02 ] epoch 0: |██████████████████████████████████████████████████| loss: 0.64478233"
     ]
    },
    {
     "name": "stdout",
     "output_type": "stream",
     "text": [
      "\n",
      "--- Pretraining of obstacle_left_lane ---\n",
      "\n"
     ]
    },
    {
     "name": "stderr",
     "output_type": "stream",
     "text": [
      "[ 09-04 | 16:02 ] epoch 0: |██████████████████████████████████████████████████| loss: 0.93390262"
     ]
    },
    {
     "name": "stdout",
     "output_type": "stream",
     "text": [
      "\n",
      "--- Pretraining of solid_left_line ---\n",
      "\n"
     ]
    },
    {
     "name": "stderr",
     "output_type": "stream",
     "text": [
      "[ 09-04 | 16:02 ] epoch 0: |██████████████████████████████████████████████████| loss: 0.55801117"
     ]
    },
    {
     "name": "stdout",
     "output_type": "stream",
     "text": [
      "\n",
      "--- Pretraining of on_right_turn_lane ---\n",
      "\n"
     ]
    },
    {
     "name": "stderr",
     "output_type": "stream",
     "text": [
      "[ 09-04 | 16:02 ] epoch 0: |██████████████████████████████████████████████████| loss: 1.82943046"
     ]
    },
    {
     "name": "stdout",
     "output_type": "stream",
     "text": [
      "\n",
      "--- Pretraining of traffic_light_right ---\n",
      "\n"
     ]
    },
    {
     "name": "stderr",
     "output_type": "stream",
     "text": [
      "[ 09-04 | 16:02 ] epoch 0: |██████████████████████████████████████████████████| loss: 3.05718923"
     ]
    },
    {
     "name": "stdout",
     "output_type": "stream",
     "text": [
      "\n",
      "--- Pretraining of front_car_right ---\n",
      "\n"
     ]
    },
    {
     "name": "stderr",
     "output_type": "stream",
     "text": [
      "[ 09-04 | 16:02 ] epoch 0: |██████████████████████████████████████████████████| loss: 1.90865433"
     ]
    },
    {
     "name": "stdout",
     "output_type": "stream",
     "text": [
      "\n",
      "--- Pretraining of no_lane_right ---\n",
      "\n"
     ]
    },
    {
     "name": "stderr",
     "output_type": "stream",
     "text": [
      "[ 09-04 | 16:02 ] epoch 0: |██████████████████████████████████████████████████| loss: 4.83078241"
     ]
    },
    {
     "name": "stdout",
     "output_type": "stream",
     "text": [
      "\n",
      "--- Pretraining of obstacle_right_lane ---\n",
      "\n"
     ]
    },
    {
     "name": "stderr",
     "output_type": "stream",
     "text": [
      "[ 09-04 | 16:02 ] epoch 0: |██████████████████████████████████████████████████| loss: 4.74238825"
     ]
    },
    {
     "name": "stdout",
     "output_type": "stream",
     "text": [
      "\n",
      "--- Pretraining of solid_right_line ---\n",
      "\n"
     ]
    },
    {
     "name": "stderr",
     "output_type": "stream",
     "text": [
      "[ 09-04 | 16:02 ] epoch 0: |██████████████████████████████████████████████████| loss: 1.75077903"
     ]
    },
    {
     "name": "stdout",
     "output_type": "stream",
     "text": [
      "\n",
      "--- Pretraining of on_left_turn_lane ---\n",
      "\n"
     ]
    },
    {
     "name": "stderr",
     "output_type": "stream",
     "text": [
      "[ 09-04 | 16:02 ] epoch 0: |██████████████████████████████████████████████████| loss: 0.28768769"
     ]
    },
    {
     "name": "stdout",
     "output_type": "stream",
     "text": [
      "\n",
      "--- Pretraining of traffic_light_left ---\n",
      "\n"
     ]
    },
    {
     "name": "stderr",
     "output_type": "stream",
     "text": [
      "[ 09-04 | 16:02 ] epoch 0: |██████████████████████████████████████████████████| loss: 6.35930777"
     ]
    },
    {
     "name": "stdout",
     "output_type": "stream",
     "text": [
      "\n",
      "--- Pretraining of front_car_left ---\n",
      "\n"
     ]
    },
    {
     "name": "stderr",
     "output_type": "stream",
     "text": [
      "[ 09-04 | 16:02 ] epoch 0: |██████████████████████████████████████████████████| loss: 2.37582469"
     ]
    },
    {
     "name": "stdout",
     "output_type": "stream",
     "text": [
      "Unsupervised training phase\n"
     ]
    },
    {
     "name": "stderr",
     "output_type": "stream",
     "text": [
      "[ 09-04 | 16:03 ] epoch 0: |██████████████████████████████████████████████████| loss: 4.69589525"
     ]
    },
    {
     "name": "stdout",
     "output_type": "stream",
     "text": [
      "  ACC C 83.70160063107808   ACC Y 67.91153724747475 F1 Y 47.947702875253135\n",
      "Epoch 10/40\n",
      "\n",
      "--- Start of PreTraining ---\n",
      "\n",
      "\n",
      "--- Pretraining of green_lights ---\n",
      "\n"
     ]
    },
    {
     "name": "stderr",
     "output_type": "stream",
     "text": [
      "[ 09-04 | 16:03 ] epoch 0: |██████████████████████████████████████████████████| loss: 3.71997192"
     ]
    },
    {
     "name": "stdout",
     "output_type": "stream",
     "text": [
      "\n",
      "--- Pretraining of follow_traffic ---\n",
      "\n"
     ]
    },
    {
     "name": "stderr",
     "output_type": "stream",
     "text": [
      "[ 09-04 | 16:03 ] epoch 0: |██████████████████████████████████████████████████| loss: 0.65187132"
     ]
    },
    {
     "name": "stdout",
     "output_type": "stream",
     "text": [
      "\n",
      "--- Pretraining of road_clear ---\n",
      "\n"
     ]
    },
    {
     "name": "stderr",
     "output_type": "stream",
     "text": [
      "[ 09-04 | 16:03 ] epoch 0: |██████████████████████████████████████████████████| loss: 87.96752167"
     ]
    },
    {
     "name": "stdout",
     "output_type": "stream",
     "text": [
      "\n",
      "--- Pretraining of traffic_lights ---\n",
      "\n"
     ]
    },
    {
     "name": "stderr",
     "output_type": "stream",
     "text": [
      "[ 09-04 | 16:03 ] epoch 0: |██████████████████████████████████████████████████| loss: 0.26671058"
     ]
    },
    {
     "name": "stdout",
     "output_type": "stream",
     "text": [
      "\n",
      "--- Pretraining of traffic_signs ---\n",
      "\n"
     ]
    },
    {
     "name": "stderr",
     "output_type": "stream",
     "text": [
      "[ 09-04 | 16:03 ] epoch 0: |██████████████████████████████████████████████████| loss: 0.64078852"
     ]
    },
    {
     "name": "stdout",
     "output_type": "stream",
     "text": [
      "\n",
      "--- Pretraining of cars ---\n",
      "\n"
     ]
    },
    {
     "name": "stderr",
     "output_type": "stream",
     "text": [
      "[ 09-04 | 16:03 ] epoch 0: |██████████████████████████████████████████████████| loss: 1.73226142"
     ]
    },
    {
     "name": "stdout",
     "output_type": "stream",
     "text": [
      "\n",
      "--- Pretraining of pedestrians ---\n",
      "\n"
     ]
    },
    {
     "name": "stderr",
     "output_type": "stream",
     "text": [
      "[ 09-04 | 16:03 ] epoch 0: |██████████████████████████████████████████████████| loss: 1.80306125"
     ]
    },
    {
     "name": "stdout",
     "output_type": "stream",
     "text": [
      "\n",
      "--- Pretraining of riders ---\n",
      "\n"
     ]
    },
    {
     "name": "stderr",
     "output_type": "stream",
     "text": [
      "[ 09-04 | 16:03 ] epoch 0: |██████████████████████████████████████████████████| loss: 3.66682005"
     ]
    },
    {
     "name": "stdout",
     "output_type": "stream",
     "text": [
      "\n",
      "--- Pretraining of others ---\n",
      "\n"
     ]
    },
    {
     "name": "stderr",
     "output_type": "stream",
     "text": [
      "[ 09-04 | 16:03 ] epoch 0: |██████████████████████████████████████████████████| loss: 1.68861914"
     ]
    },
    {
     "name": "stdout",
     "output_type": "stream",
     "text": [
      "\n",
      "--- Pretraining of no_lane_left ---\n",
      "\n"
     ]
    },
    {
     "name": "stderr",
     "output_type": "stream",
     "text": [
      "[ 09-04 | 16:03 ] epoch 0: |██████████████████████████████████████████████████| loss: 0.46111864"
     ]
    },
    {
     "name": "stdout",
     "output_type": "stream",
     "text": [
      "\n",
      "--- Pretraining of obstacle_left_lane ---\n",
      "\n"
     ]
    },
    {
     "name": "stderr",
     "output_type": "stream",
     "text": [
      "[ 09-04 | 16:03 ] epoch 0: |██████████████████████████████████████████████████| loss: 0.68190843"
     ]
    },
    {
     "name": "stdout",
     "output_type": "stream",
     "text": [
      "\n",
      "--- Pretraining of solid_left_line ---\n",
      "\n"
     ]
    },
    {
     "name": "stderr",
     "output_type": "stream",
     "text": [
      "[ 09-04 | 16:03 ] epoch 0: |██████████████████████████████████████████████████| loss: 0.51356512"
     ]
    },
    {
     "name": "stdout",
     "output_type": "stream",
     "text": [
      "\n",
      "--- Pretraining of on_right_turn_lane ---\n",
      "\n"
     ]
    },
    {
     "name": "stderr",
     "output_type": "stream",
     "text": [
      "[ 09-04 | 16:03 ] epoch 0: |██████████████████████████████████████████████████| loss: 1.75403225"
     ]
    },
    {
     "name": "stdout",
     "output_type": "stream",
     "text": [
      "\n",
      "--- Pretraining of traffic_light_right ---\n",
      "\n"
     ]
    },
    {
     "name": "stderr",
     "output_type": "stream",
     "text": [
      "[ 09-04 | 16:03 ] epoch 0: |██████████████████████████████████████████████████| loss: 2.47194123"
     ]
    },
    {
     "name": "stdout",
     "output_type": "stream",
     "text": [
      "\n",
      "--- Pretraining of front_car_right ---\n",
      "\n"
     ]
    },
    {
     "name": "stderr",
     "output_type": "stream",
     "text": [
      "[ 09-04 | 16:03 ] epoch 0: |██████████████████████████████████████████████████| loss: 1.78931201"
     ]
    },
    {
     "name": "stdout",
     "output_type": "stream",
     "text": [
      "\n",
      "--- Pretraining of no_lane_right ---\n",
      "\n"
     ]
    },
    {
     "name": "stderr",
     "output_type": "stream",
     "text": [
      "[ 09-04 | 16:03 ] epoch 0: |██████████████████████████████████████████████████| loss: 9.72313976"
     ]
    },
    {
     "name": "stdout",
     "output_type": "stream",
     "text": [
      "\n",
      "--- Pretraining of obstacle_right_lane ---\n",
      "\n"
     ]
    },
    {
     "name": "stderr",
     "output_type": "stream",
     "text": [
      "[ 09-04 | 16:03 ] epoch 0: |██████████████████████████████████████████████████| loss: 4.59548998"
     ]
    },
    {
     "name": "stdout",
     "output_type": "stream",
     "text": [
      "\n",
      "--- Pretraining of solid_right_line ---\n",
      "\n"
     ]
    },
    {
     "name": "stderr",
     "output_type": "stream",
     "text": [
      "[ 09-04 | 16:03 ] epoch 0: |██████████████████████████████████████████████████| loss: 1.22070754"
     ]
    },
    {
     "name": "stdout",
     "output_type": "stream",
     "text": [
      "\n",
      "--- Pretraining of on_left_turn_lane ---\n",
      "\n"
     ]
    },
    {
     "name": "stderr",
     "output_type": "stream",
     "text": [
      "[ 09-04 | 16:03 ] epoch 0: |██████████████████████████████████████████████████| loss: 0.64987278"
     ]
    },
    {
     "name": "stdout",
     "output_type": "stream",
     "text": [
      "\n",
      "--- Pretraining of traffic_light_left ---\n",
      "\n"
     ]
    },
    {
     "name": "stderr",
     "output_type": "stream",
     "text": [
      "[ 09-04 | 16:03 ] epoch 0: |██████████████████████████████████████████████████| loss: 5.03556013"
     ]
    },
    {
     "name": "stdout",
     "output_type": "stream",
     "text": [
      "\n",
      "--- Pretraining of front_car_left ---\n",
      "\n"
     ]
    },
    {
     "name": "stderr",
     "output_type": "stream",
     "text": [
      "[ 09-04 | 16:03 ] epoch 0: |██████████████████████████████████████████████████| loss: 1.94371355"
     ]
    },
    {
     "name": "stdout",
     "output_type": "stream",
     "text": [
      "Unsupervised training phase\n"
     ]
    },
    {
     "name": "stderr",
     "output_type": "stream",
     "text": [
      "[ 09-04 | 16:03 ] epoch 0: |██████████████████████████████████████████████████| loss: 4.66628551"
     ]
    },
    {
     "name": "stdout",
     "output_type": "stream",
     "text": [
      "  ACC C 84.77577202849918   ACC Y 69.93963068181819 F1 Y 48.092266882723806\n",
      "Epoch 11/40\n",
      "\n",
      "--- Start of PreTraining ---\n",
      "\n",
      "\n",
      "--- Pretraining of green_lights ---\n",
      "\n"
     ]
    },
    {
     "name": "stderr",
     "output_type": "stream",
     "text": [
      "[ 09-04 | 16:03 ] epoch 0: |██████████████████████████████████████████████████| loss: 4.61177349"
     ]
    },
    {
     "name": "stdout",
     "output_type": "stream",
     "text": [
      "\n",
      "--- Pretraining of follow_traffic ---\n",
      "\n"
     ]
    },
    {
     "name": "stderr",
     "output_type": "stream",
     "text": [
      "[ 09-04 | 16:03 ] epoch 0: |██████████████████████████████████████████████████| loss: 0.78997261"
     ]
    },
    {
     "name": "stdout",
     "output_type": "stream",
     "text": [
      "\n",
      "--- Pretraining of road_clear ---\n",
      "\n"
     ]
    },
    {
     "name": "stderr",
     "output_type": "stream",
     "text": [
      "[ 09-04 | 16:03 ] epoch 0: |██████████████████████████████████████████████████| loss: 83.32536316"
     ]
    },
    {
     "name": "stdout",
     "output_type": "stream",
     "text": [
      "\n",
      "--- Pretraining of traffic_lights ---\n",
      "\n"
     ]
    },
    {
     "name": "stderr",
     "output_type": "stream",
     "text": [
      "[ 09-04 | 16:03 ] epoch 0: |██████████████████████████████████████████████████| loss: 0.39304599"
     ]
    },
    {
     "name": "stdout",
     "output_type": "stream",
     "text": [
      "\n",
      "--- Pretraining of traffic_signs ---\n",
      "\n"
     ]
    },
    {
     "name": "stderr",
     "output_type": "stream",
     "text": [
      "[ 09-04 | 16:03 ] epoch 0: |██████████████████████████████████████████████████| loss: 1.12165773"
     ]
    },
    {
     "name": "stdout",
     "output_type": "stream",
     "text": [
      "\n",
      "--- Pretraining of cars ---\n",
      "\n"
     ]
    },
    {
     "name": "stderr",
     "output_type": "stream",
     "text": [
      "[ 09-04 | 16:03 ] epoch 0: |██████████████████████████████████████████████████| loss: 1.78853095"
     ]
    },
    {
     "name": "stdout",
     "output_type": "stream",
     "text": [
      "\n",
      "--- Pretraining of pedestrians ---\n",
      "\n"
     ]
    },
    {
     "name": "stderr",
     "output_type": "stream",
     "text": [
      "[ 09-04 | 16:03 ] epoch 0: |██████████████████████████████████████████████████| loss: 1.86462641"
     ]
    },
    {
     "name": "stdout",
     "output_type": "stream",
     "text": [
      "\n",
      "--- Pretraining of riders ---\n",
      "\n"
     ]
    },
    {
     "name": "stderr",
     "output_type": "stream",
     "text": [
      "[ 09-04 | 16:03 ] epoch 0: |██████████████████████████████████████████████████| loss: 3.96481323"
     ]
    },
    {
     "name": "stdout",
     "output_type": "stream",
     "text": [
      "\n",
      "--- Pretraining of others ---\n",
      "\n"
     ]
    },
    {
     "name": "stderr",
     "output_type": "stream",
     "text": [
      "[ 09-04 | 16:03 ] epoch 0: |██████████████████████████████████████████████████| loss: 1.11687505"
     ]
    },
    {
     "name": "stdout",
     "output_type": "stream",
     "text": [
      "\n",
      "--- Pretraining of no_lane_left ---\n",
      "\n"
     ]
    },
    {
     "name": "stderr",
     "output_type": "stream",
     "text": [
      "[ 09-04 | 16:03 ] epoch 0: |██████████████████████████████████████████████████| loss: 1.03739715"
     ]
    },
    {
     "name": "stdout",
     "output_type": "stream",
     "text": [
      "\n",
      "--- Pretraining of obstacle_left_lane ---\n",
      "\n"
     ]
    },
    {
     "name": "stderr",
     "output_type": "stream",
     "text": [
      "[ 09-04 | 16:03 ] epoch 0: |██████████████████████████████████████████████████| loss: 1.10619247"
     ]
    },
    {
     "name": "stdout",
     "output_type": "stream",
     "text": [
      "\n",
      "--- Pretraining of solid_left_line ---\n",
      "\n"
     ]
    },
    {
     "name": "stderr",
     "output_type": "stream",
     "text": [
      "[ 09-04 | 16:03 ] epoch 0: |██████████████████████████████████████████████████| loss: 0.17784955"
     ]
    },
    {
     "name": "stdout",
     "output_type": "stream",
     "text": [
      "\n",
      "--- Pretraining of on_right_turn_lane ---\n",
      "\n"
     ]
    },
    {
     "name": "stderr",
     "output_type": "stream",
     "text": [
      "[ 09-04 | 16:03 ] epoch 0: |██████████████████████████████████████████████████| loss: 2.69512725"
     ]
    },
    {
     "name": "stdout",
     "output_type": "stream",
     "text": [
      "\n",
      "--- Pretraining of traffic_light_right ---\n",
      "\n"
     ]
    },
    {
     "name": "stderr",
     "output_type": "stream",
     "text": [
      "[ 09-04 | 16:03 ] epoch 0: |██████████████████████████████████████████████████| loss: 2.01977086"
     ]
    },
    {
     "name": "stdout",
     "output_type": "stream",
     "text": [
      "\n",
      "--- Pretraining of front_car_right ---\n",
      "\n"
     ]
    },
    {
     "name": "stderr",
     "output_type": "stream",
     "text": [
      "[ 09-04 | 16:03 ] epoch 0: |██████████████████████████████████████████████████| loss: 1.00766504"
     ]
    },
    {
     "name": "stdout",
     "output_type": "stream",
     "text": [
      "\n",
      "--- Pretraining of no_lane_right ---\n",
      "\n"
     ]
    },
    {
     "name": "stderr",
     "output_type": "stream",
     "text": [
      "[ 09-04 | 16:03 ] epoch 0: |██████████████████████████████████████████████████| loss: 6.41536427"
     ]
    },
    {
     "name": "stdout",
     "output_type": "stream",
     "text": [
      "\n",
      "--- Pretraining of obstacle_right_lane ---\n",
      "\n"
     ]
    },
    {
     "name": "stderr",
     "output_type": "stream",
     "text": [
      "[ 09-04 | 16:03 ] epoch 0: |██████████████████████████████████████████████████| loss: 3.57367428"
     ]
    },
    {
     "name": "stdout",
     "output_type": "stream",
     "text": [
      "\n",
      "--- Pretraining of solid_right_line ---\n",
      "\n"
     ]
    },
    {
     "name": "stderr",
     "output_type": "stream",
     "text": [
      "[ 09-04 | 16:03 ] epoch 0: |██████████████████████████████████████████████████| loss: 1.71864593"
     ]
    },
    {
     "name": "stdout",
     "output_type": "stream",
     "text": [
      "\n",
      "--- Pretraining of on_left_turn_lane ---\n",
      "\n"
     ]
    },
    {
     "name": "stderr",
     "output_type": "stream",
     "text": [
      "[ 09-04 | 16:03 ] epoch 0: |██████████████████████████████████████████████████| loss: 0.48723531"
     ]
    },
    {
     "name": "stdout",
     "output_type": "stream",
     "text": [
      "\n",
      "--- Pretraining of traffic_light_left ---\n",
      "\n"
     ]
    },
    {
     "name": "stderr",
     "output_type": "stream",
     "text": [
      "[ 09-04 | 16:03 ] epoch 0: |██████████████████████████████████████████████████| loss: 4.41130304"
     ]
    },
    {
     "name": "stdout",
     "output_type": "stream",
     "text": [
      "\n",
      "--- Pretraining of front_car_left ---\n",
      "\n"
     ]
    },
    {
     "name": "stderr",
     "output_type": "stream",
     "text": [
      "[ 09-04 | 16:03 ] epoch 0: |██████████████████████████████████████████████████| loss: 2.52927136"
     ]
    },
    {
     "name": "stdout",
     "output_type": "stream",
     "text": [
      "Unsupervised training phase\n"
     ]
    },
    {
     "name": "stderr",
     "output_type": "stream",
     "text": [
      "[ 09-04 | 16:04 ] epoch 0: |██████████████████████████████████████████████████| loss: 4.69127178"
     ]
    },
    {
     "name": "stdout",
     "output_type": "stream",
     "text": [
      "  ACC C 84.39867595831554   ACC Y 71.06218434343435 F1 Y 48.10609032400319\n",
      "Epoch 12/40\n",
      "\n",
      "--- Start of PreTraining ---\n",
      "\n",
      "\n",
      "--- Pretraining of green_lights ---\n",
      "\n"
     ]
    },
    {
     "name": "stderr",
     "output_type": "stream",
     "text": [
      "[ 09-04 | 16:04 ] epoch 0: |██████████████████████████████████████████████████| loss: 2.42892027"
     ]
    },
    {
     "name": "stdout",
     "output_type": "stream",
     "text": [
      "\n",
      "--- Pretraining of follow_traffic ---\n",
      "\n"
     ]
    },
    {
     "name": "stderr",
     "output_type": "stream",
     "text": [
      "[ 09-04 | 16:04 ] epoch 0: |██████████████████████████████████████████████████| loss: 2.00701118"
     ]
    },
    {
     "name": "stdout",
     "output_type": "stream",
     "text": [
      "\n",
      "--- Pretraining of road_clear ---\n",
      "\n"
     ]
    },
    {
     "name": "stderr",
     "output_type": "stream",
     "text": [
      "[ 09-04 | 16:04 ] epoch 0: |██████████████████████████████████████████████████| loss: 68.00862122"
     ]
    },
    {
     "name": "stdout",
     "output_type": "stream",
     "text": [
      "\n",
      "--- Pretraining of traffic_lights ---\n",
      "\n"
     ]
    },
    {
     "name": "stderr",
     "output_type": "stream",
     "text": [
      "[ 09-04 | 16:04 ] epoch 0: |██████████████████████████████████████████████████| loss: 0.41761094"
     ]
    },
    {
     "name": "stdout",
     "output_type": "stream",
     "text": [
      "\n",
      "--- Pretraining of traffic_signs ---\n",
      "\n"
     ]
    },
    {
     "name": "stderr",
     "output_type": "stream",
     "text": [
      "[ 09-04 | 16:04 ] epoch 0: |██████████████████████████████████████████████████| loss: 3.07791138"
     ]
    },
    {
     "name": "stdout",
     "output_type": "stream",
     "text": [
      "\n",
      "--- Pretraining of cars ---\n",
      "\n"
     ]
    },
    {
     "name": "stderr",
     "output_type": "stream",
     "text": [
      "[ 09-04 | 16:04 ] epoch 0: |██████████████████████████████████████████████████| loss: 1.67209876"
     ]
    },
    {
     "name": "stdout",
     "output_type": "stream",
     "text": [
      "\n",
      "--- Pretraining of pedestrians ---\n",
      "\n"
     ]
    },
    {
     "name": "stderr",
     "output_type": "stream",
     "text": [
      "[ 09-04 | 16:04 ] epoch 0: |██████████████████████████████████████████████████| loss: 1.59081161"
     ]
    },
    {
     "name": "stdout",
     "output_type": "stream",
     "text": [
      "\n",
      "--- Pretraining of riders ---\n",
      "\n"
     ]
    },
    {
     "name": "stderr",
     "output_type": "stream",
     "text": [
      "[ 09-04 | 16:04 ] epoch 0: |██████████████████████████████████████████████████| loss: 1.99566793"
     ]
    },
    {
     "name": "stdout",
     "output_type": "stream",
     "text": [
      "\n",
      "--- Pretraining of others ---\n",
      "\n"
     ]
    },
    {
     "name": "stderr",
     "output_type": "stream",
     "text": [
      "[ 09-04 | 16:04 ] epoch 0: |██████████████████████████████████████████████████| loss: 2.32261014"
     ]
    },
    {
     "name": "stdout",
     "output_type": "stream",
     "text": [
      "\n",
      "--- Pretraining of no_lane_left ---\n",
      "\n"
     ]
    },
    {
     "name": "stderr",
     "output_type": "stream",
     "text": [
      "[ 09-04 | 16:04 ] epoch 0: |██████████████████████████████████████████████████| loss: 0.51713687"
     ]
    },
    {
     "name": "stdout",
     "output_type": "stream",
     "text": [
      "\n",
      "--- Pretraining of obstacle_left_lane ---\n",
      "\n"
     ]
    },
    {
     "name": "stderr",
     "output_type": "stream",
     "text": [
      "[ 09-04 | 16:04 ] epoch 0: |██████████████████████████████████████████████████| loss: 0.65633309"
     ]
    },
    {
     "name": "stdout",
     "output_type": "stream",
     "text": [
      "\n",
      "--- Pretraining of solid_left_line ---\n",
      "\n"
     ]
    },
    {
     "name": "stderr",
     "output_type": "stream",
     "text": [
      "[ 09-04 | 16:04 ] epoch 0: |██████████████████████████████████████████████████| loss: 0.24329938"
     ]
    },
    {
     "name": "stdout",
     "output_type": "stream",
     "text": [
      "\n",
      "--- Pretraining of on_right_turn_lane ---\n",
      "\n"
     ]
    },
    {
     "name": "stderr",
     "output_type": "stream",
     "text": [
      "[ 09-04 | 16:04 ] epoch 0: |██████████████████████████████████████████████████| loss: 1.24084831"
     ]
    },
    {
     "name": "stdout",
     "output_type": "stream",
     "text": [
      "\n",
      "--- Pretraining of traffic_light_right ---\n",
      "\n"
     ]
    },
    {
     "name": "stderr",
     "output_type": "stream",
     "text": [
      "[ 09-04 | 16:04 ] epoch 0: |██████████████████████████████████████████████████| loss: 3.12683034"
     ]
    },
    {
     "name": "stdout",
     "output_type": "stream",
     "text": [
      "\n",
      "--- Pretraining of front_car_right ---\n",
      "\n"
     ]
    },
    {
     "name": "stderr",
     "output_type": "stream",
     "text": [
      "[ 09-04 | 16:04 ] epoch 0: |██████████████████████████████████████████████████| loss: 1.31002617"
     ]
    },
    {
     "name": "stdout",
     "output_type": "stream",
     "text": [
      "\n",
      "--- Pretraining of no_lane_right ---\n",
      "\n"
     ]
    },
    {
     "name": "stderr",
     "output_type": "stream",
     "text": [
      "[ 09-04 | 16:04 ] epoch 0: |██████████████████████████████████████████████████| loss: 6.24411488"
     ]
    },
    {
     "name": "stdout",
     "output_type": "stream",
     "text": [
      "\n",
      "--- Pretraining of obstacle_right_lane ---\n",
      "\n"
     ]
    },
    {
     "name": "stderr",
     "output_type": "stream",
     "text": [
      "[ 09-04 | 16:04 ] epoch 0: |██████████████████████████████████████████████████| loss: 3.98330998"
     ]
    },
    {
     "name": "stdout",
     "output_type": "stream",
     "text": [
      "\n",
      "--- Pretraining of solid_right_line ---\n",
      "\n"
     ]
    },
    {
     "name": "stderr",
     "output_type": "stream",
     "text": [
      "[ 09-04 | 16:04 ] epoch 0: |██████████████████████████████████████████████████| loss: 1.42860556"
     ]
    },
    {
     "name": "stdout",
     "output_type": "stream",
     "text": [
      "\n",
      "--- Pretraining of on_left_turn_lane ---\n",
      "\n"
     ]
    },
    {
     "name": "stderr",
     "output_type": "stream",
     "text": [
      "[ 09-04 | 16:04 ] epoch 0: |██████████████████████████████████████████████████| loss: 0.68996346"
     ]
    },
    {
     "name": "stdout",
     "output_type": "stream",
     "text": [
      "\n",
      "--- Pretraining of traffic_light_left ---\n",
      "\n"
     ]
    },
    {
     "name": "stderr",
     "output_type": "stream",
     "text": [
      "[ 09-04 | 16:04 ] epoch 0: |██████████████████████████████████████████████████| loss: 2.64132571"
     ]
    },
    {
     "name": "stdout",
     "output_type": "stream",
     "text": [
      "\n",
      "--- Pretraining of front_car_left ---\n",
      "\n"
     ]
    },
    {
     "name": "stderr",
     "output_type": "stream",
     "text": [
      "[ 09-04 | 16:04 ] epoch 0: |██████████████████████████████████████████████████| loss: 0.44855505"
     ]
    },
    {
     "name": "stdout",
     "output_type": "stream",
     "text": [
      "Unsupervised training phase\n"
     ]
    },
    {
     "name": "stderr",
     "output_type": "stream",
     "text": [
      "[ 09-04 | 16:05 ] epoch 0: |██████████████████████████████████████████████████| loss: 4.73352861"
     ]
    },
    {
     "name": "stdout",
     "output_type": "stream",
     "text": [
      "  ACC C 84.23351976606581   ACC Y 69.60128630050505 F1 Y 61.393655775521175\n",
      "Epoch 13/40\n",
      "\n",
      "--- Start of PreTraining ---\n",
      "\n",
      "\n",
      "--- Pretraining of green_lights ---\n",
      "\n"
     ]
    },
    {
     "name": "stderr",
     "output_type": "stream",
     "text": [
      "[ 09-04 | 16:05 ] epoch 0: |██████████████████████████████████████████████████| loss: 4.70487547"
     ]
    },
    {
     "name": "stdout",
     "output_type": "stream",
     "text": [
      "\n",
      "--- Pretraining of follow_traffic ---\n",
      "\n"
     ]
    },
    {
     "name": "stderr",
     "output_type": "stream",
     "text": [
      "[ 09-04 | 16:05 ] epoch 0: |██████████████████████████████████████████████████| loss: 1.31727135"
     ]
    },
    {
     "name": "stdout",
     "output_type": "stream",
     "text": [
      "\n",
      "--- Pretraining of road_clear ---\n",
      "\n"
     ]
    },
    {
     "name": "stderr",
     "output_type": "stream",
     "text": [
      "[ 09-04 | 16:05 ] epoch 0: |██████████████████████████████████████████████████| loss: 48.33901596"
     ]
    },
    {
     "name": "stdout",
     "output_type": "stream",
     "text": [
      "\n",
      "--- Pretraining of traffic_lights ---\n",
      "\n"
     ]
    },
    {
     "name": "stderr",
     "output_type": "stream",
     "text": [
      "[ 09-04 | 16:05 ] epoch 0: |██████████████████████████████████████████████████| loss: 0.24435288"
     ]
    },
    {
     "name": "stdout",
     "output_type": "stream",
     "text": [
      "\n",
      "--- Pretraining of traffic_signs ---\n",
      "\n"
     ]
    },
    {
     "name": "stderr",
     "output_type": "stream",
     "text": [
      "[ 09-04 | 16:05 ] epoch 0: |██████████████████████████████████████████████████| loss: 2.00130796"
     ]
    },
    {
     "name": "stdout",
     "output_type": "stream",
     "text": [
      "\n",
      "--- Pretraining of cars ---\n",
      "\n"
     ]
    },
    {
     "name": "stderr",
     "output_type": "stream",
     "text": [
      "[ 09-04 | 16:05 ] epoch 0: |██████████████████████████████████████████████████| loss: 1.28680599"
     ]
    },
    {
     "name": "stdout",
     "output_type": "stream",
     "text": [
      "\n",
      "--- Pretraining of pedestrians ---\n",
      "\n"
     ]
    },
    {
     "name": "stderr",
     "output_type": "stream",
     "text": [
      "[ 09-04 | 16:05 ] epoch 0: |██████████████████████████████████████████████████| loss: 1.59021127"
     ]
    },
    {
     "name": "stdout",
     "output_type": "stream",
     "text": [
      "\n",
      "--- Pretraining of riders ---\n",
      "\n"
     ]
    },
    {
     "name": "stderr",
     "output_type": "stream",
     "text": [
      "[ 09-04 | 16:05 ] epoch 0: |██████████████████████████████████████████████████| loss: 4.07648325"
     ]
    },
    {
     "name": "stdout",
     "output_type": "stream",
     "text": [
      "\n",
      "--- Pretraining of others ---\n",
      "\n"
     ]
    },
    {
     "name": "stderr",
     "output_type": "stream",
     "text": [
      "[ 09-04 | 16:05 ] epoch 0: |██████████████████████████████████████████████████| loss: 1.60648084"
     ]
    },
    {
     "name": "stdout",
     "output_type": "stream",
     "text": [
      "\n",
      "--- Pretraining of no_lane_left ---\n",
      "\n"
     ]
    },
    {
     "name": "stderr",
     "output_type": "stream",
     "text": [
      "[ 09-04 | 16:05 ] epoch 0: |██████████████████████████████████████████████████| loss: 2.48e-0632"
     ]
    },
    {
     "name": "stdout",
     "output_type": "stream",
     "text": [
      "\n",
      "--- Pretraining of obstacle_left_lane ---\n",
      "\n"
     ]
    },
    {
     "name": "stderr",
     "output_type": "stream",
     "text": [
      "[ 09-04 | 16:05 ] epoch 0: |██████████████████████████████████████████████████| loss: 0.72288197"
     ]
    },
    {
     "name": "stdout",
     "output_type": "stream",
     "text": [
      "\n",
      "--- Pretraining of solid_left_line ---\n",
      "\n"
     ]
    },
    {
     "name": "stderr",
     "output_type": "stream",
     "text": [
      "[ 09-04 | 16:05 ] epoch 0: |██████████████████████████████████████████████████| loss: 0.32431868"
     ]
    },
    {
     "name": "stdout",
     "output_type": "stream",
     "text": [
      "\n",
      "--- Pretraining of on_right_turn_lane ---\n",
      "\n"
     ]
    },
    {
     "name": "stderr",
     "output_type": "stream",
     "text": [
      "[ 09-04 | 16:05 ] epoch 0: |██████████████████████████████████████████████████| loss: 2.75311923"
     ]
    },
    {
     "name": "stdout",
     "output_type": "stream",
     "text": [
      "\n",
      "--- Pretraining of traffic_light_right ---\n",
      "\n"
     ]
    },
    {
     "name": "stderr",
     "output_type": "stream",
     "text": [
      "[ 09-04 | 16:05 ] epoch 0: |██████████████████████████████████████████████████| loss: 2.19916797"
     ]
    },
    {
     "name": "stdout",
     "output_type": "stream",
     "text": [
      "\n",
      "--- Pretraining of front_car_right ---\n",
      "\n"
     ]
    },
    {
     "name": "stderr",
     "output_type": "stream",
     "text": [
      "[ 09-04 | 16:05 ] epoch 0: |██████████████████████████████████████████████████| loss: 0.20292518"
     ]
    },
    {
     "name": "stdout",
     "output_type": "stream",
     "text": [
      "\n",
      "--- Pretraining of no_lane_right ---\n",
      "\n"
     ]
    },
    {
     "name": "stderr",
     "output_type": "stream",
     "text": [
      "[ 09-04 | 16:05 ] epoch 0: |██████████████████████████████████████████████████| loss: 5.65323448"
     ]
    },
    {
     "name": "stdout",
     "output_type": "stream",
     "text": [
      "\n",
      "--- Pretraining of obstacle_right_lane ---\n",
      "\n"
     ]
    },
    {
     "name": "stderr",
     "output_type": "stream",
     "text": [
      "[ 09-04 | 16:05 ] epoch 0: |██████████████████████████████████████████████████| loss: 3.58326197"
     ]
    },
    {
     "name": "stdout",
     "output_type": "stream",
     "text": [
      "\n",
      "--- Pretraining of solid_right_line ---\n",
      "\n"
     ]
    },
    {
     "name": "stderr",
     "output_type": "stream",
     "text": [
      "[ 09-04 | 16:05 ] epoch 0: |██████████████████████████████████████████████████| loss: 0.39050364"
     ]
    },
    {
     "name": "stdout",
     "output_type": "stream",
     "text": [
      "\n",
      "--- Pretraining of on_left_turn_lane ---\n",
      "\n"
     ]
    },
    {
     "name": "stderr",
     "output_type": "stream",
     "text": [
      "[ 09-04 | 16:05 ] epoch 0: |██████████████████████████████████████████████████| loss: 0.41477433"
     ]
    },
    {
     "name": "stdout",
     "output_type": "stream",
     "text": [
      "\n",
      "--- Pretraining of traffic_light_left ---\n",
      "\n"
     ]
    },
    {
     "name": "stderr",
     "output_type": "stream",
     "text": [
      "[ 09-04 | 16:05 ] epoch 0: |██████████████████████████████████████████████████| loss: 9.25698185"
     ]
    },
    {
     "name": "stdout",
     "output_type": "stream",
     "text": [
      "\n",
      "--- Pretraining of front_car_left ---\n",
      "\n"
     ]
    },
    {
     "name": "stderr",
     "output_type": "stream",
     "text": [
      "[ 09-04 | 16:05 ] epoch 0: |██████████████████████████████████████████████████| loss: 2.91440845"
     ]
    },
    {
     "name": "stdout",
     "output_type": "stream",
     "text": [
      "Unsupervised training phase\n"
     ]
    },
    {
     "name": "stderr",
     "output_type": "stream",
     "text": [
      "[ 09-04 | 16:05 ] epoch 0: |██████████████████████████████████████████████████| loss: 4.69117355"
     ]
    },
    {
     "name": "stdout",
     "output_type": "stream",
     "text": [
      "  ACC C 84.7556687063641   ACC Y 70.9191524621212 F1 Y 47.793788061112494\n",
      "Epoch 14/40\n",
      "\n",
      "--- Start of PreTraining ---\n",
      "\n",
      "\n",
      "--- Pretraining of green_lights ---\n",
      "\n"
     ]
    },
    {
     "name": "stderr",
     "output_type": "stream",
     "text": [
      "[ 09-04 | 16:05 ] epoch 0: |██████████████████████████████████████████████████| loss: 1.63070762"
     ]
    },
    {
     "name": "stdout",
     "output_type": "stream",
     "text": [
      "\n",
      "--- Pretraining of follow_traffic ---\n",
      "\n"
     ]
    },
    {
     "name": "stderr",
     "output_type": "stream",
     "text": [
      "[ 09-04 | 16:05 ] epoch 0: |██████████████████████████████████████████████████| loss: 1.74614155"
     ]
    },
    {
     "name": "stdout",
     "output_type": "stream",
     "text": [
      "\n",
      "--- Pretraining of road_clear ---\n",
      "\n"
     ]
    },
    {
     "name": "stderr",
     "output_type": "stream",
     "text": [
      "[ 09-04 | 16:05 ] epoch 0: |██████████████████████████████████████████████████| loss: 23.90313339"
     ]
    },
    {
     "name": "stdout",
     "output_type": "stream",
     "text": [
      "\n",
      "--- Pretraining of traffic_lights ---\n",
      "\n"
     ]
    },
    {
     "name": "stderr",
     "output_type": "stream",
     "text": [
      "[ 09-04 | 16:05 ] epoch 0: |██████████████████████████████████████████████████| loss: 0.38852231"
     ]
    },
    {
     "name": "stdout",
     "output_type": "stream",
     "text": [
      "\n",
      "--- Pretraining of traffic_signs ---\n",
      "\n"
     ]
    },
    {
     "name": "stderr",
     "output_type": "stream",
     "text": [
      "[ 09-04 | 16:05 ] epoch 0: |██████████████████████████████████████████████████| loss: 1.16469502"
     ]
    },
    {
     "name": "stdout",
     "output_type": "stream",
     "text": [
      "\n",
      "--- Pretraining of cars ---\n",
      "\n"
     ]
    },
    {
     "name": "stderr",
     "output_type": "stream",
     "text": [
      "[ 09-04 | 16:05 ] epoch 0: |██████████████████████████████████████████████████| loss: 1.85077012"
     ]
    },
    {
     "name": "stdout",
     "output_type": "stream",
     "text": [
      "\n",
      "--- Pretraining of pedestrians ---\n",
      "\n"
     ]
    },
    {
     "name": "stderr",
     "output_type": "stream",
     "text": [
      "[ 09-04 | 16:05 ] epoch 0: |██████████████████████████████████████████████████| loss: 1.22770774"
     ]
    },
    {
     "name": "stdout",
     "output_type": "stream",
     "text": [
      "\n",
      "--- Pretraining of riders ---\n",
      "\n"
     ]
    },
    {
     "name": "stderr",
     "output_type": "stream",
     "text": [
      "[ 09-04 | 16:05 ] epoch 0: |██████████████████████████████████████████████████| loss: 7.92849207"
     ]
    },
    {
     "name": "stdout",
     "output_type": "stream",
     "text": [
      "\n",
      "--- Pretraining of others ---\n",
      "\n"
     ]
    },
    {
     "name": "stderr",
     "output_type": "stream",
     "text": [
      "[ 09-04 | 16:05 ] epoch 0: |██████████████████████████████████████████████████| loss: 0.85365158"
     ]
    },
    {
     "name": "stdout",
     "output_type": "stream",
     "text": [
      "\n",
      "--- Pretraining of no_lane_left ---\n",
      "\n"
     ]
    },
    {
     "name": "stderr",
     "output_type": "stream",
     "text": [
      "[ 09-04 | 16:05 ] epoch 0: |██████████████████████████████████████████████████| loss: 0.88242245"
     ]
    },
    {
     "name": "stdout",
     "output_type": "stream",
     "text": [
      "\n",
      "--- Pretraining of obstacle_left_lane ---\n",
      "\n"
     ]
    },
    {
     "name": "stderr",
     "output_type": "stream",
     "text": [
      "[ 09-04 | 16:05 ] epoch 0: |██████████████████████████████████████████████████| loss: 1.12381709"
     ]
    },
    {
     "name": "stdout",
     "output_type": "stream",
     "text": [
      "\n",
      "--- Pretraining of solid_left_line ---\n",
      "\n"
     ]
    },
    {
     "name": "stderr",
     "output_type": "stream",
     "text": [
      "[ 09-04 | 16:05 ] epoch 0: |██████████████████████████████████████████████████| loss: 0.93820065"
     ]
    },
    {
     "name": "stdout",
     "output_type": "stream",
     "text": [
      "\n",
      "--- Pretraining of on_right_turn_lane ---\n",
      "\n"
     ]
    },
    {
     "name": "stderr",
     "output_type": "stream",
     "text": [
      "[ 09-04 | 16:05 ] epoch 0: |██████████████████████████████████████████████████| loss: 2.75442386"
     ]
    },
    {
     "name": "stdout",
     "output_type": "stream",
     "text": [
      "\n",
      "--- Pretraining of traffic_light_right ---\n",
      "\n"
     ]
    },
    {
     "name": "stderr",
     "output_type": "stream",
     "text": [
      "[ 09-04 | 16:05 ] epoch 0: |██████████████████████████████████████████████████| loss: 3.11786747"
     ]
    },
    {
     "name": "stdout",
     "output_type": "stream",
     "text": [
      "\n",
      "--- Pretraining of front_car_right ---\n",
      "\n"
     ]
    },
    {
     "name": "stderr",
     "output_type": "stream",
     "text": [
      "[ 09-04 | 16:05 ] epoch 0: |██████████████████████████████████████████████████| loss: 1.27399397"
     ]
    },
    {
     "name": "stdout",
     "output_type": "stream",
     "text": [
      "\n",
      "--- Pretraining of no_lane_right ---\n",
      "\n"
     ]
    },
    {
     "name": "stderr",
     "output_type": "stream",
     "text": [
      "[ 09-04 | 16:05 ] epoch 0: |██████████████████████████████████████████████████| loss: 4.77828217"
     ]
    },
    {
     "name": "stdout",
     "output_type": "stream",
     "text": [
      "\n",
      "--- Pretraining of obstacle_right_lane ---\n",
      "\n"
     ]
    },
    {
     "name": "stderr",
     "output_type": "stream",
     "text": [
      "[ 09-04 | 16:05 ] epoch 0: |██████████████████████████████████████████████████| loss: 1.73837006"
     ]
    },
    {
     "name": "stdout",
     "output_type": "stream",
     "text": [
      "\n",
      "--- Pretraining of solid_right_line ---\n",
      "\n"
     ]
    },
    {
     "name": "stderr",
     "output_type": "stream",
     "text": [
      "[ 09-04 | 16:05 ] epoch 0: |██████████████████████████████████████████████████| loss: 3.02075005"
     ]
    },
    {
     "name": "stdout",
     "output_type": "stream",
     "text": [
      "\n",
      "--- Pretraining of on_left_turn_lane ---\n",
      "\n"
     ]
    },
    {
     "name": "stderr",
     "output_type": "stream",
     "text": [
      "[ 09-04 | 16:05 ] epoch 0: |██████████████████████████████████████████████████| loss: 0.71257824"
     ]
    },
    {
     "name": "stdout",
     "output_type": "stream",
     "text": [
      "\n",
      "--- Pretraining of traffic_light_left ---\n",
      "\n"
     ]
    },
    {
     "name": "stderr",
     "output_type": "stream",
     "text": [
      "[ 09-04 | 16:05 ] epoch 0: |██████████████████████████████████████████████████| loss: 4.24345207"
     ]
    },
    {
     "name": "stdout",
     "output_type": "stream",
     "text": [
      "\n",
      "--- Pretraining of front_car_left ---\n",
      "\n"
     ]
    },
    {
     "name": "stderr",
     "output_type": "stream",
     "text": [
      "[ 09-04 | 16:05 ] epoch 0: |██████████████████████████████████████████████████| loss: 3.74264264"
     ]
    },
    {
     "name": "stdout",
     "output_type": "stream",
     "text": [
      "Unsupervised training phase\n"
     ]
    },
    {
     "name": "stderr",
     "output_type": "stream",
     "text": [
      "[ 09-04 | 16:06 ] epoch 0: |██████████████████████████████████████████████████| loss: 4.70634174"
     ]
    },
    {
     "name": "stdout",
     "output_type": "stream",
     "text": [
      "  ACC C 84.40750704871283   ACC Y 70.94874526515152 F1 Y 48.17878380680442\n",
      "Epoch 15/40\n",
      "\n",
      "--- Start of PreTraining ---\n",
      "\n",
      "\n",
      "--- Pretraining of green_lights ---\n",
      "\n"
     ]
    },
    {
     "name": "stderr",
     "output_type": "stream",
     "text": [
      "[ 09-04 | 16:06 ] epoch 0: |██████████████████████████████████████████████████| loss: 3.62064362"
     ]
    },
    {
     "name": "stdout",
     "output_type": "stream",
     "text": [
      "\n",
      "--- Pretraining of follow_traffic ---\n",
      "\n"
     ]
    },
    {
     "name": "stderr",
     "output_type": "stream",
     "text": [
      "[ 09-04 | 16:06 ] epoch 0: |██████████████████████████████████████████████████| loss: 1.32570434"
     ]
    },
    {
     "name": "stdout",
     "output_type": "stream",
     "text": [
      "\n",
      "--- Pretraining of road_clear ---\n",
      "\n"
     ]
    },
    {
     "name": "stderr",
     "output_type": "stream",
     "text": [
      "[ 09-04 | 16:06 ] epoch 0: |██████████████████████████████████████████████████| loss: 5.148142815"
     ]
    },
    {
     "name": "stdout",
     "output_type": "stream",
     "text": [
      "\n",
      "--- Pretraining of traffic_lights ---\n",
      "\n"
     ]
    },
    {
     "name": "stderr",
     "output_type": "stream",
     "text": [
      "[ 09-04 | 16:06 ] epoch 0: |██████████████████████████████████████████████████| loss: 0.16610348"
     ]
    },
    {
     "name": "stdout",
     "output_type": "stream",
     "text": [
      "\n",
      "--- Pretraining of traffic_signs ---\n",
      "\n"
     ]
    },
    {
     "name": "stderr",
     "output_type": "stream",
     "text": [
      "[ 09-04 | 16:06 ] epoch 0: |██████████████████████████████████████████████████| loss: 0.44083425"
     ]
    },
    {
     "name": "stdout",
     "output_type": "stream",
     "text": [
      "\n",
      "--- Pretraining of cars ---\n",
      "\n"
     ]
    },
    {
     "name": "stderr",
     "output_type": "stream",
     "text": [
      "[ 09-04 | 16:06 ] epoch 0: |██████████████████████████████████████████████████| loss: 2.77153397"
     ]
    },
    {
     "name": "stdout",
     "output_type": "stream",
     "text": [
      "\n",
      "--- Pretraining of pedestrians ---\n",
      "\n"
     ]
    },
    {
     "name": "stderr",
     "output_type": "stream",
     "text": [
      "[ 09-04 | 16:06 ] epoch 0: |██████████████████████████████████████████████████| loss: 1.07865536"
     ]
    },
    {
     "name": "stdout",
     "output_type": "stream",
     "text": [
      "\n",
      "--- Pretraining of riders ---\n",
      "\n"
     ]
    },
    {
     "name": "stderr",
     "output_type": "stream",
     "text": [
      "[ 09-04 | 16:06 ] epoch 0: |██████████████████████████████████████████████████| loss: 9.17261505"
     ]
    },
    {
     "name": "stdout",
     "output_type": "stream",
     "text": [
      "\n",
      "--- Pretraining of others ---\n",
      "\n"
     ]
    },
    {
     "name": "stderr",
     "output_type": "stream",
     "text": [
      "[ 09-04 | 16:06 ] epoch 0: |██████████████████████████████████████████████████| loss: 2.05649638"
     ]
    },
    {
     "name": "stdout",
     "output_type": "stream",
     "text": [
      "\n",
      "--- Pretraining of no_lane_left ---\n",
      "\n"
     ]
    },
    {
     "name": "stderr",
     "output_type": "stream",
     "text": [
      "[ 09-04 | 16:06 ] epoch 0: |██████████████████████████████████████████████████| loss: 0.71503985"
     ]
    },
    {
     "name": "stdout",
     "output_type": "stream",
     "text": [
      "\n",
      "--- Pretraining of obstacle_left_lane ---\n",
      "\n"
     ]
    },
    {
     "name": "stderr",
     "output_type": "stream",
     "text": [
      "[ 09-04 | 16:06 ] epoch 0: |██████████████████████████████████████████████████| loss: 0.93223166"
     ]
    },
    {
     "name": "stdout",
     "output_type": "stream",
     "text": [
      "\n",
      "--- Pretraining of solid_left_line ---\n",
      "\n"
     ]
    },
    {
     "name": "stderr",
     "output_type": "stream",
     "text": [
      "[ 09-04 | 16:06 ] epoch 0: |██████████████████████████████████████████████████| loss: 0.39906073"
     ]
    },
    {
     "name": "stdout",
     "output_type": "stream",
     "text": [
      "\n",
      "--- Pretraining of on_right_turn_lane ---\n",
      "\n"
     ]
    },
    {
     "name": "stderr",
     "output_type": "stream",
     "text": [
      "[ 09-04 | 16:06 ] epoch 0: |██████████████████████████████████████████████████| loss: 0.45318291"
     ]
    },
    {
     "name": "stdout",
     "output_type": "stream",
     "text": [
      "\n",
      "--- Pretraining of traffic_light_right ---\n",
      "\n"
     ]
    },
    {
     "name": "stderr",
     "output_type": "stream",
     "text": [
      "[ 09-04 | 16:06 ] epoch 0: |██████████████████████████████████████████████████| loss: 2.95176315"
     ]
    },
    {
     "name": "stdout",
     "output_type": "stream",
     "text": [
      "\n",
      "--- Pretraining of front_car_right ---\n",
      "\n"
     ]
    },
    {
     "name": "stderr",
     "output_type": "stream",
     "text": [
      "[ 09-04 | 16:06 ] epoch 0: |██████████████████████████████████████████████████| loss: 0.31615135"
     ]
    },
    {
     "name": "stdout",
     "output_type": "stream",
     "text": [
      "\n",
      "--- Pretraining of no_lane_right ---\n",
      "\n"
     ]
    },
    {
     "name": "stderr",
     "output_type": "stream",
     "text": [
      "[ 09-04 | 16:06 ] epoch 0: |██████████████████████████████████████████████████| loss: 6.51569366"
     ]
    },
    {
     "name": "stdout",
     "output_type": "stream",
     "text": [
      "\n",
      "--- Pretraining of obstacle_right_lane ---\n",
      "\n"
     ]
    },
    {
     "name": "stderr",
     "output_type": "stream",
     "text": [
      "[ 09-04 | 16:06 ] epoch 0: |██████████████████████████████████████████████████| loss: 2.18143153"
     ]
    },
    {
     "name": "stdout",
     "output_type": "stream",
     "text": [
      "\n",
      "--- Pretraining of solid_right_line ---\n",
      "\n"
     ]
    },
    {
     "name": "stderr",
     "output_type": "stream",
     "text": [
      "[ 09-04 | 16:06 ] epoch 0: |██████████████████████████████████████████████████| loss: 4.31461239"
     ]
    },
    {
     "name": "stdout",
     "output_type": "stream",
     "text": [
      "\n",
      "--- Pretraining of on_left_turn_lane ---\n",
      "\n"
     ]
    },
    {
     "name": "stderr",
     "output_type": "stream",
     "text": [
      "[ 09-04 | 16:06 ] epoch 0: |██████████████████████████████████████████████████| loss: 0.41459042"
     ]
    },
    {
     "name": "stdout",
     "output_type": "stream",
     "text": [
      "\n",
      "--- Pretraining of traffic_light_left ---\n",
      "\n"
     ]
    },
    {
     "name": "stderr",
     "output_type": "stream",
     "text": [
      "[ 09-04 | 16:06 ] epoch 0: |██████████████████████████████████████████████████| loss: 7.23712015"
     ]
    },
    {
     "name": "stdout",
     "output_type": "stream",
     "text": [
      "\n",
      "--- Pretraining of front_car_left ---\n",
      "\n"
     ]
    },
    {
     "name": "stderr",
     "output_type": "stream",
     "text": [
      "[ 09-04 | 16:06 ] epoch 0: |██████████████████████████████████████████████████| loss: 3.91965842"
     ]
    },
    {
     "name": "stdout",
     "output_type": "stream",
     "text": [
      "Unsupervised training phase\n"
     ]
    },
    {
     "name": "stderr",
     "output_type": "stream",
     "text": [
      "[ 09-04 | 16:06 ] epoch 0: |██████████████████████████████████████████████████| loss: 4.71575689"
     ]
    },
    {
     "name": "stdout",
     "output_type": "stream",
     "text": [
      "  ACC C 84.53320562839508   ACC Y 70.53444602272728 F1 Y 47.82211195975466\n",
      "Epoch 16/40\n",
      "\n",
      "--- Start of PreTraining ---\n",
      "\n",
      "\n",
      "--- Pretraining of green_lights ---\n",
      "\n"
     ]
    },
    {
     "name": "stderr",
     "output_type": "stream",
     "text": [
      "[ 09-04 | 16:06 ] epoch 0: |██████████████████████████████████████████████████| loss: 3.47080445"
     ]
    },
    {
     "name": "stdout",
     "output_type": "stream",
     "text": [
      "\n",
      "--- Pretraining of follow_traffic ---\n",
      "\n"
     ]
    },
    {
     "name": "stderr",
     "output_type": "stream",
     "text": [
      "[ 09-04 | 16:06 ] epoch 0: |██████████████████████████████████████████████████| loss: 1.64898801"
     ]
    },
    {
     "name": "stdout",
     "output_type": "stream",
     "text": [
      "\n",
      "--- Pretraining of road_clear ---\n",
      "\n"
     ]
    },
    {
     "name": "stderr",
     "output_type": "stream",
     "text": [
      "[ 09-04 | 16:06 ] epoch 0: |██████████████████████████████████████████████████| loss: 88.53691864"
     ]
    },
    {
     "name": "stdout",
     "output_type": "stream",
     "text": [
      "\n",
      "--- Pretraining of traffic_lights ---\n",
      "\n"
     ]
    },
    {
     "name": "stderr",
     "output_type": "stream",
     "text": [
      "[ 09-04 | 16:06 ] epoch 0: |██████████████████████████████████████████████████| loss: 0.24739696"
     ]
    },
    {
     "name": "stdout",
     "output_type": "stream",
     "text": [
      "\n",
      "--- Pretraining of traffic_signs ---\n",
      "\n"
     ]
    },
    {
     "name": "stderr",
     "output_type": "stream",
     "text": [
      "[ 09-04 | 16:06 ] epoch 0: |██████████████████████████████████████████████████| loss: 1.62597377"
     ]
    },
    {
     "name": "stdout",
     "output_type": "stream",
     "text": [
      "\n",
      "--- Pretraining of cars ---\n",
      "\n"
     ]
    },
    {
     "name": "stderr",
     "output_type": "stream",
     "text": [
      "[ 09-04 | 16:06 ] epoch 0: |██████████████████████████████████████████████████| loss: 1.64326704"
     ]
    },
    {
     "name": "stdout",
     "output_type": "stream",
     "text": [
      "\n",
      "--- Pretraining of pedestrians ---\n",
      "\n"
     ]
    },
    {
     "name": "stderr",
     "output_type": "stream",
     "text": [
      "[ 09-04 | 16:06 ] epoch 0: |██████████████████████████████████████████████████| loss: 2.08378649"
     ]
    },
    {
     "name": "stdout",
     "output_type": "stream",
     "text": [
      "\n",
      "--- Pretraining of riders ---\n",
      "\n"
     ]
    },
    {
     "name": "stderr",
     "output_type": "stream",
     "text": [
      "[ 09-04 | 16:06 ] epoch 0: |██████████████████████████████████████████████████| loss: 5.04674816"
     ]
    },
    {
     "name": "stdout",
     "output_type": "stream",
     "text": [
      "\n",
      "--- Pretraining of others ---\n",
      "\n"
     ]
    },
    {
     "name": "stderr",
     "output_type": "stream",
     "text": [
      "[ 09-04 | 16:06 ] epoch 0: |██████████████████████████████████████████████████| loss: 1.05051541"
     ]
    },
    {
     "name": "stdout",
     "output_type": "stream",
     "text": [
      "\n",
      "--- Pretraining of no_lane_left ---\n",
      "\n"
     ]
    },
    {
     "name": "stderr",
     "output_type": "stream",
     "text": [
      "[ 09-04 | 16:06 ] epoch 0: |██████████████████████████████████████████████████| loss: 0.33972415"
     ]
    },
    {
     "name": "stdout",
     "output_type": "stream",
     "text": [
      "\n",
      "--- Pretraining of obstacle_left_lane ---\n",
      "\n"
     ]
    },
    {
     "name": "stderr",
     "output_type": "stream",
     "text": [
      "[ 09-04 | 16:06 ] epoch 0: |██████████████████████████████████████████████████| loss: 0.68337411"
     ]
    },
    {
     "name": "stdout",
     "output_type": "stream",
     "text": [
      "\n",
      "--- Pretraining of solid_left_line ---\n",
      "\n"
     ]
    },
    {
     "name": "stderr",
     "output_type": "stream",
     "text": [
      "[ 09-04 | 16:06 ] epoch 0: |██████████████████████████████████████████████████| loss: 0.41079667"
     ]
    },
    {
     "name": "stdout",
     "output_type": "stream",
     "text": [
      "\n",
      "--- Pretraining of on_right_turn_lane ---\n",
      "\n"
     ]
    },
    {
     "name": "stderr",
     "output_type": "stream",
     "text": [
      "[ 09-04 | 16:06 ] epoch 0: |██████████████████████████████████████████████████| loss: 2.49206471"
     ]
    },
    {
     "name": "stdout",
     "output_type": "stream",
     "text": [
      "\n",
      "--- Pretraining of traffic_light_right ---\n",
      "\n"
     ]
    },
    {
     "name": "stderr",
     "output_type": "stream",
     "text": [
      "[ 09-04 | 16:06 ] epoch 0: |██████████████████████████████████████████████████| loss: 3.91929793"
     ]
    },
    {
     "name": "stdout",
     "output_type": "stream",
     "text": [
      "\n",
      "--- Pretraining of front_car_right ---\n",
      "\n"
     ]
    },
    {
     "name": "stderr",
     "output_type": "stream",
     "text": [
      "[ 09-04 | 16:06 ] epoch 0: |██████████████████████████████████████████████████| loss: 0.42117891"
     ]
    },
    {
     "name": "stdout",
     "output_type": "stream",
     "text": [
      "\n",
      "--- Pretraining of no_lane_right ---\n",
      "\n"
     ]
    },
    {
     "name": "stderr",
     "output_type": "stream",
     "text": [
      "[ 09-04 | 16:06 ] epoch 0: |██████████████████████████████████████████████████| loss: 9.64452171"
     ]
    },
    {
     "name": "stdout",
     "output_type": "stream",
     "text": [
      "\n",
      "--- Pretraining of obstacle_right_lane ---\n",
      "\n"
     ]
    },
    {
     "name": "stderr",
     "output_type": "stream",
     "text": [
      "[ 09-04 | 16:06 ] epoch 0: |██████████████████████████████████████████████████| loss: 1.67023039"
     ]
    },
    {
     "name": "stdout",
     "output_type": "stream",
     "text": [
      "\n",
      "--- Pretraining of solid_right_line ---\n",
      "\n"
     ]
    },
    {
     "name": "stderr",
     "output_type": "stream",
     "text": [
      "[ 09-04 | 16:06 ] epoch 0: |██████████████████████████████████████████████████| loss: 4.89338303"
     ]
    },
    {
     "name": "stdout",
     "output_type": "stream",
     "text": [
      "\n",
      "--- Pretraining of on_left_turn_lane ---\n",
      "\n"
     ]
    },
    {
     "name": "stderr",
     "output_type": "stream",
     "text": [
      "[ 09-04 | 16:06 ] epoch 0: |██████████████████████████████████████████████████| loss: 0.35972765"
     ]
    },
    {
     "name": "stdout",
     "output_type": "stream",
     "text": [
      "\n",
      "--- Pretraining of traffic_light_left ---\n",
      "\n"
     ]
    },
    {
     "name": "stderr",
     "output_type": "stream",
     "text": [
      "[ 09-04 | 16:06 ] epoch 0: |██████████████████████████████████████████████████| loss: 2.40731668"
     ]
    },
    {
     "name": "stdout",
     "output_type": "stream",
     "text": [
      "\n",
      "--- Pretraining of front_car_left ---\n",
      "\n"
     ]
    },
    {
     "name": "stderr",
     "output_type": "stream",
     "text": [
      "[ 09-04 | 16:06 ] epoch 0: |██████████████████████████████████████████████████| loss: 2.81195712"
     ]
    },
    {
     "name": "stdout",
     "output_type": "stream",
     "text": [
      "Unsupervised training phase\n"
     ]
    },
    {
     "name": "stderr",
     "output_type": "stream",
     "text": [
      "[ 09-04 | 16:07 ] epoch 0: |██████████████████████████████████████████████████| loss: 4.72273543"
     ]
    },
    {
     "name": "stdout",
     "output_type": "stream",
     "text": [
      "  ACC C 84.3011607726415   ACC Y 71.50607638888889 F1 Y 47.403749149177116\n",
      "Epoch 17/40\n",
      "\n",
      "--- Start of PreTraining ---\n",
      "\n",
      "\n",
      "--- Pretraining of green_lights ---\n",
      "\n"
     ]
    },
    {
     "name": "stderr",
     "output_type": "stream",
     "text": [
      "[ 09-04 | 16:07 ] epoch 0: |██████████████████████████████████████████████████| loss: 3.09346056"
     ]
    },
    {
     "name": "stdout",
     "output_type": "stream",
     "text": [
      "\n",
      "--- Pretraining of follow_traffic ---\n",
      "\n"
     ]
    },
    {
     "name": "stderr",
     "output_type": "stream",
     "text": [
      "[ 09-04 | 16:07 ] epoch 0: |██████████████████████████████████████████████████| loss: 2.01805218"
     ]
    },
    {
     "name": "stdout",
     "output_type": "stream",
     "text": [
      "\n",
      "--- Pretraining of road_clear ---\n",
      "\n"
     ]
    },
    {
     "name": "stderr",
     "output_type": "stream",
     "text": [
      "[ 09-04 | 16:07 ] epoch 0: |██████████████████████████████████████████████████| loss: 59.61186981"
     ]
    },
    {
     "name": "stdout",
     "output_type": "stream",
     "text": [
      "\n",
      "--- Pretraining of traffic_lights ---\n",
      "\n"
     ]
    },
    {
     "name": "stderr",
     "output_type": "stream",
     "text": [
      "[ 09-04 | 16:07 ] epoch 0: |██████████████████████████████████████████████████| loss: 0.37054148"
     ]
    },
    {
     "name": "stdout",
     "output_type": "stream",
     "text": [
      "\n",
      "--- Pretraining of traffic_signs ---\n",
      "\n"
     ]
    },
    {
     "name": "stderr",
     "output_type": "stream",
     "text": [
      "[ 09-04 | 16:07 ] epoch 0: |██████████████████████████████████████████████████| loss: 1.67260826"
     ]
    },
    {
     "name": "stdout",
     "output_type": "stream",
     "text": [
      "\n",
      "--- Pretraining of cars ---\n",
      "\n"
     ]
    },
    {
     "name": "stderr",
     "output_type": "stream",
     "text": [
      "[ 09-04 | 16:07 ] epoch 0: |██████████████████████████████████████████████████| loss: 2.28237724"
     ]
    },
    {
     "name": "stdout",
     "output_type": "stream",
     "text": [
      "\n",
      "--- Pretraining of pedestrians ---\n",
      "\n"
     ]
    },
    {
     "name": "stderr",
     "output_type": "stream",
     "text": [
      "[ 09-04 | 16:07 ] epoch 0: |██████████████████████████████████████████████████| loss: 1.54949579"
     ]
    },
    {
     "name": "stdout",
     "output_type": "stream",
     "text": [
      "\n",
      "--- Pretraining of riders ---\n",
      "\n"
     ]
    },
    {
     "name": "stderr",
     "output_type": "stream",
     "text": [
      "[ 09-04 | 16:07 ] epoch 0: |██████████████████████████████████████████████████| loss: 3.70618653"
     ]
    },
    {
     "name": "stdout",
     "output_type": "stream",
     "text": [
      "\n",
      "--- Pretraining of others ---\n",
      "\n"
     ]
    },
    {
     "name": "stderr",
     "output_type": "stream",
     "text": [
      "[ 09-04 | 16:07 ] epoch 0: |██████████████████████████████████████████████████| loss: 0.33175638"
     ]
    },
    {
     "name": "stdout",
     "output_type": "stream",
     "text": [
      "\n",
      "--- Pretraining of no_lane_left ---\n",
      "\n"
     ]
    },
    {
     "name": "stderr",
     "output_type": "stream",
     "text": [
      "[ 09-04 | 16:07 ] epoch 0: |██████████████████████████████████████████████████| loss: 0.18322197"
     ]
    },
    {
     "name": "stdout",
     "output_type": "stream",
     "text": [
      "\n",
      "--- Pretraining of obstacle_left_lane ---\n",
      "\n"
     ]
    },
    {
     "name": "stderr",
     "output_type": "stream",
     "text": [
      "[ 09-04 | 16:07 ] epoch 0: |██████████████████████████████████████████████████| loss: 0.37819159"
     ]
    },
    {
     "name": "stdout",
     "output_type": "stream",
     "text": [
      "\n",
      "--- Pretraining of solid_left_line ---\n",
      "\n"
     ]
    },
    {
     "name": "stderr",
     "output_type": "stream",
     "text": [
      "[ 09-04 | 16:07 ] epoch 0: |██████████████████████████████████████████████████| loss: 0.34294608"
     ]
    },
    {
     "name": "stdout",
     "output_type": "stream",
     "text": [
      "\n",
      "--- Pretraining of on_right_turn_lane ---\n",
      "\n"
     ]
    },
    {
     "name": "stderr",
     "output_type": "stream",
     "text": [
      "[ 09-04 | 16:07 ] epoch 0: |██████████████████████████████████████████████████| loss: 2.22326612"
     ]
    },
    {
     "name": "stdout",
     "output_type": "stream",
     "text": [
      "\n",
      "--- Pretraining of traffic_light_right ---\n",
      "\n"
     ]
    },
    {
     "name": "stderr",
     "output_type": "stream",
     "text": [
      "[ 09-04 | 16:07 ] epoch 0: |██████████████████████████████████████████████████| loss: 4.12318611"
     ]
    },
    {
     "name": "stdout",
     "output_type": "stream",
     "text": [
      "\n",
      "--- Pretraining of front_car_right ---\n",
      "\n"
     ]
    },
    {
     "name": "stderr",
     "output_type": "stream",
     "text": [
      "[ 09-04 | 16:07 ] epoch 0: |██████████████████████████████████████████████████| loss: 0.44344458"
     ]
    },
    {
     "name": "stdout",
     "output_type": "stream",
     "text": [
      "\n",
      "--- Pretraining of no_lane_right ---\n",
      "\n"
     ]
    },
    {
     "name": "stderr",
     "output_type": "stream",
     "text": [
      "[ 09-04 | 16:07 ] epoch 0: |██████████████████████████████████████████████████| loss: 4.40280914"
     ]
    },
    {
     "name": "stdout",
     "output_type": "stream",
     "text": [
      "\n",
      "--- Pretraining of obstacle_right_lane ---\n",
      "\n"
     ]
    },
    {
     "name": "stderr",
     "output_type": "stream",
     "text": [
      "[ 09-04 | 16:07 ] epoch 0: |██████████████████████████████████████████████████| loss: 1.79125738"
     ]
    },
    {
     "name": "stdout",
     "output_type": "stream",
     "text": [
      "\n",
      "--- Pretraining of solid_right_line ---\n",
      "\n"
     ]
    },
    {
     "name": "stderr",
     "output_type": "stream",
     "text": [
      "[ 09-04 | 16:07 ] epoch 0: |██████████████████████████████████████████████████| loss: 6.54936934"
     ]
    },
    {
     "name": "stdout",
     "output_type": "stream",
     "text": [
      "\n",
      "--- Pretraining of on_left_turn_lane ---\n",
      "\n"
     ]
    },
    {
     "name": "stderr",
     "output_type": "stream",
     "text": [
      "[ 09-04 | 16:07 ] epoch 0: |██████████████████████████████████████████████████| loss: 0.43520254"
     ]
    },
    {
     "name": "stdout",
     "output_type": "stream",
     "text": [
      "\n",
      "--- Pretraining of traffic_light_left ---\n",
      "\n"
     ]
    },
    {
     "name": "stderr",
     "output_type": "stream",
     "text": [
      "[ 09-04 | 16:07 ] epoch 0: |██████████████████████████████████████████████████| loss: 4.04932451"
     ]
    },
    {
     "name": "stdout",
     "output_type": "stream",
     "text": [
      "\n",
      "--- Pretraining of front_car_left ---\n",
      "\n"
     ]
    },
    {
     "name": "stderr",
     "output_type": "stream",
     "text": [
      "[ 09-04 | 16:07 ] epoch 0: |██████████████████████████████████████████████████| loss: 2.89095545"
     ]
    },
    {
     "name": "stdout",
     "output_type": "stream",
     "text": [
      "Unsupervised training phase\n"
     ]
    },
    {
     "name": "stderr",
     "output_type": "stream",
     "text": [
      "[ 09-04 | 16:08 ] epoch 0: |██████████████████████████████████████████████████| loss: 4.68452936"
     ]
    },
    {
     "name": "stdout",
     "output_type": "stream",
     "text": [
      "  ACC C 84.16569100485907   ACC Y 71.01976799242424 F1 Y 47.198095309157424\n",
      "Early stopping triggered after 1 epochs.\n",
      "\n",
      "--- End of Training ---\n",
      "\n",
      "*** Finished training model with seed 0 and best CACC score 85.08504033088684\n",
      "Training finished.\n"
     ]
    }
   ],
   "source": [
    "print(f\"*** Training model with seed {args.seed}\")\n",
    "print(\"Chosen device:\", model.device)\n",
    "if not os.path.exists(save_path): os.makedirs(save_path, exist_ok=True)\n",
    "save_folder = os.path.join(save_path, f\"{save_model_name}_{args.seed}.pth\")\n",
    "print(\"Saving model in folder: \", save_folder)\n",
    "\n",
    "eval_concepts = ['green_lights', 'follow_traffic', 'road_clear',\n",
    "        'traffic_lights', 'traffic_signs', 'cars', 'pedestrians', 'riders', 'others',\n",
    "        'no_lane_left', 'obstacle_left_lane', 'solid_left_line',\n",
    "                'on_right_turn_lane', 'traffic_light_right', 'front_car_right', \n",
    "        'no_lane_right', 'obstacle_right_lane', 'solid_right_line',\n",
    "                'on_left_turn_lane', 'traffic_light_left', 'front_car_left']\n",
    "\n",
    "best_cacc = train(\n",
    "        model=model,\n",
    "        dataloaders=supervised_dataloaders,\n",
    "        train_loader=unsup_train_loader,\n",
    "        val_loader=unsup_val_loader,\n",
    "        save_path=save_folder,\n",
    "        _loss=loss,\n",
    "        args=args,\n",
    "        eval_concepts=eval_concepts,\n",
    "        seed=args.seed,\n",
    ")\n",
    "save_model(model, args, args.seed)  # save the model parameters\n",
    "print(f\"*** Finished training model with seed {args.seed} and best CACC score {best_cacc}\")\n",
    "\n",
    "print(\"Training finished.\")"
   ]
  },
  {
   "cell_type": "markdown",
   "id": "ebb08277",
   "metadata": {},
   "source": [
    "# TESTING"
   ]
  },
  {
   "cell_type": "markdown",
   "id": "d02a2e9e",
   "metadata": {},
   "source": [
    "## Evaluation Routine"
   ]
  },
  {
   "cell_type": "code",
   "execution_count": 15,
   "id": "892851c2",
   "metadata": {},
   "outputs": [],
   "source": [
    "def evaluate_my_model(model: MnistDPL, \n",
    "        save_path: str, \n",
    "        test_loader: DataLoader,\n",
    "        eval_concepts,\n",
    "    ):\n",
    "    \n",
    "    my_metrics = evaluate_metrics(model, test_loader, args, \n",
    "                    eval_concepts=eval_concepts,)\n",
    "    \n",
    "    loss = my_metrics[0]\n",
    "    cacc = my_metrics[1]\n",
    "    yacc = my_metrics[2]\n",
    "    f1_y = my_metrics[3]\n",
    "    f1_micro = my_metrics[4]\n",
    "    f1_weight = my_metrics[5]\n",
    "    f1_bin = my_metrics[6]\n",
    "\n",
    "    metrics_log_path = save_path.replace(\".pth\", \"_metrics.log\")\n",
    "    \n",
    "    all_concepts = [ 'Green Traffic Light', 'Follow Traffic', 'Road Is Clear',\n",
    "        'Red Traffic Light', 'Traffic Sign', 'Obstacle Car', 'Obstacle Pedestrian', 'Obstacle Rider', 'Obstacle Others',\n",
    "        'No Lane On The Left',  'Obstacle On The Left Lane',  'Solid Left Line',\n",
    "                'On The Right Turn Lane', 'Traffic Light Allows Right', 'Front Car Turning Right', \n",
    "        'No Lane On The Right', 'Obstacle On The Right Lane', 'Solid Right Line',\n",
    "                'On The Left Turn Lane',  'Traffic Light Allows Left',  'Front Car Turning Left' \n",
    "    ]\n",
    "    aggregated_metrics = [\n",
    "            'F1 - Binary', 'F1 - Macro', 'F1 - Micro', 'F1 - Weighted',\n",
    "            'Precision - Binary', 'Precision - Macro', 'Precision - Micro', 'Precision - Weighted',\n",
    "            'Recall - Binary', 'Recall - Macro', 'Recall - Micro', 'Recall - Weighted',\n",
    "            'Balanced Accuracy'\n",
    "    ]\n",
    "\n",
    "    sums = [0.0] * len(aggregated_metrics)\n",
    "    num_concepts = len(all_concepts)\n",
    "    with open(metrics_log_path, \"a\") as log_file:\n",
    "        log_file.write(f\"ACC C: {cacc}, ACC Y: {yacc}\\n\\n\")\n",
    "        log_file.write(f\"F1 Y - Macro: {f1_y}, F1 Y - Micro: {f1_micro}, F1 Y - Weighted: {f1_weight}, F1 Y - Binary: {f1_bin} \\n\\n\")\n",
    "\n",
    "        def write_metrics(class_name, offset):\n",
    "            print(f\"Metrics for {class_name}:\")\n",
    "            log_file.write(f\"{class_name.upper()}\\n\")\n",
    "            for idx, metric_name in enumerate(aggregated_metrics):\n",
    "                value = my_metrics[offset + idx]\n",
    "                sums[idx] += value\n",
    "                log_file.write(f\"  {metric_name:<18} {value:.4f}\\n\")\n",
    "            log_file.write(\"\\n\")\n",
    "\n",
    "        i = 7\n",
    "        for concept in all_concepts:\n",
    "            write_metrics(concept, i)\n",
    "            i += len(aggregated_metrics)\n",
    "\n",
    "        log_file.write(\"MEAN ACROSS ALL CONCEPTS\\n\")\n",
    "        for idx, metric_name in enumerate(aggregated_metrics):\n",
    "            mean_value = sums[idx] / num_concepts\n",
    "            log_file.write(f\"  {metric_name:<18} {mean_value:.4f}\\n\")\n",
    "        log_file.write(\"\\n\")\n",
    "\n",
    "\n",
    "    assert len(my_metrics) == 7 + len(all_concepts) * len(aggregated_metrics), \\\n",
    "        f\"Expected {7 + len(all_concepts) * len(aggregated_metrics)} metrics, but got {len(my_metrics)}\"\n",
    "    y_true, c_true, y_pred, c_pred, p_cs, p_ys, p_cs_all, p_ys_all = (\n",
    "        evaluate_metrics(model, test_loader, args, \n",
    "                    eval_concepts=eval_concepts,\n",
    "                    last=True\n",
    "            )\n",
    "    )\n",
    "    y_labels = [\"stop\", \"forward\", \"left\", \"right\"]\n",
    "    concept_labels = [\n",
    "        \"green_light\",      \n",
    "        \"follow\",           \n",
    "        \"road_clear\",       \n",
    "        \"red_light\",        \n",
    "        \"traffic_sign\",     \n",
    "        \"car\",              \n",
    "        \"person\",           \n",
    "        \"rider\",            \n",
    "        \"other_obstacle\",   \n",
    "        \"left_lane\",\n",
    "        \"left_green_light\",\n",
    "        \"left_follow\",\n",
    "        \"no_left_lane\",\n",
    "        \"left_obstacle\",\n",
    "        \"letf_solid_line\",\n",
    "        \"right_lane\",\n",
    "        \"right_green_light\",\n",
    "        \"right_follow\",\n",
    "        \"no_right_lane\",\n",
    "        \"right_obstacle\",\n",
    "        \"right_solid_line\",\n",
    "    ]\n",
    "\n",
    "    plot_multilabel_confusion_matrix(y_true, y_pred, y_labels, \"Labels\", save_path=save_path)\n",
    "    cfs = plot_actions_confusion_matrix(c_true, c_pred, \"Concepts\", save_path=save_path)\n",
    "    cf = plot_multilabel_confusion_matrix(c_true, c_pred, concept_labels, \"Concepts\", save_path=save_path)\n",
    "    print(\"Concept collapse\", 1 - compute_coverage(cf))\n",
    "\n",
    "    with open(metrics_log_path, \"a\") as log_file:\n",
    "        for key, value in cfs.items():\n",
    "            log_file.write(f\"Concept collapse: {key}, {1 - compute_coverage(value):.4f}\\n\")\n",
    "            log_file.write(\"\\n\")\n",
    "\n",
    "    fprint(\"\\n--- End of Evaluation ---\\n\")"
   ]
  },
  {
   "cell_type": "markdown",
   "id": "87947313",
   "metadata": {},
   "source": [
    "## Run Evaluation"
   ]
  },
  {
   "cell_type": "code",
   "execution_count": 16,
   "id": "e2806065",
   "metadata": {},
   "outputs": [
    {
     "name": "stdout",
     "output_type": "stream",
     "text": [
      "Available models: ['promnistltn', 'promnmathcbm', 'sddoiann', 'kandnn', 'sddoiadpl', 'sddoialtn', 'kandslsingledisj', 'presddoiadpl', 'boiann', 'mnistclip', 'prokanddpl', 'promnistdpl', 'kandltnsinglejoint', 'xornn', 'mnistnn', 'mnistslrec', 'kandpreprocess', 'kandsl', 'kandsloneembedding', 'prokandltn', 'kandcbm', 'prokandsl', 'boiacbm', 'kanddpl', 'kandltn', 'xorcbm', 'sddoiaclip', 'kanddplsinglejoint', 'xordpl', 'promnmathdpl', 'bddoiadpldisj', 'sddoiacbm', 'mnistltnrec', 'mnmathcbm', 'mnmathdpl', 'kandclip', 'minikanddpl', 'mnistdpl', 'mnistltn', 'boiadpl', 'boialtn', 'kandltnsingledisj', 'prokandsloneembedding', 'mnistpcbmdpl', 'mnistcbm', 'probddoiadpl', 'mnistpcbmsl', 'mnistpcbmltn', 'kanddplsingledisj', 'mnistsl', 'kandslsinglejoint', 'mnistdplrec', 'cvae', 'cext', 'mnmathnn', 'promnistsl']\n",
      "Metrics for Green Traffic Light:\n",
      "Metrics for Follow Traffic:\n",
      "Metrics for Road Is Clear:\n",
      "Metrics for Red Traffic Light:\n",
      "Metrics for Traffic Sign:\n",
      "Metrics for Obstacle Car:\n",
      "Metrics for Obstacle Pedestrian:\n",
      "Metrics for Obstacle Rider:\n",
      "Metrics for Obstacle Others:\n",
      "Metrics for No Lane On The Left:\n",
      "Metrics for Obstacle On The Left Lane:\n",
      "Metrics for Solid Left Line:\n",
      "Metrics for On The Right Turn Lane:\n",
      "Metrics for Traffic Light Allows Right:\n",
      "Metrics for Front Car Turning Right:\n",
      "Metrics for No Lane On The Right:\n",
      "Metrics for Obstacle On The Right Lane:\n",
      "Metrics for Solid Right Line:\n",
      "Metrics for On The Left Turn Lane:\n",
      "Metrics for Traffic Light Allows Left:\n",
      "Metrics for Front Car Turning Left:\n",
      "Concept collapse 0.9913793103448276\n",
      "\n",
      "--- End of Evaluation ---\n",
      "\n"
     ]
    }
   ],
   "source": [
    "# Initialize the model object\n",
    "model = get_model(args, encoder, decoder, n_images, c_split)\n",
    "\n",
    "# Load the model state dictionary into the model object\n",
    "model_state_dict = torch.load(save_folder)\n",
    "model.load_state_dict(model_state_dict)\n",
    "\n",
    "evaluate_my_model(model, save_folder, unsup_test_loader, eval_concepts=eval_concepts)"
   ]
  }
 ],
 "metadata": {
  "kernelspec": {
   "display_name": "r4rr",
   "language": "python",
   "name": "python3"
  },
  "language_info": {
   "codemirror_mode": {
    "name": "ipython",
    "version": 3
   },
   "file_extension": ".py",
   "mimetype": "text/x-python",
   "name": "python",
   "nbconvert_exporter": "python",
   "pygments_lexer": "ipython3",
   "version": "3.8.20"
  }
 },
 "nbformat": 4,
 "nbformat_minor": 5
}
