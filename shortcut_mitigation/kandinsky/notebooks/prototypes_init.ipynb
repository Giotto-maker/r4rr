{
 "cells": [
  {
   "cell_type": "markdown",
   "metadata": {},
   "source": [
    "# Imports"
   ]
  },
  {
   "cell_type": "code",
   "execution_count": null,
   "metadata": {},
   "outputs": [],
   "source": [
    "import sys\n",
    "import os\n",
    "\n",
    "os.environ['CUDA_VISIBLE_DEVICES'] = '1'\n",
    "sys.path.append(os.path.abspath(\"../..\"))       # for 'protonet_mnist_add_utils' folder\n",
    "sys.path.append(os.path.abspath(\"../../..\"))    # for 'data' folder\n",
    "sys.path.append(os.path.abspath(\"../../../..\")) # for 'models' and 'datasets' folders\n",
    "\n",
    "\n",
    "print(sys.path)"
   ]
  },
  {
   "cell_type": "code",
   "execution_count": null,
   "metadata": {},
   "outputs": [],
   "source": [
    "import torch\n",
    "import argparse\n",
    "import itertools\n",
    "import matplotlib.pyplot as plt\n",
    "\n",
    "from argparse import Namespace\n",
    "from datasets import get_dataset\n",
    "from datasets.utils.base_dataset import BaseDataset"
   ]
  },
  {
   "cell_type": "markdown",
   "metadata": {},
   "source": [
    "# Data Loading"
   ]
  },
  {
   "cell_type": "code",
   "execution_count": null,
   "metadata": {},
   "outputs": [],
   "source": [
    "args_protonet = Namespace(\n",
    "    dataset='kandinsky',     \n",
    "    batch_size=32,\n",
    "    preprocess=0,\n",
    "    c_sup=1, # ^ supervision loaded to simulate direct annotation for prototypes\n",
    "    which_c=[-1],\n",
    "    model='kandsl',        \n",
    "    task='patterns',    \n",
    ")\n",
    "\n",
    "kand_dataset = get_dataset(args_protonet)\n",
    "kand_train_loader, kand_val_loader , kand_test_loader = kand_dataset.get_data_loaders()\n",
    "print(kand_dataset)"
   ]
  },
  {
   "cell_type": "markdown",
   "metadata": {},
   "source": [
    "# Select Triplets Containing Required Concepts"
   ]
  },
  {
   "cell_type": "code",
   "execution_count": null,
   "metadata": {},
   "outputs": [],
   "source": [
    "\n",
    "\n",
    "# Define target combinations as frozensets of (shape, color) pairs.\n",
    "target_combos = {\n",
    "    frozenset({(0, 0), (1, 2), (2, 1)}): \"Red Square, Blue Circle, Yellow Triangle\",\n",
    "    frozenset({(0, 1), (1, 0), (2, 2)}): \"Yellow Square, Red Circle, Blue Triangle\",\n",
    "    frozenset({(0, 2), (1, 1), (2, 0)}): \"Blue Square, Yellow Circle, Red Triangle\"\n",
    "}\n",
    "\n",
    "def get_specific_figures_with_labels(dataset):\n",
    "    train_loader, _, _ = dataset.get_data_loaders()\n",
    "    collected = {combo: None for combo in target_combos.keys()}\n",
    "    collected_labels = {combo: None for combo in target_combos.keys()}\n",
    "    collected_indices = {combo: None for combo in target_combos.keys()}\n",
    "    \n",
    "    for batch_idx, data in enumerate(train_loader):\n",
    "        images, _, concepts = data\n",
    "        batch_size = images.shape[0]\n",
    "        \n",
    "        for b in range(batch_size):\n",
    "            current_image = images[b]\n",
    "            figs = [\n",
    "                current_image[:, :, :64],\n",
    "                current_image[:, :, 64:128],\n",
    "                current_image[:, :, 128:]\n",
    "            ]\n",
    "            \n",
    "            for k in range(concepts.shape[1]):\n",
    "                shape_triplet = concepts[b, k, :3].tolist()\n",
    "                color_triplet = concepts[b, k, 3:].tolist()\n",
    "                \n",
    "                pairs = frozenset((shape_triplet[i], color_triplet[i]) for i in range(3))\n",
    "                \n",
    "                if pairs in collected and collected[pairs] is None:\n",
    "                    collected[pairs] = figs[k]\n",
    "                    collected_labels[pairs] = (shape_triplet, color_triplet)\n",
    "                    collected_indices[pairs] = (batch_idx, b, k)\n",
    "            \n",
    "            if all(value is not None for value in collected.values()):\n",
    "                print(batch_idx)\n",
    "                break\n",
    "        if all(value is not None for value in collected.values()):\n",
    "            break\n",
    "\n",
    "    return collected, collected_labels, collected_indices\n",
    "\n",
    "# Get figures and their labels\n",
    "collected_specific, collected_labels, collected_indices = get_specific_figures_with_labels(kand_dataset)\n",
    "print(collected_indices)\n",
    "\n",
    "collected_imgs = []\n",
    "collected_titles = []\n",
    "collected_info = []\n",
    "\n",
    "for combo, title in target_combos.items():\n",
    "    img = collected_specific.get(combo)\n",
    "    labels = collected_labels.get(combo)\n",
    "    if img is not None:\n",
    "        collected_imgs.append(img.unsqueeze(0))\n",
    "        collected_titles.append(title)\n",
    "        collected_info.append(labels[0] + labels[1])\n",
    "\n",
    "collected_info = torch.tensor(collected_info)\n",
    "if collected_imgs:\n",
    "    collected_imgs = torch.cat(collected_imgs, dim=0)\n",
    "    \n",
    "    fig, axs = plt.subplots(1, 3, figsize=(12, 6))\n",
    "    for idx in range(3):\n",
    "        ax = axs[idx]\n",
    "        img_np = collected_imgs[idx].permute(1, 2, 0).cpu().numpy()\n",
    "        ax.imshow(img_np)\n",
    "        ax.axis('off')\n",
    "        ax.set_title(f\"{collected_titles[idx]}\\n{collected_info[idx]}\", fontsize=10)\n",
    "    plt.tight_layout()\n",
    "    plt.show()\n",
    "else:\n",
    "    print(\"No matching figures found in the dataset.\")    \n"
   ]
  },
  {
   "cell_type": "markdown",
   "metadata": {},
   "source": [
    "# Saving"
   ]
  },
  {
   "cell_type": "code",
   "execution_count": null,
   "metadata": {},
   "outputs": [],
   "source": [
    "print(collected_imgs.shape)\n",
    "print(collected_info.shape)\n",
    "\n",
    "os.makedirs('data/kand_prototypes/pnet', exist_ok=True)\n",
    "\n",
    "torch.save(collected_imgs, 'data/kand_prototypes/concepts_init_aggregated.pt')\n",
    "torch.save(collected_info, 'data/kand_prototypes/labels_init_aggregated.pt')"
   ]
  }
 ],
 "metadata": {
  "kernelspec": {
   "display_name": "luca-rs",
   "language": "python",
   "name": "python3"
  },
  "language_info": {
   "codemirror_mode": {
    "name": "ipython",
    "version": 3
   },
   "file_extension": ".py",
   "mimetype": "text/x-python",
   "name": "python",
   "nbconvert_exporter": "python",
   "pygments_lexer": "ipython3",
   "version": "3.8.20"
  }
 },
 "nbformat": 4,
 "nbformat_minor": 2
}
