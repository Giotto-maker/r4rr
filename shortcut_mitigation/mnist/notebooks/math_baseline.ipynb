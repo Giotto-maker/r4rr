{
 "cells": [
  {
   "cell_type": "markdown",
   "id": "d68a427b",
   "metadata": {},
   "source": [
    "# Imports"
   ]
  },
  {
   "cell_type": "code",
   "execution_count": 1,
   "id": "6783e21f",
   "metadata": {},
   "outputs": [
    {
     "name": "stdout",
     "output_type": "stream",
     "text": [
      "['/users-1/eleonora/reasoning-shortcuts/IXShort/shortcut_mitigation/mnist/notebooks', '/users-1/eleonora/anaconda3/envs/r4rr/lib/python38.zip', '/users-1/eleonora/anaconda3/envs/r4rr/lib/python3.8', '/users-1/eleonora/anaconda3/envs/r4rr/lib/python3.8/lib-dynload', '', '/users-1/eleonora/.local/lib/python3.8/site-packages', '/users-1/eleonora/anaconda3/envs/r4rr/lib/python3.8/site-packages', '/users-1/eleonora/reasoning-shortcuts/IXShort/shortcut_mitigation/mnist', '/users-1/eleonora/reasoning-shortcuts/IXShort/shortcut_mitigation', '/users-1/eleonora/reasoning-shortcuts/IXShort']\n"
     ]
    }
   ],
   "source": [
    "import re\n",
    "import sys\n",
    "import os\n",
    "import torch\n",
    "import datetime\n",
    "import numpy as np\n",
    "import matplotlib.pyplot as plt\n",
    "import setproctitle, socket, uuid\n",
    "\n",
    "from argparse import Namespace\n",
    "from sklearn.metrics import confusion_matrix\n",
    "from torch.utils.data import Dataset, DataLoader\n",
    "from warmup_scheduler import GradualWarmupScheduler\n",
    "\n",
    "os.environ['CUDA_VISIBLE_DEVICES'] = '1'\n",
    "sys.path.append(os.path.abspath(\"..\"))       # for 'protonet_mnist_add_utils' folder\n",
    "sys.path.append(os.path.abspath(\"../..\"))    # for 'data' folder\n",
    "sys.path.append(os.path.abspath(\"../../..\")) # for 'models' and 'datasets' folders\n",
    "\n",
    "print(sys.path)"
   ]
  },
  {
   "cell_type": "code",
   "execution_count": 2,
   "id": "386f1c24",
   "metadata": {},
   "outputs": [],
   "source": [
    "from models import get_model\n",
    "from models.mnistdpl import MnistDPL\n",
    "\n",
    "from datasets import get_dataset\n",
    "\n",
    "from utils import fprint\n",
    "from utils.checkpoint import save_model\n",
    "from utils.status import progress_bar\n",
    "from utils.dpl_loss import ADDMNIST_DPL\n",
    "from utils.metrics import evaluate_metrics\n",
    "from utils.train import convert_to_categories, compute_coverage"
   ]
  },
  {
   "cell_type": "markdown",
   "id": "155b1ef8",
   "metadata": {},
   "source": [
    "# Utilities"
   ]
  },
  {
   "cell_type": "code",
   "execution_count": 3,
   "id": "3d85f575",
   "metadata": {},
   "outputs": [],
   "source": [
    "def plot_images(images, labels, concepts, n=3):\n",
    "    \"\"\"\n",
    "    Plots the first 3 images from a batch, with their labels and concept annotations.\n",
    "\n",
    "    Args:\n",
    "        images (torch.Tensor): Shape [B, 1, 28, 224] - batch of concatenated MNIST digits.\n",
    "        labels (torch.Tensor): Shape [B, 2] - two binary labels per image.\n",
    "        concepts (torch.Tensor): Shape [B, 2, 4] - concept annotations per digit.\n",
    "    \"\"\"\n",
    "    fig, axs = plt.subplots(1, n, figsize=(12, 5))\n",
    "\n",
    "    for i in range(n):\n",
    "        img = images[i].squeeze(0)  # Shape [28, 224]\n",
    "        lbl = labels[i].tolist()\n",
    "        cpt = concepts[i].tolist()\n",
    "\n",
    "        axs[i].imshow(img, cmap='gray')\n",
    "        axs[i].axis('off')\n",
    "        \n",
    "        axs[i].set_title(f\"Labels: {lbl}\", fontsize=10)\n",
    "        axs[i].text(0.5, -0.1,\n",
    "                    f\"Concepts: {cpt}\",\n",
    "                    fontsize=8,\n",
    "                    ha='center',\n",
    "                    va='top',\n",
    "                    transform=axs[i].transAxes)\n",
    "\n",
    "    plt.tight_layout()\n",
    "    plt.show()"
   ]
  },
  {
   "cell_type": "markdown",
   "id": "7e13a8cb",
   "metadata": {},
   "source": [
    "# Setup"
   ]
  },
  {
   "cell_type": "code",
   "execution_count": 4,
   "id": "0171d579",
   "metadata": {},
   "outputs": [],
   "source": [
    "args = Namespace(\n",
    "    and_op='Godel',\n",
    "    backbone='conceptizer', \n",
    "    batch_size=64, # & ok          \n",
    "    beta=0.99,                      \n",
    "    boia_model='ce', \n",
    "    boia_ood_knowledge=False, \n",
    "    c_sup=1.0, \n",
    "    c_sup_ltn=0, \n",
    "    checkin=None, \n",
    "    checkout=False, \n",
    "    count=30, \n",
    "    dataset='mnmath',     \n",
    "    entity='', \n",
    "    entropy=False, \n",
    "    exp_decay=0.9,                  \n",
    "    gamma=1e-3,                      \n",
    "    imp_op='Prod',\n",
    "    joint=False, \n",
    "    lr=0.001,  # & ok                     \n",
    "    model='mnmathcbm',                \n",
    "    n_epochs=40,                    \n",
    "    non_verbose=False, \n",
    "    notes=None, \n",
    "    or_op='Prod',           \n",
    "    p=6,                    \n",
    "    posthoc=False, \n",
    "    preprocess=False, \n",
    "    proj_name='', \n",
    "    project='Reasoning-Shortcuts', \n",
    "    seeds=[], \n",
    "    splitted=False, \n",
    "    task='mnmath', \n",
    "    tuning=False, \n",
    "    use_ood=False, \n",
    "    val_metric='accuracy', \n",
    "    validate=False, \n",
    "    w_c=1, \n",
    "    w_h=0,                       \n",
    "    w_rec=1, \n",
    "    w_sl=10,\n",
    "    wandb=None, \n",
    "    warmup_steps=0, \n",
    "    weight_decay=0.0001,  # & ok          \n",
    "    which_c=[0, 5, 9],\n",
    "    device=torch.device(\"cuda\"),\n",
    "    \n",
    "    seed = 1617,        # 1415, 1617, 1819, || 2021, 2223.\n",
    "    patience = 15,\n",
    "    prototypes=False,\n",
    ")"
   ]
  },
  {
   "cell_type": "code",
   "execution_count": 5,
   "id": "c96fecc2",
   "metadata": {},
   "outputs": [
    {
     "name": "stdout",
     "output_type": "stream",
     "text": [
      "Save path: ../../notebooks-outputs-dpl-mnmath/mnmath/baseline/cbm/standard-baseline\n"
     ]
    }
   ],
   "source": [
    "# logging\n",
    "args.conf_jobnum = str(uuid.uuid4())\n",
    "args.conf_timestamp = str(datetime.datetime.now())\n",
    "args.conf_host = socket.gethostname()\n",
    "\n",
    "# set job name\n",
    "setproctitle.setproctitle(\n",
    "    \"{}_{}_{}\".format(\n",
    "        args.model,\n",
    "        args.buffer_size if \"buffer_size\" in args else 0,\n",
    "        args.dataset,\n",
    "    )\n",
    ")\n",
    "\n",
    "# saving\n",
    "save_folder = \"mnmath\" \n",
    "save_model_name = 'cbm'\n",
    "save_path = os.path.join(\"..\", \"..\", \n",
    "    \"notebooks-outputs-dpl-mnmath\", \n",
    "    save_folder, \n",
    "    \"baseline\", \n",
    "    save_model_name,\n",
    "    f\"standard-baseline\"\n",
    ")\n",
    "print(f\"Save path: {str(save_path)}\")"
   ]
  },
  {
   "cell_type": "markdown",
   "id": "496e8657",
   "metadata": {},
   "source": [
    "# Data Loading"
   ]
  },
  {
   "cell_type": "markdown",
   "id": "9d5c03d7",
   "metadata": {},
   "source": [
    "# Data Import"
   ]
  },
  {
   "cell_type": "code",
   "execution_count": 6,
   "id": "157cc277",
   "metadata": {},
   "outputs": [
    {
     "name": "stdout",
     "output_type": "stream",
     "text": [
      "Available datasets: ['mnmath', 'xor', 'clipboia', 'shortmnist', 'restrictedmnist', 'minikandinsky', 'presddoia', 'prekandinsky', 'sddoia', 'clipkandinsky', 'addmnist', 'clipshortmnist', 'boia_original', 'boia_original_embedded', 'clipsddoia', 'boia', 'kandinsky', 'halfmnist']\n",
      "Loaded datasets in 0.7007741928100586 s.\n",
      "Len loaders: \n",
      " train: 1000 \n",
      " val: 200\n",
      " len test: 300\n",
      "<datasets.mnmath.MNMATH object at 0x7f27c9f96970>\n",
      "## Statistics ##\n",
      "Train samples 1000\n",
      "Validation samples 200\n",
      "Test samples 300\n",
      "Test OOD samples 300\n"
     ]
    }
   ],
   "source": [
    "mnmath_dataset = get_dataset(args)\n",
    "mnmath_train_loader, mnmath_val_loader, mnmath_test_loader, mnmath_ood_loader = mnmath_dataset.get_data_loaders()\n",
    "print(mnmath_dataset)\n",
    "mnmath_dataset.print_stats()"
   ]
  },
  {
   "cell_type": "markdown",
   "id": "cf12d14e",
   "metadata": {},
   "source": [
    "## Data Inspection"
   ]
  },
  {
   "cell_type": "markdown",
   "id": "b1fa9bca",
   "metadata": {},
   "source": [
    "*See some statistics about the dataset*"
   ]
  },
  {
   "cell_type": "code",
   "execution_count": 7,
   "id": "f132a6e9",
   "metadata": {},
   "outputs": [
    {
     "name": "stdout",
     "output_type": "stream",
     "text": [
      "Total samples: 1000\n",
      "First label == 1: 437 (43.70%)\n",
      "Second label == 1: 125 (12.50%)\n",
      "Both labels == 1: 63 (6.30%)\n"
     ]
    }
   ],
   "source": [
    "first_label_1 = 0\n",
    "second_label_1 = 0\n",
    "both_labels_1 = 0\n",
    "total = 0\n",
    "\n",
    "for data in mnmath_train_loader:\n",
    "    _, labels, _ = data  # labels shape: [batch_size, 2]\n",
    "    \n",
    "    total += labels.size(0)\n",
    "    first_label_1 += (labels[:, 0] == 1).sum().item()\n",
    "    second_label_1 += (labels[:, 1] == 1).sum().item()\n",
    "    both_labels_1 += ((labels[:, 0] == 1) & (labels[:, 1] == 1)).sum().item()\n",
    "\n",
    "print(f\"Total samples: {total}\")\n",
    "print(f\"First label == 1: {first_label_1} ({100 * first_label_1 / total:.2f}%)\")\n",
    "print(f\"Second label == 1: {second_label_1} ({100 * second_label_1 / total:.2f}%)\")\n",
    "print(f\"Both labels == 1: {both_labels_1} ({100 * both_labels_1 / total:.2f}%)\")"
   ]
  },
  {
   "cell_type": "markdown",
   "id": "9fad429f",
   "metadata": {},
   "source": [
    "*Plotting some examples*"
   ]
  },
  {
   "cell_type": "code",
   "execution_count": 8,
   "id": "50c73713",
   "metadata": {},
   "outputs": [
    {
     "data": {
      "image/png": "[encoded data removed]",
      "text/plain": [
       "<Figure size 1200x500 with 3 Axes>"
      ]
     },
     "metadata": {},
     "output_type": "display_data"
    }
   ],
   "source": [
    "for data in mnmath_train_loader:\n",
    "    images, labels, concepts = data  # shapes: [32, 1, 28, 224], [32, 2], [32, 2, 4]\n",
    "    \n",
    "    # Filter indices where either label[0] or label[1] is 1\n",
    "    mask = (labels[:, 0] == 1) | (labels[:, 1] == 1)\n",
    "    indices = torch.nonzero(mask).squeeze()\n",
    "\n",
    "    if len(indices) >= 3:\n",
    "        selected_images = images[indices[:3]]\n",
    "        selected_labels = labels[indices[:3]]\n",
    "        selected_concepts = concepts[indices[:3]]\n",
    "\n",
    "        plot_images(selected_images, selected_labels, selected_concepts)\n",
    "    else:\n",
    "        print(\"Not enough samples with at least one positive label in this batch.\")\n",
    "    \n",
    "    break  # only process one batch"
   ]
  },
  {
   "cell_type": "markdown",
   "id": "a38cf678",
   "metadata": {},
   "source": [
    "# Model"
   ]
  },
  {
   "cell_type": "code",
   "execution_count": 9,
   "id": "6797b615",
   "metadata": {},
   "outputs": [
    {
     "name": "stdout",
     "output_type": "stream",
     "text": [
      "Available models: ['promnistltn', 'sddoiann', 'kandnn', 'sddoiadpl', 'sddoialtn', 'presddoiadpl', 'boiann', 'mnistclip', 'prokanddpl', 'promnistdpl', 'xornn', 'mnistnn', 'mnistslrec', 'kandpreprocess', 'kandsl', 'kandsloneembedding', 'prokandltn', 'kandcbm', 'prokandsl', 'boiacbm', 'kanddpl', 'kandltn', 'xorcbm', 'sddoiaclip', 'xordpl', 'promnmathdpl', 'sddoiacbm', 'mnistltnrec', 'mnmathcbm', 'mnmathdpl', 'kandclip', 'minikanddpl', 'mnistdpl', 'mnistltn', 'boiadpl', 'boialtn', 'prokandsloneembedding', 'mnistpcbmdpl', 'mnistcbm', 'probddoiadpl', 'mnistpcbmsl', 'mnistpcbmltn', 'mnistsl', 'mnistdplrec', 'cvae', 'cext', 'mnmathnn', 'promnistsl']\n",
      "Using Dataset:  <datasets.mnmath.MNMATH object at 0x7f27c9f96970>\n",
      "Using backbone:  MNISTSingleEncoder(\n",
      "  (enc_block_1): Conv2d(1, 32, kernel_size=(4, 4), stride=(2, 2), padding=(1, 1))\n",
      "  (enc_block_2): Conv2d(32, 64, kernel_size=(4, 4), stride=(2, 2), padding=(1, 1))\n",
      "  (enc_block_3): Conv2d(64, 128, kernel_size=(4, 4), stride=(2, 2), padding=(1, 1))\n",
      "  (flatten): Flatten()\n",
      "  (dense_logvar): Linear(in_features=1152, out_features=160, bias=True)\n",
      "  (dense_mu): Linear(in_features=1152, out_features=160, bias=True)\n",
      "  (dense_c): Linear(in_features=1152, out_features=10, bias=True)\n",
      "  (dropout): Dropout(p=0.5, inplace=False)\n",
      ")\n",
      "Using Model:  MNMATHCBM(\n",
      "  (encoder): MNISTSingleEncoder(\n",
      "    (enc_block_1): Conv2d(1, 32, kernel_size=(4, 4), stride=(2, 2), padding=(1, 1))\n",
      "    (enc_block_2): Conv2d(32, 64, kernel_size=(4, 4), stride=(2, 2), padding=(1, 1))\n",
      "    (enc_block_3): Conv2d(64, 128, kernel_size=(4, 4), stride=(2, 2), padding=(1, 1))\n",
      "    (flatten): Flatten()\n",
      "    (dense_logvar): Linear(in_features=1152, out_features=160, bias=True)\n",
      "    (dense_mu): Linear(in_features=1152, out_features=160, bias=True)\n",
      "    (dense_c): Linear(in_features=1152, out_features=10, bias=True)\n",
      "    (dropout): Dropout(p=0.5, inplace=False)\n",
      "  )\n",
      "  (classifier): Sequential(\n",
      "    (0): Linear(in_features=80, out_features=10, bias=True)\n",
      "    (1): ReLU()\n",
      "    (2): Linear(in_features=10, out_features=5, bias=True)\n",
      "    (3): ReLU()\n",
      "    (4): Linear(in_features=5, out_features=2, bias=True)\n",
      "    (5): Sigmoid()\n",
      "  )\n",
      ")\n",
      "Using Loss:  MNMATH_DPL()\n"
     ]
    }
   ],
   "source": [
    "n_images, c_split = mnmath_dataset.get_split()\n",
    "encoder, decoder = mnmath_dataset.get_backbone()\n",
    "model = get_model(args, encoder, decoder, n_images, c_split)\n",
    "loss = model.get_loss(args)\n",
    "model.start_optim(args)\n",
    "\n",
    "print(\"Using Dataset: \", mnmath_dataset)\n",
    "print(\"Using backbone: \", encoder)\n",
    "print(\"Using Model: \", model)\n",
    "print(\"Using Loss: \", loss)"
   ]
  },
  {
   "cell_type": "markdown",
   "id": "e36653dc",
   "metadata": {},
   "source": [
    "# Training"
   ]
  },
  {
   "cell_type": "markdown",
   "id": "d811369d",
   "metadata": {},
   "source": [
    "## Main Loop"
   ]
  },
  {
   "cell_type": "code",
   "execution_count": 10,
   "id": "b430aba3",
   "metadata": {},
   "outputs": [],
   "source": [
    "def train(model:MnistDPL,\n",
    "        train_loader:DataLoader,\n",
    "        val_loader:DataLoader,\n",
    "        _loss: ADDMNIST_DPL, \n",
    "        args,\n",
    "        save_folder,\n",
    "        debug=False):\n",
    "    \n",
    "    # for full reproducibility\n",
    "    np.random.seed(args.seed)\n",
    "    torch.manual_seed(args.seed)\n",
    "    if torch.cuda.is_available():\n",
    "        torch.cuda.manual_seed(args.seed)\n",
    "    torch.backends.cudnn.enabled = False\n",
    "    \n",
    "    best_f1 = 0.0\n",
    "    epochs_no_improve = 0   # for early stopping\n",
    "\n",
    "    model.to(model.device)\n",
    "\n",
    "    # get the data loaders\n",
    "    scheduler = torch.optim.lr_scheduler.ExponentialLR(model.opt, args.exp_decay)\n",
    "    w_scheduler = None\n",
    "    if args.warmup_steps > 0:   w_scheduler = GradualWarmupScheduler(model.opt, 1.0, args.warmup_steps)\n",
    "\n",
    "    fprint(\"\\n--- Start of Training ---\\n\")\n",
    "\n",
    "    # default for warm-up\n",
    "    model.opt.zero_grad()\n",
    "    model.opt.step()\n",
    "\n",
    "    # & FOR EACH EPOCH\n",
    "    for epoch in range(args.n_epochs):\n",
    "        model.train()\n",
    "\n",
    "        # ys are the predictions of the model, y_true are the true labels, cs are the predictions of the concepts, cs_true are the true concepts\n",
    "        ys, y_true, cs, cs_true = None, None, None, None\n",
    "        # & FOR EACH BATCH\n",
    "        for i, data in enumerate(train_loader):\n",
    "\n",
    "            images, labels, concepts = data\n",
    "            images, labels, concepts = (\n",
    "                images.to(model.device),    # input IMAGES\n",
    "                labels.to(model.device),    # ground truth LABELS\n",
    "                concepts.to(model.device),  # ground truth CONCEPTS\n",
    "            )\n",
    "\n",
    "            # ^ forward pass \n",
    "            out_dict = model(images)\n",
    "\n",
    "            ''' Enrich the out_dict with the ground truth labels and concepts '''\n",
    "            out_dict.update({\"LABELS\": labels, \"CONCEPTS\": concepts})\n",
    "\n",
    "            ''' Extract the predicted concepts for the first image in the batch '''\n",
    "            model.opt.zero_grad()\n",
    "            loss, losses = _loss(out_dict, args)\n",
    "            loss.backward()\n",
    "            model.opt.step()\n",
    "            \n",
    "            if ys is None:  # first iteration\n",
    "                ys = out_dict[\"YS\"]\n",
    "                y_true = out_dict[\"LABELS\"]\n",
    "                cs = out_dict[\"pCS\"]\n",
    "                cs_true = out_dict[\"CONCEPTS\"]\n",
    "            else:           # all other iterations\n",
    "                ys = torch.concatenate((ys, out_dict[\"YS\"]), dim=0)\n",
    "                y_true = torch.concatenate((y_true, out_dict[\"LABELS\"]), dim=0)\n",
    "                cs = torch.concatenate((cs, out_dict[\"pCS\"]), dim=0)\n",
    "                cs_true = torch.concatenate((cs_true, out_dict[\"CONCEPTS\"]), dim=0)\n",
    "\n",
    "            if i % 10 == 0:\n",
    "                progress_bar(i, len(train_loader) - 9, epoch, loss.item())\n",
    "\n",
    "\n",
    "        print(\"%%%%%%%%%%%%%%%%%%%%%%%%%%%%%%%%%%%%%%%%%%%%%%%%%%%%%%%%%%%%\")\n",
    "        print(\"End of epoch \", epoch)\n",
    "        print(\"%%%%%%%%%%%%%%%%%%%%%%%%%%%%%%%%%%%%%%%%%%%%%%%%%%%%%%%%%%%%\")\n",
    "        print()\n",
    "        \n",
    "        # ^ enter the evaluation phase\n",
    "        model.eval()\n",
    "        tloss, cacc, yacc, f1_y, f1_c = evaluate_metrics(model, val_loader, args)\n",
    "\n",
    "        # update the (warmup) scheduler at end of the epoch\n",
    "        if epoch < args.warmup_steps:\n",
    "            w_scheduler.step()\n",
    "        else:\n",
    "            scheduler.step()\n",
    "            if hasattr(_loss, \"grade\"):\n",
    "                _loss.update_grade(epoch)\n",
    "\n",
    "        ### LOGGING ###\n",
    "        fprint(\"  ACC C\", cacc, \"  ACC Y\", yacc, \"F1 Y\", f1_y, \"F1 C\", f1_c)\n",
    "        print()\n",
    "\n",
    "        if not args.tuning and f1_y > best_f1:\n",
    "            print(\"Saving...\")\n",
    "            # Update best F1 score\n",
    "            best_f1 = f1_y\n",
    "            epochs_no_improve = 0\n",
    "\n",
    "            # Save the best model\n",
    "            torch.save(model.state_dict(), save_folder)\n",
    "            print(f\"Saved best model with F1 score: {best_f1}\")\n",
    "            print()\n",
    "\n",
    "        elif f1_y <= best_f1:\n",
    "            epochs_no_improve += 1\n",
    "\n",
    "        if epochs_no_improve >= args.patience:\n",
    "            print(f\"Early stopping triggered after {epoch+1} epochs.\")\n",
    "            break\n",
    "\n",
    "    print(\"End of training\")\n",
    "    return best_f1"
   ]
  },
  {
   "cell_type": "markdown",
   "id": "e4e64551",
   "metadata": {},
   "source": [
    "## Run Training"
   ]
  },
  {
   "cell_type": "code",
   "execution_count": 11,
   "id": "7f326035",
   "metadata": {},
   "outputs": [
    {
     "name": "stdout",
     "output_type": "stream",
     "text": [
      "*** Training model with seed 1617\n",
      "Chosen device: cuda\n",
      "Save path for this model:  ../../notebooks-outputs-dpl-mnmath/mnmath/baseline/cbm/standard-baseline\n",
      "Saving in folder:  ../../notebooks-outputs-dpl-mnmath/mnmath/baseline/cbm/standard-baseline/cbm_1617.pth\n",
      "\n",
      "--- Start of Training ---\n",
      "\n"
     ]
    },
    {
     "name": "stderr",
     "output_type": "stream",
     "text": [
      "[ 07-20 | 13:15 ] epoch 0: |███████┈┈┈┈┈┈┈┈┈┈┈┈┈┈┈┈┈┈┈┈┈┈┈┈┈┈┈┈┈┈┈┈┈┈┈┈┈┈┈┈┈┈┈| loss: 0.75695115"
     ]
    },
    {
     "name": "stdout",
     "output_type": "stream",
     "text": [
      "Concept supervision loss 2.3010823726654053\n",
      "Concept supervision loss 2.3091657161712646\n",
      "Concept supervision loss 2.3119754791259766\n",
      "Concept supervision loss 2.338151454925537\n",
      "Concept supervision loss 2.362440586090088\n",
      "Concept supervision loss 2.3816699981689453\n",
      "Concept supervision loss 2.409494638442993\n",
      "Concept supervision loss 2.3928451538085938\n",
      "Concept supervision loss 2.2730672359466553\n",
      "Concept supervision loss 2.172727346420288\n"
     ]
    },
    {
     "name": "stderr",
     "output_type": "stream",
     "text": [
      "[ 07-20 | 13:15 ] epoch 0: |██████████████████████████████████████████████████| loss: 0.54817134"
     ]
    },
    {
     "name": "stdout",
     "output_type": "stream",
     "text": [
      "Concept supervision loss 2.1451847553253174\n",
      "Concept supervision loss 2.140617609024048\n",
      "Concept supervision loss 2.2721760272979736\n",
      "Concept supervision loss 2.2637438774108887\n",
      "Concept supervision loss 2.32962965965271\n",
      "Concept supervision loss 2.4375336170196533\n",
      "%%%%%%%%%%%%%%%%%%%%%%%%%%%%%%%%%%%%%%%%%%%%%%%%%%%%%%%%%%%%\n",
      "End of epoch  0\n",
      "%%%%%%%%%%%%%%%%%%%%%%%%%%%%%%%%%%%%%%%%%%%%%%%%%%%%%%%%%%%%\n",
      "\n",
      "  ACC C 28.125   ACC Y 57.6171875 F1 Y 55.826466665891274 F1 C 7.317073170731707\n"
     ]
    },
    {
     "name": "stderr",
     "output_type": "stream",
     "text": [
      "[ 07-20 | 13:15 ] epoch 1: |███████┈┈┈┈┈┈┈┈┈┈┈┈┈┈┈┈┈┈┈┈┈┈┈┈┈┈┈┈┈┈┈┈┈┈┈┈┈┈┈┈┈┈┈| loss: 0.58245641"
     ]
    },
    {
     "name": "stdout",
     "output_type": "stream",
     "text": [
      "\n",
      "Saving...\n",
      "Saved best model with F1 score: 55.826466665891274\n",
      "\n",
      "Concept supervision loss 2.456211566925049\n",
      "Concept supervision loss 2.4594602584838867\n",
      "Concept supervision loss 2.460219144821167\n",
      "Concept supervision loss 2.460793972015381\n",
      "Concept supervision loss 2.4609994888305664\n",
      "Concept supervision loss 2.4609837532043457\n",
      "Concept supervision loss 2.4610912799835205\n",
      "Concept supervision loss 2.461113214492798\n",
      "Concept supervision loss 2.461122751235962\n",
      "Concept supervision loss 2.4611237049102783\n",
      "Concept supervision loss 2.4611270427703857\n"
     ]
    },
    {
     "name": "stderr",
     "output_type": "stream",
     "text": [
      "[ 07-20 | 13:15 ] epoch 1: |██████████████████████████████████████████████████| loss: 0.50463641"
     ]
    },
    {
     "name": "stdout",
     "output_type": "stream",
     "text": [
      "Concept supervision loss 2.4611268043518066\n",
      "Concept supervision loss 2.4611270427703857\n",
      "Concept supervision loss 2.461127281188965\n",
      "Concept supervision loss 2.461127519607544\n",
      "Concept supervision loss 2.4611268043518066\n",
      "%%%%%%%%%%%%%%%%%%%%%%%%%%%%%%%%%%%%%%%%%%%%%%%%%%%%%%%%%%%%\n",
      "End of epoch  1\n",
      "%%%%%%%%%%%%%%%%%%%%%%%%%%%%%%%%%%%%%%%%%%%%%%%%%%%%%%%%%%%%\n",
      "\n",
      "  ACC C 28.125   ACC Y 75.9765625 F1 Y 64.54960748384717 F1 C 7.317073170731707\n"
     ]
    },
    {
     "name": "stderr",
     "output_type": "stream",
     "text": [
      "[ 07-20 | 13:15 ] epoch 2: |███████┈┈┈┈┈┈┈┈┈┈┈┈┈┈┈┈┈┈┈┈┈┈┈┈┈┈┈┈┈┈┈┈┈┈┈┈┈┈┈┈┈┈┈| loss: 0.5041576"
     ]
    },
    {
     "name": "stdout",
     "output_type": "stream",
     "text": [
      "\n",
      "Saving...\n",
      "Saved best model with F1 score: 64.54960748384717\n",
      "\n",
      "Concept supervision loss 2.4611268043518066\n",
      "Concept supervision loss 2.461127281188965\n",
      "Concept supervision loss 2.461127519607544\n",
      "Concept supervision loss 2.461127519607544\n",
      "Concept supervision loss 2.461127281188965\n",
      "Concept supervision loss 2.461127281188965\n",
      "Concept supervision loss 2.461127281188965\n",
      "Concept supervision loss 2.461127281188965\n",
      "Concept supervision loss 2.461127281188965\n",
      "Concept supervision loss 2.461127519607544\n",
      "Concept supervision loss 2.461127281188965\n"
     ]
    },
    {
     "name": "stderr",
     "output_type": "stream",
     "text": [
      "[ 07-20 | 13:15 ] epoch 2: |██████████████████████████████████████████████████| loss: 0.49297154"
     ]
    },
    {
     "name": "stdout",
     "output_type": "stream",
     "text": [
      "Concept supervision loss 2.461127281188965\n",
      "Concept supervision loss 2.461127281188965\n",
      "Concept supervision loss 2.461127281188965\n",
      "Concept supervision loss 2.461127281188965\n",
      "Concept supervision loss 2.4611268043518066\n",
      "%%%%%%%%%%%%%%%%%%%%%%%%%%%%%%%%%%%%%%%%%%%%%%%%%%%%%%%%%%%%\n",
      "End of epoch  2\n",
      "%%%%%%%%%%%%%%%%%%%%%%%%%%%%%%%%%%%%%%%%%%%%%%%%%%%%%%%%%%%%\n",
      "\n",
      "  ACC C 28.125   ACC Y 79.6875 F1 Y 71.87399661174223 F1 C 7.317073170731707\n"
     ]
    },
    {
     "name": "stderr",
     "output_type": "stream",
     "text": [
      "[ 07-20 | 13:16 ] epoch 3: |███████┈┈┈┈┈┈┈┈┈┈┈┈┈┈┈┈┈┈┈┈┈┈┈┈┈┈┈┈┈┈┈┈┈┈┈┈┈┈┈┈┈┈┈| loss: 0.40271127"
     ]
    },
    {
     "name": "stdout",
     "output_type": "stream",
     "text": [
      "\n",
      "Saving...\n",
      "Saved best model with F1 score: 71.87399661174223\n",
      "\n",
      "Concept supervision loss 2.4611270427703857\n",
      "Concept supervision loss 2.4611270427703857\n",
      "Concept supervision loss 2.461127519607544\n",
      "Concept supervision loss 2.461127281188965\n",
      "Concept supervision loss 2.4611270427703857\n",
      "Concept supervision loss 2.461127281188965\n",
      "Concept supervision loss 2.4611270427703857\n",
      "Concept supervision loss 2.461127281188965\n",
      "Concept supervision loss 2.461127519607544\n",
      "Concept supervision loss 2.461127281188965\n",
      "Concept supervision loss 2.461127281188965\n"
     ]
    },
    {
     "name": "stderr",
     "output_type": "stream",
     "text": [
      "[ 07-20 | 13:16 ] epoch 3: |██████████████████████████████████████████████████| loss: 0.51758879"
     ]
    },
    {
     "name": "stdout",
     "output_type": "stream",
     "text": [
      "Concept supervision loss 2.461127281188965\n",
      "Concept supervision loss 2.461127281188965\n",
      "Concept supervision loss 2.461127281188965\n",
      "Concept supervision loss 2.461127281188965\n",
      "Concept supervision loss 2.4611270427703857\n",
      "%%%%%%%%%%%%%%%%%%%%%%%%%%%%%%%%%%%%%%%%%%%%%%%%%%%%%%%%%%%%\n",
      "End of epoch  3\n",
      "%%%%%%%%%%%%%%%%%%%%%%%%%%%%%%%%%%%%%%%%%%%%%%%%%%%%%%%%%%%%\n",
      "\n",
      "  ACC C 28.125   ACC Y 75.5859375 F1 Y 71.33150114295908 F1 C 7.317073170731707\n"
     ]
    },
    {
     "name": "stderr",
     "output_type": "stream",
     "text": [
      "[ 07-20 | 13:16 ] epoch 4: |███████┈┈┈┈┈┈┈┈┈┈┈┈┈┈┈┈┈┈┈┈┈┈┈┈┈┈┈┈┈┈┈┈┈┈┈┈┈┈┈┈┈┈┈| loss: 0.41117793"
     ]
    },
    {
     "name": "stdout",
     "output_type": "stream",
     "text": [
      "\n",
      "Concept supervision loss 2.461127519607544\n",
      "Concept supervision loss 2.461127281188965\n",
      "Concept supervision loss 2.4611270427703857\n",
      "Concept supervision loss 2.4611268043518066\n",
      "Concept supervision loss 2.4611270427703857\n",
      "Concept supervision loss 2.461127519607544\n",
      "Concept supervision loss 2.461127281188965\n",
      "Concept supervision loss 2.4607889652252197\n",
      "Concept supervision loss 2.4611194133758545\n",
      "Concept supervision loss 2.4611170291900635\n",
      "Concept supervision loss 2.460170030593872\n"
     ]
    },
    {
     "name": "stderr",
     "output_type": "stream",
     "text": [
      "[ 07-20 | 13:16 ] epoch 4: |██████████████████████████████████████████████████| loss: 0.31492293"
     ]
    },
    {
     "name": "stdout",
     "output_type": "stream",
     "text": [
      "Concept supervision loss 2.4611246585845947\n",
      "Concept supervision loss 2.4602506160736084\n",
      "Concept supervision loss 2.461120367050171\n",
      "Concept supervision loss 2.460381507873535\n",
      "Concept supervision loss 2.4606337547302246\n",
      "%%%%%%%%%%%%%%%%%%%%%%%%%%%%%%%%%%%%%%%%%%%%%%%%%%%%%%%%%%%%\n",
      "End of epoch  4\n",
      "%%%%%%%%%%%%%%%%%%%%%%%%%%%%%%%%%%%%%%%%%%%%%%%%%%%%%%%%%%%%\n",
      "\n",
      "  ACC C 6.103515625   ACC Y 84.5703125 F1 Y 81.6918839929655 F1 C 2.204030345066107\n"
     ]
    },
    {
     "name": "stderr",
     "output_type": "stream",
     "text": [
      "[ 07-20 | 13:16 ] epoch 5: |███████┈┈┈┈┈┈┈┈┈┈┈┈┈┈┈┈┈┈┈┈┈┈┈┈┈┈┈┈┈┈┈┈┈┈┈┈┈┈┈┈┈┈┈| loss: 0.33927852"
     ]
    },
    {
     "name": "stdout",
     "output_type": "stream",
     "text": [
      "\n",
      "Saving...\n",
      "Saved best model with F1 score: 81.6918839929655\n",
      "\n",
      "Concept supervision loss 2.458737373352051\n",
      "Concept supervision loss 2.4589807987213135\n",
      "Concept supervision loss 2.456183671951294\n",
      "Concept supervision loss 2.458235502243042\n",
      "Concept supervision loss 2.457610607147217\n",
      "Concept supervision loss 2.457021474838257\n",
      "Concept supervision loss 2.4596707820892334\n",
      "Concept supervision loss 2.4605700969696045\n",
      "Concept supervision loss 2.4516639709472656\n",
      "Concept supervision loss 2.4586539268493652\n",
      "Concept supervision loss 2.459001064300537\n"
     ]
    },
    {
     "name": "stderr",
     "output_type": "stream",
     "text": [
      "[ 07-20 | 13:16 ] epoch 5: |██████████████████████████████████████████████████| loss: 0.33181667"
     ]
    },
    {
     "name": "stdout",
     "output_type": "stream",
     "text": [
      "Concept supervision loss 2.459317207336426\n",
      "Concept supervision loss 2.4564714431762695\n",
      "Concept supervision loss 2.460301399230957\n",
      "Concept supervision loss 2.457535743713379\n",
      "Concept supervision loss 2.4591517448425293\n",
      "%%%%%%%%%%%%%%%%%%%%%%%%%%%%%%%%%%%%%%%%%%%%%%%%%%%%%%%%%%%%\n",
      "End of epoch  5\n",
      "%%%%%%%%%%%%%%%%%%%%%%%%%%%%%%%%%%%%%%%%%%%%%%%%%%%%%%%%%%%%\n",
      "\n",
      "  ACC C 7.91015625   ACC Y 86.71875 F1 Y 84.43887089350284 F1 C 5.687763684197316\n"
     ]
    },
    {
     "name": "stderr",
     "output_type": "stream",
     "text": [
      "[ 07-20 | 13:16 ] epoch 6: |███████┈┈┈┈┈┈┈┈┈┈┈┈┈┈┈┈┈┈┈┈┈┈┈┈┈┈┈┈┈┈┈┈┈┈┈┈┈┈┈┈┈┈┈| loss: 0.17036456"
     ]
    },
    {
     "name": "stdout",
     "output_type": "stream",
     "text": [
      "\n",
      "Saving...\n",
      "Saved best model with F1 score: 84.43887089350284\n",
      "\n",
      "Concept supervision loss 2.4547526836395264\n",
      "Concept supervision loss 2.458902597427368\n",
      "Concept supervision loss 2.4552953243255615\n",
      "Concept supervision loss 2.456550359725952\n",
      "Concept supervision loss 2.459947347640991\n",
      "Concept supervision loss 2.4586222171783447\n",
      "Concept supervision loss 2.4581105709075928\n",
      "Concept supervision loss 2.4580321311950684\n",
      "Concept supervision loss 2.4587416648864746\n",
      "Concept supervision loss 2.457073926925659\n",
      "Concept supervision loss 2.4559454917907715\n"
     ]
    },
    {
     "name": "stderr",
     "output_type": "stream",
     "text": [
      "[ 07-20 | 13:16 ] epoch 6: |██████████████████████████████████████████████████| loss: 0.17476627"
     ]
    },
    {
     "name": "stdout",
     "output_type": "stream",
     "text": [
      "Concept supervision loss 2.4609243869781494\n",
      "Concept supervision loss 2.4601619243621826\n",
      "Concept supervision loss 2.4586246013641357\n",
      "Concept supervision loss 2.4582695960998535\n",
      "Concept supervision loss 2.4571588039398193\n",
      "%%%%%%%%%%%%%%%%%%%%%%%%%%%%%%%%%%%%%%%%%%%%%%%%%%%%%%%%%%%%\n",
      "End of epoch  6\n",
      "%%%%%%%%%%%%%%%%%%%%%%%%%%%%%%%%%%%%%%%%%%%%%%%%%%%%%%%%%%%%\n",
      "\n",
      "  ACC C 24.169921875   ACC Y 91.40625 F1 Y 89.8806107774873 F1 C 9.18079096045198\n"
     ]
    },
    {
     "name": "stderr",
     "output_type": "stream",
     "text": [
      "[ 07-20 | 13:16 ] epoch 7: |███████┈┈┈┈┈┈┈┈┈┈┈┈┈┈┈┈┈┈┈┈┈┈┈┈┈┈┈┈┈┈┈┈┈┈┈┈┈┈┈┈┈┈┈| loss: 0.20739403"
     ]
    },
    {
     "name": "stdout",
     "output_type": "stream",
     "text": [
      "\n",
      "Saving...\n",
      "Saved best model with F1 score: 89.8806107774873\n",
      "\n",
      "Concept supervision loss 2.4579477310180664\n",
      "Concept supervision loss 2.461103916168213\n",
      "Concept supervision loss 2.461010217666626\n",
      "Concept supervision loss 2.4611263275146484\n",
      "Concept supervision loss 2.4611215591430664\n",
      "Concept supervision loss 2.461106538772583\n",
      "Concept supervision loss 2.459434747695923\n",
      "Concept supervision loss 2.4598963260650635\n",
      "Concept supervision loss 2.4611244201660156\n",
      "Concept supervision loss 2.461050033569336\n",
      "Concept supervision loss 2.4609930515289307\n"
     ]
    },
    {
     "name": "stderr",
     "output_type": "stream",
     "text": [
      "[ 07-20 | 13:16 ] epoch 7: |██████████████████████████████████████████████████| loss: 0.2031928"
     ]
    },
    {
     "name": "stdout",
     "output_type": "stream",
     "text": [
      "Concept supervision loss 2.4611144065856934\n",
      "Concept supervision loss 2.4596705436706543\n",
      "Concept supervision loss 2.46107816696167\n",
      "Concept supervision loss 2.4593191146850586\n",
      "Concept supervision loss 2.4611265659332275\n",
      "%%%%%%%%%%%%%%%%%%%%%%%%%%%%%%%%%%%%%%%%%%%%%%%%%%%%%%%%%%%%\n",
      "End of epoch  7\n",
      "%%%%%%%%%%%%%%%%%%%%%%%%%%%%%%%%%%%%%%%%%%%%%%%%%%%%%%%%%%%%\n",
      "\n",
      "  ACC C 26.416015625   ACC Y 93.1640625 F1 Y 92.05187292563838 F1 C 10.626234711510293\n"
     ]
    },
    {
     "name": "stderr",
     "output_type": "stream",
     "text": [
      "[ 07-20 | 13:16 ] epoch 8: |███████┈┈┈┈┈┈┈┈┈┈┈┈┈┈┈┈┈┈┈┈┈┈┈┈┈┈┈┈┈┈┈┈┈┈┈┈┈┈┈┈┈┈┈| loss: 0.0943484"
     ]
    },
    {
     "name": "stdout",
     "output_type": "stream",
     "text": [
      "\n",
      "Saving...\n",
      "Saved best model with F1 score: 92.05187292563838\n",
      "\n",
      "Concept supervision loss 2.4610636234283447\n",
      "Concept supervision loss 2.4607858657836914\n",
      "Concept supervision loss 2.460127592086792\n",
      "Concept supervision loss 2.460623264312744\n",
      "Concept supervision loss 2.459552049636841\n",
      "Concept supervision loss 2.460975170135498\n",
      "Concept supervision loss 2.461125612258911\n",
      "Concept supervision loss 2.4611270427703857\n",
      "Concept supervision loss 2.4611258506774902\n",
      "Concept supervision loss 2.460047960281372\n",
      "Concept supervision loss 2.4583663940429688\n"
     ]
    },
    {
     "name": "stderr",
     "output_type": "stream",
     "text": [
      "[ 07-20 | 13:16 ] epoch 8: |██████████████████████████████████████████████████| loss: 0.0994226"
     ]
    },
    {
     "name": "stdout",
     "output_type": "stream",
     "text": [
      "Concept supervision loss 2.459766149520874\n",
      "Concept supervision loss 2.461103916168213\n",
      "Concept supervision loss 2.4602980613708496\n",
      "Concept supervision loss 2.459319829940796\n",
      "Concept supervision loss 2.4559733867645264\n",
      "%%%%%%%%%%%%%%%%%%%%%%%%%%%%%%%%%%%%%%%%%%%%%%%%%%%%%%%%%%%%\n",
      "End of epoch  8\n",
      "%%%%%%%%%%%%%%%%%%%%%%%%%%%%%%%%%%%%%%%%%%%%%%%%%%%%%%%%%%%%\n",
      "\n",
      "  ACC C 26.07421875   ACC Y 93.359375 F1 Y 92.15594534109434 F1 C 11.256584899437504\n"
     ]
    },
    {
     "name": "stderr",
     "output_type": "stream",
     "text": [
      "[ 07-20 | 13:16 ] epoch 9: |███████┈┈┈┈┈┈┈┈┈┈┈┈┈┈┈┈┈┈┈┈┈┈┈┈┈┈┈┈┈┈┈┈┈┈┈┈┈┈┈┈┈┈┈| loss: 0.11124334"
     ]
    },
    {
     "name": "stdout",
     "output_type": "stream",
     "text": [
      "\n",
      "Saving...\n",
      "Saved best model with F1 score: 92.15594534109434\n",
      "\n",
      "Concept supervision loss 2.460979700088501\n",
      "Concept supervision loss 2.4609811305999756\n",
      "Concept supervision loss 2.4594719409942627\n",
      "Concept supervision loss 2.4589426517486572\n",
      "Concept supervision loss 2.457507371902466\n",
      "Concept supervision loss 2.4603898525238037\n",
      "Concept supervision loss 2.459773063659668\n",
      "Concept supervision loss 2.4588375091552734\n",
      "Concept supervision loss 2.4610698223114014\n",
      "Concept supervision loss 2.4608263969421387\n",
      "Concept supervision loss 2.4595131874084473\n"
     ]
    },
    {
     "name": "stderr",
     "output_type": "stream",
     "text": [
      "[ 07-20 | 13:16 ] epoch 9: |██████████████████████████████████████████████████| loss: 0.05730849"
     ]
    },
    {
     "name": "stdout",
     "output_type": "stream",
     "text": [
      "Concept supervision loss 2.4592037200927734\n",
      "Concept supervision loss 2.459711790084839\n",
      "Concept supervision loss 2.460606813430786\n",
      "Concept supervision loss 2.459284782409668\n",
      "Concept supervision loss 2.4596917629241943\n",
      "%%%%%%%%%%%%%%%%%%%%%%%%%%%%%%%%%%%%%%%%%%%%%%%%%%%%%%%%%%%%\n",
      "End of epoch  9\n",
      "%%%%%%%%%%%%%%%%%%%%%%%%%%%%%%%%%%%%%%%%%%%%%%%%%%%%%%%%%%%%\n",
      "\n",
      "  ACC C 29.052734375   ACC Y 94.53125 F1 Y 93.7973223602971 F1 C 13.634440516440712\n"
     ]
    },
    {
     "name": "stderr",
     "output_type": "stream",
     "text": [
      "[ 07-20 | 13:16 ] epoch 10: |███████┈┈┈┈┈┈┈┈┈┈┈┈┈┈┈┈┈┈┈┈┈┈┈┈┈┈┈┈┈┈┈┈┈┈┈┈┈┈┈┈┈┈┈| loss: 0.0975824"
     ]
    },
    {
     "name": "stdout",
     "output_type": "stream",
     "text": [
      "\n",
      "Saving...\n",
      "Saved best model with F1 score: 93.7973223602971\n",
      "\n",
      "Concept supervision loss 2.4610791206359863\n",
      "Concept supervision loss 2.458951473236084\n",
      "Concept supervision loss 2.461014747619629\n",
      "Concept supervision loss 2.460157632827759\n",
      "Concept supervision loss 2.4575352668762207\n",
      "Concept supervision loss 2.458946466445923\n",
      "Concept supervision loss 2.45566725730896\n",
      "Concept supervision loss 2.4610202312469482\n",
      "Concept supervision loss 2.4582228660583496\n",
      "Concept supervision loss 2.4587907791137695\n",
      "Concept supervision loss 2.458895206451416\n"
     ]
    },
    {
     "name": "stderr",
     "output_type": "stream",
     "text": [
      "[ 07-20 | 13:16 ] epoch 10: |██████████████████████████████████████████████████| loss: 0.06179733"
     ]
    },
    {
     "name": "stdout",
     "output_type": "stream",
     "text": [
      "Concept supervision loss 2.4589648246765137\n",
      "Concept supervision loss 2.4611167907714844\n",
      "Concept supervision loss 2.459315776824951\n",
      "Concept supervision loss 2.458892345428467\n",
      "Concept supervision loss 2.4611268043518066\n",
      "%%%%%%%%%%%%%%%%%%%%%%%%%%%%%%%%%%%%%%%%%%%%%%%%%%%%%%%%%%%%\n",
      "End of epoch  10\n",
      "%%%%%%%%%%%%%%%%%%%%%%%%%%%%%%%%%%%%%%%%%%%%%%%%%%%%%%%%%%%%\n",
      "\n",
      "  ACC C 29.150390625   ACC Y 95.1171875 F1 Y 94.44427847134168 F1 C 13.224612115124398\n"
     ]
    },
    {
     "name": "stderr",
     "output_type": "stream",
     "text": [
      "[ 07-20 | 13:16 ] epoch 11: |███████┈┈┈┈┈┈┈┈┈┈┈┈┈┈┈┈┈┈┈┈┈┈┈┈┈┈┈┈┈┈┈┈┈┈┈┈┈┈┈┈┈┈┈| loss: 0.06050844"
     ]
    },
    {
     "name": "stdout",
     "output_type": "stream",
     "text": [
      "\n",
      "Saving...\n",
      "Saved best model with F1 score: 94.44427847134168\n",
      "\n",
      "Concept supervision loss 2.4584765434265137\n",
      "Concept supervision loss 2.4609758853912354\n",
      "Concept supervision loss 2.4593145847320557\n",
      "Concept supervision loss 2.460202217102051\n",
      "Concept supervision loss 2.4576375484466553\n",
      "Concept supervision loss 2.4609737396240234\n",
      "Concept supervision loss 2.4593236446380615\n",
      "Concept supervision loss 2.460493803024292\n",
      "Concept supervision loss 2.4604103565216064\n",
      "Concept supervision loss 2.460202932357788\n"
     ]
    },
    {
     "name": "stderr",
     "output_type": "stream",
     "text": [
      "[ 07-20 | 13:16 ] epoch 11: |██████████████████████████████████████████████████| loss: 0.03794545"
     ]
    },
    {
     "name": "stdout",
     "output_type": "stream",
     "text": [
      "Concept supervision loss 2.461103916168213\n",
      "Concept supervision loss 2.459780693054199\n",
      "Concept supervision loss 2.461090564727783\n",
      "Concept supervision loss 2.4611260890960693\n",
      "Concept supervision loss 2.458594799041748\n",
      "Concept supervision loss 2.461097478866577\n",
      "%%%%%%%%%%%%%%%%%%%%%%%%%%%%%%%%%%%%%%%%%%%%%%%%%%%%%%%%%%%%\n",
      "End of epoch  11\n",
      "%%%%%%%%%%%%%%%%%%%%%%%%%%%%%%%%%%%%%%%%%%%%%%%%%%%%%%%%%%%%\n",
      "\n",
      "  ACC C 30.37109375   ACC Y 95.5078125 F1 Y 94.84679916250036 F1 C 14.661630518430105\n"
     ]
    },
    {
     "name": "stderr",
     "output_type": "stream",
     "text": [
      "[ 07-20 | 13:16 ] epoch 12: |███████┈┈┈┈┈┈┈┈┈┈┈┈┈┈┈┈┈┈┈┈┈┈┈┈┈┈┈┈┈┈┈┈┈┈┈┈┈┈┈┈┈┈┈| loss: 0.138243"
     ]
    },
    {
     "name": "stdout",
     "output_type": "stream",
     "text": [
      "\n",
      "Saving...\n",
      "Saved best model with F1 score: 94.84679916250036\n",
      "\n",
      "Concept supervision loss 2.4590961933135986\n",
      "Concept supervision loss 2.460865020751953\n",
      "Concept supervision loss 2.4599668979644775\n",
      "Concept supervision loss 2.4581658840179443\n",
      "Concept supervision loss 2.458300828933716\n",
      "Concept supervision loss 2.458998441696167\n",
      "Concept supervision loss 2.461016893386841\n",
      "Concept supervision loss 2.4611268043518066\n",
      "Concept supervision loss 2.461127281188965\n",
      "Concept supervision loss 2.4611258506774902\n",
      "Concept supervision loss 2.457571268081665\n"
     ]
    },
    {
     "name": "stderr",
     "output_type": "stream",
     "text": [
      "[ 07-20 | 13:16 ] epoch 12: |██████████████████████████████████████████████████| loss: 0.08280921"
     ]
    },
    {
     "name": "stdout",
     "output_type": "stream",
     "text": [
      "Concept supervision loss 2.460855484008789\n",
      "Concept supervision loss 2.4610488414764404\n",
      "Concept supervision loss 2.460010051727295\n",
      "Concept supervision loss 2.4611263275146484\n",
      "Concept supervision loss 2.4608845710754395\n",
      "%%%%%%%%%%%%%%%%%%%%%%%%%%%%%%%%%%%%%%%%%%%%%%%%%%%%%%%%%%%%\n",
      "End of epoch  12\n",
      "%%%%%%%%%%%%%%%%%%%%%%%%%%%%%%%%%%%%%%%%%%%%%%%%%%%%%%%%%%%%\n",
      "\n",
      "  ACC C 30.078125   ACC Y 94.921875 F1 Y 94.25088497512442 F1 C 14.544352694132431\n"
     ]
    },
    {
     "name": "stderr",
     "output_type": "stream",
     "text": [
      "[ 07-20 | 13:16 ] epoch 13: |███████┈┈┈┈┈┈┈┈┈┈┈┈┈┈┈┈┈┈┈┈┈┈┈┈┈┈┈┈┈┈┈┈┈┈┈┈┈┈┈┈┈┈┈| loss: 0.04760964"
     ]
    },
    {
     "name": "stdout",
     "output_type": "stream",
     "text": [
      "\n",
      "Concept supervision loss 2.4610788822174072\n",
      "Concept supervision loss 2.4591622352600098\n",
      "Concept supervision loss 2.459367275238037\n",
      "Concept supervision loss 2.4610259532928467\n",
      "Concept supervision loss 2.4594368934631348\n",
      "Concept supervision loss 2.461008310317993\n",
      "Concept supervision loss 2.4610674381256104\n",
      "Concept supervision loss 2.460131883621216\n",
      "Concept supervision loss 2.4608049392700195\n",
      "Concept supervision loss 2.4603519439697266\n",
      "Concept supervision loss 2.4578843116760254\n"
     ]
    },
    {
     "name": "stderr",
     "output_type": "stream",
     "text": [
      "[ 07-20 | 13:16 ] epoch 13: |██████████████████████████████████████████████████| loss: 0.05473768"
     ]
    },
    {
     "name": "stdout",
     "output_type": "stream",
     "text": [
      "Concept supervision loss 2.4611270427703857\n",
      "Concept supervision loss 2.4578168392181396\n",
      "Concept supervision loss 2.4610111713409424\n",
      "Concept supervision loss 2.45985746383667\n",
      "Concept supervision loss 2.4589626789093018\n",
      "%%%%%%%%%%%%%%%%%%%%%%%%%%%%%%%%%%%%%%%%%%%%%%%%%%%%%%%%%%%%\n",
      "End of epoch  13\n",
      "%%%%%%%%%%%%%%%%%%%%%%%%%%%%%%%%%%%%%%%%%%%%%%%%%%%%%%%%%%%%\n",
      "\n",
      "  ACC C 29.345703125   ACC Y 95.703125 F1 Y 95.13609183772402 F1 C 13.768018169961097\n"
     ]
    },
    {
     "name": "stderr",
     "output_type": "stream",
     "text": [
      "[ 07-20 | 13:16 ] epoch 14: |███████┈┈┈┈┈┈┈┈┈┈┈┈┈┈┈┈┈┈┈┈┈┈┈┈┈┈┈┈┈┈┈┈┈┈┈┈┈┈┈┈┈┈┈| loss: 0.0172357"
     ]
    },
    {
     "name": "stdout",
     "output_type": "stream",
     "text": [
      "\n",
      "Saving...\n",
      "Saved best model with F1 score: 95.13609183772402\n",
      "\n",
      "Concept supervision loss 2.459986448287964\n",
      "Concept supervision loss 2.4609696865081787\n",
      "Concept supervision loss 2.4604039192199707\n",
      "Concept supervision loss 2.457927942276001\n",
      "Concept supervision loss 2.4592466354370117\n",
      "Concept supervision loss 2.460800886154175\n",
      "Concept supervision loss 2.461106061935425\n",
      "Concept supervision loss 2.457998275756836\n",
      "Concept supervision loss 2.458503484725952\n"
     ]
    },
    {
     "name": "stderr",
     "output_type": "stream",
     "text": [
      "[ 07-20 | 13:16 ] epoch 14: |██████████████████████████████████████████████████| loss: 0.03308785"
     ]
    },
    {
     "name": "stdout",
     "output_type": "stream",
     "text": [
      "Concept supervision loss 2.4590330123901367\n",
      "Concept supervision loss 2.4574246406555176\n",
      "Concept supervision loss 2.460650682449341\n",
      "Concept supervision loss 2.4608287811279297\n",
      "Concept supervision loss 2.4611270427703857\n",
      "Concept supervision loss 2.4572815895080566\n",
      "Concept supervision loss 2.4611268043518066\n",
      "%%%%%%%%%%%%%%%%%%%%%%%%%%%%%%%%%%%%%%%%%%%%%%%%%%%%%%%%%%%%\n",
      "End of epoch  14\n",
      "%%%%%%%%%%%%%%%%%%%%%%%%%%%%%%%%%%%%%%%%%%%%%%%%%%%%%%%%%%%%\n",
      "\n",
      "  ACC C 29.78515625   ACC Y 96.484375 F1 Y 96.00065483902344 F1 C 13.618519432919642\n"
     ]
    },
    {
     "name": "stderr",
     "output_type": "stream",
     "text": [
      "[ 07-20 | 13:16 ] epoch 15: |███████┈┈┈┈┈┈┈┈┈┈┈┈┈┈┈┈┈┈┈┈┈┈┈┈┈┈┈┈┈┈┈┈┈┈┈┈┈┈┈┈┈┈┈| loss: 0.06434783"
     ]
    },
    {
     "name": "stdout",
     "output_type": "stream",
     "text": [
      "\n",
      "Saving...\n",
      "Saved best model with F1 score: 96.00065483902344\n",
      "\n",
      "Concept supervision loss 2.4578371047973633\n",
      "Concept supervision loss 2.4607644081115723\n",
      "Concept supervision loss 2.458681583404541\n",
      "Concept supervision loss 2.460076332092285\n",
      "Concept supervision loss 2.4611258506774902\n",
      "Concept supervision loss 2.4611270427703857\n",
      "Concept supervision loss 2.4576101303100586\n",
      "Concept supervision loss 2.4611260890960693\n",
      "Concept supervision loss 2.458425998687744\n",
      "Concept supervision loss 2.4568371772766113\n",
      "Concept supervision loss 2.46108341217041\n"
     ]
    },
    {
     "name": "stderr",
     "output_type": "stream",
     "text": [
      "[ 07-20 | 13:16 ] epoch 15: |██████████████████████████████████████████████████| loss: 0.03413681"
     ]
    },
    {
     "name": "stdout",
     "output_type": "stream",
     "text": [
      "Concept supervision loss 2.459268093109131\n",
      "Concept supervision loss 2.461127281188965\n",
      "Concept supervision loss 2.4596521854400635\n",
      "Concept supervision loss 2.457923412322998\n",
      "Concept supervision loss 2.4601354598999023\n",
      "%%%%%%%%%%%%%%%%%%%%%%%%%%%%%%%%%%%%%%%%%%%%%%%%%%%%%%%%%%%%\n",
      "End of epoch  15\n",
      "%%%%%%%%%%%%%%%%%%%%%%%%%%%%%%%%%%%%%%%%%%%%%%%%%%%%%%%%%%%%\n",
      "\n",
      "  ACC C 30.419921875   ACC Y 96.09375 F1 Y 95.56342556191137 F1 C 14.522699486706491\n"
     ]
    },
    {
     "name": "stderr",
     "output_type": "stream",
     "text": [
      "[ 07-20 | 13:16 ] epoch 16: |███████┈┈┈┈┈┈┈┈┈┈┈┈┈┈┈┈┈┈┈┈┈┈┈┈┈┈┈┈┈┈┈┈┈┈┈┈┈┈┈┈┈┈┈| loss: 0.01741644"
     ]
    },
    {
     "name": "stdout",
     "output_type": "stream",
     "text": [
      "\n",
      "Concept supervision loss 2.4603848457336426\n",
      "Concept supervision loss 2.4609873294830322\n",
      "Concept supervision loss 2.460214376449585\n",
      "Concept supervision loss 2.4610414505004883\n",
      "Concept supervision loss 2.4611263275146484\n",
      "Concept supervision loss 2.459641456604004\n",
      "Concept supervision loss 2.4597091674804688\n",
      "Concept supervision loss 2.461127281188965\n",
      "Concept supervision loss 2.4588260650634766\n",
      "Concept supervision loss 2.459050178527832\n",
      "Concept supervision loss 2.4604756832122803\n"
     ]
    },
    {
     "name": "stderr",
     "output_type": "stream",
     "text": [
      "[ 07-20 | 13:16 ] epoch 16: |██████████████████████████████████████████████████| loss: 0.02043585"
     ]
    },
    {
     "name": "stdout",
     "output_type": "stream",
     "text": [
      "Concept supervision loss 2.4610655307769775\n",
      "Concept supervision loss 2.4609172344207764\n",
      "Concept supervision loss 2.458993434906006\n",
      "Concept supervision loss 2.4597132205963135\n",
      "Concept supervision loss 2.4610559940338135\n",
      "%%%%%%%%%%%%%%%%%%%%%%%%%%%%%%%%%%%%%%%%%%%%%%%%%%%%%%%%%%%%\n",
      "End of epoch  16\n",
      "%%%%%%%%%%%%%%%%%%%%%%%%%%%%%%%%%%%%%%%%%%%%%%%%%%%%%%%%%%%%\n",
      "\n",
      "  ACC C 30.76171875   ACC Y 97.0703125 F1 Y 96.66617873733978 F1 C 14.859421175149826\n"
     ]
    },
    {
     "name": "stderr",
     "output_type": "stream",
     "text": [
      "[ 07-20 | 13:16 ] epoch 17: |███████┈┈┈┈┈┈┈┈┈┈┈┈┈┈┈┈┈┈┈┈┈┈┈┈┈┈┈┈┈┈┈┈┈┈┈┈┈┈┈┈┈┈┈| loss: 0.01924615"
     ]
    },
    {
     "name": "stdout",
     "output_type": "stream",
     "text": [
      "\n",
      "Saving...\n",
      "Saved best model with F1 score: 96.66617873733978\n",
      "\n",
      "Concept supervision loss 2.461125373840332\n",
      "Concept supervision loss 2.4607174396514893\n",
      "Concept supervision loss 2.459378957748413\n",
      "Concept supervision loss 2.458268642425537\n",
      "Concept supervision loss 2.4600024223327637\n",
      "Concept supervision loss 2.4599733352661133\n",
      "Concept supervision loss 2.4585134983062744\n",
      "Concept supervision loss 2.460861921310425\n",
      "Concept supervision loss 2.455551862716675\n",
      "Concept supervision loss 2.4604740142822266\n",
      "Concept supervision loss 2.4596636295318604\n"
     ]
    },
    {
     "name": "stderr",
     "output_type": "stream",
     "text": [
      "[ 07-20 | 13:16 ] epoch 17: |██████████████████████████████████████████████████| loss: 0.01536698"
     ]
    },
    {
     "name": "stdout",
     "output_type": "stream",
     "text": [
      "Concept supervision loss 2.4611079692840576\n",
      "Concept supervision loss 2.461125612258911\n",
      "Concept supervision loss 2.460581064224243\n",
      "Concept supervision loss 2.460520029067993\n",
      "Concept supervision loss 2.461120128631592\n",
      "%%%%%%%%%%%%%%%%%%%%%%%%%%%%%%%%%%%%%%%%%%%%%%%%%%%%%%%%%%%%\n",
      "End of epoch  17\n",
      "%%%%%%%%%%%%%%%%%%%%%%%%%%%%%%%%%%%%%%%%%%%%%%%%%%%%%%%%%%%%\n",
      "\n",
      "  ACC C 30.322265625   ACC Y 96.2890625 F1 Y 95.78079109687206 F1 C 14.345041816009557\n"
     ]
    },
    {
     "name": "stderr",
     "output_type": "stream",
     "text": [
      "[ 07-20 | 13:16 ] epoch 18: |███████┈┈┈┈┈┈┈┈┈┈┈┈┈┈┈┈┈┈┈┈┈┈┈┈┈┈┈┈┈┈┈┈┈┈┈┈┈┈┈┈┈┈┈| loss: 0.05076874"
     ]
    },
    {
     "name": "stdout",
     "output_type": "stream",
     "text": [
      "\n",
      "Concept supervision loss 2.4600584506988525\n",
      "Concept supervision loss 2.460263252258301\n",
      "Concept supervision loss 2.460794687271118\n",
      "Concept supervision loss 2.4610326290130615\n",
      "Concept supervision loss 2.4611268043518066\n",
      "Concept supervision loss 2.461077928543091\n",
      "Concept supervision loss 2.4564146995544434\n",
      "Concept supervision loss 2.4606173038482666\n",
      "Concept supervision loss 2.4588773250579834\n",
      "Concept supervision loss 2.4578466415405273\n",
      "Concept supervision loss 2.4573991298675537\n"
     ]
    },
    {
     "name": "stderr",
     "output_type": "stream",
     "text": [
      "[ 07-20 | 13:16 ] epoch 18: |██████████████████████████████████████████████████| loss: 0.03991816"
     ]
    },
    {
     "name": "stdout",
     "output_type": "stream",
     "text": [
      "Concept supervision loss 2.4611074924468994\n",
      "Concept supervision loss 2.459834098815918\n",
      "Concept supervision loss 2.457587242126465\n",
      "Concept supervision loss 2.4586422443389893\n",
      "Concept supervision loss 2.4609854221343994\n",
      "%%%%%%%%%%%%%%%%%%%%%%%%%%%%%%%%%%%%%%%%%%%%%%%%%%%%%%%%%%%%\n",
      "End of epoch  18\n",
      "%%%%%%%%%%%%%%%%%%%%%%%%%%%%%%%%%%%%%%%%%%%%%%%%%%%%%%%%%%%%\n",
      "\n",
      "  ACC C 30.322265625   ACC Y 96.6796875 F1 Y 96.22066886401942 F1 C 14.375213536890183\n"
     ]
    },
    {
     "name": "stderr",
     "output_type": "stream",
     "text": [
      "[ 07-20 | 13:16 ] epoch 19: |███████┈┈┈┈┈┈┈┈┈┈┈┈┈┈┈┈┈┈┈┈┈┈┈┈┈┈┈┈┈┈┈┈┈┈┈┈┈┈┈┈┈┈┈| loss: 0.05007156"
     ]
    },
    {
     "name": "stdout",
     "output_type": "stream",
     "text": [
      "\n",
      "Concept supervision loss 2.461088180541992\n",
      "Concept supervision loss 2.4596107006073\n",
      "Concept supervision loss 2.460897207260132\n",
      "Concept supervision loss 2.4588418006896973\n",
      "Concept supervision loss 2.4609436988830566\n",
      "Concept supervision loss 2.4589273929595947\n",
      "Concept supervision loss 2.460967540740967\n",
      "Concept supervision loss 2.458691358566284\n",
      "Concept supervision loss 2.4599900245666504\n",
      "Concept supervision loss 2.459460973739624\n",
      "Concept supervision loss 2.4609549045562744\n"
     ]
    },
    {
     "name": "stderr",
     "output_type": "stream",
     "text": [
      "[ 07-20 | 13:16 ] epoch 19: |██████████████████████████████████████████████████| loss: 0.02373371"
     ]
    },
    {
     "name": "stdout",
     "output_type": "stream",
     "text": [
      "Concept supervision loss 2.4597198963165283\n",
      "Concept supervision loss 2.460676670074463\n",
      "Concept supervision loss 2.460197687149048\n",
      "Concept supervision loss 2.461090326309204\n",
      "Concept supervision loss 2.456719160079956\n",
      "%%%%%%%%%%%%%%%%%%%%%%%%%%%%%%%%%%%%%%%%%%%%%%%%%%%%%%%%%%%%\n",
      "End of epoch  19\n",
      "%%%%%%%%%%%%%%%%%%%%%%%%%%%%%%%%%%%%%%%%%%%%%%%%%%%%%%%%%%%%\n",
      "\n",
      "  ACC C 30.517578125   ACC Y 96.6796875 F1 Y 96.23618168821471 F1 C 14.504281949934123\n"
     ]
    },
    {
     "name": "stderr",
     "output_type": "stream",
     "text": [
      "[ 07-20 | 13:16 ] epoch 20: |███████┈┈┈┈┈┈┈┈┈┈┈┈┈┈┈┈┈┈┈┈┈┈┈┈┈┈┈┈┈┈┈┈┈┈┈┈┈┈┈┈┈┈┈| loss: 0.03870041"
     ]
    },
    {
     "name": "stdout",
     "output_type": "stream",
     "text": [
      "\n",
      "Concept supervision loss 2.458592653274536\n",
      "Concept supervision loss 2.461127281188965\n",
      "Concept supervision loss 2.460310220718384\n",
      "Concept supervision loss 2.4591546058654785\n",
      "Concept supervision loss 2.459836959838867\n",
      "Concept supervision loss 2.460596799850464\n",
      "Concept supervision loss 2.4588518142700195\n",
      "Concept supervision loss 2.461111307144165\n",
      "Concept supervision loss 2.4592394828796387\n",
      "Concept supervision loss 2.4607512950897217\n",
      "Concept supervision loss 2.4599475860595703\n"
     ]
    },
    {
     "name": "stderr",
     "output_type": "stream",
     "text": [
      "[ 07-20 | 13:16 ] epoch 20: |██████████████████████████████████████████████████| loss: 0.06486561"
     ]
    },
    {
     "name": "stdout",
     "output_type": "stream",
     "text": [
      "Concept supervision loss 2.460944175720215\n",
      "Concept supervision loss 2.4611268043518066\n",
      "Concept supervision loss 2.4611120223999023\n",
      "Concept supervision loss 2.4606359004974365\n",
      "Concept supervision loss 2.4598495960235596\n",
      "%%%%%%%%%%%%%%%%%%%%%%%%%%%%%%%%%%%%%%%%%%%%%%%%%%%%%%%%%%%%\n",
      "End of epoch  20\n",
      "%%%%%%%%%%%%%%%%%%%%%%%%%%%%%%%%%%%%%%%%%%%%%%%%%%%%%%%%%%%%\n",
      "\n",
      "  ACC C 30.76171875   ACC Y 97.0703125 F1 Y 96.66617873733978 F1 C 14.701759005201259\n"
     ]
    },
    {
     "name": "stderr",
     "output_type": "stream",
     "text": [
      "[ 07-20 | 13:16 ] epoch 21: |███████┈┈┈┈┈┈┈┈┈┈┈┈┈┈┈┈┈┈┈┈┈┈┈┈┈┈┈┈┈┈┈┈┈┈┈┈┈┈┈┈┈┈┈| loss: 0.03557383"
     ]
    },
    {
     "name": "stdout",
     "output_type": "stream",
     "text": [
      "\n",
      "Concept supervision loss 2.461102247238159\n",
      "Concept supervision loss 2.459810256958008\n",
      "Concept supervision loss 2.4610354900360107\n",
      "Concept supervision loss 2.461068630218506\n",
      "Concept supervision loss 2.461117744445801\n",
      "Concept supervision loss 2.4611268043518066\n",
      "Concept supervision loss 2.459608316421509\n",
      "Concept supervision loss 2.461019515991211\n",
      "Concept supervision loss 2.4611241817474365\n",
      "Concept supervision loss 2.4570488929748535\n",
      "Concept supervision loss 2.4597325325012207\n"
     ]
    },
    {
     "name": "stderr",
     "output_type": "stream",
     "text": [
      "[ 07-20 | 13:16 ] epoch 21: |██████████████████████████████████████████████████| loss: 0.04734617"
     ]
    },
    {
     "name": "stdout",
     "output_type": "stream",
     "text": [
      "Concept supervision loss 2.4596245288848877\n",
      "Concept supervision loss 2.4611263275146484\n",
      "Concept supervision loss 2.456869602203369\n",
      "Concept supervision loss 2.4611270427703857\n",
      "Concept supervision loss 2.4590280055999756\n",
      "%%%%%%%%%%%%%%%%%%%%%%%%%%%%%%%%%%%%%%%%%%%%%%%%%%%%%%%%%%%%\n",
      "End of epoch  21\n",
      "%%%%%%%%%%%%%%%%%%%%%%%%%%%%%%%%%%%%%%%%%%%%%%%%%%%%%%%%%%%%\n",
      "\n",
      "  ACC C 30.6640625   ACC Y 97.0703125 F1 Y 96.66617873733978 F1 C 14.59719468311669\n"
     ]
    },
    {
     "name": "stderr",
     "output_type": "stream",
     "text": [
      "[ 07-20 | 13:16 ] epoch 22: |███████┈┈┈┈┈┈┈┈┈┈┈┈┈┈┈┈┈┈┈┈┈┈┈┈┈┈┈┈┈┈┈┈┈┈┈┈┈┈┈┈┈┈┈| loss: 0.02046132"
     ]
    },
    {
     "name": "stdout",
     "output_type": "stream",
     "text": [
      "\n",
      "Concept supervision loss 2.4608325958251953\n",
      "Concept supervision loss 2.461115598678589\n",
      "Concept supervision loss 2.4583303928375244\n",
      "Concept supervision loss 2.4607415199279785\n",
      "Concept supervision loss 2.4602420330047607\n",
      "Concept supervision loss 2.4611270427703857\n",
      "Concept supervision loss 2.459218978881836\n",
      "Concept supervision loss 2.4599969387054443\n",
      "Concept supervision loss 2.4611122608184814\n",
      "Concept supervision loss 2.460336208343506\n",
      "Concept supervision loss 2.460921049118042\n"
     ]
    },
    {
     "name": "stderr",
     "output_type": "stream",
     "text": [
      "[ 07-20 | 13:16 ] epoch 22: |██████████████████████████████████████████████████| loss: 0.02169556"
     ]
    },
    {
     "name": "stdout",
     "output_type": "stream",
     "text": [
      "Concept supervision loss 2.459968090057373\n",
      "Concept supervision loss 2.4611175060272217\n",
      "Concept supervision loss 2.461125373840332\n",
      "Concept supervision loss 2.4608676433563232\n",
      "Concept supervision loss 2.4611265659332275\n",
      "%%%%%%%%%%%%%%%%%%%%%%%%%%%%%%%%%%%%%%%%%%%%%%%%%%%%%%%%%%%%\n",
      "End of epoch  22\n",
      "%%%%%%%%%%%%%%%%%%%%%%%%%%%%%%%%%%%%%%%%%%%%%%%%%%%%%%%%%%%%\n",
      "\n",
      "  ACC C 30.908203125   ACC Y 96.6796875 F1 Y 96.22066886401942 F1 C 14.788245462402767\n"
     ]
    },
    {
     "name": "stderr",
     "output_type": "stream",
     "text": [
      "[ 07-20 | 13:16 ] epoch 23: |███████┈┈┈┈┈┈┈┈┈┈┈┈┈┈┈┈┈┈┈┈┈┈┈┈┈┈┈┈┈┈┈┈┈┈┈┈┈┈┈┈┈┈┈| loss: 0.01690689"
     ]
    },
    {
     "name": "stdout",
     "output_type": "stream",
     "text": [
      "\n",
      "Concept supervision loss 2.460963010787964\n",
      "Concept supervision loss 2.461092472076416\n",
      "Concept supervision loss 2.4608051776885986\n",
      "Concept supervision loss 2.4606354236602783\n",
      "Concept supervision loss 2.4598536491394043\n",
      "Concept supervision loss 2.459672212600708\n",
      "Concept supervision loss 2.4610981941223145\n",
      "Concept supervision loss 2.459320068359375\n",
      "Concept supervision loss 2.4596359729766846\n",
      "Concept supervision loss 2.4611153602600098\n",
      "Concept supervision loss 2.4611265659332275\n"
     ]
    },
    {
     "name": "stderr",
     "output_type": "stream",
     "text": [
      "[ 07-20 | 13:16 ] epoch 23: |██████████████████████████████████████████████████| loss: 0.03536089"
     ]
    },
    {
     "name": "stdout",
     "output_type": "stream",
     "text": [
      "Concept supervision loss 2.4610755443573\n",
      "Concept supervision loss 2.459388256072998\n",
      "Concept supervision loss 2.460767984390259\n",
      "Concept supervision loss 2.459487199783325\n",
      "Concept supervision loss 2.461123466491699\n",
      "%%%%%%%%%%%%%%%%%%%%%%%%%%%%%%%%%%%%%%%%%%%%%%%%%%%%%%%%%%%%\n",
      "End of epoch  23\n",
      "%%%%%%%%%%%%%%%%%%%%%%%%%%%%%%%%%%%%%%%%%%%%%%%%%%%%%%%%%%%%\n",
      "\n",
      "  ACC C 30.76171875   ACC Y 97.0703125 F1 Y 96.67874865306933 F1 C 14.607996426178243\n"
     ]
    },
    {
     "name": "stderr",
     "output_type": "stream",
     "text": [
      "[ 07-20 | 13:16 ] epoch 24: |███████┈┈┈┈┈┈┈┈┈┈┈┈┈┈┈┈┈┈┈┈┈┈┈┈┈┈┈┈┈┈┈┈┈┈┈┈┈┈┈┈┈┈┈| loss: 0.02515485"
     ]
    },
    {
     "name": "stdout",
     "output_type": "stream",
     "text": [
      "\n",
      "Saving...\n",
      "Saved best model with F1 score: 96.67874865306933\n",
      "\n",
      "Concept supervision loss 2.4596056938171387\n",
      "Concept supervision loss 2.461116075515747\n",
      "Concept supervision loss 2.460840940475464\n",
      "Concept supervision loss 2.4611170291900635\n",
      "Concept supervision loss 2.4590981006622314\n",
      "Concept supervision loss 2.460866689682007\n",
      "Concept supervision loss 2.457195281982422\n",
      "Concept supervision loss 2.4610912799835205\n",
      "Concept supervision loss 2.4611270427703857\n",
      "Concept supervision loss 2.459932565689087\n",
      "Concept supervision loss 2.4607913494110107\n"
     ]
    },
    {
     "name": "stderr",
     "output_type": "stream",
     "text": [
      "[ 07-20 | 13:16 ] epoch 24: |██████████████████████████████████████████████████| loss: 0.01045293"
     ]
    },
    {
     "name": "stdout",
     "output_type": "stream",
     "text": [
      "Concept supervision loss 2.458768367767334\n",
      "Concept supervision loss 2.459463119506836\n",
      "Concept supervision loss 2.461038112640381\n",
      "Concept supervision loss 2.4579544067382812\n",
      "Concept supervision loss 2.456542730331421\n",
      "%%%%%%%%%%%%%%%%%%%%%%%%%%%%%%%%%%%%%%%%%%%%%%%%%%%%%%%%%%%%\n",
      "End of epoch  24\n",
      "%%%%%%%%%%%%%%%%%%%%%%%%%%%%%%%%%%%%%%%%%%%%%%%%%%%%%%%%%%%%\n",
      "\n",
      "  ACC C 31.494140625   ACC Y 96.484375 F1 Y 96.00080512186804 F1 C 15.05670903397279\n"
     ]
    },
    {
     "name": "stderr",
     "output_type": "stream",
     "text": [
      "[ 07-20 | 13:16 ] epoch 25: |███████┈┈┈┈┈┈┈┈┈┈┈┈┈┈┈┈┈┈┈┈┈┈┈┈┈┈┈┈┈┈┈┈┈┈┈┈┈┈┈┈┈┈┈| loss: 0.01759462"
     ]
    },
    {
     "name": "stdout",
     "output_type": "stream",
     "text": [
      "\n",
      "Concept supervision loss 2.4592161178588867\n",
      "Concept supervision loss 2.459843397140503\n",
      "Concept supervision loss 2.459172487258911\n",
      "Concept supervision loss 2.460408926010132\n",
      "Concept supervision loss 2.460294485092163\n",
      "Concept supervision loss 2.4610915184020996\n",
      "Concept supervision loss 2.4604341983795166\n",
      "Concept supervision loss 2.460681438446045\n",
      "Concept supervision loss 2.4610695838928223\n",
      "Concept supervision loss 2.459280014038086\n",
      "Concept supervision loss 2.4611265659332275\n"
     ]
    },
    {
     "name": "stderr",
     "output_type": "stream",
     "text": [
      "[ 07-20 | 13:16 ] epoch 25: |██████████████████████████████████████████████████| loss: 0.04070654"
     ]
    },
    {
     "name": "stdout",
     "output_type": "stream",
     "text": [
      "Concept supervision loss 2.4611270427703857\n",
      "Concept supervision loss 2.45974063873291\n",
      "Concept supervision loss 2.460954427719116\n",
      "Concept supervision loss 2.4594666957855225\n",
      "Concept supervision loss 2.461125612258911\n",
      "%%%%%%%%%%%%%%%%%%%%%%%%%%%%%%%%%%%%%%%%%%%%%%%%%%%%%%%%%%%%\n",
      "End of epoch  25\n",
      "%%%%%%%%%%%%%%%%%%%%%%%%%%%%%%%%%%%%%%%%%%%%%%%%%%%%%%%%%%%%\n",
      "\n",
      "  ACC C 30.712890625   ACC Y 97.0703125 F1 Y 96.66617873733978 F1 C 14.564953922846493\n"
     ]
    },
    {
     "name": "stderr",
     "output_type": "stream",
     "text": [
      "[ 07-20 | 13:16 ] epoch 26: |███████┈┈┈┈┈┈┈┈┈┈┈┈┈┈┈┈┈┈┈┈┈┈┈┈┈┈┈┈┈┈┈┈┈┈┈┈┈┈┈┈┈┈┈| loss: 0.03514478"
     ]
    },
    {
     "name": "stdout",
     "output_type": "stream",
     "text": [
      "\n",
      "Concept supervision loss 2.460847854614258\n",
      "Concept supervision loss 2.461066246032715\n",
      "Concept supervision loss 2.4600648880004883\n",
      "Concept supervision loss 2.458232879638672\n",
      "Concept supervision loss 2.4611268043518066\n",
      "Concept supervision loss 2.4592771530151367\n",
      "Concept supervision loss 2.4607064723968506\n",
      "Concept supervision loss 2.4607346057891846\n",
      "Concept supervision loss 2.4607017040252686\n",
      "Concept supervision loss 2.4604663848876953\n",
      "Concept supervision loss 2.460742473602295\n"
     ]
    },
    {
     "name": "stderr",
     "output_type": "stream",
     "text": [
      "[ 07-20 | 13:16 ] epoch 26: |██████████████████████████████████████████████████| loss: 0.01049069"
     ]
    },
    {
     "name": "stdout",
     "output_type": "stream",
     "text": [
      "Concept supervision loss 2.461083173751831\n",
      "Concept supervision loss 2.4611122608184814\n",
      "Concept supervision loss 2.45944881439209\n",
      "Concept supervision loss 2.4611270427703857\n",
      "Concept supervision loss 2.4600319862365723\n",
      "%%%%%%%%%%%%%%%%%%%%%%%%%%%%%%%%%%%%%%%%%%%%%%%%%%%%%%%%%%%%\n",
      "End of epoch  26\n",
      "%%%%%%%%%%%%%%%%%%%%%%%%%%%%%%%%%%%%%%%%%%%%%%%%%%%%%%%%%%%%\n",
      "\n",
      "  ACC C 30.615234375   ACC Y 96.6796875 F1 Y 96.22066886401942 F1 C 14.509195017489581\n"
     ]
    },
    {
     "name": "stderr",
     "output_type": "stream",
     "text": [
      "[ 07-20 | 13:16 ] epoch 27: |███████┈┈┈┈┈┈┈┈┈┈┈┈┈┈┈┈┈┈┈┈┈┈┈┈┈┈┈┈┈┈┈┈┈┈┈┈┈┈┈┈┈┈┈| loss: 0.01885511"
     ]
    },
    {
     "name": "stdout",
     "output_type": "stream",
     "text": [
      "\n",
      "Concept supervision loss 2.4572696685791016\n",
      "Concept supervision loss 2.4597830772399902\n",
      "Concept supervision loss 2.4593350887298584\n",
      "Concept supervision loss 2.459181308746338\n",
      "Concept supervision loss 2.4611175060272217\n",
      "Concept supervision loss 2.460939407348633\n",
      "Concept supervision loss 2.4611217975616455\n",
      "Concept supervision loss 2.4609267711639404\n",
      "Concept supervision loss 2.458935260772705\n",
      "Concept supervision loss 2.4594666957855225\n",
      "Concept supervision loss 2.4580466747283936\n"
     ]
    },
    {
     "name": "stderr",
     "output_type": "stream",
     "text": [
      "[ 07-20 | 13:16 ] epoch 27: |██████████████████████████████████████████████████| loss: 0.02205964"
     ]
    },
    {
     "name": "stdout",
     "output_type": "stream",
     "text": [
      "Concept supervision loss 2.460733413696289\n",
      "Concept supervision loss 2.4611270427703857\n",
      "Concept supervision loss 2.460148811340332\n",
      "Concept supervision loss 2.461120843887329\n",
      "Concept supervision loss 2.458662509918213\n",
      "%%%%%%%%%%%%%%%%%%%%%%%%%%%%%%%%%%%%%%%%%%%%%%%%%%%%%%%%%%%%\n",
      "End of epoch  27\n",
      "%%%%%%%%%%%%%%%%%%%%%%%%%%%%%%%%%%%%%%%%%%%%%%%%%%%%%%%%%%%%\n",
      "\n",
      "  ACC C 30.46875   ACC Y 97.0703125 F1 Y 96.66617873733978 F1 C 14.340410720501218\n"
     ]
    },
    {
     "name": "stderr",
     "output_type": "stream",
     "text": [
      "[ 07-20 | 13:16 ] epoch 28: |███████┈┈┈┈┈┈┈┈┈┈┈┈┈┈┈┈┈┈┈┈┈┈┈┈┈┈┈┈┈┈┈┈┈┈┈┈┈┈┈┈┈┈┈| loss: 0.02393032"
     ]
    },
    {
     "name": "stdout",
     "output_type": "stream",
     "text": [
      "\n",
      "Concept supervision loss 2.460273265838623\n",
      "Concept supervision loss 2.461054801940918\n",
      "Concept supervision loss 2.460859775543213\n",
      "Concept supervision loss 2.4599406719207764\n",
      "Concept supervision loss 2.46111798286438\n",
      "Concept supervision loss 2.4611270427703857\n",
      "Concept supervision loss 2.4609134197235107\n",
      "Concept supervision loss 2.459373950958252\n",
      "Concept supervision loss 2.460066795349121\n",
      "Concept supervision loss 2.459505081176758\n",
      "Concept supervision loss 2.460991382598877\n"
     ]
    },
    {
     "name": "stderr",
     "output_type": "stream",
     "text": [
      "[ 07-20 | 13:16 ] epoch 28: |██████████████████████████████████████████████████| loss: 0.0467147"
     ]
    },
    {
     "name": "stdout",
     "output_type": "stream",
     "text": [
      "Concept supervision loss 2.4591224193573\n",
      "Concept supervision loss 2.460566759109497\n",
      "Concept supervision loss 2.459028720855713\n",
      "Concept supervision loss 2.46103835105896\n",
      "Concept supervision loss 2.4609594345092773\n",
      "%%%%%%%%%%%%%%%%%%%%%%%%%%%%%%%%%%%%%%%%%%%%%%%%%%%%%%%%%%%%\n",
      "End of epoch  28\n",
      "%%%%%%%%%%%%%%%%%%%%%%%%%%%%%%%%%%%%%%%%%%%%%%%%%%%%%%%%%%%%\n",
      "\n",
      "  ACC C 30.615234375   ACC Y 97.0703125 F1 Y 96.66617873733978 F1 C 14.50216225386834\n"
     ]
    },
    {
     "name": "stderr",
     "output_type": "stream",
     "text": [
      "[ 07-20 | 13:16 ] epoch 29: |███████┈┈┈┈┈┈┈┈┈┈┈┈┈┈┈┈┈┈┈┈┈┈┈┈┈┈┈┈┈┈┈┈┈┈┈┈┈┈┈┈┈┈┈| loss: 0.01829473"
     ]
    },
    {
     "name": "stdout",
     "output_type": "stream",
     "text": [
      "\n",
      "Concept supervision loss 2.4588074684143066\n",
      "Concept supervision loss 2.458333730697632\n",
      "Concept supervision loss 2.460874319076538\n",
      "Concept supervision loss 2.461059808731079\n",
      "Concept supervision loss 2.4575915336608887\n",
      "Concept supervision loss 2.460641384124756\n",
      "Concept supervision loss 2.46109938621521\n",
      "Concept supervision loss 2.4599504470825195\n",
      "Concept supervision loss 2.460763692855835\n",
      "Concept supervision loss 2.461116313934326\n",
      "Concept supervision loss 2.4611122608184814\n"
     ]
    },
    {
     "name": "stderr",
     "output_type": "stream",
     "text": [
      "[ 07-20 | 13:16 ] epoch 29: |██████████████████████████████████████████████████| loss: 0.03542586"
     ]
    },
    {
     "name": "stdout",
     "output_type": "stream",
     "text": [
      "Concept supervision loss 2.4607577323913574\n",
      "Concept supervision loss 2.4611270427703857\n",
      "Concept supervision loss 2.4597294330596924\n",
      "Concept supervision loss 2.4585137367248535\n",
      "Concept supervision loss 2.460268259048462\n",
      "%%%%%%%%%%%%%%%%%%%%%%%%%%%%%%%%%%%%%%%%%%%%%%%%%%%%%%%%%%%%\n",
      "End of epoch  29\n",
      "%%%%%%%%%%%%%%%%%%%%%%%%%%%%%%%%%%%%%%%%%%%%%%%%%%%%%%%%%%%%\n",
      "\n",
      "  ACC C 30.2734375   ACC Y 97.0703125 F1 Y 96.67874865306933 F1 C 14.04385909076004\n"
     ]
    },
    {
     "name": "stderr",
     "output_type": "stream",
     "text": [
      "[ 07-20 | 13:16 ] epoch 30: |███████┈┈┈┈┈┈┈┈┈┈┈┈┈┈┈┈┈┈┈┈┈┈┈┈┈┈┈┈┈┈┈┈┈┈┈┈┈┈┈┈┈┈┈| loss: 0.01234825"
     ]
    },
    {
     "name": "stdout",
     "output_type": "stream",
     "text": [
      "\n",
      "Concept supervision loss 2.461120843887329\n",
      "Concept supervision loss 2.4611239433288574\n",
      "Concept supervision loss 2.4598071575164795\n",
      "Concept supervision loss 2.4595863819122314\n",
      "Concept supervision loss 2.4595508575439453\n",
      "Concept supervision loss 2.461127281188965\n",
      "Concept supervision loss 2.4607760906219482\n",
      "Concept supervision loss 2.4580793380737305\n",
      "Concept supervision loss 2.458066701889038\n"
     ]
    },
    {
     "name": "stderr",
     "output_type": "stream",
     "text": [
      "[ 07-20 | 13:16 ] epoch 30: |██████████████████████████████████████████████████| loss: 0.02219446"
     ]
    },
    {
     "name": "stdout",
     "output_type": "stream",
     "text": [
      "Concept supervision loss 2.4611270427703857\n",
      "Concept supervision loss 2.4603898525238037\n",
      "Concept supervision loss 2.459669589996338\n",
      "Concept supervision loss 2.459853410720825\n",
      "Concept supervision loss 2.4590015411376953\n",
      "Concept supervision loss 2.4610705375671387\n",
      "Concept supervision loss 2.45943284034729\n",
      "%%%%%%%%%%%%%%%%%%%%%%%%%%%%%%%%%%%%%%%%%%%%%%%%%%%%%%%%%%%%\n",
      "End of epoch  30\n",
      "%%%%%%%%%%%%%%%%%%%%%%%%%%%%%%%%%%%%%%%%%%%%%%%%%%%%%%%%%%%%\n",
      "\n",
      "  ACC C 30.615234375   ACC Y 97.0703125 F1 Y 96.66617873733978 F1 C 14.429122067423542\n"
     ]
    },
    {
     "name": "stderr",
     "output_type": "stream",
     "text": [
      "[ 07-20 | 13:16 ] epoch 31: |███████┈┈┈┈┈┈┈┈┈┈┈┈┈┈┈┈┈┈┈┈┈┈┈┈┈┈┈┈┈┈┈┈┈┈┈┈┈┈┈┈┈┈┈| loss: 0.03663753"
     ]
    },
    {
     "name": "stdout",
     "output_type": "stream",
     "text": [
      "\n",
      "Concept supervision loss 2.46112322807312\n",
      "Concept supervision loss 2.461125612258911\n",
      "Concept supervision loss 2.45936918258667\n",
      "Concept supervision loss 2.461083173751831\n",
      "Concept supervision loss 2.4586873054504395\n",
      "Concept supervision loss 2.459519386291504\n",
      "Concept supervision loss 2.460608720779419\n",
      "Concept supervision loss 2.4601330757141113\n",
      "Concept supervision loss 2.461028814315796\n",
      "Concept supervision loss 2.4599287509918213\n"
     ]
    },
    {
     "name": "stderr",
     "output_type": "stream",
     "text": [
      "[ 07-20 | 13:16 ] epoch 31: |██████████████████████████████████████████████████| loss: 0.02432296"
     ]
    },
    {
     "name": "stdout",
     "output_type": "stream",
     "text": [
      "Concept supervision loss 2.4611058235168457\n",
      "Concept supervision loss 2.460597515106201\n",
      "Concept supervision loss 2.458519697189331\n",
      "Concept supervision loss 2.461118698120117\n",
      "Concept supervision loss 2.459667205810547\n",
      "Concept supervision loss 2.458531618118286\n",
      "%%%%%%%%%%%%%%%%%%%%%%%%%%%%%%%%%%%%%%%%%%%%%%%%%%%%%%%%%%%%\n",
      "End of epoch  31\n",
      "%%%%%%%%%%%%%%%%%%%%%%%%%%%%%%%%%%%%%%%%%%%%%%%%%%%%%%%%%%%%\n",
      "\n",
      "  ACC C 30.908203125   ACC Y 96.875 F1 Y 96.44337208672266 F1 C 14.687743059555567\n"
     ]
    },
    {
     "name": "stderr",
     "output_type": "stream",
     "text": [
      "[ 07-20 | 13:16 ] epoch 32: |███████┈┈┈┈┈┈┈┈┈┈┈┈┈┈┈┈┈┈┈┈┈┈┈┈┈┈┈┈┈┈┈┈┈┈┈┈┈┈┈┈┈┈┈| loss: 0.03893426"
     ]
    },
    {
     "name": "stdout",
     "output_type": "stream",
     "text": [
      "\n",
      "Concept supervision loss 2.4610564708709717\n",
      "Concept supervision loss 2.461031675338745\n",
      "Concept supervision loss 2.460496664047241\n",
      "Concept supervision loss 2.4611215591430664\n",
      "Concept supervision loss 2.4608685970306396\n",
      "Concept supervision loss 2.460493564605713\n",
      "Concept supervision loss 2.4609382152557373\n",
      "Concept supervision loss 2.4596097469329834\n",
      "Concept supervision loss 2.4608428478240967\n",
      "Concept supervision loss 2.460901975631714\n",
      "Concept supervision loss 2.461120843887329\n"
     ]
    },
    {
     "name": "stderr",
     "output_type": "stream",
     "text": [
      "[ 07-20 | 13:16 ] epoch 32: |██████████████████████████████████████████████████| loss: 0.03860503"
     ]
    },
    {
     "name": "stdout",
     "output_type": "stream",
     "text": [
      "Concept supervision loss 2.4599552154541016\n",
      "Concept supervision loss 2.458878993988037\n",
      "Concept supervision loss 2.4610698223114014\n",
      "Concept supervision loss 2.4611239433288574\n",
      "Concept supervision loss 2.4606237411499023\n",
      "%%%%%%%%%%%%%%%%%%%%%%%%%%%%%%%%%%%%%%%%%%%%%%%%%%%%%%%%%%%%\n",
      "End of epoch  32\n",
      "%%%%%%%%%%%%%%%%%%%%%%%%%%%%%%%%%%%%%%%%%%%%%%%%%%%%%%%%%%%%\n",
      "\n",
      "  ACC C 30.95703125   ACC Y 97.0703125 F1 Y 96.67874865306933 F1 C 14.698918151136056\n"
     ]
    },
    {
     "name": "stderr",
     "output_type": "stream",
     "text": [
      "[ 07-20 | 13:16 ] epoch 33: |███████┈┈┈┈┈┈┈┈┈┈┈┈┈┈┈┈┈┈┈┈┈┈┈┈┈┈┈┈┈┈┈┈┈┈┈┈┈┈┈┈┈┈┈| loss: 0.00802489"
     ]
    },
    {
     "name": "stdout",
     "output_type": "stream",
     "text": [
      "\n",
      "Concept supervision loss 2.461127281188965\n",
      "Concept supervision loss 2.460454225540161\n",
      "Concept supervision loss 2.460984468460083\n",
      "Concept supervision loss 2.45871901512146\n",
      "Concept supervision loss 2.4611265659332275\n",
      "Concept supervision loss 2.46099591255188\n",
      "Concept supervision loss 2.4606313705444336\n",
      "Concept supervision loss 2.459507703781128\n",
      "Concept supervision loss 2.4589662551879883\n",
      "Concept supervision loss 2.458282947540283\n",
      "Concept supervision loss 2.4575283527374268\n"
     ]
    },
    {
     "name": "stderr",
     "output_type": "stream",
     "text": [
      "[ 07-20 | 13:16 ] epoch 33: |██████████████████████████████████████████████████| loss: 0.01209894"
     ]
    },
    {
     "name": "stdout",
     "output_type": "stream",
     "text": [
      "Concept supervision loss 2.461071729660034\n",
      "Concept supervision loss 2.4579896926879883\n",
      "Concept supervision loss 2.460516929626465\n",
      "Concept supervision loss 2.459514617919922\n",
      "Concept supervision loss 2.460780382156372\n",
      "%%%%%%%%%%%%%%%%%%%%%%%%%%%%%%%%%%%%%%%%%%%%%%%%%%%%%%%%%%%%\n",
      "End of epoch  33\n",
      "%%%%%%%%%%%%%%%%%%%%%%%%%%%%%%%%%%%%%%%%%%%%%%%%%%%%%%%%%%%%\n",
      "\n",
      "  ACC C 31.0546875   ACC Y 97.0703125 F1 Y 96.66617873733978 F1 C 14.776840796712218\n"
     ]
    },
    {
     "name": "stderr",
     "output_type": "stream",
     "text": [
      "[ 07-20 | 13:16 ] epoch 34: |███████┈┈┈┈┈┈┈┈┈┈┈┈┈┈┈┈┈┈┈┈┈┈┈┈┈┈┈┈┈┈┈┈┈┈┈┈┈┈┈┈┈┈┈| loss: 0.00882269"
     ]
    },
    {
     "name": "stdout",
     "output_type": "stream",
     "text": [
      "\n",
      "Concept supervision loss 2.461127281188965\n",
      "Concept supervision loss 2.46099853515625\n",
      "Concept supervision loss 2.4608664512634277\n",
      "Concept supervision loss 2.459620475769043\n",
      "Concept supervision loss 2.4610977172851562\n",
      "Concept supervision loss 2.4582889080047607\n",
      "Concept supervision loss 2.460515260696411\n",
      "Concept supervision loss 2.461045503616333\n",
      "Concept supervision loss 2.4582643508911133\n",
      "Concept supervision loss 2.460822343826294\n",
      "Concept supervision loss 2.460090160369873\n"
     ]
    },
    {
     "name": "stderr",
     "output_type": "stream",
     "text": [
      "[ 07-20 | 13:16 ] epoch 34: |██████████████████████████████████████████████████| loss: 0.02507806"
     ]
    },
    {
     "name": "stdout",
     "output_type": "stream",
     "text": [
      "Concept supervision loss 2.4600446224212646\n",
      "Concept supervision loss 2.461029291152954\n",
      "Concept supervision loss 2.461125612258911\n",
      "Concept supervision loss 2.4609103202819824\n",
      "Concept supervision loss 2.4609014987945557\n",
      "%%%%%%%%%%%%%%%%%%%%%%%%%%%%%%%%%%%%%%%%%%%%%%%%%%%%%%%%%%%%\n",
      "End of epoch  34\n",
      "%%%%%%%%%%%%%%%%%%%%%%%%%%%%%%%%%%%%%%%%%%%%%%%%%%%%%%%%%%%%\n",
      "\n",
      "  ACC C 31.201171875   ACC Y 97.265625 F1 Y 96.90155530368645 F1 C 14.91306667962997\n"
     ]
    },
    {
     "name": "stderr",
     "output_type": "stream",
     "text": [
      "[ 07-20 | 13:16 ] epoch 35: |███████┈┈┈┈┈┈┈┈┈┈┈┈┈┈┈┈┈┈┈┈┈┈┈┈┈┈┈┈┈┈┈┈┈┈┈┈┈┈┈┈┈┈┈| loss: 0.01297549"
     ]
    },
    {
     "name": "stdout",
     "output_type": "stream",
     "text": [
      "\n",
      "Saving...\n",
      "Saved best model with F1 score: 96.90155530368645\n",
      "\n",
      "Concept supervision loss 2.4607698917388916\n",
      "Concept supervision loss 2.460920572280884\n",
      "Concept supervision loss 2.461123466491699\n",
      "Concept supervision loss 2.460228681564331\n",
      "Concept supervision loss 2.461125373840332\n",
      "Concept supervision loss 2.461109161376953\n",
      "Concept supervision loss 2.4611265659332275\n",
      "Concept supervision loss 2.4605422019958496\n",
      "Concept supervision loss 2.4611270427703857\n",
      "Concept supervision loss 2.4606945514678955\n",
      "Concept supervision loss 2.45910382270813\n"
     ]
    },
    {
     "name": "stderr",
     "output_type": "stream",
     "text": [
      "[ 07-20 | 13:16 ] epoch 35: |██████████████████████████████████████████████████| loss: 0.03131857"
     ]
    },
    {
     "name": "stdout",
     "output_type": "stream",
     "text": [
      "Concept supervision loss 2.4572200775146484\n",
      "Concept supervision loss 2.4609107971191406\n",
      "Concept supervision loss 2.4611258506774902\n",
      "Concept supervision loss 2.455073595046997\n",
      "Concept supervision loss 2.4611268043518066\n",
      "%%%%%%%%%%%%%%%%%%%%%%%%%%%%%%%%%%%%%%%%%%%%%%%%%%%%%%%%%%%%\n",
      "End of epoch  35\n",
      "%%%%%%%%%%%%%%%%%%%%%%%%%%%%%%%%%%%%%%%%%%%%%%%%%%%%%%%%%%%%\n",
      "\n",
      "  ACC C 31.005859375   ACC Y 97.265625 F1 Y 96.90155530368645 F1 C 14.71790587580061\n"
     ]
    },
    {
     "name": "stderr",
     "output_type": "stream",
     "text": [
      "[ 07-20 | 13:16 ] epoch 36: |███████┈┈┈┈┈┈┈┈┈┈┈┈┈┈┈┈┈┈┈┈┈┈┈┈┈┈┈┈┈┈┈┈┈┈┈┈┈┈┈┈┈┈┈| loss: 0.01848485"
     ]
    },
    {
     "name": "stdout",
     "output_type": "stream",
     "text": [
      "\n",
      "Concept supervision loss 2.461125373840332\n",
      "Concept supervision loss 2.4608776569366455\n",
      "Concept supervision loss 2.46075177192688\n",
      "Concept supervision loss 2.461113691329956\n",
      "Concept supervision loss 2.4611263275146484\n",
      "Concept supervision loss 2.4611260890960693\n",
      "Concept supervision loss 2.4608099460601807\n",
      "Concept supervision loss 2.4611270427703857\n",
      "Concept supervision loss 2.459413528442383\n",
      "Concept supervision loss 2.460517168045044\n",
      "Concept supervision loss 2.4610815048217773\n"
     ]
    },
    {
     "name": "stderr",
     "output_type": "stream",
     "text": [
      "[ 07-20 | 13:16 ] epoch 36: |██████████████████████████████████████████████████| loss: 0.02957111"
     ]
    },
    {
     "name": "stdout",
     "output_type": "stream",
     "text": [
      "Concept supervision loss 2.4611263275146484\n",
      "Concept supervision loss 2.460320234298706\n",
      "Concept supervision loss 2.4596738815307617\n",
      "Concept supervision loss 2.4611258506774902\n",
      "Concept supervision loss 2.4611268043518066\n",
      "%%%%%%%%%%%%%%%%%%%%%%%%%%%%%%%%%%%%%%%%%%%%%%%%%%%%%%%%%%%%\n",
      "End of epoch  36\n",
      "%%%%%%%%%%%%%%%%%%%%%%%%%%%%%%%%%%%%%%%%%%%%%%%%%%%%%%%%%%%%\n",
      "\n",
      "  ACC C 31.005859375   ACC Y 97.0703125 F1 Y 96.66617873733978 F1 C 14.670898862320925\n"
     ]
    },
    {
     "name": "stderr",
     "output_type": "stream",
     "text": [
      "[ 07-20 | 13:16 ] epoch 37: |███████┈┈┈┈┈┈┈┈┈┈┈┈┈┈┈┈┈┈┈┈┈┈┈┈┈┈┈┈┈┈┈┈┈┈┈┈┈┈┈┈┈┈┈| loss: 0.01710443"
     ]
    },
    {
     "name": "stdout",
     "output_type": "stream",
     "text": [
      "\n",
      "Concept supervision loss 2.4611258506774902\n",
      "Concept supervision loss 2.461125612258911\n",
      "Concept supervision loss 2.4589552879333496\n",
      "Concept supervision loss 2.4610493183135986\n",
      "Concept supervision loss 2.461121082305908\n",
      "Concept supervision loss 2.4611268043518066\n",
      "Concept supervision loss 2.4611265659332275\n",
      "Concept supervision loss 2.4594528675079346\n",
      "Concept supervision loss 2.4610629081726074\n",
      "Concept supervision loss 2.4584925174713135\n",
      "Concept supervision loss 2.4605495929718018\n"
     ]
    },
    {
     "name": "stderr",
     "output_type": "stream",
     "text": [
      "[ 07-20 | 13:17 ] epoch 37: |██████████████████████████████████████████████████| loss: 0.04821295"
     ]
    },
    {
     "name": "stdout",
     "output_type": "stream",
     "text": [
      "Concept supervision loss 2.46111798286438\n",
      "Concept supervision loss 2.4600582122802734\n",
      "Concept supervision loss 2.459498643875122\n",
      "Concept supervision loss 2.459801435470581\n",
      "Concept supervision loss 2.4611268043518066\n",
      "%%%%%%%%%%%%%%%%%%%%%%%%%%%%%%%%%%%%%%%%%%%%%%%%%%%%%%%%%%%%\n",
      "End of epoch  37\n",
      "%%%%%%%%%%%%%%%%%%%%%%%%%%%%%%%%%%%%%%%%%%%%%%%%%%%%%%%%%%%%\n",
      "\n",
      "  ACC C 31.15234375   ACC Y 97.0703125 F1 Y 96.66617873733978 F1 C 14.812114023816584\n"
     ]
    },
    {
     "name": "stderr",
     "output_type": "stream",
     "text": [
      "[ 07-20 | 13:17 ] epoch 38: |███████┈┈┈┈┈┈┈┈┈┈┈┈┈┈┈┈┈┈┈┈┈┈┈┈┈┈┈┈┈┈┈┈┈┈┈┈┈┈┈┈┈┈┈| loss: 0.01717996"
     ]
    },
    {
     "name": "stdout",
     "output_type": "stream",
     "text": [
      "\n",
      "Concept supervision loss 2.4576661586761475\n",
      "Concept supervision loss 2.461099863052368\n",
      "Concept supervision loss 2.460999011993408\n",
      "Concept supervision loss 2.45967173576355\n",
      "Concept supervision loss 2.4585139751434326\n",
      "Concept supervision loss 2.4584953784942627\n",
      "Concept supervision loss 2.4611239433288574\n",
      "Concept supervision loss 2.459022045135498\n",
      "Concept supervision loss 2.458495855331421\n",
      "Concept supervision loss 2.4610588550567627\n",
      "Concept supervision loss 2.4611244201660156\n"
     ]
    },
    {
     "name": "stderr",
     "output_type": "stream",
     "text": [
      "[ 07-20 | 13:17 ] epoch 38: |██████████████████████████████████████████████████| loss: 0.03587107"
     ]
    },
    {
     "name": "stdout",
     "output_type": "stream",
     "text": [
      "Concept supervision loss 2.4611246585845947\n",
      "Concept supervision loss 2.4609639644622803\n",
      "Concept supervision loss 2.4611246585845947\n",
      "Concept supervision loss 2.4593405723571777\n",
      "Concept supervision loss 2.461111068725586\n",
      "%%%%%%%%%%%%%%%%%%%%%%%%%%%%%%%%%%%%%%%%%%%%%%%%%%%%%%%%%%%%\n",
      "End of epoch  38\n",
      "%%%%%%%%%%%%%%%%%%%%%%%%%%%%%%%%%%%%%%%%%%%%%%%%%%%%%%%%%%%%\n",
      "\n",
      "  ACC C 31.005859375   ACC Y 97.0703125 F1 Y 96.66617873733978 F1 C 14.677327515374664\n"
     ]
    },
    {
     "name": "stderr",
     "output_type": "stream",
     "text": [
      "[ 07-20 | 13:17 ] epoch 39: |███████┈┈┈┈┈┈┈┈┈┈┈┈┈┈┈┈┈┈┈┈┈┈┈┈┈┈┈┈┈┈┈┈┈┈┈┈┈┈┈┈┈┈┈| loss: 0.00750106"
     ]
    },
    {
     "name": "stdout",
     "output_type": "stream",
     "text": [
      "\n",
      "Concept supervision loss 2.4611165523529053\n",
      "Concept supervision loss 2.4610109329223633\n",
      "Concept supervision loss 2.45884108543396\n",
      "Concept supervision loss 2.461024284362793\n",
      "Concept supervision loss 2.4596827030181885\n",
      "Concept supervision loss 2.4611096382141113\n",
      "Concept supervision loss 2.459369659423828\n",
      "Concept supervision loss 2.4591596126556396\n",
      "Concept supervision loss 2.4605331420898438\n",
      "Concept supervision loss 2.460733413696289\n",
      "Concept supervision loss 2.4611268043518066\n"
     ]
    },
    {
     "name": "stderr",
     "output_type": "stream",
     "text": [
      "[ 07-20 | 13:17 ] epoch 39: |██████████████████████████████████████████████████| loss: 0.01710609"
     ]
    },
    {
     "name": "stdout",
     "output_type": "stream",
     "text": [
      "Concept supervision loss 2.4611127376556396\n",
      "Concept supervision loss 2.4593069553375244\n",
      "Concept supervision loss 2.4547977447509766\n",
      "Concept supervision loss 2.459458351135254\n",
      "Concept supervision loss 2.461115837097168\n",
      "%%%%%%%%%%%%%%%%%%%%%%%%%%%%%%%%%%%%%%%%%%%%%%%%%%%%%%%%%%%%\n",
      "End of epoch  39\n",
      "%%%%%%%%%%%%%%%%%%%%%%%%%%%%%%%%%%%%%%%%%%%%%%%%%%%%%%%%%%%%\n",
      "\n",
      "  ACC C 31.005859375   ACC Y 97.0703125 F1 Y 96.66617873733978 F1 C 14.669135818838482\n",
      "\n",
      "End of training\n",
      "Best weight and seed combination: 1617 with F1 score: 96.90155530368645\n"
     ]
    }
   ],
   "source": [
    "f1_scores = dict()\n",
    "print(f\"*** Training model with seed {args.seed}\")\n",
    "print(\"Chosen device:\", model.device)\n",
    "print(\"Save path for this model: \", save_path)\n",
    "if not os.path.exists(save_path): os.makedirs(save_path, exist_ok=True)\n",
    "save_folder = os.path.join(save_path, f\"{save_model_name}_{args.seed}.pth\")\n",
    "print(\"Saving in folder: \", save_folder)\n",
    "\n",
    "best_f1 = train(model=model,\n",
    "    train_loader=mnmath_train_loader,\n",
    "    val_loader=mnmath_val_loader,\n",
    "    _loss=loss, \n",
    "    args=args,\n",
    "    save_folder=save_folder\n",
    ")\n",
    "f1_scores[args.seed] = best_f1\n",
    "save_model(model, args, args.seed)  # save the model parameters\n",
    "\n",
    "best_weight_seed = max(f1_scores, key=f1_scores.get)\n",
    "print(f\"Best weight and seed combination: {best_weight_seed} with F1 score: {f1_scores[best_weight_seed]}\")"
   ]
  },
  {
   "cell_type": "markdown",
   "id": "74b37868",
   "metadata": {},
   "source": [
    "# Evaluation"
   ]
  },
  {
   "cell_type": "code",
   "execution_count": 12,
   "id": "15445d9b",
   "metadata": {},
   "outputs": [],
   "source": [
    "def compute_concept_collapse(true_concepts, predicted_concepts, multilabel=False):\n",
    "    return 1 - compute_coverage(confusion_matrix(true_concepts, predicted_concepts))\n",
    "\n",
    "\n",
    "def evaluate_my_model(model: MnistDPL, \n",
    "        save_path: str, \n",
    "        my_loader: DataLoader,\n",
    "        seed: int\n",
    "    ):\n",
    "\n",
    "    # * Compute test set accuracies and F1 scores\n",
    "    _, cacc, yacc, f1_y, f1_c = evaluate_metrics(model, my_loader, args)\n",
    "    with open(save_path, \"a\") as f:\n",
    "        print(f\"Evaluation results for seed {seed}:\")\n",
    "        print(f\"    ACC(C): {round(cacc/100,2)}, \"\n",
    "              f\"ACC(Y): {round(yacc/100,2)}, \"\n",
    "              f\"F1(Y): {round(f1_y/100,2)}, \"\n",
    "              f\"F1(C): {round(f1_c/100,2)}\")\n",
    "        f.write(\n",
    "            f\"Evaluation results for seed {seed}:\\n\"\n",
    "            f\"    ACC(C): {round(cacc/100,2)}, \"\n",
    "            f\"ACC(Y): {round(yacc/100,2)}, \"\n",
    "            f\"F1(Y): {round(f1_y/100,2)}, \"\n",
    "            f\"F1(C): {round(f1_c/100,2)}\\n\"\n",
    "        )\n",
    "\n",
    "    # * Compute Concept Collapse\n",
    "    y_true, c_true, y_pred, c_pred, _, _, _, _ = evaluate_metrics(model, my_loader, args, last=True)\n",
    "    cls = compute_concept_collapse(c_true, c_pred)\n",
    "    with open(save_path, \"a\") as f:\n",
    "        print(f\"Cls(C): {round(cls,2):.4f}\")\n",
    "        f.write(f\"    Cls(C): {round(cls,2):.4f}\\n\")\n",
    "    return c_true, c_pred"
   ]
  },
  {
   "cell_type": "code",
   "execution_count": 14,
   "id": "420629a6",
   "metadata": {},
   "outputs": [
    {
     "name": "stdout",
     "output_type": "stream",
     "text": [
      "Available models: ['promnistltn', 'sddoiann', 'kandnn', 'sddoiadpl', 'sddoialtn', 'presddoiadpl', 'boiann', 'mnistclip', 'prokanddpl', 'promnistdpl', 'xornn', 'mnistnn', 'mnistslrec', 'kandpreprocess', 'kandsl', 'kandsloneembedding', 'prokandltn', 'kandcbm', 'prokandsl', 'boiacbm', 'kanddpl', 'kandltn', 'xorcbm', 'sddoiaclip', 'xordpl', 'promnmathdpl', 'sddoiacbm', 'mnistltnrec', 'mnmathcbm', 'mnmathdpl', 'kandclip', 'minikanddpl', 'mnistdpl', 'mnistltn', 'boiadpl', 'boialtn', 'prokandsloneembedding', 'mnistpcbmdpl', 'mnistcbm', 'probddoiadpl', 'mnistpcbmsl', 'mnistpcbmltn', 'mnistsl', 'mnistdplrec', 'cvae', 'cext', 'mnmathnn', 'promnistsl']\n",
      "Evaluating model on test set with seed 1617...\n",
      "Evaluation results for seed 1617:\n",
      "    ACC(C): 0.31, ACC(Y): 0.98, F1(Y): 0.98, F1(C): 0.14\n",
      "Cls(C): 0.3300\n",
      "\n",
      "Evaluating model on OOD set with seed 1617...\n",
      "Evaluation results for seed 1617:\n",
      "    ACC(C): 0.14, ACC(Y): 0.82, F1(Y): 0.51, F1(C): 0.06\n",
      "Cls(C): 0.5000\n"
     ]
    }
   ],
   "source": [
    "# Initialize the model object\n",
    "model = get_model(args, encoder, decoder, n_images, c_split)\n",
    "\n",
    "# Load the model state dictionary into the model object\n",
    "model_state_dict = torch.load(save_folder)\n",
    "model.load_state_dict(model_state_dict)\n",
    "model.to(args.device)\n",
    "\n",
    "# Create the metrics log path\n",
    "metrics_log_path = save_folder.replace(\".pth\", \"_test_metrics.log\")\n",
    "metrics_log_path = re.sub(r'_\\d+', '', metrics_log_path)\n",
    "\n",
    "# Evaluate the model over the test set\n",
    "print(f\"Evaluating model on test set with seed {args.seed}...\")\n",
    "c_true_test, c_pred_test = evaluate_my_model(\n",
    "    model=model, save_path=metrics_log_path, my_loader=mnmath_test_loader, seed=args.seed\n",
    ")\n",
    "print()\n",
    "\n",
    "# Evaluate the model over the OOD set\n",
    "print(f\"Evaluating model on OOD set with seed {args.seed}...\")\n",
    "metrics_log_path = save_folder.replace(\".pth\", \"_ood_metrics.log\")\n",
    "metrics_log_path = re.sub(r'_\\d+', '', metrics_log_path)\n",
    "c_true_ood, c_pred_ood = evaluate_my_model(\n",
    "    model=model, save_path=metrics_log_path, my_loader=mnmath_ood_loader, seed=args.seed\n",
    ")"
   ]
  },
  {
   "cell_type": "markdown",
   "id": "a5180e41",
   "metadata": {},
   "source": [
    "# Check concepts spread"
   ]
  },
  {
   "cell_type": "code",
   "execution_count": null,
   "id": "d36a3fea",
   "metadata": {},
   "outputs": [],
   "source": [
    "print(\"Unique values in c_pred:\", np.unique(c_pred_test))\n",
    "print(\"Unique values in c_true:\", np.unique(c_true_test))\n",
    "print(\"Unique values in c_pred_ood:\", np.unique(c_pred_ood))\n",
    "print(\"Unique values in c_true_ood:\", np.unique(c_true_ood))"
   ]
  }
 ],
 "metadata": {
  "kernelspec": {
   "display_name": "r4rr",
   "language": "python",
   "name": "python3"
  },
  "language_info": {
   "codemirror_mode": {
    "name": "ipython",
    "version": 3
   },
   "file_extension": ".py",
   "mimetype": "text/x-python",
   "name": "python",
   "nbconvert_exporter": "python",
   "pygments_lexer": "ipython3",
   "version": "3.8.20"
  }
 },
 "nbformat": 4,
 "nbformat_minor": 5
}
