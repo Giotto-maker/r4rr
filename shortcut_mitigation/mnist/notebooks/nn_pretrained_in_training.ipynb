{
 "cells": [
  {
   "cell_type": "markdown",
   "metadata": {},
   "source": [
    "*This Notebook is an improved version of AUGs in training for baseline models*"
   ]
  },
  {
   "cell_type": "markdown",
   "metadata": {},
   "source": [
    "# Parameters"
   ]
  },
  {
   "cell_type": "code",
   "execution_count": 1,
   "metadata": {
    "tags": [
     "parameters"
    ]
   },
   "outputs": [],
   "source": [
    "# model's seeds\n",
    "SEED = 32768\n",
    "\n",
    "# additional paramters\n",
    "model_parameter_name = 'sl'\n",
    "uns_parameter_percentage = 1.0\n",
    "GPU_ID = '1'"
   ]
  },
  {
   "cell_type": "markdown",
   "metadata": {},
   "source": [
    "# IMPORTS"
   ]
  },
  {
   "cell_type": "code",
   "execution_count": 2,
   "metadata": {},
   "outputs": [
    {
     "name": "stdout",
     "output_type": "stream",
     "text": [
      "['/users-1/eleonora/reasoning-shortcuts/IXShort/shortcut_mitigation/mnist/notebooks', '/users-1/eleonora/anaconda3/envs/r4rr/lib/python38.zip', '/users-1/eleonora/anaconda3/envs/r4rr/lib/python3.8', '/users-1/eleonora/anaconda3/envs/r4rr/lib/python3.8/lib-dynload', '', '/users-1/eleonora/.local/lib/python3.8/site-packages', '/users-1/eleonora/anaconda3/envs/r4rr/lib/python3.8/site-packages', '/users-1/eleonora/reasoning-shortcuts/IXShort/shortcut_mitigation/mnist', '/users-1/eleonora/reasoning-shortcuts/IXShort/shortcut_mitigation', '/users-1/eleonora/reasoning-shortcuts/IXShort']\n"
     ]
    }
   ],
   "source": [
    "import sys\n",
    "import os\n",
    "\n",
    "os.environ['CUDA_VISIBLE_DEVICES'] = GPU_ID\n",
    "sys.path.append(os.path.abspath(\"..\"))       # for 'protonet_mnist_add_utils' folder\n",
    "sys.path.append(os.path.abspath(\"../..\"))    # for 'data' folder\n",
    "sys.path.append(os.path.abspath(\"../../..\")) # for 'models' and 'datasets' folders\n",
    "\n",
    "\n",
    "print(sys.path)"
   ]
  },
  {
   "cell_type": "code",
   "execution_count": 3,
   "metadata": {},
   "outputs": [],
   "source": [
    "import cv2\n",
    "import torch\n",
    "import torch.nn as nn\n",
    "import argparse\n",
    "import datetime\n",
    "import importlib\n",
    "import setproctitle, socket, uuid\n",
    "import torch.nn.functional as F\n",
    "import numpy as np\n",
    "import random\n",
    "\n",
    "from tqdm import tqdm\n",
    "from argparse import Namespace\n",
    "from numpy import float32, zeros\n",
    "from datasets import get_dataset\n",
    "from models import get_model\n",
    "from models.mnistdpl import MnistDPL\n",
    "from warmup_scheduler import GradualWarmupScheduler\n",
    "from datasets.utils.base_dataset import BaseDataset\n",
    "from torchvision import datasets, transforms\n",
    "from cv2 import (\n",
    "    INTER_CUBIC, \n",
    "    getRotationMatrix2D, \n",
    "    imread, \n",
    "    warpAffine, \n",
    "    moments, \n",
    "    WARP_INVERSE_MAP\n",
    ")\n",
    "from torch.nn.modules import Module\n",
    "\n",
    "from collections import Counter\n",
    "import matplotlib.pyplot as plt\n",
    "from torch.utils.data import Dataset, DataLoader\n",
    "\n",
    "from utils import fprint\n",
    "from utils.train import train\n",
    "from utils.test import test\n",
    "from utils.preprocess_resnet import preprocess\n",
    "from utils.conf import *\n",
    "from utils.args import *\n",
    "from utils.status import progress_bar\n",
    "from utils.checkpoint import save_model, create_load_ckpt\n",
    "from utils.dpl_loss import ADDMNIST_DPL\n",
    "from utils.metrics import (\n",
    "    evaluate_metrics,\n",
    "    evaluate_mix,\n",
    "    mean_entropy,\n",
    ")\n",
    "from protonet_mnist_add_modules.utility_modules.proto_utils import ( \n",
    "    init_dataloader,\n",
    "    get_random_classes\n",
    ")\n",
    "\n",
    "from sklearn.metrics import confusion_matrix\n",
    "from sklearn.metrics import silhouette_samples\n",
    "from scipy.spatial.distance import cdist\n",
    "\n",
    "from protonet_mnist_add_modules.arguments import args_sl, args_ltn, args_dpl\n",
    "from protonet_mnist_add_modules.utility_modules.plotting import plot_training_image\n",
    "from protonet_mnist_add_modules.data_modules.proto_data_creation import (\n",
    "    choose_initial_prototypes,\n",
    "    get_original_support_query_set,\n",
    "    get_augmented_support_query_set,\n",
    "    get_augmented_support_query_loader\n",
    ")\n",
    "from backbones.addmnist_protonet import PrototypicalLoss\n",
    "\n",
    "from protonet_mnist_add_modules.utility_modules.setup import my_gpu_info"
   ]
  },
  {
   "cell_type": "markdown",
   "metadata": {},
   "source": [
    "# SETUP"
   ]
  },
  {
   "cell_type": "code",
   "execution_count": 4,
   "metadata": {},
   "outputs": [
    {
     "name": "stdout",
     "output_type": "stream",
     "text": [
      "Model:  sl\n",
      "Unsupervised Percentage:  1.0\n"
     ]
    }
   ],
   "source": [
    "MODEL = model_parameter_name\n",
    "UNS_PERCENTAGE = uns_parameter_percentage\n",
    "\n",
    "print(\"Model: \", MODEL)\n",
    "print(\"Unsupervised Percentage: \", UNS_PERCENTAGE)"
   ]
  },
  {
   "cell_type": "code",
   "execution_count": 5,
   "metadata": {},
   "outputs": [
    {
     "name": "stdout",
     "output_type": "stream",
     "text": [
      "Seed: 32768\n",
      "Save paths: ['../../outputs/mnadd-even-odd/my_models/sl/PRE-AUG-baseline']\n"
     ]
    }
   ],
   "source": [
    "if MODEL == 'sl':       args = args_sl\n",
    "elif MODEL == 'ltn':    args = args_ltn\n",
    "else:                   args = args_dpl\n",
    "\n",
    "args.seed = SEED\n",
    "print(\"Seed: \" + str(args.seed))\n",
    "\n",
    "# logging\n",
    "args.conf_jobnum = str(uuid.uuid4())\n",
    "args.conf_timestamp = str(datetime.datetime.now())\n",
    "args.conf_host = socket.gethostname()\n",
    "\n",
    "# set job name\n",
    "setproctitle.setproctitle(\n",
    "    \"{}_{}_{}\".format(\n",
    "        args.model,\n",
    "        args.buffer_size if \"buffer_size\" in args else 0,\n",
    "        args.dataset,\n",
    "    )\n",
    ")\n",
    "\n",
    "# saving\n",
    "save_folder = \"mnadd-even-odd\" \n",
    "save_model_name = MODEL\n",
    "save_paths = []\n",
    "for i in range(len(args.prototypical_loss_weight)):\n",
    "    save_path = os.path.join(\"..\", \"..\", \n",
    "        \"outputs\", \n",
    "        save_folder, \n",
    "        \"my_models\", \n",
    "        save_model_name,\n",
    "        f\"PRE-AUG-baseline\"\n",
    "    )\n",
    "    save_paths.append(save_path)\n",
    "print(f\"Save paths: {str(save_paths)}\")"
   ]
  },
  {
   "cell_type": "code",
   "execution_count": 6,
   "metadata": {},
   "outputs": [
    {
     "name": "stdout",
     "output_type": "stream",
     "text": [
      "Torch version:  1.13.0+cu117\n",
      "CUDA version:  11.7\n",
      "Number of GPUs available: 1\n",
      "Device 0: NVIDIA TITAN Xp\n",
      "  Memory Allocated: 0 bytes\n",
      "  Memory Cached: 0 bytes\n"
     ]
    }
   ],
   "source": [
    "my_gpu_info()"
   ]
  },
  {
   "cell_type": "code",
   "execution_count": 7,
   "metadata": {},
   "outputs": [],
   "source": [
    "if args.model not in ['mnistsl', 'mnistltn', 'mnistdpl'] or args.prototypes:\n",
    "    raise ValueError(\"This experiment is meant for baseline models.\")"
   ]
  },
  {
   "cell_type": "markdown",
   "metadata": {},
   "source": [
    "# Utilities"
   ]
  },
  {
   "cell_type": "code",
   "execution_count": 8,
   "metadata": {},
   "outputs": [],
   "source": [
    "\n",
    "# * for training data inspection\n",
    "def plot_training_image(images, labels, plot_index_start=0, plot_index_end=10):\n",
    "    for plotting_index in range(plot_index_start, plot_index_end + 1):\n",
    "        image = images[plotting_index].cpu().numpy().transpose(1, 2, 0)\n",
    "        plt.figure(figsize=(5, 5))\n",
    "        plt.imshow(image, cmap='gray')\n",
    "        plt.title(f\"Label {labels[plotting_index]}\")\n",
    "        plt.axis('off')\n",
    "        plt.show()"
   ]
  },
  {
   "cell_type": "code",
   "execution_count": 9,
   "metadata": {},
   "outputs": [],
   "source": [
    "\n",
    "# * For prototypes computation at test phase \n",
    "def get_random_classes(images, labels, n_support):\n",
    "    unique_classes = torch.unique(labels)\n",
    "    assert len(unique_classes) == 10, \"There should be exactly 10 unique classes.\"\n",
    "\n",
    "    selected_images = []\n",
    "    selected_labels = []\n",
    "\n",
    "    for cls in unique_classes:\n",
    "        class_indices = (labels == cls).nonzero(as_tuple=True)[0]\n",
    "        assert len(class_indices) >= n_support, f\"Not enough samples for class {cls}\"\n",
    "        random_indices = torch.randperm(len(class_indices))[:n_support]\n",
    "        selected_images.append(images[class_indices[random_indices]])\n",
    "        selected_labels.append(labels[class_indices[random_indices]])\n",
    "\n",
    "    selected_images = torch.cat(selected_images)\n",
    "    selected_labels = torch.cat(selected_labels)\n",
    "\n",
    "    return selected_images, selected_labels"
   ]
  },
  {
   "cell_type": "markdown",
   "metadata": {},
   "source": [
    "# DATA"
   ]
  },
  {
   "cell_type": "markdown",
   "metadata": {},
   "source": [
    "## Loading data for training the ProtoNet"
   ]
  },
  {
   "cell_type": "code",
   "execution_count": 10,
   "metadata": {},
   "outputs": [
    {
     "name": "stdout",
     "output_type": "stream",
     "text": [
      "Available datasets: ['mnmath', 'xor', 'clipboia', 'shortmnist', 'restrictedmnist', 'minikandinsky', 'presddoia', 'prekandinsky', 'sddoia', 'clipkandinsky', 'addmnist', 'clipshortmnist', 'boia_original', 'boia_original_embedded', 'clipsddoia', 'boia', 'kandinsky', 'halfmnist']\n",
      "Loading train data\n",
      "Loading val data\n",
      "Loading test data\n",
      "<datasets.addmnist.ADDMNIST object at 0x7f5d784a8e80>\n"
     ]
    }
   ],
   "source": [
    "args_protonet = Namespace(\n",
    "    dataset=args.prototypical_dataset,     \n",
    "    batch_size=args.prototypical_batch_size,\n",
    "    preprocess=0,\n",
    "    c_sup=1, # ^ supervision loaded to simulate direct annotation for prototypes\n",
    "    which_c=[-1],\n",
    "    model=args.model,        \n",
    "    task=args.task,    \n",
    ")\n",
    "\n",
    "addmnist_dataset = get_dataset(args_protonet)\n",
    "addmnist_train_loader, _ , _ = addmnist_dataset.get_data_loaders()\n",
    "print(addmnist_dataset)"
   ]
  },
  {
   "cell_type": "markdown",
   "metadata": {},
   "source": [
    "## Create (or get) the initial annotated images-prototype seed and augment it"
   ]
  },
  {
   "cell_type": "code",
   "execution_count": 11,
   "metadata": {},
   "outputs": [
    {
     "name": "stdout",
     "output_type": "stream",
     "text": [
      "Number of rotations:  400\n",
      "Number of translations:  1440\n",
      "Number of scalings:  100\n",
      "Number of elastic transformations:  250\n",
      "Number of noising transformations:  40\n"
     ]
    }
   ],
   "source": [
    "if ( (not os.path.exists('data/prototypes/proto_loader_dataset.pth')) or args.debug ):\n",
    "    print(\"Creating proto_loader_dataset.pth\")\n",
    "    choose_initial_prototypes(addmnist_train_loader, debug=args.debug)\n",
    "\n",
    "tr_dataloader = init_dataloader()\n",
    "\n",
    "support_images_aug, support_labels_aug, query_images_aug, query_labels_aug, no_aug = get_augmented_support_query_set(\n",
    "    tr_dataloader, debug=args.debug)\n",
    "\n",
    "assert support_images_aug.numel() > 0, \"support_images_aug is an empty tensor\"\n",
    "assert support_labels_aug.numel() > 0, \"support_labels_aug is an empty tensor\"\n",
    "assert query_images_aug.numel() > 0, \"query_images_aug is an empty tensor\"\n",
    "assert query_labels_aug.numel() > 0, \"query_labels_aug is an empty tensor\"\n",
    "\n",
    "assert not torch.all(support_images_aug == 0), \"All elements in support_images_aug are zero\"\n",
    "assert not torch.all(support_labels_aug == 0), \"All elements in support_labels_aug are zero\"\n",
    "assert not torch.all(query_images_aug == 0), \"All elements in query_images_aug are zero\"\n",
    "assert not torch.all(query_labels_aug == 0), \"All elements in query_labels_aug are zero\"\n",
    "\n",
    "assert no_aug > 0, \"no_aug should be greater than 0\"\n",
    "\n",
    "support_loader, query_loader = get_augmented_support_query_loader(\n",
    "    support_images_aug, \n",
    "    support_labels_aug, \n",
    "    query_images_aug, \n",
    "    query_labels_aug,\n",
    "    query_batch_size=32,\n",
    "    debug=args.debug\n",
    ")"
   ]
  },
  {
   "cell_type": "markdown",
   "metadata": {},
   "source": [
    "## Dataset Creation & Check"
   ]
  },
  {
   "cell_type": "code",
   "execution_count": 12,
   "metadata": {},
   "outputs": [],
   "source": [
    "class MNISTAugDataset(Dataset):\n",
    "    def __init__(self, images, labels, hide_labels=None, transform=None):\n",
    "        self.images = images\n",
    "        self.labels = labels\n",
    "        self.transform = transform\n",
    "\n",
    "    def __getitem__(self, index):\n",
    "        image = self.images[index]\n",
    "        label = self.labels[index]\n",
    "        if self.transform:\n",
    "            image = self.transform(image)\n",
    "        return image, label.squeeze()\n",
    "\n",
    "    def __len__(self):\n",
    "        return len(self.labels)\n",
    "\n",
    "# Example instantiation:\n",
    "mnist_dataset = MNISTAugDataset(support_images_aug, support_labels_aug)"
   ]
  },
  {
   "cell_type": "code",
   "execution_count": 13,
   "metadata": {},
   "outputs": [
    {
     "data": {
      "image/png": "[encoded data removed]",
      "text/plain": [
       "<Figure size 1500x1000 with 50 Axes>"
      ]
     },
     "metadata": {},
     "output_type": "display_data"
    }
   ],
   "source": [
    "# Plot ten images from the MNISTAugDataset\n",
    "fig, axes = plt.subplots(5, 10, figsize=(15, 10))\n",
    "for i, ax in enumerate(axes.flat):\n",
    "    if i < len(mnist_dataset.images):\n",
    "        offset = random.randint(0, len(mnist_dataset.images) - 1)\n",
    "        image = mnist_dataset.images[offset].cpu().numpy().transpose(1, 2, 0)\n",
    "        ax.imshow(image, cmap='gray')\n",
    "        ax.set_title(f\"Label {mnist_dataset.labels[offset].item()}\")  \n",
    "        ax.axis('off')\n",
    "plt.tight_layout()\n",
    "plt.show()\n",
    "\n",
    "# plot_training_image(mnist_dataset.images, mnist_dataset.labels, plot_index_start=40, plot_index_end=50)"
   ]
  },
  {
   "cell_type": "code",
   "execution_count": 14,
   "metadata": {},
   "outputs": [],
   "source": [
    "sup_train_loader = DataLoader(mnist_dataset, batch_size=args.batch_size, shuffle=True)"
   ]
  },
  {
   "cell_type": "markdown",
   "metadata": {},
   "source": [
    "## Getting the Unsupervised Dataset"
   ]
  },
  {
   "cell_type": "code",
   "execution_count": 15,
   "metadata": {},
   "outputs": [
    {
     "name": "stdout",
     "output_type": "stream",
     "text": [
      "Available datasets: ['mnmath', 'xor', 'clipboia', 'shortmnist', 'restrictedmnist', 'minikandinsky', 'presddoia', 'prekandinsky', 'sddoia', 'clipkandinsky', 'addmnist', 'clipshortmnist', 'boia_original', 'boia_original_embedded', 'clipsddoia', 'boia', 'kandinsky', 'halfmnist']\n",
      "<datasets.shortcutmnist.SHORTMNIST object at 0x7f5c88ee50a0>\n",
      "Available models: ['promnistltn', 'promnmathcbm', 'sddoiann', 'kandnn', 'sddoiadpl', 'sddoialtn', 'kandslsingledisj', 'presddoiadpl', 'boiann', 'mnistclip', 'prokanddpl', 'promnistdpl', 'kandltnsinglejoint', 'xornn', 'mnistnn', 'mnistslrec', 'kandpreprocess', 'kandsl', 'kandsloneembedding', 'prokandltn', 'kandcbm', 'prokandsl', 'boiacbm', 'kanddpl', 'kandltn', 'xorcbm', 'sddoiaclip', 'kanddplsinglejoint', 'xordpl', 'promnmathdpl', 'sddoiacbm', 'mnistltnrec', 'mnmathcbm', 'mnmathdpl', 'kandclip', 'minikanddpl', 'mnistdpl', 'mnistltn', 'boiadpl', 'boialtn', 'kandltnsingledisj', 'prokandsloneembedding', 'mnistpcbmdpl', 'mnistcbm', 'probddoiadpl', 'mnistpcbmsl', 'mnistpcbmltn', 'kanddplsingledisj', 'mnistsl', 'kandslsinglejoint', 'mnistdplrec', 'cvae', 'cext', 'mnmathnn', 'promnistsl']\n"
     ]
    },
    {
     "name": "stdout",
     "output_type": "stream",
     "text": [
      "Using Dataset:  <datasets.shortcutmnist.SHORTMNIST object at 0x7f5c88ee50a0>\n",
      "Using backbone:  MNISTSingleEncoder(\n",
      "  (enc_block_1): Conv2d(1, 32, kernel_size=(4, 4), stride=(2, 2), padding=(1, 1))\n",
      "  (enc_block_2): Conv2d(32, 64, kernel_size=(4, 4), stride=(2, 2), padding=(1, 1))\n",
      "  (enc_block_3): Conv2d(64, 128, kernel_size=(4, 4), stride=(2, 2), padding=(1, 1))\n",
      "  (flatten): Flatten()\n",
      "  (dense_logvar): Linear(in_features=1152, out_features=160, bias=True)\n",
      "  (dense_mu): Linear(in_features=1152, out_features=160, bias=True)\n",
      "  (dense_c): Linear(in_features=1152, out_features=10, bias=True)\n",
      "  (dropout): Dropout(p=0.5, inplace=False)\n",
      ")\n",
      "Using Model:  MnistSL(\n",
      "  (encoder): MNISTSingleEncoder(\n",
      "    (enc_block_1): Conv2d(1, 32, kernel_size=(4, 4), stride=(2, 2), padding=(1, 1))\n",
      "    (enc_block_2): Conv2d(32, 64, kernel_size=(4, 4), stride=(2, 2), padding=(1, 1))\n",
      "    (enc_block_3): Conv2d(64, 128, kernel_size=(4, 4), stride=(2, 2), padding=(1, 1))\n",
      "    (flatten): Flatten()\n",
      "    (dense_logvar): Linear(in_features=1152, out_features=160, bias=True)\n",
      "    (dense_mu): Linear(in_features=1152, out_features=160, bias=True)\n",
      "    (dense_c): Linear(in_features=1152, out_features=10, bias=True)\n",
      "    (dropout): Dropout(p=0.5, inplace=False)\n",
      "  )\n",
      "  (mlp): Sequential(\n",
      "    (0): Linear(in_features=20, out_features=50, bias=True)\n",
      "    (1): ReLU()\n",
      "    (2): Linear(in_features=50, out_features=50, bias=True)\n",
      "    (3): ReLU()\n",
      "    (4): Linear(in_features=50, out_features=19, bias=True)\n",
      "  )\n",
      ")\n",
      "Using Loss:  ADDMNIST_SL()\n",
      "Loading train data\n",
      "Loading val data\n",
      "Loading test data\n",
      "6000 5040 6000 (6000,)\n",
      "6000 420 6000 (6000,)\n",
      "## Statistics ##\n",
      "Train samples 6720\n",
      "Validation samples 1920\n",
      "Test samples 960\n",
      "Test OOD samples 5040\n"
     ]
    }
   ],
   "source": [
    "dataset = get_dataset(args)\n",
    "print(dataset)\n",
    "\n",
    "n_images, c_split = dataset.get_split()\n",
    "encoder, decoder = dataset.get_backbone()\n",
    "model = get_model(args, encoder, decoder, n_images, c_split)\n",
    "loss = model.get_loss(args)\n",
    "model.start_optim(args)\n",
    "\n",
    "print(\"Using Dataset: \", dataset)\n",
    "print(\"Using backbone: \", encoder)\n",
    "print(\"Using Model: \", model)\n",
    "print(\"Using Loss: \", loss)\n",
    "\n",
    "unsup_train_loader, unsup_val_loader, _ = dataset.get_data_loaders()\n",
    "dataset.print_stats()"
   ]
  },
  {
   "cell_type": "markdown",
   "metadata": {},
   "source": [
    "## Checkig the Unsupervised Data"
   ]
  },
  {
   "cell_type": "code",
   "execution_count": 16,
   "metadata": {},
   "outputs": [
    {
     "data": {
      "image/png": "[encoded data removed]",
      "text/plain": [
       "<Figure size 500x500 with 1 Axes>"
      ]
     },
     "metadata": {},
     "output_type": "display_data"
    },
    {
     "data": {
      "image/png": "[encoded data removed]",
      "text/plain": [
       "<Figure size 500x500 with 1 Axes>"
      ]
     },
     "metadata": {},
     "output_type": "display_data"
    },
    {
     "data": {
      "image/png": "[encoded data removed]",
      "text/plain": [
       "<Figure size 500x500 with 1 Axes>"
      ]
     },
     "metadata": {},
     "output_type": "display_data"
    },
    {
     "data": {
      "image/png": "[encoded data removed]",
      "text/plain": [
       "<Figure size 500x500 with 1 Axes>"
      ]
     },
     "metadata": {},
     "output_type": "display_data"
    },
    {
     "data": {
      "image/png": "[encoded data removed]",
      "text/plain": [
       "<Figure size 500x500 with 1 Axes>"
      ]
     },
     "metadata": {},
     "output_type": "display_data"
    },
    {
     "data": {
      "image/png": "[encoded data removed]",
      "text/plain": [
       "<Figure size 500x500 with 1 Axes>"
      ]
     },
     "metadata": {},
     "output_type": "display_data"
    },
    {
     "data": {
      "image/png": "[encoded data removed]",
      "text/plain": [
       "<Figure size 500x500 with 1 Axes>"
      ]
     },
     "metadata": {},
     "output_type": "display_data"
    },
    {
     "data": {
      "image/png": "[encoded data removed]",
      "text/plain": [
       "<Figure size 500x500 with 1 Axes>"
      ]
     },
     "metadata": {},
     "output_type": "display_data"
    },
    {
     "data": {
      "image/png": "[encoded data removed]",
      "text/plain": [
       "<Figure size 500x500 with 1 Axes>"
      ]
     },
     "metadata": {},
     "output_type": "display_data"
    },
    {
     "data": {
      "image/png": "[encoded data removed]",
      "text/plain": [
       "<Figure size 500x500 with 1 Axes>"
      ]
     },
     "metadata": {},
     "output_type": "display_data"
    },
    {
     "data": {
      "image/png": "[encoded data removed]",
      "text/plain": [
       "<Figure size 500x500 with 1 Axes>"
      ]
     },
     "metadata": {},
     "output_type": "display_data"
    }
   ],
   "source": [
    "for i, data in enumerate(unsup_train_loader):\n",
    "    images, labels, concepts = data        \n",
    "    plot_training_image(images, labels)\n",
    "    break"
   ]
  },
  {
   "cell_type": "markdown",
   "metadata": {},
   "source": [
    "# Training"
   ]
  },
  {
   "cell_type": "code",
   "execution_count": 17,
   "metadata": {},
   "outputs": [],
   "source": [
    "def pre_train(model, train_loader, args, seed: int = 0):\n",
    "    \n",
    "    # for full reproducibility\n",
    "    np.random.seed(seed)\n",
    "    torch.manual_seed(seed)\n",
    "    if torch.cuda.is_available():\n",
    "        torch.cuda.manual_seed(seed)\n",
    "    torch.backends.cudnn.enabled = False\n",
    "\n",
    "    # start optimizer\n",
    "    enc_opt = torch.optim.Adam(model.encoder.parameters(), args.lr, weight_decay=args.weight_decay)\n",
    "\n",
    "    fprint(\"\\n--- Start of Training ---\\n\")\n",
    "    model.encoder.to(model.device)\n",
    "    model.encoder.train()\n",
    "\n",
    "    for epoch in range(args.proto_epochs):\n",
    "        for i, (images, labels) in enumerate(train_loader):\n",
    "            sup_images = images.to(model.device)               # shape: (batch_size, C, 28, 28)\n",
    "            sup_labels = labels.to(model.device)               # shape: (batch_size, 1)\n",
    "            batch_size = sup_images.size(0)\n",
    "\n",
    "            assert sup_images.shape == torch.Size([batch_size, 1, 28, 28]), \\\n",
    "            f\"Expected shape [{batch_size}, 1, 28, 28], but got {sup_images.shape}\"\n",
    "            assert sup_labels.shape == torch.Size([batch_size, ]), \\\n",
    "            f\"Expected shape [{batch_size},], but got {sup_labels.shape}\"\n",
    "\n",
    "            enc_opt.zero_grad()\n",
    "            preds = model.encoder(sup_images)[0].squeeze(1)\n",
    "            assert preds.shape == (batch_size, 10), f\"Expected preds shape ({batch_size}, 10), but got {preds.shape}\"\n",
    "            \n",
    "            loss = F.cross_entropy(preds, sup_labels)\n",
    "            loss.backward()\n",
    "            enc_opt.step()\n",
    "\n",
    "            progress_bar(i, len(train_loader), epoch, loss.item())\n",
    "\n",
    "    # Compute training accuracy\n",
    "    model.encoder.eval()\n",
    "    correct = 0\n",
    "    total = 0\n",
    "    with torch.no_grad():\n",
    "        for images, labels in train_loader:\n",
    "            images = images.to(model.device)\n",
    "            labels = labels.to(model.device)\n",
    "            preds = model.encoder(images)[0].squeeze(1)\n",
    "            predicted = torch.argmax(preds, dim=1)\n",
    "            correct += (predicted == labels).sum().item()\n",
    "            total += labels.size(0)\n",
    "    acc = correct / total\n",
    "    print(f\"Training accuracy: {acc:.4f}\")\n",
    "\n",
    "# pre_train(model, sup_train_loader, args)            "
   ]
  },
  {
   "cell_type": "markdown",
   "metadata": {},
   "source": [
    "## Main Loop"
   ]
  },
  {
   "cell_type": "code",
   "execution_count": 18,
   "metadata": {},
   "outputs": [],
   "source": [
    "def train(model:MnistDPL,\n",
    "        sup_train_loader:DataLoader,\n",
    "        unsup_train_loader:DataLoader,\n",
    "        unsup_val_loader:DataLoader,\n",
    "        _loss: ADDMNIST_DPL, \n",
    "        args,\n",
    "        seed,\n",
    "        save_folder,\n",
    "    ):\n",
    "    \n",
    "    # for full reproducibility\n",
    "    np.random.seed(seed)\n",
    "    torch.manual_seed(seed)\n",
    "    if torch.cuda.is_available():\n",
    "        torch.cuda.manual_seed(seed)\n",
    "    torch.backends.cudnn.enabled = False\n",
    "    \n",
    "    best_f1 = 0.0\n",
    "    epochs_no_improve = 0   # for early stopping\n",
    "\n",
    "    # model configuration for shortmnist\n",
    "    if args.dataset == \"shortmnist\":    model = model.float()\n",
    "    model.to(model.device)\n",
    "\n",
    "    # get the data loaders\n",
    "    scheduler = torch.optim.lr_scheduler.ExponentialLR(model.opt, args.exp_decay)\n",
    "    w_scheduler = None\n",
    "    if args.warmup_steps > 0:   w_scheduler = GradualWarmupScheduler(model.opt, 1.0, args.warmup_steps)\n",
    "\n",
    "    fprint(\"\\n--- Start of Training ---\\n\")\n",
    "\n",
    "    # default for warm-up\n",
    "    model.opt.zero_grad()\n",
    "    model.opt.step()\n",
    "    enc_opt = torch.optim.Adam(model.encoder.parameters(), args.lr, weight_decay=args.weight_decay)\n",
    "\n",
    "    # & FOR EACH EPOCH\n",
    "    for epoch in range(args.proto_epochs):  \n",
    "        \n",
    "        # ^ SUPERVISED TRAINING\n",
    "        model.encoder.train()\n",
    "        # & FOR EACH BATCH\n",
    "        fprint(\"\\n--- Start of Supervised Training ---\\n\")\n",
    "        for i, (images, labels) in enumerate(sup_train_loader):\n",
    "            sup_images = images.to(model.device)               # shape: (batch_size, C, 28, 28)\n",
    "            sup_labels = labels.to(model.device)               # shape: (batch_size, 1)\n",
    "            enc_opt.zero_grad()\n",
    "            preds = model.encoder(sup_images)[0].squeeze(1)\n",
    "            loss = F.cross_entropy(preds, sup_labels)\n",
    "            loss.backward()\n",
    "            enc_opt.step()\n",
    "            progress_bar(i, len(sup_train_loader), epoch, loss.item())\n",
    "\n",
    "        model.train()\n",
    "        # ys are the predictions of the model, y_true are the true labels, cs are the predictions of the concepts, cs_true are the true concepts\n",
    "        ys, y_true, cs, cs_true = None, None, None, None\n",
    "        \n",
    "        # ^ UNSUPERVISED TRAINING\n",
    "        # & FOR EACH BATCH\n",
    "        fprint(\"\\n--- Start of Unsupervised Training ---\\n\")\n",
    "        for i, data in enumerate(unsup_train_loader):\n",
    "            if random.random() > UNS_PERCENTAGE:\n",
    "                continue  # Skip this batch with probability (1 - percentage)\n",
    "\n",
    "            images, labels, concepts = data\n",
    "            images, labels, concepts = (\n",
    "                images.to(model.device),    # input IMAGES\n",
    "                labels.to(model.device),    # ground truth LABELS\n",
    "                concepts.to(model.device),  # ground truth CONCEPTS\n",
    "            )\n",
    "\n",
    "            # ^ baseline model\n",
    "            out_dict = model(images)\n",
    "\n",
    "            ''' Enrich the out_dict with the ground truth labels and concepts '''\n",
    "            out_dict.update({\"LABELS\": labels, \"CONCEPTS\": concepts})\n",
    "\n",
    "            ''' Extract the predicted concepts for the first image in the batch '''\n",
    "            model.opt.zero_grad()\n",
    "            loss, losses = _loss(out_dict, args)\n",
    "            loss.backward()\n",
    "            model.opt.step()\n",
    "            \n",
    "            if ys is None:  # first iteration\n",
    "                ys = out_dict[\"YS\"]\n",
    "                y_true = out_dict[\"LABELS\"]\n",
    "                cs = out_dict[\"pCS\"]\n",
    "                cs_true = out_dict[\"CONCEPTS\"]\n",
    "            else:           # all other iterations\n",
    "                ys = torch.concatenate((ys, out_dict[\"YS\"]), dim=0)\n",
    "                y_true = torch.concatenate((y_true, out_dict[\"LABELS\"]), dim=0)\n",
    "                cs = torch.concatenate((cs, out_dict[\"pCS\"]), dim=0)\n",
    "                cs_true = torch.concatenate((cs_true, out_dict[\"CONCEPTS\"]), dim=0)\n",
    "\n",
    "            if i % 10 == 0:\n",
    "                progress_bar(i, len(unsup_train_loader) - 9, epoch, loss.item())\n",
    "\n",
    "\n",
    "        print(\"%%%%%%%%%%%%%%%%%%%%%%%%%%%%%%%%%%%%%%%%%%%%%%%%%%%%%%%%%%%%\")\n",
    "        print(\"End of epoch \", epoch)\n",
    "        print(\"%%%%%%%%%%%%%%%%%%%%%%%%%%%%%%%%%%%%%%%%%%%%%%%%%%%%%%%%%%%%\")\n",
    "        print()\n",
    "        \n",
    "        if UNS_PERCENTAGE == 0.0:\n",
    "            print(\"Saving...\")\n",
    "            torch.save(model.state_dict(), save_folder)\n",
    "            print(f\"Saved best model with F1 score: {best_f1}\")\n",
    "            print()\n",
    "            continue\n",
    "        \n",
    "        # enter the evaluation phase\n",
    "        model.eval()\n",
    "        # ^ baseline model\n",
    "        tloss, cacc, yacc, f1 = evaluate_metrics(model, unsup_val_loader, args)\n",
    "\n",
    "        # update the (warmup) scheduler at end of the epoch\n",
    "        if epoch < args.warmup_steps:\n",
    "            w_scheduler.step()\n",
    "        else:\n",
    "            scheduler.step()\n",
    "            if hasattr(_loss, \"grade\"):\n",
    "                _loss.update_grade(epoch)\n",
    "\n",
    "        ### LOGGING ###\n",
    "        fprint(\"  ACC C\", cacc, \"  ACC Y\", yacc, \"F1 Y\", f1)\n",
    "        print()\n",
    "\n",
    "        if not args.tuning and f1 > best_f1:\n",
    "            print(\"Saving...\")\n",
    "            # Update best F1 score\n",
    "            best_f1 = f1\n",
    "            epochs_no_improve = 0\n",
    "\n",
    "            # Save the best model\n",
    "            torch.save(model.state_dict(), save_folder)\n",
    "            print(f\"Saved best model with F1 score: {best_f1}\")\n",
    "            print()\n",
    "        \n",
    "        elif f1 <= best_f1:\n",
    "            epochs_no_improve += 1\n",
    "\n",
    "        if epochs_no_improve >= args.patience:\n",
    "            print(f\"Early stopping triggered after {epoch+1} epochs.\")\n",
    "            break\n",
    "\n",
    "    print(\"End of training\")\n",
    "    return best_f1"
   ]
  },
  {
   "cell_type": "markdown",
   "metadata": {},
   "source": [
    "## Running"
   ]
  },
  {
   "cell_type": "code",
   "execution_count": 19,
   "metadata": {},
   "outputs": [
    {
     "name": "stdout",
     "output_type": "stream",
     "text": [
      "*** Training model with seed 32768\n",
      "Chosen device: cuda\n",
      "Save path for this model:  ../../outputs/mnadd-even-odd/my_models/sl/PRE-AUG-baseline\n",
      "Saving in folder:  ../../outputs/mnadd-even-odd/my_models/sl/PRE-AUG-baseline/sl_32768.pth\n",
      "\n",
      "--- Start of Training ---\n",
      "\n",
      "\n",
      "--- Start of Supervised Training ---\n",
      "\n"
     ]
    },
    {
     "name": "stderr",
     "output_type": "stream",
     "text": [
      "[ 09-02 | 09:17 ] epoch 0: |██████████████████████████████████████████████████| loss: 1.01966786"
     ]
    },
    {
     "name": "stdout",
     "output_type": "stream",
     "text": [
      "\n",
      "--- Start of Unsupervised Training ---\n",
      "\n"
     ]
    },
    {
     "name": "stderr",
     "output_type": "stream",
     "text": [
      "[ 09-02 | 09:17 ] epoch 0: |██████████████████████████████████████████████████| loss: 6.212222581"
     ]
    },
    {
     "name": "stdout",
     "output_type": "stream",
     "text": [
      "%%%%%%%%%%%%%%%%%%%%%%%%%%%%%%%%%%%%%%%%%%%%%%%%%%%%%%%%%%%%\n",
      "End of epoch  0\n",
      "%%%%%%%%%%%%%%%%%%%%%%%%%%%%%%%%%%%%%%%%%%%%%%%%%%%%%%%%%%%%\n",
      "\n",
      "  ACC C 0.0   ACC Y 84.73958333333333 F1 Y 84.86667588075234\n",
      "\n",
      "Saving...\n",
      "Saved best model with F1 score: 84.86667588075234\n",
      "\n",
      "\n",
      "--- Start of Supervised Training ---\n",
      "\n"
     ]
    },
    {
     "name": "stderr",
     "output_type": "stream",
     "text": [
      "[ 09-02 | 09:17 ] epoch 1: |██████████████████████████████████████████████████| loss: 0.35894859"
     ]
    },
    {
     "name": "stdout",
     "output_type": "stream",
     "text": [
      "\n",
      "--- Start of Unsupervised Training ---\n",
      "\n"
     ]
    },
    {
     "name": "stderr",
     "output_type": "stream",
     "text": [
      "[ 09-02 | 09:17 ] epoch 1: |██████████████████████████████████████████████████| loss: 7.111374861"
     ]
    },
    {
     "name": "stdout",
     "output_type": "stream",
     "text": [
      "%%%%%%%%%%%%%%%%%%%%%%%%%%%%%%%%%%%%%%%%%%%%%%%%%%%%%%%%%%%%\n",
      "End of epoch  1\n",
      "%%%%%%%%%%%%%%%%%%%%%%%%%%%%%%%%%%%%%%%%%%%%%%%%%%%%%%%%%%%%\n",
      "\n",
      "  ACC C 0.0   ACC Y 91.875 F1 Y 91.60675741048114\n",
      "\n",
      "Saving...\n",
      "Saved best model with F1 score: 91.60675741048114\n",
      "\n",
      "\n",
      "--- Start of Supervised Training ---\n",
      "\n"
     ]
    },
    {
     "name": "stderr",
     "output_type": "stream",
     "text": [
      "[ 09-02 | 09:17 ] epoch 2: |██████████████████████████████████████████████████| loss: 0.05034002"
     ]
    },
    {
     "name": "stdout",
     "output_type": "stream",
     "text": [
      "\n",
      "--- Start of Unsupervised Training ---\n",
      "\n"
     ]
    },
    {
     "name": "stderr",
     "output_type": "stream",
     "text": [
      "[ 09-02 | 09:17 ] epoch 2: |██████████████████████████████████████████████████| loss: 3.204726221"
     ]
    },
    {
     "name": "stdout",
     "output_type": "stream",
     "text": [
      "%%%%%%%%%%%%%%%%%%%%%%%%%%%%%%%%%%%%%%%%%%%%%%%%%%%%%%%%%%%%\n",
      "End of epoch  2\n",
      "%%%%%%%%%%%%%%%%%%%%%%%%%%%%%%%%%%%%%%%%%%%%%%%%%%%%%%%%%%%%\n",
      "\n",
      "  ACC C 0.0   ACC Y 93.95833333333333 F1 Y 93.85208187019634\n",
      "\n",
      "Saving...\n",
      "Saved best model with F1 score: 93.85208187019634\n",
      "\n",
      "\n",
      "--- Start of Supervised Training ---\n",
      "\n"
     ]
    },
    {
     "name": "stderr",
     "output_type": "stream",
     "text": [
      "[ 09-02 | 09:17 ] epoch 3: |██████████████████████████████████████████████████| loss: 0.04496579"
     ]
    },
    {
     "name": "stdout",
     "output_type": "stream",
     "text": [
      "\n",
      "--- Start of Unsupervised Training ---\n",
      "\n"
     ]
    },
    {
     "name": "stderr",
     "output_type": "stream",
     "text": [
      "[ 09-02 | 09:17 ] epoch 3: |██████████████████████████████████████████████████| loss: 1.58215523"
     ]
    },
    {
     "name": "stdout",
     "output_type": "stream",
     "text": [
      "%%%%%%%%%%%%%%%%%%%%%%%%%%%%%%%%%%%%%%%%%%%%%%%%%%%%%%%%%%%%\n",
      "End of epoch  3\n",
      "%%%%%%%%%%%%%%%%%%%%%%%%%%%%%%%%%%%%%%%%%%%%%%%%%%%%%%%%%%%%\n",
      "\n",
      "  ACC C 0.0   ACC Y 97.13541666666667 F1 Y 96.9271133069319\n",
      "\n",
      "Saving...\n",
      "Saved best model with F1 score: 96.9271133069319\n",
      "\n",
      "\n",
      "--- Start of Supervised Training ---\n",
      "\n"
     ]
    },
    {
     "name": "stderr",
     "output_type": "stream",
     "text": [
      "[ 09-02 | 09:17 ] epoch 4: |██████████████████████████████████████████████████| loss: 0.08975477"
     ]
    },
    {
     "name": "stdout",
     "output_type": "stream",
     "text": [
      "\n",
      "--- Start of Unsupervised Training ---\n",
      "\n"
     ]
    },
    {
     "name": "stderr",
     "output_type": "stream",
     "text": [
      "[ 09-02 | 09:18 ] epoch 4: |██████████████████████████████████████████████████| loss: 1.46164095"
     ]
    },
    {
     "name": "stdout",
     "output_type": "stream",
     "text": [
      "%%%%%%%%%%%%%%%%%%%%%%%%%%%%%%%%%%%%%%%%%%%%%%%%%%%%%%%%%%%%\n",
      "End of epoch  4\n",
      "%%%%%%%%%%%%%%%%%%%%%%%%%%%%%%%%%%%%%%%%%%%%%%%%%%%%%%%%%%%%\n",
      "\n",
      "  ACC C 0.0   ACC Y 97.76041666666667 F1 Y 97.70428185561097\n",
      "\n",
      "Saving...\n",
      "Saved best model with F1 score: 97.70428185561097\n",
      "\n",
      "\n",
      "--- Start of Supervised Training ---\n",
      "\n"
     ]
    },
    {
     "name": "stderr",
     "output_type": "stream",
     "text": [
      "[ 09-02 | 09:18 ] epoch 5: |██████████████████████████████████████████████████| loss: 0.00488295"
     ]
    },
    {
     "name": "stdout",
     "output_type": "stream",
     "text": [
      "\n",
      "--- Start of Unsupervised Training ---\n",
      "\n"
     ]
    },
    {
     "name": "stderr",
     "output_type": "stream",
     "text": [
      "[ 09-02 | 09:18 ] epoch 5: |██████████████████████████████████████████████████| loss: 1.60669935"
     ]
    },
    {
     "name": "stdout",
     "output_type": "stream",
     "text": [
      "%%%%%%%%%%%%%%%%%%%%%%%%%%%%%%%%%%%%%%%%%%%%%%%%%%%%%%%%%%%%\n",
      "End of epoch  5\n",
      "%%%%%%%%%%%%%%%%%%%%%%%%%%%%%%%%%%%%%%%%%%%%%%%%%%%%%%%%%%%%\n",
      "\n",
      "  ACC C 0.0   ACC Y 98.38541666666667 F1 Y 98.37206389814654\n",
      "\n",
      "Saving...\n",
      "Saved best model with F1 score: 98.37206389814654\n",
      "\n",
      "\n",
      "--- Start of Supervised Training ---\n",
      "\n"
     ]
    },
    {
     "name": "stderr",
     "output_type": "stream",
     "text": [
      "[ 09-02 | 09:18 ] epoch 6: |██████████████████████████████████████████████████| loss: 0.02448285"
     ]
    },
    {
     "name": "stdout",
     "output_type": "stream",
     "text": [
      "\n",
      "--- Start of Unsupervised Training ---\n",
      "\n"
     ]
    },
    {
     "name": "stderr",
     "output_type": "stream",
     "text": [
      "[ 09-02 | 09:18 ] epoch 6: |██████████████████████████████████████████████████| loss: 1.10215294"
     ]
    },
    {
     "name": "stdout",
     "output_type": "stream",
     "text": [
      "%%%%%%%%%%%%%%%%%%%%%%%%%%%%%%%%%%%%%%%%%%%%%%%%%%%%%%%%%%%%\n",
      "End of epoch  6\n",
      "%%%%%%%%%%%%%%%%%%%%%%%%%%%%%%%%%%%%%%%%%%%%%%%%%%%%%%%%%%%%\n",
      "\n",
      "  ACC C 0.0   ACC Y 98.90625 F1 Y 98.81691730118263\n",
      "\n",
      "Saving...\n",
      "Saved best model with F1 score: 98.81691730118263\n",
      "\n",
      "\n",
      "--- Start of Supervised Training ---\n",
      "\n"
     ]
    },
    {
     "name": "stderr",
     "output_type": "stream",
     "text": [
      "[ 09-02 | 09:18 ] epoch 7: |██████████████████████████████████████████████████| loss: 0.00242768"
     ]
    },
    {
     "name": "stdout",
     "output_type": "stream",
     "text": [
      "\n",
      "--- Start of Unsupervised Training ---\n",
      "\n"
     ]
    },
    {
     "name": "stderr",
     "output_type": "stream",
     "text": [
      "[ 09-02 | 09:18 ] epoch 7: |██████████████████████████████████████████████████| loss: 1.06585026"
     ]
    },
    {
     "name": "stdout",
     "output_type": "stream",
     "text": [
      "%%%%%%%%%%%%%%%%%%%%%%%%%%%%%%%%%%%%%%%%%%%%%%%%%%%%%%%%%%%%\n",
      "End of epoch  7\n",
      "%%%%%%%%%%%%%%%%%%%%%%%%%%%%%%%%%%%%%%%%%%%%%%%%%%%%%%%%%%%%\n",
      "\n",
      "  ACC C 0.0   ACC Y 98.64583333333333 F1 Y 98.59217427226454\n",
      "\n",
      "\n",
      "--- Start of Supervised Training ---\n",
      "\n"
     ]
    },
    {
     "name": "stderr",
     "output_type": "stream",
     "text": [
      "[ 09-02 | 09:18 ] epoch 8: |██████████████████████████████████████████████████| loss: 0.00189292"
     ]
    },
    {
     "name": "stdout",
     "output_type": "stream",
     "text": [
      "\n",
      "--- Start of Unsupervised Training ---\n",
      "\n"
     ]
    },
    {
     "name": "stderr",
     "output_type": "stream",
     "text": [
      "[ 09-02 | 09:18 ] epoch 8: |██████████████████████████████████████████████████| loss: 3.58766271"
     ]
    },
    {
     "name": "stdout",
     "output_type": "stream",
     "text": [
      "%%%%%%%%%%%%%%%%%%%%%%%%%%%%%%%%%%%%%%%%%%%%%%%%%%%%%%%%%%%%\n",
      "End of epoch  8\n",
      "%%%%%%%%%%%%%%%%%%%%%%%%%%%%%%%%%%%%%%%%%%%%%%%%%%%%%%%%%%%%\n",
      "\n",
      "  ACC C 0.0   ACC Y 99.21875 F1 Y 99.17799063714622\n",
      "\n",
      "Saving...\n",
      "Saved best model with F1 score: 99.17799063714622\n",
      "\n",
      "\n",
      "--- Start of Supervised Training ---\n",
      "\n"
     ]
    },
    {
     "name": "stderr",
     "output_type": "stream",
     "text": [
      "[ 09-02 | 09:18 ] epoch 9: |██████████████████████████████████████████████████| loss: 0.00174762"
     ]
    },
    {
     "name": "stdout",
     "output_type": "stream",
     "text": [
      "\n",
      "--- Start of Unsupervised Training ---\n",
      "\n"
     ]
    },
    {
     "name": "stderr",
     "output_type": "stream",
     "text": [
      "[ 09-02 | 09:18 ] epoch 9: |██████████████████████████████████████████████████| loss: 0.13036329"
     ]
    },
    {
     "name": "stdout",
     "output_type": "stream",
     "text": [
      "%%%%%%%%%%%%%%%%%%%%%%%%%%%%%%%%%%%%%%%%%%%%%%%%%%%%%%%%%%%%\n",
      "End of epoch  9\n",
      "%%%%%%%%%%%%%%%%%%%%%%%%%%%%%%%%%%%%%%%%%%%%%%%%%%%%%%%%%%%%\n",
      "\n",
      "  ACC C 0.0   ACC Y 98.54166666666667 F1 Y 98.48357219491957\n",
      "\n",
      "End of training\n",
      "Best weight and seed combination: 32768 with F1 score: 99.17799063714622\n"
     ]
    }
   ],
   "source": [
    "f1_scores = {}\n",
    "print(f\"*** Training model with seed {args.seed}\")\n",
    "print(\"Chosen device:\", model.device)\n",
    "print(\"Save path for this model: \", save_path)\n",
    "if not os.path.exists(save_path): os.makedirs(save_path, exist_ok=True)\n",
    "save_folder = os.path.join(save_path, f\"{save_model_name}_{args.seed}.pth\")\n",
    "print(\"Saving in folder: \", save_folder)\n",
    "\n",
    "best_f1 = train(model=model,\n",
    "    sup_train_loader=sup_train_loader,\n",
    "    unsup_train_loader=unsup_train_loader,\n",
    "    unsup_val_loader=unsup_val_loader,\n",
    "    _loss=loss, \n",
    "    args=args,\n",
    "    seed=args.seed,\n",
    "    save_folder=save_folder\n",
    ")\n",
    "f1_scores[args.seed] = best_f1\n",
    "save_model(model, args, args.seed)  # save the model parameters\n",
    "\n",
    "best_weight_seed = max(f1_scores, key=f1_scores.get)\n",
    "print(f\"Best weight and seed combination: {best_weight_seed} with F1 score: {f1_scores[best_weight_seed]}\")"
   ]
  }
 ],
 "metadata": {
  "kernelspec": {
   "display_name": "r4rr",
   "language": "python",
   "name": "python3"
  },
  "language_info": {
   "codemirror_mode": {
    "name": "ipython",
    "version": 3
   },
   "file_extension": ".py",
   "mimetype": "text/x-python",
   "name": "python",
   "nbconvert_exporter": "python",
   "pygments_lexer": "ipython3",
   "version": "3.8.20"
  }
 },
 "nbformat": 4,
 "nbformat_minor": 2
}
