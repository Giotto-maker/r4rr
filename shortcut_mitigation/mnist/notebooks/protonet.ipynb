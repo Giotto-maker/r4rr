{
 "cells": [
  {
   "cell_type": "markdown",
   "metadata": {},
   "source": [
    "# PAPERMILL"
   ]
  },
  {
   "cell_type": "code",
   "execution_count": 1,
   "metadata": {
    "tags": [
     "parameters"
    ]
   },
   "outputs": [],
   "source": [
    "# model's seeds\n",
    "SEED = 0\n",
    "# additional paramters\n",
    "MODEL_PARAMETER_NAME = 'ccn+'\n",
    "UNS_PARAMETER_PERCENTAGE = 1.0\n",
    "NO_AUGMENTATIONS = False\n",
    "GPU_ID = '1'\n",
    "HIDE = '[]'"
   ]
  },
  {
   "cell_type": "code",
   "execution_count": 2,
   "metadata": {},
   "outputs": [
    {
     "name": "stdout",
     "output_type": "stream",
     "text": [
      "Papermill model name is: ccn+\n",
      "Papermill uns_parameter_percentage is: 1.0\n",
      "Papermill GPU_ID is: 1\n"
     ]
    }
   ],
   "source": [
    "assert SEED is not None, \"SEED should not be None\"\n",
    "assert MODEL_PARAMETER_NAME is not None, \"MODEL_PARAMETER_NAME should not be None\"\n",
    "assert isinstance(UNS_PARAMETER_PERCENTAGE, float), \"UNS_PARAMETER_PERCENTAGE should be a float\"\n",
    "assert 0.0 <= UNS_PARAMETER_PERCENTAGE <= 1.0, \"UNS_PARAMETER_PERCENTAGE should be in the range [0.0, 1.0]\"\n",
    "assert GPU_ID is not None, \"GPU_ID should not be None\"\n",
    "\n",
    "print(\"Papermill model name is: \" + MODEL_PARAMETER_NAME)\n",
    "print(\"Papermill uns_parameter_percentage is: \" + str(UNS_PARAMETER_PERCENTAGE))\n",
    "print(\"Papermill GPU_ID is: \" + GPU_ID)"
   ]
  },
  {
   "cell_type": "markdown",
   "metadata": {},
   "source": [
    "# IMPORTS"
   ]
  },
  {
   "cell_type": "code",
   "execution_count": 3,
   "metadata": {},
   "outputs": [
    {
     "name": "stdout",
     "output_type": "stream",
     "text": [
      "['/users-1/eleonora/reasoning-shortcuts/IXShort/shortcut_mitigation/mnist/notebooks', '/users-1/eleonora/anaconda3/envs/r4rr/lib/python38.zip', '/users-1/eleonora/anaconda3/envs/r4rr/lib/python3.8', '/users-1/eleonora/anaconda3/envs/r4rr/lib/python3.8/lib-dynload', '', '/users-1/eleonora/.local/lib/python3.8/site-packages', '/users-1/eleonora/anaconda3/envs/r4rr/lib/python3.8/site-packages', '/users-1/eleonora/reasoning-shortcuts/IXShort/shortcut_mitigation/mnist', '/users-1/eleonora/reasoning-shortcuts/IXShort/shortcut_mitigation', '/users-1/eleonora/reasoning-shortcuts/IXShort']\n"
     ]
    }
   ],
   "source": [
    "import sys\n",
    "import os\n",
    "\n",
    "os.environ['CUDA_VISIBLE_DEVICES'] = GPU_ID\n",
    "sys.path.append(os.path.abspath(\"..\"))       # for 'protonet_mnist_add_utils' folder\n",
    "sys.path.append(os.path.abspath(\"../..\"))    # for 'data' folder\n",
    "sys.path.append(os.path.abspath(\"../../..\")) # for 'models' and 'datasets' folders\n",
    "\n",
    "\n",
    "print(sys.path)"
   ]
  },
  {
   "cell_type": "code",
   "execution_count": 4,
   "metadata": {},
   "outputs": [],
   "source": [
    "import ast\n",
    "import torch\n",
    "import torch.nn as nn\n",
    "import argparse\n",
    "import datetime\n",
    "import setproctitle, socket, uuid\n",
    "import torch.nn.functional as F\n",
    "import numpy as np\n",
    "import random\n",
    "\n",
    "from tqdm import tqdm\n",
    "from argparse import Namespace\n",
    "from numpy import float32, zeros\n",
    "from datasets import get_dataset\n",
    "from models import get_model\n",
    "from models.mnistdpl import MnistDPL\n",
    "from warmup_scheduler import GradualWarmupScheduler\n",
    "from datasets.utils.base_dataset import BaseDataset\n",
    "from torchvision import datasets, transforms\n",
    "from torch.nn.modules import Module\n",
    "\n",
    "from collections import Counter\n",
    "import matplotlib.pyplot as plt\n",
    "from torch.utils.data import Dataset, DataLoader\n",
    "\n",
    "from utils import fprint\n",
    "from utils.train import train\n",
    "from utils.test import test\n",
    "from utils.preprocess_resnet import preprocess\n",
    "from utils.conf import *\n",
    "from utils.args import *\n",
    "from utils.status import progress_bar\n",
    "from utils.checkpoint import save_model, create_load_ckpt\n",
    "from utils.dpl_loss import ADDMNIST_DPL\n",
    "from utils.metrics import evaluate_metrics\n",
    "\n",
    "from scipy.spatial.distance import cdist\n",
    "\n",
    "from protonet_mnist_add_modules.arguments import args_sl, args_ltn, args_dpl, args_ccn\n",
    "from protonet_mnist_add_modules.utility_modules.proto_utils import init_dataloader\n",
    "    \n",
    "from protonet_mnist_add_modules.data_modules.proto_data_creation import (\n",
    "    choose_initial_prototypes,\n",
    "    get_original_support_query_set,\n",
    "    get_augmented_support_query_set,\n",
    "    get_augmented_support_query_loader\n",
    ")\n",
    "from backbones.addmnist_protonet import PrototypicalLoss\n",
    "from backbones.addmnist_protonet import initialize_unknown_prototypes_with_noise, compute_variance\n",
    "\n",
    "from protonet_mnist_add_modules.utility_modules.check_gpu import my_gpu_info"
   ]
  },
  {
   "cell_type": "markdown",
   "metadata": {},
   "source": [
    "# SETUP"
   ]
  },
  {
   "cell_type": "code",
   "execution_count": 5,
   "metadata": {},
   "outputs": [
    {
     "name": "stdout",
     "output_type": "stream",
     "text": [
      "Model is: ccn+\n",
      "Uns percentage is: 1.0\n"
     ]
    }
   ],
   "source": [
    "MODEL = MODEL_PARAMETER_NAME\n",
    "UNS_PERCENTAGE = UNS_PARAMETER_PERCENTAGE\n",
    "\n",
    "print(\"Model is: \" + MODEL)\n",
    "print(\"Uns percentage is: \" + str(UNS_PERCENTAGE))"
   ]
  },
  {
   "cell_type": "code",
   "execution_count": 6,
   "metadata": {},
   "outputs": [
    {
     "name": "stdout",
     "output_type": "stream",
     "text": [
      "Seed: 0\n",
      "Save paths: ../protonet-outputs-2/mnadd-even-odd/my_models/ccn+/episodic-proto-net-pipeline-1.0-HIDE-[]\n"
     ]
    }
   ],
   "source": [
    "if MODEL == 'sl':       args = args_sl\n",
    "elif MODEL == 'ltn':    args = args_ltn\n",
    "elif MODEL == 'dpl':    args = args_dpl\n",
    "else:                   args = args_ccn\n",
    "\n",
    "args.seed = SEED\n",
    "print(\"Seed: \" + str(args.seed))\n",
    "\n",
    "# logging\n",
    "args.conf_jobnum = str(uuid.uuid4())\n",
    "args.conf_timestamp = str(datetime.datetime.now())\n",
    "args.conf_host = socket.gethostname()\n",
    "args.hide = ast.literal_eval(HIDE)\n",
    "\n",
    "# set job name\n",
    "setproctitle.setproctitle(\n",
    "    \"{}_{}_{}\".format(\n",
    "        args.model,\n",
    "        args.buffer_size if \"buffer_size\" in args else 0,\n",
    "        args.dataset,\n",
    "    )\n",
    ")\n",
    "\n",
    "# saving\n",
    "save_folder = \"mnadd-even-odd\" \n",
    "save_model_name = MODEL\n",
    "save_path = os.path.join(\"..\",\n",
    "    \"protonet-outputs-2\", \n",
    "    save_folder, \n",
    "    \"my_models\", \n",
    "    save_model_name,\n",
    "    f\"episodic-proto-net-pipeline-{UNS_PERCENTAGE}-HIDE-{args.hide}\"\n",
    ")\n",
    "print(f\"Save paths: {str(save_path)}\")"
   ]
  },
  {
   "cell_type": "code",
   "execution_count": 7,
   "metadata": {},
   "outputs": [
    {
     "name": "stdout",
     "output_type": "stream",
     "text": [
      "Torch version:  1.13.0+cu117\n",
      "CUDA version:  11.7\n",
      "Number of GPUs available: 1\n",
      "Device 0: NVIDIA TITAN Xp\n",
      "  Memory Allocated: 0 bytes\n",
      "  Memory Cached: 0 bytes\n"
     ]
    }
   ],
   "source": [
    "my_gpu_info()"
   ]
  },
  {
   "cell_type": "code",
   "execution_count": 8,
   "metadata": {},
   "outputs": [],
   "source": [
    "if args.model in ['mnistsl', 'mnistltn', 'mnistdpl', 'shieldedmnist'] or not args.prototypes:\n",
    "    raise ValueError(\"This experiment is NOT meant for baseline models.\")"
   ]
  },
  {
   "cell_type": "markdown",
   "metadata": {},
   "source": [
    "# Utilities"
   ]
  },
  {
   "cell_type": "code",
   "execution_count": 9,
   "metadata": {},
   "outputs": [],
   "source": [
    "\n",
    "# * for training data inspection\n",
    "def plot_training_image(images, labels, plot_index_start=0, plot_index_end=10):\n",
    "    for plotting_index in range(plot_index_start, plot_index_end + 1):\n",
    "        image = images[plotting_index].cpu().numpy().transpose(1, 2, 0)\n",
    "        plt.figure(figsize=(5, 5))\n",
    "        plt.imshow(image, cmap='gray')\n",
    "        plt.title(f\"Label {labels[plotting_index]}\")\n",
    "        plt.axis('off')\n",
    "        plt.show()"
   ]
  },
  {
   "cell_type": "code",
   "execution_count": 10,
   "metadata": {},
   "outputs": [],
   "source": [
    "\n",
    "# * For prototypes computation at test phase \n",
    "def get_random_classes(images, labels, n_support, n_classes=10):\n",
    "    unique_classes = torch.unique(labels)\n",
    "    assert len(unique_classes) == n_classes, f\"There should be exactly {n_classes} unique classes.\"\n",
    "        \n",
    "    selected_images = []\n",
    "    selected_labels = []\n",
    "\n",
    "    for cls in unique_classes:\n",
    "        class_indices = (labels == cls).nonzero(as_tuple=True)[0]\n",
    "        assert len(class_indices) >= n_support,\\\n",
    "            f\"Not enough samples for class {cls}, needed {n_support}, but got {len(class_indices)}\"\n",
    "        random_indices = torch.randperm(len(class_indices))[:n_support]\n",
    "        selected_images.append(images[class_indices[random_indices]])\n",
    "        selected_labels.append(labels[class_indices[random_indices]])\n",
    "\n",
    "    if n_classes > 0:\n",
    "        selected_images = torch.cat(selected_images)\n",
    "        selected_labels = torch.cat(selected_labels)\n",
    "    else:\n",
    "        selected_images = torch.empty((0, 1, 28, 28))\n",
    "        selected_labels = torch.empty((0, 1), dtype=torch.long)\n",
    "\n",
    "    return selected_images, selected_labels"
   ]
  },
  {
   "cell_type": "markdown",
   "metadata": {},
   "source": [
    "# DATA"
   ]
  },
  {
   "cell_type": "markdown",
   "metadata": {},
   "source": [
    "## Loading data for training the ProtoNet"
   ]
  },
  {
   "cell_type": "code",
   "execution_count": 11,
   "metadata": {},
   "outputs": [
    {
     "name": "stdout",
     "output_type": "stream",
     "text": [
      "Available datasets: ['mnmath', 'xor', 'clipboia', 'shortmnist', 'restrictedmnist', 'minikandinsky', 'presddoia', 'prekandinsky', 'sddoia', 'clipkandinsky', 'addmnist', 'clipshortmnist', 'boia_original', 'boia_original_embedded', 'clipsddoia', 'boia', 'kandinsky', 'halfmnist']\n",
      "Loading train data\n",
      "Loading val data\n",
      "Loading test data\n",
      "<datasets.addmnist.ADDMNIST object at 0x7f92a46d8eb0>\n"
     ]
    }
   ],
   "source": [
    "args_protonet = Namespace(\n",
    "    dataset=args.prototypical_dataset,     \n",
    "    batch_size=args.prototypical_batch_size,\n",
    "    preprocess=0,\n",
    "    c_sup=1, # ^ supervision loaded to simulate direct annotation for prototypes\n",
    "    which_c=[-1],\n",
    "    model=args.model,        \n",
    "    task=args.task,    \n",
    ")\n",
    "\n",
    "addmnist_dataset = get_dataset(args_protonet)\n",
    "addmnist_train_loader, _ , _ = addmnist_dataset.get_data_loaders()\n",
    "print(addmnist_dataset)"
   ]
  },
  {
   "cell_type": "markdown",
   "metadata": {},
   "source": [
    "## Create (or get) the initial annotated images-prototype seed and augment it"
   ]
  },
  {
   "cell_type": "code",
   "execution_count": 12,
   "metadata": {},
   "outputs": [
    {
     "name": "stdout",
     "output_type": "stream",
     "text": [
      "Number of rotations:  400\n",
      "Number of translations:  1440\n",
      "Number of scalings:  100\n",
      "Number of elastic transformations:  250\n",
      "Number of noising transformations:  40\n"
     ]
    }
   ],
   "source": [
    "if ( (not os.path.exists('data/prototypes/proto_loader_dataset.pth')) or args.debug ):\n",
    "    choose_initial_prototypes(addmnist_train_loader, debug=args.debug)\n",
    "\n",
    "tr_dataloader = init_dataloader()\n",
    "\n",
    "support_images_aug, support_labels_aug, query_images_aug, query_labels_aug, no_aug = get_augmented_support_query_set(\n",
    "    tr_dataloader, no_augmentations=NO_AUGMENTATIONS, debug=args.debug\n",
    ")\n",
    "\n",
    "# use the right digits in each pair (queries) to form the support set (2 elements)\n",
    "if NO_AUGMENTATIONS:\n",
    "    support_images_aug = torch.cat([support_images_aug, query_images_aug], dim=0)\n",
    "    support_labels_aug = torch.cat([support_labels_aug, query_labels_aug], dim=0)\n",
    "    assert support_images_aug.size() == torch.Size([20, 1, 28, 28]), f\"support_images_aug size is {support_images_aug.size()}, expected [20, 1, 28, 28]\"\n",
    "    assert support_labels_aug.size() == torch.Size([20, 1]), f\"support_labels_aug size is {support_labels_aug.size()}, expected [20, 1]\"\n",
    "\n",
    "support_loader, query_loader = get_augmented_support_query_loader(\n",
    "    support_images_aug, \n",
    "    support_labels_aug, \n",
    "    query_images_aug, \n",
    "    query_labels_aug,\n",
    "    query_batch_size=max(32, support_images_aug.size(0)),\n",
    "    debug=args.debug\n",
    ")"
   ]
  },
  {
   "cell_type": "markdown",
   "metadata": {},
   "source": [
    "## Dataset Creation"
   ]
  },
  {
   "cell_type": "code",
   "execution_count": 13,
   "metadata": {},
   "outputs": [],
   "source": [
    "# Define an empty dataset\n",
    "class EmptyDataset(Dataset):\n",
    "    def __len__(self):\n",
    "        return 0  # No samples\n",
    "\n",
    "    def __getitem__(self, index):\n",
    "        raise IndexError(\"This dataset is empty\")"
   ]
  },
  {
   "cell_type": "code",
   "execution_count": 14,
   "metadata": {},
   "outputs": [],
   "source": [
    "class MNISTAugDataset(Dataset):\n",
    "    def __init__(self, images, labels, hide_labels=None, transform=None):\n",
    "        # Store original dataset size\n",
    "        self.original_length = labels.size(0)\n",
    "\n",
    "        if hide_labels:\n",
    "            # Create a boolean mask using torch.isin (available in recent versions of PyTorch)\n",
    "            mask = ~torch.isin(labels, torch.tensor(hide_labels))\n",
    "            # Use tensor indexing to filter both images and labels\n",
    "            self.images = images[mask]\n",
    "            self.labels = labels[mask]\n",
    "            \n",
    "            # Ensure the channel dimension is preserved\n",
    "            if self.images.dim() == 3:  # If shape is [batch_filtered, 28, 28]\n",
    "                self.images = self.images.unsqueeze(1)  # Add back the channel dim to get [batch_filtered, 1, 28, 28]\n",
    "            if self.labels.dim() == 1:  # If shape is [batch_filtered]\n",
    "                self.labels = self.labels.unsqueeze(1)  # Add back the channel dim to get [batch_filtered, 1]\n",
    "\n",
    "            self.num_filtered = self.original_length - mask.sum().item()\n",
    "        else:\n",
    "            self.images = images\n",
    "            self.labels = labels\n",
    "            self.num_filtered = 0\n",
    "        \n",
    "        self.transform = transform\n",
    "\n",
    "    def __getitem__(self, index):\n",
    "        image = self.images[index]\n",
    "        label = self.labels[index]\n",
    "        if self.transform:\n",
    "            image = self.transform(image)\n",
    "        return image, label.squeeze()\n",
    "\n",
    "    def __len__(self):\n",
    "        return len(self.labels)\n",
    "\n",
    "# Example instantiation:\n",
    "mnist_dataset = MNISTAugDataset(support_images_aug, support_labels_aug, hide_labels=args.hide)\n",
    "assert all(lbl not in args.hide for lbl in mnist_dataset.labels), \"mnist_dataset contains images with hidden labels\""
   ]
  },
  {
   "cell_type": "markdown",
   "metadata": {},
   "source": [
    "## Creating the Episodes"
   ]
  },
  {
   "cell_type": "code",
   "execution_count": 15,
   "metadata": {},
   "outputs": [],
   "source": [
    "class PrototypicalBatchSampler(object):\n",
    "    '''\n",
    "    PrototypicalBatchSampler: yield a batch of indexes at each iteration.\n",
    "    Indexes are calculated by keeping in account 'classes_per_it' and 'num_samples',\n",
    "    In fact at every iteration the batch indexes will refer to  'num_support' + 'num_query' samples\n",
    "    for 'classes_per_it' random classes.\n",
    "\n",
    "    __len__ returns the number of episodes per epoch (same as 'self.iterations').\n",
    "    '''\n",
    "\n",
    "    def __init__(self, labels, classes_per_it, num_samples, iterations):\n",
    "        '''\n",
    "        Initialize the PrototypicalBatchSampler object\n",
    "        Args:\n",
    "        - labels: an iterable containing all the labels for the current dataset\n",
    "        samples indexes will be infered from this iterable.\n",
    "        - classes_per_it: number of random classes for each iteration\n",
    "        - num_samples: number of samples for each iteration for each class (support + query)\n",
    "        - iterations: number of iterations (episodes) per epoch\n",
    "        '''\n",
    "        super(PrototypicalBatchSampler, self).__init__()\n",
    "        self.labels = labels\n",
    "        self.classes_per_it = classes_per_it\n",
    "        self.sample_per_class = num_samples\n",
    "        self.iterations = iterations\n",
    "\n",
    "        self.classes, self.counts = np.unique(self.labels, return_counts=True)\n",
    "        self.classes = torch.LongTensor(self.classes)\n",
    "\n",
    "        # create a matrix, indexes, of dim: classes X max(elements per class)\n",
    "        # fill it with nans\n",
    "        # for every class c, fill the relative row with the indices samples belonging to c\n",
    "        # in numel_per_class we store the number of samples for each class/row\n",
    "        self.idxs = range(len(self.labels))\n",
    "        self.indexes = np.empty((len(self.classes), max(self.counts)), dtype=int) * np.nan\n",
    "        self.indexes = torch.Tensor(self.indexes)\n",
    "        self.numel_per_class = torch.zeros_like(self.classes)\n",
    "        for idx, label in enumerate(self.labels):\n",
    "            label_idx = np.argwhere(self.classes == label).item()\n",
    "            self.indexes[label_idx, np.where(np.isnan(self.indexes[label_idx]))[0][0]] = idx\n",
    "            self.numel_per_class[label_idx] += 1\n",
    "\n",
    "    def __iter__(self):\n",
    "        '''\n",
    "        yield a batch of indexes\n",
    "        '''\n",
    "        spc = self.sample_per_class\n",
    "        cpi = self.classes_per_it\n",
    "\n",
    "        for it in range(self.iterations):\n",
    "            batch_size = spc * cpi\n",
    "            batch = torch.LongTensor(batch_size)\n",
    "            c_idxs = torch.randperm(len(self.classes))[:cpi]\n",
    "            for i, c in enumerate(self.classes[c_idxs]):\n",
    "                s = slice(i * spc, (i + 1) * spc)\n",
    "                # FIXME when torch.argwhere will exists\n",
    "                label_idx = torch.arange(len(self.classes)).long()[self.classes == c].item()\n",
    "                sample_idxs = torch.randperm(self.numel_per_class[label_idx])[:spc]\n",
    "                batch[s] = self.indexes[label_idx][sample_idxs]\n",
    "            batch = batch[torch.randperm(len(batch))]\n",
    "            yield batch\n",
    "\n",
    "    def __len__(self):\n",
    "        '''\n",
    "        returns the number of iterations (episodes) per epoch\n",
    "        '''\n",
    "        return self.iterations"
   ]
  },
  {
   "cell_type": "code",
   "execution_count": 16,
   "metadata": {},
   "outputs": [
    {
     "name": "stdout",
     "output_type": "stream",
     "text": [
      "Number of distinct labels: 10\n"
     ]
    }
   ],
   "source": [
    "original_labels = support_labels_aug.squeeze().numpy()\n",
    "labels = mnist_dataset.labels.squeeze().numpy()\n",
    "num_distinct_labels = np.unique(labels).size\n",
    "print(f\"Number of distinct labels: {num_distinct_labels}\")\n",
    "\n",
    "assert labels.size == original_labels.size - mnist_dataset.num_filtered, \\\n",
    "    \"The number of elements in labels should be the number of elements in original_labels minus the number of filtered elements\"    \n",
    "assert isinstance(labels, np.ndarray), \"labels should be a numpy.ndarray\"\n",
    "assert mnist_dataset.images.shape == (labels.size, 1, 28, 28), \\\n",
    "    \"The shape of mnist_dataset.images should be (number of labels, 1, 28, 28)\"\n",
    "assert mnist_dataset.labels.shape == (labels.size, 1), \\\n",
    "    \"The shape of mnist_dataset.labels should be (number of labels, 1)\""
   ]
  },
  {
   "cell_type": "code",
   "execution_count": 17,
   "metadata": {},
   "outputs": [
    {
     "name": "stdout",
     "output_type": "stream",
     "text": [
      "torch.Size([2230, 1])\n",
      "torch.Size([2230, 1])\n"
     ]
    }
   ],
   "source": [
    "print(support_labels_aug.shape)\n",
    "print(mnist_dataset.labels.shape)"
   ]
  },
  {
   "cell_type": "code",
   "execution_count": 18,
   "metadata": {},
   "outputs": [
    {
     "name": "stdout",
     "output_type": "stream",
     "text": [
      "Classes in dataset: [0 1 2 3 4 5 6 7 8 9]\n"
     ]
    }
   ],
   "source": [
    "num_support = args.num_support\n",
    "num_query = args.num_query\n",
    "num_samples = args.num_samples\n",
    "classes_per_it = args.classes_per_it\n",
    "iterations = args.iterations\n",
    "\n",
    "\n",
    "print(\"Classes in dataset:\", np.unique(labels))\n",
    "episodic_dataloader = DataLoader(EmptyDataset(), batch_size=1)\n",
    "if classes_per_it > 0:\n",
    "    sampler = PrototypicalBatchSampler(labels, classes_per_it, num_samples, iterations)\n",
    "    episodic_dataloader = DataLoader(mnist_dataset, batch_sampler=sampler)"
   ]
  },
  {
   "cell_type": "markdown",
   "metadata": {},
   "source": [
    "## Checking the Episodes"
   ]
  },
  {
   "cell_type": "code",
   "execution_count": 19,
   "metadata": {},
   "outputs": [
    {
     "name": "stdout",
     "output_type": "stream",
     "text": [
      "Batch images shape: torch.Size([50, 1, 28, 28])\n",
      "Batch labels: [5, 2, 1, 5, 2, 3, 4, 4, 1, 1, 1, 2, 4, 5, 1, 2, 4, 3, 5, 5, 2, 4, 1, 2, 3, 5, 1, 3, 5, 5, 2, 2, 4, 5, 3, 3, 2, 3, 5, 1, 1, 3, 3, 4, 4, 3, 4, 4, 2, 1]\n",
      "Label distribution in batch: Counter({5: 10, 2: 10, 1: 10, 3: 10, 4: 10})\n"
     ]
    },
    {
     "data": {
      "image/png": "[encoded data removed]",
      "text/plain": [
       "<Figure size 2000x400 with 20 Axes>"
      ]
     },
     "metadata": {},
     "output_type": "display_data"
    }
   ],
   "source": [
    "if classes_per_it > 0:\n",
    "    for batch in episodic_dataloader:\n",
    "        images, labels = batch\n",
    "        labels = labels.tolist()\n",
    "        label_counts = Counter(labels)  # Count occurrences of each label\n",
    "        \n",
    "        print(\"Batch images shape:\", images.shape)  # Should be [batch_size, 1, 28, 28] for MNIST\n",
    "        print(\"Batch labels:\", labels)  # Check if labels are grouped correctly per class\n",
    "        print(\"Label distribution in batch:\", label_counts)\n",
    "        break  # Only inspect one batch\n",
    "\n",
    "    # Plot the first 10 images\n",
    "    fig, axes = plt.subplots(2, 10, figsize=(20, 4))\n",
    "    if len(args.hide) > 0 or NO_AUGMENTATIONS:\n",
    "        min_images = min(20, num_support + num_query)\n",
    "    else:\n",
    "        min_images = 20\n",
    "    for i in range(min_images):\n",
    "        ax = axes[i // 10, i % 10]\n",
    "        ax.imshow(images[i][0], cmap=\"gray\")  # MNIST is grayscale\n",
    "        ax.set_title(f\"Label: {labels[i]}\")\n",
    "        ax.axis(\"off\")\n",
    "\n",
    "    plt.show()"
   ]
  },
  {
   "cell_type": "markdown",
   "metadata": {},
   "source": [
    "## Getting the Unsupervised Dataset"
   ]
  },
  {
   "cell_type": "code",
   "execution_count": 20,
   "metadata": {},
   "outputs": [
    {
     "name": "stdout",
     "output_type": "stream",
     "text": [
      "Available datasets: ['mnmath', 'xor', 'clipboia', 'shortmnist', 'restrictedmnist', 'minikandinsky', 'presddoia', 'prekandinsky', 'sddoia', 'clipkandinsky', 'addmnist', 'clipshortmnist', 'boia_original', 'boia_original_embedded', 'clipsddoia', 'boia', 'kandinsky', 'halfmnist']\n",
      "<datasets.shortcutmnist.SHORTMNIST object at 0x7f91ffc65670>\n",
      "[BACKBONE-INFO] Using Prototypical Networks as backbone\n",
      "Available models: ['promnistltn', 'promnmathcbm', 'sddoiann', 'kandnn', 'sddoiadpl', 'sddoialtn', 'kandslsingledisj', 'presddoiadpl', 'boiann', 'mnistclip', 'prokanddpl', 'promnistdpl', 'kandltnsinglejoint', 'xornn', 'mnistnn', 'mnistslrec', 'kandpreprocess', 'kandsl', 'kandsloneembedding', 'prokandltn', 'kandcbm', 'prokandsl', 'boiacbm', 'kanddpl', 'kandltn', 'xorcbm', 'sddoiaclip', 'kanddplsinglejoint', 'xordpl', 'promnmathdpl', 'bddoiadpldisj', 'sddoiacbm', 'mnistltnrec', 'mnmathcbm', 'mnmathdpl', 'kandclip', 'minikanddpl', 'mnistdpl', 'mnistltn', 'boiadpl', 'boialtn', 'shieldedmnist', 'kandltnsingledisj', 'prokandsloneembedding', 'mnistpcbmdpl', 'mnistcbm', 'probddoiadpl', 'mnistpcbmsl', 'mnistpcbmltn', 'kanddplsingledisj', 'mnistsl', 'kandslsinglejoint', 'proshieldedmnist', 'mnistdplrec', 'cvae', 'cext', 'mnmathnn', 'promnistsl']\n",
      "Using Dataset:  <datasets.shortcutmnist.SHORTMNIST object at 0x7f91ffc65670>\n",
      "Using backbone:  ProtoNet(\n",
      "  (encoder): Sequential(\n",
      "    (0): Sequential(\n",
      "      (0): Conv2d(1, 64, kernel_size=(3, 3), stride=(1, 1), padding=(1, 1))\n",
      "      (1): BatchNorm2d(64, eps=1e-05, momentum=0.1, affine=True, track_running_stats=True)\n",
      "      (2): ReLU()\n",
      "      (3): MaxPool2d(kernel_size=2, stride=2, padding=0, dilation=1, ceil_mode=False)\n",
      "    )\n",
      "    (1): Sequential(\n",
      "      (0): Conv2d(64, 64, kernel_size=(3, 3), stride=(1, 1), padding=(1, 1))\n",
      "      (1): BatchNorm2d(64, eps=1e-05, momentum=0.1, affine=True, track_running_stats=True)\n",
      "      (2): ReLU()\n",
      "      (3): MaxPool2d(kernel_size=2, stride=2, padding=0, dilation=1, ceil_mode=False)\n",
      "    )\n",
      "    (2): Sequential(\n",
      "      (0): Conv2d(64, 64, kernel_size=(3, 3), stride=(1, 1), padding=(1, 1))\n",
      "      (1): BatchNorm2d(64, eps=1e-05, momentum=0.1, affine=True, track_running_stats=True)\n",
      "      (2): ReLU()\n",
      "      (3): MaxPool2d(kernel_size=2, stride=2, padding=0, dilation=1, ceil_mode=False)\n",
      "    )\n",
      "    (3): Sequential(\n",
      "      (0): Conv2d(64, 64, kernel_size=(3, 3), stride=(1, 1), padding=(1, 1))\n",
      "      (1): BatchNorm2d(64, eps=1e-05, momentum=0.1, affine=True, track_running_stats=True)\n",
      "      (2): ReLU()\n",
      "      (3): MaxPool2d(kernel_size=2, stride=2, padding=0, dilation=1, ceil_mode=False)\n",
      "    )\n",
      "  )\n",
      ")\n",
      "Using Model:  ProShieldedMNIST(\n",
      "  (encoder): ProtoNet(\n",
      "    (encoder): Sequential(\n",
      "      (0): Sequential(\n",
      "        (0): Conv2d(1, 64, kernel_size=(3, 3), stride=(1, 1), padding=(1, 1))\n",
      "        (1): BatchNorm2d(64, eps=1e-05, momentum=0.1, affine=True, track_running_stats=True)\n",
      "        (2): ReLU()\n",
      "        (3): MaxPool2d(kernel_size=2, stride=2, padding=0, dilation=1, ceil_mode=False)\n",
      "      )\n",
      "      (1): Sequential(\n",
      "        (0): Conv2d(64, 64, kernel_size=(3, 3), stride=(1, 1), padding=(1, 1))\n",
      "        (1): BatchNorm2d(64, eps=1e-05, momentum=0.1, affine=True, track_running_stats=True)\n",
      "        (2): ReLU()\n",
      "        (3): MaxPool2d(kernel_size=2, stride=2, padding=0, dilation=1, ceil_mode=False)\n",
      "      )\n",
      "      (2): Sequential(\n",
      "        (0): Conv2d(64, 64, kernel_size=(3, 3), stride=(1, 1), padding=(1, 1))\n",
      "        (1): BatchNorm2d(64, eps=1e-05, momentum=0.1, affine=True, track_running_stats=True)\n",
      "        (2): ReLU()\n",
      "        (3): MaxPool2d(kernel_size=2, stride=2, padding=0, dilation=1, ceil_mode=False)\n",
      "      )\n",
      "      (3): Sequential(\n",
      "        (0): Conv2d(64, 64, kernel_size=(3, 3), stride=(1, 1), padding=(1, 1))\n",
      "        (1): BatchNorm2d(64, eps=1e-05, momentum=0.1, affine=True, track_running_stats=True)\n",
      "        (2): ReLU()\n",
      "        (3): MaxPool2d(kernel_size=2, stride=2, padding=0, dilation=1, ceil_mode=False)\n",
      "      )\n",
      "    )\n",
      "  )\n",
      "  (mlp): Sequential(\n",
      "    (0): Linear(in_features=20, out_features=50, bias=True)\n",
      "    (1): ReLU()\n",
      "    (2): Linear(in_features=50, out_features=50, bias=True)\n",
      "    (3): ReLU()\n",
      "    (4): Linear(in_features=50, out_features=19, bias=True)\n",
      "  )\n",
      ")\n",
      "Using Loss:  ADDMNIST_DPL()\n",
      "Loading train data\n",
      "Loading val data\n",
      "Loading test data\n",
      "6000 5040 6000 (6000,)\n",
      "6000 420 6000 (6000,)\n",
      "## Statistics ##\n",
      "Train samples 6720\n",
      "Validation samples 1920\n",
      "Test samples 960\n",
      "Test OOD samples 5040\n",
      "Starting model's own optimizer.\n"
     ]
    }
   ],
   "source": [
    "dataset = get_dataset(args)\n",
    "print(dataset)\n",
    "\n",
    "n_images, c_split = dataset.get_split()\n",
    "encoder, decoder = dataset.get_backbone()\n",
    "if encoder.unknown_prototypes is not None:\n",
    "    assert encoder.unknown_prototypes.size(0) == len(args.hide), \\\n",
    "        \"The number of hidden labels should match the number of unknown prototypes\"\n",
    "model = get_model(args, encoder, decoder, n_images, c_split)\n",
    "loss = model.get_loss(args)\n",
    "\n",
    "print(\"Using Dataset: \", dataset)\n",
    "print(\"Using backbone: \", encoder)\n",
    "print(\"Using Model: \", model)\n",
    "print(\"Using Loss: \", loss)\n",
    "\n",
    "unsup_train_loader, unsup_val_loader, _ = dataset.get_data_loaders()\n",
    "dataset.print_stats()\n",
    "\n",
    "if hasattr(model, \"start_optim\"):\n",
    "    print(\"Starting model's own optimizer.\")\n",
    "    model.start_optim(args)"
   ]
  },
  {
   "cell_type": "markdown",
   "metadata": {},
   "source": [
    "## Checking the Unsupervised Data"
   ]
  },
  {
   "cell_type": "code",
   "execution_count": 22,
   "metadata": {},
   "outputs": [
    {
     "data": {
      "image/png": "[encoded data removed]",
      "text/plain": [
       "<Figure size 500x500 with 1 Axes>"
      ]
     },
     "metadata": {},
     "output_type": "display_data"
    },
    {
     "data": {
      "image/png": "[encoded data removed]",
      "text/plain": [
       "<Figure size 500x500 with 1 Axes>"
      ]
     },
     "metadata": {},
     "output_type": "display_data"
    },
    {
     "data": {
      "image/png": "[encoded data removed]",
      "text/plain": [
       "<Figure size 500x500 with 1 Axes>"
      ]
     },
     "metadata": {},
     "output_type": "display_data"
    },
    {
     "data": {
      "image/png": "[encoded data removed]",
      "text/plain": [
       "<Figure size 500x500 with 1 Axes>"
      ]
     },
     "metadata": {},
     "output_type": "display_data"
    },
    {
     "data": {
      "image/png": "[encoded data removed]",
      "text/plain": [
       "<Figure size 500x500 with 1 Axes>"
      ]
     },
     "metadata": {},
     "output_type": "display_data"
    },
    {
     "data": {
      "image/png": "[encoded data removed]",
      "text/plain": [
       "<Figure size 500x500 with 1 Axes>"
      ]
     },
     "metadata": {},
     "output_type": "display_data"
    },
    {
     "data": {
      "image/png": "[encoded data removed]",
      "text/plain": [
       "<Figure size 500x500 with 1 Axes>"
      ]
     },
     "metadata": {},
     "output_type": "display_data"
    },
    {
     "data": {
      "image/png": "[encoded data removed]",
      "text/plain": [
       "<Figure size 500x500 with 1 Axes>"
      ]
     },
     "metadata": {},
     "output_type": "display_data"
    },
    {
     "data": {
      "image/png": "[encoded data removed]",
      "text/plain": [
       "<Figure size 500x500 with 1 Axes>"
      ]
     },
     "metadata": {},
     "output_type": "display_data"
    },
    {
     "data": {
      "image/png": "[encoded data removed]",
      "text/plain": [
       "<Figure size 500x500 with 1 Axes>"
      ]
     },
     "metadata": {},
     "output_type": "display_data"
    },
    {
     "data": {
      "image/png": "[encoded data removed]",
      "text/plain": [
       "<Figure size 500x500 with 1 Axes>"
      ]
     },
     "metadata": {},
     "output_type": "display_data"
    }
   ],
   "source": [
    "for i, data in enumerate(unsup_train_loader):\n",
    "    images, labels, concepts = data        \n",
    "    plot_training_image(images, labels)\n",
    "    break"
   ]
  },
  {
   "cell_type": "markdown",
   "metadata": {},
   "source": [
    "# Training"
   ]
  },
  {
   "cell_type": "markdown",
   "metadata": {},
   "source": [
    "## Main Loop"
   ]
  },
  {
   "cell_type": "code",
   "execution_count": 24,
   "metadata": {},
   "outputs": [],
   "source": [
    "def train(model:MnistDPL,\n",
    "        encoder:Module,\n",
    "        episodic_dataloader:DataLoader,\n",
    "        unsup_train_loader:DataLoader,\n",
    "        unsup_val_loader:DataLoader,\n",
    "        _loss: ADDMNIST_DPL, \n",
    "        args,\n",
    "        seed,\n",
    "        save_folder):\n",
    "    \n",
    "    # for full reproducibility\n",
    "    np.random.seed(seed)\n",
    "    torch.manual_seed(seed)\n",
    "    if torch.cuda.is_available():\n",
    "        torch.cuda.manual_seed(seed)\n",
    "    torch.backends.cudnn.enabled = False\n",
    "    \n",
    "    # for early stopping\n",
    "    best_f1 = 0.0\n",
    "    epochs_no_improve = 0\n",
    "\n",
    "    # model configuration for shortmnist\n",
    "    if args.dataset == \"shortmnist\":    model = model.float()\n",
    "\n",
    "    # device configuration\n",
    "    device = torch.device('cuda:0' if torch.cuda.is_available() else 'cpu')\n",
    "    model.to(device)\n",
    "\n",
    "    # Initialize the optimizer and the scheduler.\n",
    "    optimizer = torch.optim.Adam(encoder.parameters())\n",
    "    lr_scheduler = torch.optim.lr_scheduler.StepLR(optimizer, step_size=10, gamma=0.5)\n",
    "\n",
    "    proto_train_loss_history = []\n",
    "    proto_train_acc_history = []\n",
    "\n",
    "    fprint(\"\\n--- Start of Training ---\\n\")\n",
    "    for epoch in range(args.proto_epochs):\n",
    "        print(f\"Epoch {epoch+1}/{args.proto_epochs}\")\n",
    "        print(\"--- Training Protonet\")\n",
    "        encoder.train()\n",
    "\n",
    "        epoch_loss = []\n",
    "        epoch_acc = []\n",
    "        # ^ PHASE 1: Training the Protonet with the episodic dataloader\n",
    "        for batch in tqdm(episodic_dataloader, total=args.iterations):\n",
    "            optimizer.zero_grad()\n",
    "            \n",
    "            # Get batch images and labels\n",
    "            images, labels = batch\n",
    "            images, labels = images.to(device), labels.to(device)\n",
    "            \n",
    "            # Forward pass: compute embeddings for all images in the episode.\n",
    "            embeddings = encoder(images)\n",
    "            \n",
    "            # Compute prototypical loss.\n",
    "            pNet_loss = PrototypicalLoss(n_support=args.num_support)\n",
    "            loss, acc = pNet_loss(input=embeddings, target=labels)\n",
    "            loss.backward()\n",
    "            optimizer.step()\n",
    "            \n",
    "            epoch_loss.append(loss.item())\n",
    "            epoch_acc.append(acc.item())\n",
    "        \n",
    "        avg_loss = np.mean(epoch_loss)\n",
    "        avg_acc = np.mean(epoch_acc)\n",
    "        proto_train_loss_history.append(avg_loss)\n",
    "        proto_train_acc_history.append(avg_acc)\n",
    "        \n",
    "        print(f\"  Avg Loss: {avg_loss:.4f} | Avg Acc: {avg_acc:.4f}\")\n",
    "\n",
    "        # ^ PHASE 2: Training the Protonet with the unsupervised dataloader\n",
    "        print(\"--- Training with Unsupervised Data\")\n",
    "\n",
    "        # ys are the predictions of the model, y_true are the true labels, cs are the predictions of the concepts, cs_true are the true concepts\n",
    "        ys, y_true, cs, cs_true = None, None, None, None\n",
    "        \n",
    "        unknown_init = True if (len(args.hide) > 0) else False\n",
    "        for i,data in enumerate(unsup_train_loader):\n",
    "            if random.random() > UNS_PERCENTAGE:\n",
    "                continue  # Skip this batch with probability (1 - percentage)\n",
    "\n",
    "            if hasattr(model, \"opt\") and model.opt is not None:\n",
    "                model.opt.zero_grad()\n",
    "            else:\n",
    "                optimizer.zero_grad()\n",
    "\n",
    "            images, labels, concepts = data\n",
    "            images, labels, concepts = (\n",
    "                images.to(model.device),    # input IMAGES\n",
    "                labels.to(model.device),    # ground truth LABELS\n",
    "                concepts.to(model.device),  # ground truth CONCEPTS\n",
    "            )\n",
    "\n",
    "            # Get a random support set.\n",
    "            this_support_images, this_support_labels = get_random_classes(\n",
    "                mnist_dataset.images, mnist_dataset.labels, args.n_support, num_distinct_labels)\n",
    "            assert this_support_images.shape == (args.n_support * num_distinct_labels, 1, 28, 28), \\\n",
    "                f\"Support images shape is not ({args.n_support * num_distinct_labels}, 1, 28, 28), but {this_support_images.shape}\"\n",
    "            assert this_support_labels.shape == (args.n_support * num_distinct_labels, 1), \\\n",
    "                f\"Support labels shape is not ({args.n_support * num_distinct_labels}, 1), but {this_support_labels.shape}\"\n",
    "            \n",
    "        \n",
    "            out_dict = model(images, this_support_images, this_support_labels, unknown_init=unknown_init)\n",
    "            out_dict.update({\"LABELS\": labels, \"CONCEPTS\": concepts})\n",
    "            unknown_init = False\n",
    "\n",
    "            loss, losses = _loss(out_dict, args)\n",
    "            loss.backward()\n",
    "\n",
    "            if hasattr(model, \"opt\") and model.opt is not None:\n",
    "                model.opt.step()\n",
    "            else:\n",
    "                optimizer.step()\n",
    "\n",
    "            if args.debug: print(\"[DEBUG]: \", model.unknown_prototypes.grad)\n",
    "            \n",
    "            if ys is None:  # first iteration\n",
    "                ys = out_dict[\"YS\"]\n",
    "                y_true = out_dict[\"LABELS\"]\n",
    "                cs = out_dict[\"pCS\"]\n",
    "                cs_true = out_dict[\"CONCEPTS\"]\n",
    "            else:           # all other iterations\n",
    "                ys = torch.concatenate((ys, out_dict[\"YS\"]), dim=0)\n",
    "                y_true = torch.concatenate((y_true, out_dict[\"LABELS\"]), dim=0)\n",
    "                cs = torch.concatenate((cs, out_dict[\"pCS\"]), dim=0)\n",
    "                cs_true = torch.concatenate((cs_true, out_dict[\"CONCEPTS\"]), dim=0)\n",
    "\n",
    "            if i % 10 == 0:\n",
    "                progress_bar(i, len(unsup_train_loader) - 9, epoch, loss.item())\n",
    "\n",
    "        \n",
    "        # Step the scheduler (if using)\n",
    "        lr_scheduler.step()\n",
    "\n",
    "        print(\"%%%%%%%%%%%%%%%%%%%%%%%%%%%%%%%%%%%%%%%%%%%%%%%%%%%%%%%%%%%%\")\n",
    "        print(\"End of epoch \", epoch)\n",
    "        print(\"%%%%%%%%%%%%%%%%%%%%%%%%%%%%%%%%%%%%%%%%%%%%%%%%%%%%%%%%%%%%\")\n",
    "        print()\n",
    "\n",
    "        # ^ PHASE 3: Evaluation\n",
    "        if ys is None:  \n",
    "            torch.save(model.state_dict(), save_folder)\n",
    "            print(f\"Saved model after prototypical netwrork training.\")\n",
    "            print()\n",
    "            continue  # Skip evaluation if no unsupervised data was used\n",
    "        \n",
    "        y_pred = torch.argmax(ys, dim=-1)\n",
    "        # Get a random support set.\n",
    "        this_support_images, this_support_labels = get_random_classes(\n",
    "            mnist_dataset.images, mnist_dataset.labels, args.n_support, num_distinct_labels)\n",
    "        assert this_support_images.shape == (args.n_support * num_distinct_labels, 1, 28, 28), \\\n",
    "            f\"Support images shape is not ({args.n_support * num_distinct_labels}, 1, 28, 28), but {this_support_images.shape}\"\n",
    "        assert this_support_labels.shape == (args.n_support * num_distinct_labels, 1), \\\n",
    "            f\"Support labels shape is not ({args.n_support * num_distinct_labels}, 1), but {this_support_labels.shape}\"\n",
    "        \n",
    "        model.eval()\n",
    "        tloss, cacc, yacc, f1 = evaluate_metrics(model, unsup_val_loader, args, support_images=this_support_images, support_labels=this_support_labels)\n",
    "\n",
    "        ### LOGGING ###\n",
    "        fprint(\"  ACC C\", cacc, \"  ACC Y\", yacc, \"F1 Y\", f1)\n",
    "        print()\n",
    "\n",
    "        if f1 > best_f1:\n",
    "            print(\"Saving...\")\n",
    "            # Update best F1 score\n",
    "            best_f1 = f1\n",
    "            epochs_no_improve = 0\n",
    "\n",
    "            # Save the best model\n",
    "            torch.save(model.state_dict(), save_folder)\n",
    "            print(f\"Saved best model with F1 score: {best_f1}\")\n",
    "            print()\n",
    "        \n",
    "        elif f1 <= best_f1:\n",
    "            epochs_no_improve += 1\n",
    "\n",
    "        if epochs_no_improve >= args.patience:\n",
    "            print(f\"Early stopping triggered after {epoch+1} epochs.\")\n",
    "            break\n",
    "\n",
    "    print(\"End of training\")\n",
    "    return best_f1"
   ]
  },
  {
   "cell_type": "markdown",
   "metadata": {},
   "source": [
    "## Running"
   ]
  },
  {
   "cell_type": "code",
   "execution_count": 25,
   "metadata": {},
   "outputs": [
    {
     "name": "stdout",
     "output_type": "stream",
     "text": [
      "*** Training model with seed 0\n",
      "Chosen device: cuda\n",
      "Save path for this model:  ../protonet-outputs-2/mnadd-even-odd/my_models/ccn+/episodic-proto-net-pipeline-1.0-HIDE-[]\n",
      "Saving in folder:  ../protonet-outputs-2/mnadd-even-odd/my_models/ccn+/episodic-proto-net-pipeline-1.0-HIDE-[]/ccn+_0.pth\n",
      "\n",
      "--- Start of Training ---\n",
      "\n",
      "Epoch 1/10\n",
      "--- Training Protonet\n"
     ]
    },
    {
     "name": "stderr",
     "output_type": "stream",
     "text": [
      "100%|██████████| 100/100 [00:02<00:00, 40.74it/s]"
     ]
    },
    {
     "name": "stdout",
     "output_type": "stream",
     "text": [
      "  Avg Loss: 0.1832 | Avg Acc: 0.9616\n",
      "--- Training with Unsupervised Data\n"
     ]
    },
    {
     "name": "stderr",
     "output_type": "stream",
     "text": [
      "\n"
     ]
    },
    {
     "name": "stdout",
     "output_type": "stream",
     "text": [
      "Custom ordering for shield: 0,1,2,3,4,5,6,7,8,9,10,11,12,13,14,15,16,17,18,19,20,21,22,23,24,25,26,27,28,29,30,31,32,33,34,35,36,37,38\n",
      "Using auto mode ::: Detected propositional requirements!\n",
      "[] [<pishield.propositional_requirements.constraint.Constraint object at 0x7f91c4c3aa90>]\n",
      "head 38 with old rules 1\n",
      "head 38 with new rules 1\n",
      "[] [<pishield.propositional_requirements.constraint.Constraint object at 0x7f91c4c3acd0>, <pishield.propositional_requirements.constraint.Constraint object at 0x7f91c4c3adf0>]\n",
      "head 37 with old rules 2\n",
      "head 37 with new rules 3\n",
      "[] [<pishield.propositional_requirements.constraint.Constraint object at 0x7f91c59890d0>, <pishield.propositional_requirements.constraint.Constraint object at 0x7f91c59891f0>, <pishield.propositional_requirements.constraint.Constraint object at 0x7f91c5989310>]\n",
      "head 36 with old rules 3\n",
      "head 36 with new rules 5\n",
      "[] [<pishield.propositional_requirements.constraint.Constraint object at 0x7f91c5989700>, <pishield.propositional_requirements.constraint.Constraint object at 0x7f91c5989820>, <pishield.propositional_requirements.constraint.Constraint object at 0x7f91c5989940>, <pishield.propositional_requirements.constraint.Constraint object at 0x7f91c5989a60>]\n",
      "head 35 with old rules 4\n",
      "head 35 with new rules 7\n",
      "[] [<pishield.propositional_requirements.constraint.Constraint object at 0x7f91c5989f10>, <pishield.propositional_requirements.constraint.Constraint object at 0x7f91c4c3f070>, <pishield.propositional_requirements.constraint.Constraint object at 0x7f91c4c3f190>, <pishield.propositional_requirements.constraint.Constraint object at 0x7f91c4c3f2b0>, <pishield.propositional_requirements.constraint.Constraint object at 0x7f91c4c3f3d0>]\n",
      "head 34 with old rules 5\n",
      "head 34 with new rules 9\n",
      "[] [<pishield.propositional_requirements.constraint.Constraint object at 0x7f91c4c3f9d0>, <pishield.propositional_requirements.constraint.Constraint object at 0x7f91c4c3faf0>, <pishield.propositional_requirements.constraint.Constraint object at 0x7f91c4c3fc10>, <pishield.propositional_requirements.constraint.Constraint object at 0x7f91c4c3fd30>, <pishield.propositional_requirements.constraint.Constraint object at 0x7f91c4c3fe50>, <pishield.propositional_requirements.constraint.Constraint object at 0x7f91c4c3ff70>]\n",
      "head 33 with old rules 6\n",
      "head 33 with new rules 11\n",
      "[] [<pishield.propositional_requirements.constraint.Constraint object at 0x7f91c598c040>, <pishield.propositional_requirements.constraint.Constraint object at 0x7f91c598c7f0>, <pishield.propositional_requirements.constraint.Constraint object at 0x7f91c598c910>, <pishield.propositional_requirements.constraint.Constraint object at 0x7f91c598ca30>, <pishield.propositional_requirements.constraint.Constraint object at 0x7f91c598cb50>, <pishield.propositional_requirements.constraint.Constraint object at 0x7f91c598cc70>, <pishield.propositional_requirements.constraint.Constraint object at 0x7f91c598cd90>]\n",
      "head 32 with old rules 7\n",
      "head 32 with new rules 13\n",
      "[] [<pishield.propositional_requirements.constraint.Constraint object at 0x7f91c598cdc0>, <pishield.propositional_requirements.constraint.Constraint object at 0x7f91c5991730>, <pishield.propositional_requirements.constraint.Constraint object at 0x7f91c5991850>, <pishield.propositional_requirements.constraint.Constraint object at 0x7f91c5991970>, <pishield.propositional_requirements.constraint.Constraint object at 0x7f91c5991a90>, <pishield.propositional_requirements.constraint.Constraint object at 0x7f91c5991bb0>, <pishield.propositional_requirements.constraint.Constraint object at 0x7f91c5991cd0>, <pishield.propositional_requirements.constraint.Constraint object at 0x7f91c5991df0>]\n",
      "head 31 with old rules 8\n",
      "head 31 with new rules 15\n",
      "[] [<pishield.propositional_requirements.constraint.Constraint object at 0x7f91c5991d00>, <pishield.propositional_requirements.constraint.Constraint object at 0x7f91c59938b0>, <pishield.propositional_requirements.constraint.Constraint object at 0x7f91c59939d0>, <pishield.propositional_requirements.constraint.Constraint object at 0x7f91c5993af0>, <pishield.propositional_requirements.constraint.Constraint object at 0x7f91c5993c10>, <pishield.propositional_requirements.constraint.Constraint object at 0x7f91c5993d30>, <pishield.propositional_requirements.constraint.Constraint object at 0x7f91c5993e50>, <pishield.propositional_requirements.constraint.Constraint object at 0x7f91c5993f70>, <pishield.propositional_requirements.constraint.Constraint object at 0x7f91c59950d0>]\n",
      "head 30 with old rules 9\n",
      "head 30 with new rules 17\n",
      "[] [<pishield.propositional_requirements.constraint.Constraint object at 0x7f91c5993f70>, <pishield.propositional_requirements.constraint.Constraint object at 0x7f91c5995c70>, <pishield.propositional_requirements.constraint.Constraint object at 0x7f91c5995d90>, <pishield.propositional_requirements.constraint.Constraint object at 0x7f91c5995eb0>, <pishield.propositional_requirements.constraint.Constraint object at 0x7f91c5995fd0>, <pishield.propositional_requirements.constraint.Constraint object at 0x7f91c5996130>, <pishield.propositional_requirements.constraint.Constraint object at 0x7f91c5996250>, <pishield.propositional_requirements.constraint.Constraint object at 0x7f91c5996370>, <pishield.propositional_requirements.constraint.Constraint object at 0x7f91c5996490>, <pishield.propositional_requirements.constraint.Constraint object at 0x7f91c59965b0>]\n",
      "head 29 with old rules 10\n",
      "head 29 with new rules 19\n",
      "[] [<pishield.propositional_requirements.constraint.Constraint object at 0x7f91c5995c70>, <pishield.propositional_requirements.constraint.Constraint object at 0x7f91c5995fd0>, <pishield.propositional_requirements.constraint.Constraint object at 0x7f91c599b3d0>, <pishield.propositional_requirements.constraint.Constraint object at 0x7f91c599b4f0>, <pishield.propositional_requirements.constraint.Constraint object at 0x7f91c599b610>, <pishield.propositional_requirements.constraint.Constraint object at 0x7f91c599b730>, <pishield.propositional_requirements.constraint.Constraint object at 0x7f91c599b850>, <pishield.propositional_requirements.constraint.Constraint object at 0x7f91c599b970>, <pishield.propositional_requirements.constraint.Constraint object at 0x7f91c599ba90>]\n",
      "head 28 with old rules 9\n",
      "head 28 with new rules 17\n",
      "[] [<pishield.propositional_requirements.constraint.Constraint object at 0x7f91c599b880>, <pishield.propositional_requirements.constraint.Constraint object at 0x7f91c599e670>, <pishield.propositional_requirements.constraint.Constraint object at 0x7f91c599e790>, <pishield.propositional_requirements.constraint.Constraint object at 0x7f91c599e8b0>, <pishield.propositional_requirements.constraint.Constraint object at 0x7f91c599e9d0>, <pishield.propositional_requirements.constraint.Constraint object at 0x7f91c599eaf0>, <pishield.propositional_requirements.constraint.Constraint object at 0x7f91c599ec10>, <pishield.propositional_requirements.constraint.Constraint object at 0x7f91c599ed30>]\n",
      "head 27 with old rules 8\n",
      "head 27 with new rules 15\n",
      "[] [<pishield.propositional_requirements.constraint.Constraint object at 0x7f91c599ec40>, <pishield.propositional_requirements.constraint.Constraint object at 0x7f91c59a07f0>, <pishield.propositional_requirements.constraint.Constraint object at 0x7f91c59a0910>, <pishield.propositional_requirements.constraint.Constraint object at 0x7f91c59a0a30>, <pishield.propositional_requirements.constraint.Constraint object at 0x7f91c59a0b50>, <pishield.propositional_requirements.constraint.Constraint object at 0x7f91c59a0c70>, <pishield.propositional_requirements.constraint.Constraint object at 0x7f91c59a0d90>]\n",
      "head 26 with old rules 7\n",
      "head 26 with new rules 13\n",
      "[] [<pishield.propositional_requirements.constraint.Constraint object at 0x7f91c59a0dc0>, <pishield.propositional_requirements.constraint.Constraint object at 0x7f91c59a2730>, <pishield.propositional_requirements.constraint.Constraint object at 0x7f91c59a2850>, <pishield.propositional_requirements.constraint.Constraint object at 0x7f91c59a2970>, <pishield.propositional_requirements.constraint.Constraint object at 0x7f91c59a2a90>, <pishield.propositional_requirements.constraint.Constraint object at 0x7f91c59a2bb0>]\n",
      "head 25 with old rules 6\n",
      "head 25 with new rules 11\n",
      "[] [<pishield.propositional_requirements.constraint.Constraint object at 0x7f91c59a2640>, <pishield.propositional_requirements.constraint.Constraint object at 0x7f91c59a5430>, <pishield.propositional_requirements.constraint.Constraint object at 0x7f91c59a5550>, <pishield.propositional_requirements.constraint.Constraint object at 0x7f91c59a5670>, <pishield.propositional_requirements.constraint.Constraint object at 0x7f91c59a5790>]\n",
      "head 24 with old rules 5\n",
      "head 24 with new rules 9\n",
      "[] [<pishield.propositional_requirements.constraint.Constraint object at 0x7f91c59a5d90>, <pishield.propositional_requirements.constraint.Constraint object at 0x7f91c59a5eb0>, <pishield.propositional_requirements.constraint.Constraint object at 0x7f91c59a5fd0>, <pishield.propositional_requirements.constraint.Constraint object at 0x7f91c59a4130>]\n",
      "head 23 with old rules 4\n",
      "head 23 with new rules 7\n",
      "[] [<pishield.propositional_requirements.constraint.Constraint object at 0x7f91c59a4610>, <pishield.propositional_requirements.constraint.Constraint object at 0x7f91c59a4730>, <pishield.propositional_requirements.constraint.Constraint object at 0x7f91c59a4850>]\n",
      "head 22 with old rules 3\n",
      "head 22 with new rules 5\n",
      "[] [<pishield.propositional_requirements.constraint.Constraint object at 0x7f91c59a4c40>, <pishield.propositional_requirements.constraint.Constraint object at 0x7f91c59a4d60>]\n",
      "head 21 with old rules 2\n",
      "head 21 with new rules 3\n",
      "[] [<pishield.propositional_requirements.constraint.Constraint object at 0x7f91c59a4fd0>]\n",
      "head 20 with old rules 1\n",
      "head 20 with new rules 1\n",
      "Generated 1 strata of constraints with [ 0  1  2  3  4  5  6  7  8  9 10 11 12 13 14 15 16 17 18 19 20 21 22 23\n",
      " 24 25 26 27 28 29 30 31 32 33 34 35 36 37 38] centrality\n"
     ]
    },
    {
     "name": "stderr",
     "output_type": "stream",
     "text": [
      "[ 10-06 | 08:01 ] epoch 0: |██████████████████████████████████████████████████| loss: 0.12145891"
     ]
    },
    {
     "name": "stdout",
     "output_type": "stream",
     "text": [
      "%%%%%%%%%%%%%%%%%%%%%%%%%%%%%%%%%%%%%%%%%%%%%%%%%%%%%%%%%%%%\n",
      "End of epoch  0\n",
      "%%%%%%%%%%%%%%%%%%%%%%%%%%%%%%%%%%%%%%%%%%%%%%%%%%%%%%%%%%%%\n",
      "\n",
      "  ACC C 0.0   ACC Y 93.22916666666667 F1 Y 72.66277857656141\n",
      "\n",
      "Saving...\n",
      "Saved best model with F1 score: 72.66277857656141\n",
      "\n",
      "Epoch 2/10\n",
      "--- Training Protonet\n"
     ]
    },
    {
     "name": "stderr",
     "output_type": "stream",
     "text": [
      "100%|██████████| 100/100 [00:01<00:00, 61.77it/s]\n"
     ]
    },
    {
     "name": "stdout",
     "output_type": "stream",
     "text": [
      "  Avg Loss: 0.1095 | Avg Acc: 0.9848\n",
      "--- Training with Unsupervised Data\n"
     ]
    },
    {
     "name": "stderr",
     "output_type": "stream",
     "text": [
      "[ 10-06 | 08:05 ] epoch 1: |██████████████████████████████████████████████████| loss: 0.03945684"
     ]
    },
    {
     "name": "stdout",
     "output_type": "stream",
     "text": [
      "%%%%%%%%%%%%%%%%%%%%%%%%%%%%%%%%%%%%%%%%%%%%%%%%%%%%%%%%%%%%\n",
      "End of epoch  1\n",
      "%%%%%%%%%%%%%%%%%%%%%%%%%%%%%%%%%%%%%%%%%%%%%%%%%%%%%%%%%%%%\n",
      "\n",
      "  ACC C 0.0   ACC Y 96.82291666666667 F1 Y 81.79377737692408\n",
      "\n",
      "Saving...\n",
      "Saved best model with F1 score: 81.79377737692408\n",
      "\n",
      "Epoch 3/10\n",
      "--- Training Protonet\n"
     ]
    },
    {
     "name": "stderr",
     "output_type": "stream",
     "text": [
      "100%|██████████| 100/100 [00:01<00:00, 60.09it/s]\n"
     ]
    },
    {
     "name": "stdout",
     "output_type": "stream",
     "text": [
      "  Avg Loss: 0.0731 | Avg Acc: 0.9888\n",
      "--- Training with Unsupervised Data\n"
     ]
    },
    {
     "name": "stderr",
     "output_type": "stream",
     "text": [
      "[ 10-06 | 08:09 ] epoch 2: |██████████████████████████████████████████████████| loss: 0.06698029"
     ]
    },
    {
     "name": "stdout",
     "output_type": "stream",
     "text": [
      "%%%%%%%%%%%%%%%%%%%%%%%%%%%%%%%%%%%%%%%%%%%%%%%%%%%%%%%%%%%%\n",
      "End of epoch  2\n",
      "%%%%%%%%%%%%%%%%%%%%%%%%%%%%%%%%%%%%%%%%%%%%%%%%%%%%%%%%%%%%\n",
      "\n",
      "  ACC C 0.0   ACC Y 97.70833333333333 F1 Y 87.18869957539094\n",
      "\n",
      "Saving...\n",
      "Saved best model with F1 score: 87.18869957539094\n",
      "\n",
      "Epoch 4/10\n",
      "--- Training Protonet\n"
     ]
    },
    {
     "name": "stderr",
     "output_type": "stream",
     "text": [
      "100%|██████████| 100/100 [00:01<00:00, 60.18it/s]\n"
     ]
    },
    {
     "name": "stdout",
     "output_type": "stream",
     "text": [
      "  Avg Loss: 0.0406 | Avg Acc: 0.9940\n",
      "--- Training with Unsupervised Data\n"
     ]
    },
    {
     "name": "stderr",
     "output_type": "stream",
     "text": [
      "[ 10-06 | 08:13 ] epoch 3: |██████████████████████████████████████████████████| loss: 0.03070227"
     ]
    },
    {
     "name": "stdout",
     "output_type": "stream",
     "text": [
      "%%%%%%%%%%%%%%%%%%%%%%%%%%%%%%%%%%%%%%%%%%%%%%%%%%%%%%%%%%%%\n",
      "End of epoch  3\n",
      "%%%%%%%%%%%%%%%%%%%%%%%%%%%%%%%%%%%%%%%%%%%%%%%%%%%%%%%%%%%%\n",
      "\n",
      "  ACC C 0.0   ACC Y 97.96875 F1 Y 87.01483551229859\n",
      "\n",
      "Epoch 5/10\n",
      "--- Training Protonet\n"
     ]
    },
    {
     "name": "stderr",
     "output_type": "stream",
     "text": [
      "100%|██████████| 100/100 [00:02<00:00, 49.68it/s]\n"
     ]
    },
    {
     "name": "stdout",
     "output_type": "stream",
     "text": [
      "  Avg Loss: 0.0315 | Avg Acc: 0.9948\n",
      "--- Training with Unsupervised Data\n"
     ]
    },
    {
     "name": "stderr",
     "output_type": "stream",
     "text": [
      "[ 10-06 | 08:17 ] epoch 4: |██████████████████████████████████████████████████| loss: 0.04763915"
     ]
    },
    {
     "name": "stdout",
     "output_type": "stream",
     "text": [
      "%%%%%%%%%%%%%%%%%%%%%%%%%%%%%%%%%%%%%%%%%%%%%%%%%%%%%%%%%%%%\n",
      "End of epoch  4\n",
      "%%%%%%%%%%%%%%%%%%%%%%%%%%%%%%%%%%%%%%%%%%%%%%%%%%%%%%%%%%%%\n",
      "\n",
      "  ACC C 0.0   ACC Y 97.23958333333333 F1 Y 83.03500003444215\n",
      "\n",
      "Epoch 6/10\n",
      "--- Training Protonet\n"
     ]
    },
    {
     "name": "stderr",
     "output_type": "stream",
     "text": [
      "100%|██████████| 100/100 [00:02<00:00, 47.98it/s]\n"
     ]
    },
    {
     "name": "stdout",
     "output_type": "stream",
     "text": [
      "  Avg Loss: 0.0191 | Avg Acc: 0.9972\n",
      "--- Training with Unsupervised Data\n"
     ]
    },
    {
     "name": "stderr",
     "output_type": "stream",
     "text": [
      "[ 10-06 | 08:21 ] epoch 5: |██████████████████████████████████████████████████| loss: 0.00175689"
     ]
    },
    {
     "name": "stdout",
     "output_type": "stream",
     "text": [
      "%%%%%%%%%%%%%%%%%%%%%%%%%%%%%%%%%%%%%%%%%%%%%%%%%%%%%%%%%%%%\n",
      "End of epoch  5\n",
      "%%%%%%%%%%%%%%%%%%%%%%%%%%%%%%%%%%%%%%%%%%%%%%%%%%%%%%%%%%%%\n",
      "\n",
      "  ACC C 0.0   ACC Y 98.54166666666667 F1 Y 92.01360987334279\n",
      "\n",
      "Saving...\n",
      "Saved best model with F1 score: 92.01360987334279\n",
      "\n",
      "Epoch 7/10\n",
      "--- Training Protonet\n"
     ]
    },
    {
     "name": "stderr",
     "output_type": "stream",
     "text": [
      "100%|██████████| 100/100 [00:01<00:00, 58.22it/s]\n"
     ]
    },
    {
     "name": "stdout",
     "output_type": "stream",
     "text": [
      "  Avg Loss: 0.0230 | Avg Acc: 0.9952\n",
      "--- Training with Unsupervised Data\n"
     ]
    },
    {
     "name": "stderr",
     "output_type": "stream",
     "text": [
      "[ 10-06 | 08:25 ] epoch 6: |██████████████████████████████████████████████████| loss: 0.00065203"
     ]
    },
    {
     "name": "stdout",
     "output_type": "stream",
     "text": [
      "%%%%%%%%%%%%%%%%%%%%%%%%%%%%%%%%%%%%%%%%%%%%%%%%%%%%%%%%%%%%\n",
      "End of epoch  6\n",
      "%%%%%%%%%%%%%%%%%%%%%%%%%%%%%%%%%%%%%%%%%%%%%%%%%%%%%%%%%%%%\n",
      "\n",
      "  ACC C 0.0   ACC Y 97.91666666666667 F1 Y 89.5141656578856\n",
      "\n",
      "Epoch 8/10\n",
      "--- Training Protonet\n"
     ]
    },
    {
     "name": "stderr",
     "output_type": "stream",
     "text": [
      "100%|██████████| 100/100 [00:01<00:00, 60.41it/s]\n"
     ]
    },
    {
     "name": "stdout",
     "output_type": "stream",
     "text": [
      "  Avg Loss: 0.0280 | Avg Acc: 0.9948\n",
      "--- Training with Unsupervised Data\n"
     ]
    },
    {
     "name": "stderr",
     "output_type": "stream",
     "text": [
      "[ 10-06 | 08:29 ] epoch 7: |██████████████████████████████████████████████████| loss: 0.00166446"
     ]
    },
    {
     "name": "stdout",
     "output_type": "stream",
     "text": [
      "%%%%%%%%%%%%%%%%%%%%%%%%%%%%%%%%%%%%%%%%%%%%%%%%%%%%%%%%%%%%\n",
      "End of epoch  7\n",
      "%%%%%%%%%%%%%%%%%%%%%%%%%%%%%%%%%%%%%%%%%%%%%%%%%%%%%%%%%%%%\n",
      "\n",
      "  ACC C 0.0   ACC Y 98.02083333333333 F1 Y 89.91327179711583\n",
      "\n",
      "Epoch 9/10\n",
      "--- Training Protonet\n"
     ]
    },
    {
     "name": "stderr",
     "output_type": "stream",
     "text": [
      "100%|██████████| 100/100 [00:01<00:00, 62.20it/s]\n"
     ]
    },
    {
     "name": "stdout",
     "output_type": "stream",
     "text": [
      "  Avg Loss: 0.0220 | Avg Acc: 0.9976\n",
      "--- Training with Unsupervised Data\n"
     ]
    },
    {
     "name": "stderr",
     "output_type": "stream",
     "text": [
      "[ 10-06 | 08:33 ] epoch 8: |██████████████████████████████████████████████████| loss: 0.00027923"
     ]
    },
    {
     "name": "stdout",
     "output_type": "stream",
     "text": [
      "%%%%%%%%%%%%%%%%%%%%%%%%%%%%%%%%%%%%%%%%%%%%%%%%%%%%%%%%%%%%\n",
      "End of epoch  8\n",
      "%%%%%%%%%%%%%%%%%%%%%%%%%%%%%%%%%%%%%%%%%%%%%%%%%%%%%%%%%%%%\n",
      "\n",
      "  ACC C 0.0   ACC Y 98.125 F1 Y 92.67932678864825\n",
      "\n",
      "Saving...\n",
      "Saved best model with F1 score: 92.67932678864825\n",
      "\n",
      "Epoch 10/10\n",
      "--- Training Protonet\n"
     ]
    },
    {
     "name": "stderr",
     "output_type": "stream",
     "text": [
      "100%|██████████| 100/100 [00:01<00:00, 60.69it/s]\n"
     ]
    },
    {
     "name": "stdout",
     "output_type": "stream",
     "text": [
      "  Avg Loss: 0.0232 | Avg Acc: 0.9964\n",
      "--- Training with Unsupervised Data\n"
     ]
    },
    {
     "name": "stderr",
     "output_type": "stream",
     "text": [
      "[ 10-06 | 08:37 ] epoch 9: |██████████████████████████████████████████████████| loss: 0.00034391"
     ]
    },
    {
     "name": "stdout",
     "output_type": "stream",
     "text": [
      "%%%%%%%%%%%%%%%%%%%%%%%%%%%%%%%%%%%%%%%%%%%%%%%%%%%%%%%%%%%%\n",
      "End of epoch  9\n",
      "%%%%%%%%%%%%%%%%%%%%%%%%%%%%%%%%%%%%%%%%%%%%%%%%%%%%%%%%%%%%\n",
      "\n",
      "  ACC C 0.0   ACC Y 98.4375 F1 Y 92.0642236062462\n",
      "\n",
      "End of training\n",
      "Best F1 score: 92.67932678864825\n"
     ]
    }
   ],
   "source": [
    "f1_scores = dict()\n",
    "print(f\"*** Training model with seed {SEED}\")\n",
    "print(\"Chosen device:\", model.device)\n",
    "print(\"Save path for this model: \", save_path)\n",
    "if not os.path.exists(save_path): os.makedirs(save_path, exist_ok=True)\n",
    "save_folder = os.path.join(save_path, f\"{save_model_name}_{args.seed}.pth\")\n",
    "print(\"Saving in folder: \", save_folder)\n",
    "\n",
    "best_f1 = train(model=model,\n",
    "    encoder=encoder,\n",
    "    episodic_dataloader=episodic_dataloader,\n",
    "    unsup_train_loader=unsup_train_loader,\n",
    "    unsup_val_loader=unsup_val_loader,\n",
    "    _loss=loss, \n",
    "    args=args,\n",
    "    seed=args.seed,\n",
    "    save_folder=save_folder\n",
    ")\n",
    "save_model(model, args, args.seed)  # save the model parameters\n",
    "\n",
    "print(f\"Best F1 score: {best_f1}\")"
   ]
  }
 ],
 "metadata": {
  "kernelspec": {
   "display_name": "r4rr",
   "language": "python",
   "name": "python3"
  },
  "language_info": {
   "codemirror_mode": {
    "name": "ipython",
    "version": 3
   },
   "file_extension": ".py",
   "mimetype": "text/x-python",
   "name": "python",
   "nbconvert_exporter": "python",
   "pygments_lexer": "ipython3",
   "version": "3.8.20"
  }
 },
 "nbformat": 4,
 "nbformat_minor": 2
}
