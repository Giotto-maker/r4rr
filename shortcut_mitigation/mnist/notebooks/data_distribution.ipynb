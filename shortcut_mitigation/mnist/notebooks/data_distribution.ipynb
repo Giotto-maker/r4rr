{
 "cells": [
  {
   "cell_type": "code",
   "execution_count": 1,
   "id": "1fbdad64",
   "metadata": {},
   "outputs": [
    {
     "name": "stdout",
     "output_type": "stream",
     "text": [
      "['/users-1/eleonora/reasoning-shortcuts/IXShort/shortcut_mitigation/mnist/notebooks', '/users-1/eleonora/anaconda3/envs/r4rr/lib/python38.zip', '/users-1/eleonora/anaconda3/envs/r4rr/lib/python3.8', '/users-1/eleonora/anaconda3/envs/r4rr/lib/python3.8/lib-dynload', '', '/users-1/eleonora/.local/lib/python3.8/site-packages', '/users-1/eleonora/anaconda3/envs/r4rr/lib/python3.8/site-packages', '/users-1/eleonora/reasoning-shortcuts/IXShort/shortcut_mitigation/mnist', '/users-1/eleonora/reasoning-shortcuts/IXShort/shortcut_mitigation', '/users-1/eleonora/reasoning-shortcuts/IXShort']\n"
     ]
    }
   ],
   "source": [
    "import sys\n",
    "import os\n",
    "import torch\n",
    "\n",
    "os.environ['CUDA_VISIBLE_DEVICES'] = '0'\n",
    "sys.path.append(os.path.abspath(\"..\"))       # for 'protonet_mnist_add_utils' folder\n",
    "sys.path.append(os.path.abspath(\"../..\"))    # for 'data' folder\n",
    "sys.path.append(os.path.abspath(\"../../..\")) # for 'models' and 'datasets' folders\n",
    "\n",
    "print(sys.path)\n",
    "\n",
    "from argparse import Namespace\n",
    "from datasets import get_dataset"
   ]
  },
  {
   "cell_type": "code",
   "execution_count": 2,
   "id": "2371ac9f",
   "metadata": {},
   "outputs": [
    {
     "name": "stdout",
     "output_type": "stream",
     "text": [
      "Available datasets: ['mnmath', 'xor', 'clipboia', 'shortmnist', 'restrictedmnist', 'minikandinsky', 'presddoia', 'prekandinsky', 'sddoia', 'clipkandinsky', 'addmnist', 'clipshortmnist', 'boia_original', 'boia_original_embedded', 'clipsddoia', 'boia', 'kandinsky', 'halfmnist']\n",
      "Loading train data\n",
      "Loading val data\n",
      "Loading test data\n",
      "6000 5040 6000 (6000,)\n",
      "6000 420 6000 (6000,)\n",
      "<datasets.shortcutmnist.SHORTMNIST object at 0x7ff4f11f6df0>\n"
     ]
    }
   ],
   "source": [
    "args_protonet = Namespace(\n",
    "    dataset='shortmnist',     \n",
    "    batch_size=32,\n",
    "    preprocess=0,\n",
    "    c_sup=1,\n",
    "    which_c=[-1],\n",
    "    model='mnistdpl',        \n",
    "    task='addition',    \n",
    ")\n",
    "\n",
    "addmnist_dataset = get_dataset(args_protonet)\n",
    "addmnist_train_loader, _ , addmnist_test_loader = addmnist_dataset.get_data_loaders()\n",
    "print(addmnist_dataset)"
   ]
  },
  {
   "cell_type": "code",
   "execution_count": null,
   "id": "f09ec4be",
   "metadata": {},
   "outputs": [
    {
     "name": "stdout",
     "output_type": "stream",
     "text": [
      "Labels that appear in concepts across the entire loader: [6, 10, 12]\n",
      "Pair [0, 6] appears 91 times\n",
      "Pair [1, 5] appears 77 times\n",
      "Pair [1, 9] appears 42 times\n",
      "Pair [2, 8] appears 38 times\n",
      "Pair [3, 7] appears 41 times\n",
      "Pair [3, 9] appears 88 times\n",
      "Pair [4, 6] appears 43 times\n",
      "Pair [4, 8] appears 66 times\n",
      "Pair [5, 1] appears 75 times\n",
      "Pair [6, 0] appears 80 times\n",
      "Pair [6, 4] appears 50 times\n",
      "Pair [7, 3] appears 31 times\n",
      "Pair [8, 2] appears 33 times\n",
      "Pair [8, 4] appears 73 times\n",
      "Pair [9, 1] appears 47 times\n",
      "Pair [9, 3] appears 85 times\n"
     ]
    }
   ],
   "source": [
    "all_labels = []\n",
    "all_concepts = []\n",
    "for i,data in enumerate(addmnist_train_loader):\n",
    "    images, labels, concepts = data\n",
    "    all_labels.append(labels.flatten())\n",
    "    all_concepts.append(concepts)\n",
    "\n",
    "unique_labels = torch.unique(torch.cat(all_labels))\n",
    "print(\"Labels that appear in concepts across the entire loader:\", unique_labels.tolist())\n",
    "\n",
    "all_concepts_stacked = torch.cat(all_concepts)\n",
    "unique_pairs, pair_counts = torch.unique(all_concepts_stacked, dim=0, return_counts=True)\n",
    "for pair, count in zip(unique_pairs.tolist(), pair_counts.tolist()):\n",
    "    print(f\"Pair {pair} appears {count} times\")\n"
   ]
  }
 ],
 "metadata": {
  "kernelspec": {
   "display_name": "r4rr",
   "language": "python",
   "name": "python3"
  },
  "language_info": {
   "codemirror_mode": {
    "name": "ipython",
    "version": 3
   },
   "file_extension": ".py",
   "mimetype": "text/x-python",
   "name": "python",
   "nbconvert_exporter": "python",
   "pygments_lexer": "ipython3",
   "version": "3.8.20"
  }
 },
 "nbformat": 4,
 "nbformat_minor": 5
}
